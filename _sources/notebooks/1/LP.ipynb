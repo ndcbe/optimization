{
 "cells": [
  {
   "cell_type": "markdown",
   "metadata": {},
   "source": [
    "# Continuous Optimization: Linear Programming"
   ]
  },
  {
   "cell_type": "code",
   "execution_count": 1,
   "metadata": {},
   "outputs": [],
   "source": [
    "# This code cell installs packages on Colab\n",
    "\n",
    "import sys\n",
    "if \"google.colab\" in sys.modules:\n",
    "    !wget \"https://raw.githubusercontent.com/ndcbe/optimization/main/notebooks/helper.py\"\n",
    "    import helper\n",
    "    helper.easy_install()\n",
    "else:\n",
    "    sys.path.insert(0, '../')\n",
    "    import helper\n",
    "helper.set_plotting_style()"
   ]
  },
  {
   "cell_type": "code",
   "execution_count": 2,
   "metadata": {},
   "outputs": [],
   "source": [
    "import pandas as pd\n",
    "import pyomo.environ as pyo\n",
    "import idaes"
   ]
  },
  {
   "cell_type": "markdown",
   "metadata": {},
   "source": [
    "## Linear Programs: Student Diet Example"
   ]
  },
  {
   "cell_type": "markdown",
   "metadata": {},
   "source": [
    "Reference: https://docs.mosek.com/modeling-cookbook/linear.html"
   ]
  },
  {
   "cell_type": "markdown",
   "metadata": {},
   "source": [
    "You want to save money eating while remaining healthy. A healthy diet requires at least P=6 units of protein, C=15 units of carbohydrates, F=5 units of fats and V=7 units of vitamins. Due to compounding factors (blizzard during Lent), our campus only has these options:"
   ]
  },
  {
   "cell_type": "code",
   "execution_count": 3,
   "metadata": {},
   "outputs": [
    {
     "data": {
      "text/html": [
       "<div>\n",
       "<style scoped>\n",
       "    .dataframe tbody tr th:only-of-type {\n",
       "        vertical-align: middle;\n",
       "    }\n",
       "\n",
       "    .dataframe tbody tr th {\n",
       "        vertical-align: top;\n",
       "    }\n",
       "\n",
       "    .dataframe thead th {\n",
       "        text-align: right;\n",
       "    }\n",
       "</style>\n",
       "<table border=\"1\" class=\"dataframe\">\n",
       "  <thead>\n",
       "    <tr style=\"text-align: right;\">\n",
       "      <th></th>\n",
       "      <th>P</th>\n",
       "      <th>C</th>\n",
       "      <th>F</th>\n",
       "      <th>V</th>\n",
       "      <th>price</th>\n",
       "    </tr>\n",
       "  </thead>\n",
       "  <tbody>\n",
       "    <tr>\n",
       "      <th>takeaway</th>\n",
       "      <td>3.0</td>\n",
       "      <td>3</td>\n",
       "      <td>2</td>\n",
       "      <td>1</td>\n",
       "      <td>5</td>\n",
       "    </tr>\n",
       "    <tr>\n",
       "      <th>vegetables</th>\n",
       "      <td>1.0</td>\n",
       "      <td>2</td>\n",
       "      <td>0</td>\n",
       "      <td>4</td>\n",
       "      <td>1</td>\n",
       "    </tr>\n",
       "    <tr>\n",
       "      <th>bread</th>\n",
       "      <td>0.5</td>\n",
       "      <td>4</td>\n",
       "      <td>1</td>\n",
       "      <td>0</td>\n",
       "      <td>2</td>\n",
       "    </tr>\n",
       "  </tbody>\n",
       "</table>\n",
       "</div>"
      ],
      "text/plain": [
       "              P  C  F  V  price\n",
       "takeaway    3.0  3  2  1      5\n",
       "vegetables  1.0  2  0  4      1\n",
       "bread       0.5  4  1  0      2"
      ]
     },
     "execution_count": 3,
     "metadata": {},
     "output_type": "execute_result"
    }
   ],
   "source": [
    "# Load data from file, use the first column (0, recall Python starts counting at 0) as the index\n",
    "food_options = pd.read_csv('https://raw.githubusercontent.com/ndcbe/optimization/main/notebooks/data/student_diet.csv',index_col=0)\n",
    "\n",
    "# Print up the the first 10 rows of data\n",
    "food_options.head(10)"
   ]
  },
  {
   "cell_type": "markdown",
   "metadata": {},
   "source": [
    "Let's build a Python dictionary to store the nutrient requirements. (I strongly recommend not touching Python until we write the model on paper. I am including this here to avoid scrolling between the problem description and this cell.)"
   ]
  },
  {
   "cell_type": "code",
   "execution_count": 4,
   "metadata": {},
   "outputs": [],
   "source": [
    "# Uncomment and fill in with all of the data\n",
    "# nutrient_requirements = {'P':6, 'C':15 }\n",
    "\n",
    "# Add your solution here"
   ]
  },
  {
   "cell_type": "markdown",
   "metadata": {},
   "source": [
    "### Propose an Optimization Model"
   ]
  },
  {
   "cell_type": "markdown",
   "metadata": {},
   "source": [
    "**Sets**\n",
    "\n",
    "```{dropdown} Click to expand\n",
    "$$\n",
    "\\mathcal{F} = \\{\\text{take away, veggies, bread}\\}\n",
    "$$\n",
    "\n",
    "$$\n",
    "\\mathcal{N} = \\{P, C, F, V\\}\n",
    "$$\n",
    "```"
   ]
  },
  {
   "cell_type": "markdown",
   "metadata": {},
   "source": [
    "**Parameters**\n",
    "\n",
    "```{dropdown} Click to expand\n",
    "$\\pi_i$: price for food option $i \\in \\mathcal{F}$\n",
    "\n",
    "$r_j$: nutrition requirement for nutrient $j \\in \\mathcal{N}$\n",
    "\n",
    "$D_{ij}$: nutrition info for food $i \\in \\mathcal{F}$ and nutrient $j \\in \\mathcal{N}$\n",
    "\n",
    "```"
   ]
  },
  {
   "cell_type": "markdown",
   "metadata": {},
   "source": [
    "**Variables**\n",
    "\n",
    "```{dropdown} Click to expand\n",
    "$x_i$: amount of food $i \\in \\mathcal{F}$ eaten/purchased\n",
    "```"
   ]
  },
  {
   "cell_type": "markdown",
   "metadata": {},
   "source": [
    "**Objective and Constraints**\n",
    "\n",
    "```{dropdown} Click to expand\n",
    "\n",
    "Minimize:\n",
    "$\n",
    "\\sum_{i \\in \\mathcal{F}} x_i \\cdot \\pi_i \\quad \\text{(cost)}\n",
    "$\n",
    "\n",
    "Subject to:\n",
    "$\n",
    "\\sum_{i \\in \\mathcal{F}} D_{ij} \\cdot x_i \\geq r_j \\quad \\forall j \\in \\mathcal{N} \\quad \\text{(be healthy)}\n",
    "$\n",
    "\n",
    "Bounds:\n",
    "$\n",
    "x_i \\geq 0 \\quad \\forall i \\in \\mathcal{F}\n",
    "$\n",
    "```"
   ]
  },
  {
   "cell_type": "markdown",
   "metadata": {},
   "source": [
    "**Full Model**\n",
    "\n",
    "Let's put all of the components together into the full model written in compact notation.\n",
    "\n",
    "$$\n",
    "\\begin{align*}\n",
    "\\min_{x} \\quad & \\sum_{i \\in \\mathcal{F}} x_i \\cdot \\pi_i & \\text{(cost)} \\\\\n",
    "\\text{s.t.} \\quad & \\sum_{i \\in \\mathcal{F}} D_{ij} \\cdot x_i \\geq r_j, \\quad \\forall j \\in \\mathcal{N} & \\text{(be healthy)} \\\\\n",
    "& x_i \\geq 0, \\quad \\forall i \\in \\mathcal{F} & \\text{(non-negative bounds)}\n",
    "\\end{align*}\n",
    "$$"
   ]
  },
  {
   "cell_type": "markdown",
   "metadata": {},
   "source": [
    "**Degree of Freedom Analysis**\n",
    "\n",
    "We will later learn more about how to factor inequality constraints into degree of freedom analysis. For now, please count the number of equality and inequality constraints separately.\n",
    "\n",
    "```{dropdown} Click to expand\n",
    "\n",
    "Continuous variables: 3\n",
    "\n",
    "Inequality constraints: 4\n",
    "\n",
    "Bounds: 3\n",
    "```\n",
    "\n",
    "*Question:* Why is it okay to have more inequality constraints than variables?\n",
    "\n",
    "*Answer:* Not all inequality constraints may be active at a time."
   ]
  },
  {
   "cell_type": "markdown",
   "metadata": {},
   "source": [
    "### Solve in Pyomo"
   ]
  },
  {
   "cell_type": "markdown",
   "metadata": {},
   "source": [
    "With our optimization model written on paper, we can proceed to solve in Pyomo. Before we start, let's review a few pandas tricks."
   ]
  },
  {
   "cell_type": "code",
   "execution_count": 5,
   "metadata": {},
   "outputs": [
    {
     "data": {
      "text/plain": [
       "['P', 'C', 'F', 'V', 'price']"
      ]
     },
     "execution_count": 5,
     "metadata": {},
     "output_type": "execute_result"
    }
   ],
   "source": [
    "# Extract the column names, convert to a list\n",
    "food_options.columns.to_list()"
   ]
  },
  {
   "cell_type": "code",
   "execution_count": 6,
   "metadata": {},
   "outputs": [
    {
     "data": {
      "text/plain": [
       "['P', 'C', 'F', 'V']"
      ]
     },
     "execution_count": 6,
     "metadata": {},
     "output_type": "execute_result"
    }
   ],
   "source": [
    "# Same as above, but drop the last entry\n",
    "nutrients = food_options.columns.to_list()[0:4]\n",
    "nutrients"
   ]
  },
  {
   "cell_type": "code",
   "execution_count": 7,
   "metadata": {},
   "outputs": [
    {
     "data": {
      "text/plain": [
       "['takeaway', 'vegetables', 'bread']"
      ]
     },
     "execution_count": 7,
     "metadata": {},
     "output_type": "execute_result"
    }
   ],
   "source": [
    "# Extract the index names, convert to a list\n",
    "foods = food_options.index.to_list()\n",
    "foods"
   ]
  },
  {
   "cell_type": "code",
   "execution_count": 8,
   "metadata": {},
   "outputs": [
    {
     "data": {
      "text/plain": [
       "{('takeaway', 'P'): 3.0,\n",
       " ('takeaway', 'C'): 3.0,\n",
       " ('takeaway', 'F'): 2.0,\n",
       " ('takeaway', 'V'): 1.0,\n",
       " ('vegetables', 'P'): 1.0,\n",
       " ('vegetables', 'C'): 2.0,\n",
       " ('vegetables', 'F'): 0.0,\n",
       " ('vegetables', 'V'): 4.0,\n",
       " ('bread', 'P'): 0.5,\n",
       " ('bread', 'C'): 4.0,\n",
       " ('bread', 'F'): 1.0,\n",
       " ('bread', 'V'): 0.0}"
      ]
     },
     "execution_count": 8,
     "metadata": {},
     "output_type": "execute_result"
    }
   ],
   "source": [
    "# Create a dictionary with keys such as ('takeaway', 'P')\n",
    "# Do not include 'price'\n",
    "food_info = food_options[nutrients].stack().to_dict()\n",
    "food_info"
   ]
  },
  {
   "cell_type": "code",
   "execution_count": 9,
   "metadata": {},
   "outputs": [
    {
     "data": {
      "text/plain": [
       "{'takeaway': 5, 'vegetables': 1, 'bread': 2}"
      ]
     },
     "execution_count": 9,
     "metadata": {},
     "output_type": "execute_result"
    }
   ],
   "source": [
    "# Create dictionary of only prices\n",
    "price = food_options['price'].to_dict()\n",
    "price"
   ]
  },
  {
   "cell_type": "markdown",
   "metadata": {},
   "source": [
    "Now let's build our Pyomo model!"
   ]
  },
  {
   "cell_type": "code",
   "execution_count": 10,
   "metadata": {},
   "outputs": [
    {
     "name": "stdout",
     "output_type": "stream",
     "text": [
      "2 Set Declarations\n",
      "    FOOD : Size=1, Index=None, Ordered=Insertion\n",
      "        Key  : Dimen : Domain : Size : Members\n",
      "        None :     1 :    Any :    3 : {'takeaway', 'vegetables', 'bread'}\n",
      "    NUTRIENTS : Size=1, Index=None, Ordered=Insertion\n",
      "        Key  : Dimen : Domain : Size : Members\n",
      "        None :     1 :    Any :    4 : {'P', 'C', 'F', 'V'}\n",
      "\n",
      "3 Param Declarations\n",
      "    food_info : Size=12, Index=FOOD*NUTRIENTS, Domain=Any, Default=None, Mutable=False\n",
      "        Key                 : Value\n",
      "             ('bread', 'C') :   4.0\n",
      "             ('bread', 'F') :   1.0\n",
      "             ('bread', 'P') :   0.5\n",
      "             ('bread', 'V') :   0.0\n",
      "          ('takeaway', 'C') :   3.0\n",
      "          ('takeaway', 'F') :   2.0\n",
      "          ('takeaway', 'P') :   3.0\n",
      "          ('takeaway', 'V') :   1.0\n",
      "        ('vegetables', 'C') :   2.0\n",
      "        ('vegetables', 'F') :   0.0\n",
      "        ('vegetables', 'P') :   1.0\n",
      "        ('vegetables', 'V') :   4.0\n",
      "    needs : Size=4, Index=NUTRIENTS, Domain=Any, Default=None, Mutable=False\n",
      "        Key : Value\n",
      "          C :    15\n",
      "          F :     5\n",
      "          P :     6\n",
      "          V :     7\n",
      "    price : Size=3, Index=FOOD, Domain=Any, Default=None, Mutable=False\n",
      "        Key        : Value\n",
      "             bread :     2\n",
      "          takeaway :     5\n",
      "        vegetables :     1\n",
      "\n",
      "1 Var Declarations\n",
      "    food_eaten : Size=3, Index=FOOD\n",
      "        Key        : Lower : Value : Upper : Fixed : Stale : Domain\n",
      "             bread :     0 :   1.0 :  None : False : False : NonNegativeReals\n",
      "          takeaway :     0 :   1.0 :  None : False : False : NonNegativeReals\n",
      "        vegetables :     0 :   1.0 :  None : False : False : NonNegativeReals\n",
      "\n",
      "1 Objective Declarations\n",
      "    cost : Size=1, Index=None, Active=True\n",
      "        Key  : Active : Sense    : Expression\n",
      "        None :   True : minimize : 5*food_eaten[takeaway] + food_eaten[vegetables] + 2*food_eaten[bread]\n",
      "\n",
      "1 Constraint Declarations\n",
      "    diet_min : Size=4, Index=NUTRIENTS, Active=True\n",
      "        Key : Lower : Body                                                                          : Upper : Active\n",
      "          C :  15.0 : 3.0*food_eaten[takeaway] + 2.0*food_eaten[vegetables] + 4.0*food_eaten[bread] :  +Inf :   True\n",
      "          F :   5.0 :     2.0*food_eaten[takeaway] + 0.0*food_eaten[vegetables] + food_eaten[bread] :  +Inf :   True\n",
      "          P :   6.0 :     3.0*food_eaten[takeaway] + food_eaten[vegetables] + 0.5*food_eaten[bread] :  +Inf :   True\n",
      "          V :   7.0 :     food_eaten[takeaway] + 4.0*food_eaten[vegetables] + 0.0*food_eaten[bread] :  +Inf :   True\n",
      "\n",
      "8 Declarations: FOOD NUTRIENTS needs food_info price food_eaten diet_min cost\n"
     ]
    }
   ],
   "source": [
    "# Add your solution here"
   ]
  },
  {
   "cell_type": "markdown",
   "metadata": {},
   "source": [
    "```{dropdown} Click to see the solution to the activity\n",
    "\n",
    "```python\n",
    "m = pyo.ConcreteModel()\n",
    "\n",
    "## Define sets\n",
    "m.FOOD = pyo.Set(initialize = foods)\n",
    "m.NUTRIENTS = pyo.Set(initialize = nutrients)\n",
    "\n",
    "## Define parameters\n",
    "m.needs = pyo.Param(m.NUTRIENTS, initialize=nutrient_requirements)\n",
    "m.food_info = pyo.Param(m.FOOD, m.NUTRIENTS, initialize=food_info)\n",
    "m.price = pyo.Param(m.FOOD, initialize=price)\n",
    "\n",
    "## Define variables\n",
    "m.food_eaten = pyo.Var(m.FOOD,initialize=1.0,domain=pyo.NonNegativeReals)\n",
    "\n",
    "## Define constraints\n",
    "def diet_min_rule(m, n):\n",
    "    return sum(m.food_info[f,n] * m.food_eaten[f] for f in m.FOOD) >= m.needs[n]\n",
    "\n",
    "m.diet_min = pyo.Constraint(m.NUTRIENTS, rule=diet_min_rule)\n",
    "\n",
    "## Define objective\n",
    "m.cost = pyo.Objective(expr=sum(m.food_eaten[f]*m.price[f] for f in m.FOOD), sense=pyo.minimize)\n",
    "\n",
    "# Print model\n",
    "m.pprint()"
   ]
  },
  {
   "cell_type": "markdown",
   "metadata": {},
   "source": [
    "<div class=\"admonition note\"> \n",
    "<p class=\"title\"><b>Activity</b></p>\n",
    " Check the Pyomo model. Specifically, are the input (parameter) data correct? Do the equations match our model written on paper?\n",
    "</div>"
   ]
  },
  {
   "cell_type": "code",
   "execution_count": 11,
   "metadata": {},
   "outputs": [
    {
     "name": "stdout",
     "output_type": "stream",
     "text": [
      "Ipopt 3.13.2: \n",
      "\n",
      "******************************************************************************\n",
      "This program contains Ipopt, a library for large-scale nonlinear optimization.\n",
      " Ipopt is released as open source code under the Eclipse Public License (EPL).\n",
      "         For more information visit http://projects.coin-or.org/Ipopt\n",
      "\n",
      "This version of Ipopt was compiled from source code available at\n",
      "    https://github.com/IDAES/Ipopt as part of the Institute for the Design of\n",
      "    Advanced Energy Systems Process Systems Engineering Framework (IDAES PSE\n",
      "    Framework) Copyright (c) 2018-2019. See https://github.com/IDAES/idaes-pse.\n",
      "\n",
      "This version of Ipopt was compiled using HSL, a collection of Fortran codes\n",
      "    for large-scale scientific computation.  All technical papers, sales and\n",
      "    publicity material resulting from use of the HSL codes within IPOPT must\n",
      "    contain the following acknowledgement:\n",
      "        HSL, a collection of Fortran codes for large-scale scientific\n",
      "        computation. See http://www.hsl.rl.ac.uk.\n",
      "******************************************************************************\n",
      "\n",
      "This is Ipopt version 3.13.2, running with linear solver ma27.\n",
      "\n",
      "Number of nonzeros in equality constraint Jacobian...:        0\n",
      "Number of nonzeros in inequality constraint Jacobian.:       10\n",
      "Number of nonzeros in Lagrangian Hessian.............:        0\n",
      "\n",
      "Total number of variables............................:        3\n",
      "                     variables with only lower bounds:        3\n",
      "                variables with lower and upper bounds:        0\n",
      "                     variables with only upper bounds:        0\n",
      "Total number of equality constraints.................:        0\n",
      "Total number of inequality constraints...............:        4\n",
      "        inequality constraints with only lower bounds:        4\n",
      "   inequality constraints with lower and upper bounds:        0\n",
      "        inequality constraints with only upper bounds:        0\n",
      "\n",
      "iter    objective    inf_pr   inf_du lg(mu)  ||d||  lg(rg) alpha_du alpha_pr  ls\n",
      "   0  8.0000000e+00 6.00e+00 1.10e+00  -1.0 0.00e+00    -  0.00e+00 0.00e+00   0\n",
      "   1  8.6444860e+00 5.02e+00 9.73e-01  -1.0 1.16e+00    -  2.18e-01 1.54e-01h  1\n",
      "   2  1.3016656e+01 0.00e+00 5.33e-01  -1.0 8.85e-01    -  6.53e-01 1.00e+00h  1\n",
      "   3  1.2884986e+01 0.00e+00 6.91e-02  -1.7 1.53e-01    -  7.53e-01 8.71e-01f  1\n",
      "   4  1.2512801e+01 0.00e+00 1.19e-01  -2.5 4.08e+00    -  1.17e-01 6.52e-01f  1\n",
      "   5  1.2513485e+01 0.00e+00 2.83e-08  -2.5 5.33e-02    -  1.00e+00 1.00e+00f  1\n",
      "   6  1.2500398e+01 0.00e+00 1.50e-09  -3.8 4.46e-02    -  1.00e+00 1.00e+00f  1\n",
      "   7  1.2500005e+01 0.00e+00 1.84e-11  -5.7 5.47e-04    -  1.00e+00 1.00e+00f  1\n",
      "   8  1.2500000e+01 0.00e+00 2.52e-14  -8.6 1.25e-05    -  1.00e+00 1.00e+00f  1\n",
      "\n",
      "Number of Iterations....: 8\n",
      "\n",
      "                                   (scaled)                 (unscaled)\n",
      "Objective...............:   1.2499999882508366e+01    1.2499999882508366e+01\n",
      "Dual infeasibility......:   2.5153648267429247e-14    2.5153648267429247e-14\n",
      "Constraint violation....:   0.0000000000000000e+00    0.0000000000000000e+00\n",
      "Complementarity.........:   2.5136445446423307e-09    2.5136445446423307e-09\n",
      "Overall NLP error.......:   2.5136445446423307e-09    2.5136445446423307e-09\n",
      "\n",
      "\n",
      "Number of objective function evaluations             = 9\n",
      "Number of objective gradient evaluations             = 9\n",
      "Number of equality constraint evaluations            = 0\n",
      "Number of inequality constraint evaluations          = 9\n",
      "Number of equality constraint Jacobian evaluations   = 0\n",
      "Number of inequality constraint Jacobian evaluations = 9\n",
      "Number of Lagrangian Hessian evaluations             = 8\n",
      "Total CPU secs in IPOPT (w/o function evaluations)   =      0.004\n",
      "Total CPU secs in NLP function evaluations           =      0.000\n",
      "\n",
      "EXIT: Optimal Solution Found.\n"
     ]
    }
   ],
   "source": [
    "# Specify the solver\n",
    "solver = pyo.SolverFactory('ipopt')\n",
    "\n",
    "# Solve\n",
    "results = solver.solve(m, tee=True)"
   ]
  },
  {
   "cell_type": "markdown",
   "metadata": {},
   "source": [
    "<div class=\"admonition note\"> \n",
    "<p class=\"title\"><b>Activity</b></p>\n",
    " Does your degree of freedom analysis match Ipopt?\n",
    "</div>\n",
    "\n",
    "\n",
    "```{dropdown} Solution\n",
    "Add Solution HERE\n",
    "```\n"
   ]
  },
  {
   "cell_type": "markdown",
   "metadata": {},
   "source": [
    "### Analyze Results"
   ]
  },
  {
   "cell_type": "markdown",
   "metadata": {},
   "source": [
    "Let's extract the solution.\n",
    "\n",
    "<div class=\"admonition note\"> \n",
    "<p class=\"title\"><b>Activity</b></p>\n",
    " Write Python code to extract and print the solution.\n",
    "</div>"
   ]
  },
  {
   "cell_type": "code",
   "execution_count": 12,
   "metadata": {},
   "outputs": [
    {
     "name": "stdout",
     "output_type": "stream",
     "text": [
      "Units of takeaway eaten = 1.0\n",
      "Units of vegetables eaten = 1.5\n",
      "Units of bread eaten = 3.0\n"
     ]
    }
   ],
   "source": [
    "# Add your solution here"
   ]
  },
  {
   "cell_type": "markdown",
   "metadata": {},
   "source": [
    "```{dropdown} Click here to see the activity solution.\n",
    "\n",
    "```python\n",
    "for f in m.FOOD:\n",
    "    print(\"Units of\",f,\"eaten =\",round(m.food_eaten[f](),2))\n",
    "\n",
    "```"
   ]
  },
  {
   "cell_type": "markdown",
   "metadata": {},
   "source": [
    "Next, let us extract the KKT multipliers."
   ]
  },
  {
   "cell_type": "code",
   "execution_count": 13,
   "metadata": {},
   "outputs": [
    {
     "name": "stdout",
     "output_type": "stream",
     "text": [
      "Ipopt 3.13.2: \n",
      "\n",
      "******************************************************************************\n",
      "This program contains Ipopt, a library for large-scale nonlinear optimization.\n",
      " Ipopt is released as open source code under the Eclipse Public License (EPL).\n",
      "         For more information visit http://projects.coin-or.org/Ipopt\n",
      "\n",
      "This version of Ipopt was compiled from source code available at\n",
      "    https://github.com/IDAES/Ipopt as part of the Institute for the Design of\n",
      "    Advanced Energy Systems Process Systems Engineering Framework (IDAES PSE\n",
      "    Framework) Copyright (c) 2018-2019. See https://github.com/IDAES/idaes-pse.\n",
      "\n",
      "This version of Ipopt was compiled using HSL, a collection of Fortran codes\n",
      "    for large-scale scientific computation.  All technical papers, sales and\n",
      "    publicity material resulting from use of the HSL codes within IPOPT must\n",
      "    contain the following acknowledgement:\n",
      "        HSL, a collection of Fortran codes for large-scale scientific\n",
      "        computation. See http://www.hsl.rl.ac.uk.\n",
      "******************************************************************************\n",
      "\n",
      "This is Ipopt version 3.13.2, running with linear solver ma27.\n",
      "\n",
      "Number of nonzeros in equality constraint Jacobian...:        0\n",
      "Number of nonzeros in inequality constraint Jacobian.:       10\n",
      "Number of nonzeros in Lagrangian Hessian.............:        0\n",
      "\n",
      "Total number of variables............................:        3\n",
      "                     variables with only lower bounds:        3\n",
      "                variables with lower and upper bounds:        0\n",
      "                     variables with only upper bounds:        0\n",
      "Total number of equality constraints.................:        0\n",
      "Total number of inequality constraints...............:        4\n",
      "        inequality constraints with only lower bounds:        4\n",
      "   inequality constraints with lower and upper bounds:        0\n",
      "        inequality constraints with only upper bounds:        0\n",
      "\n",
      "iter    objective    inf_pr   inf_du lg(mu)  ||d||  lg(rg) alpha_du alpha_pr  ls\n",
      "   0  1.2500000e+01 0.00e+00 1.10e+00  -1.0 0.00e+00    -  0.00e+00 0.00e+00   0\n",
      "   1  1.2689467e+01 0.00e+00 1.72e-02  -1.0 1.22e-01    -  9.83e-01 1.00e+00h  1\n",
      "   2  1.2509157e+01 0.00e+00 2.83e-08  -2.5 1.30e-01    -  1.00e+00 1.00e+00f  1\n",
      "   3  1.2500405e+01 0.00e+00 1.50e-09  -3.8 2.95e-02    -  1.00e+00 1.00e+00f  1\n",
      "   4  1.2500005e+01 0.00e+00 1.84e-11  -5.7 7.04e-04    -  1.00e+00 1.00e+00f  1\n",
      "   5  1.2500000e+01 0.00e+00 2.57e-14  -8.6 1.24e-05    -  1.00e+00 1.00e+00f  1\n",
      "\n",
      "Number of Iterations....: 5\n",
      "\n",
      "                                   (scaled)                 (unscaled)\n",
      "Objective...............:   1.2499999882508405e+01    1.2499999882508405e+01\n",
      "Dual infeasibility......:   2.5730637052582628e-14    2.5730637052582628e-14\n",
      "Constraint violation....:   0.0000000000000000e+00    0.0000000000000000e+00\n",
      "Complementarity.........:   2.5137374227288735e-09    2.5137374227288735e-09\n",
      "Overall NLP error.......:   2.5137374227288735e-09    2.5137374227288735e-09\n",
      "\n",
      "\n",
      "Number of objective function evaluations             = 6\n",
      "Number of objective gradient evaluations             = 6\n",
      "Number of equality constraint evaluations            = 0\n",
      "Number of inequality constraint evaluations          = 6\n",
      "Number of equality constraint Jacobian evaluations   = 0\n",
      "Number of inequality constraint Jacobian evaluations = 6\n",
      "Number of Lagrangian Hessian evaluations             = 5\n",
      "Total CPU secs in IPOPT (w/o function evaluations)   =      0.002\n",
      "Total CPU secs in NLP function evaluations           =      0.000\n",
      "\n",
      "EXIT: Optimal Solution Found.\n"
     ]
    }
   ],
   "source": [
    "### Declare all suffixes\n",
    "# https://pyomo.readthedocs.io/en/stable/pyomo_modeling_components/Suffixes.html#exporting-suffix-data\n",
    "\n",
    "# Ipopt bound multipliers\n",
    "m.ipopt_zL_out = pyo.Suffix(direction=pyo.Suffix.IMPORT)\n",
    "m.ipopt_zU_out = pyo.Suffix(direction=pyo.Suffix.IMPORT)\n",
    "\n",
    "# Ipopt constraint multipliers\n",
    "m.dual = pyo.Suffix(direction=pyo.Suffix.IMPORT_EXPORT)\n",
    "\n",
    "# Resolve the model\n",
    "results = solver.solve(m, tee=True)\n"
   ]
  },
  {
   "cell_type": "code",
   "execution_count": 14,
   "metadata": {},
   "outputs": [
    {
     "name": "stdout",
     "output_type": "stream",
     "text": [
      "ipopt_zL_out : Direction=IMPORT, Datatype=FLOAT\n",
      "    Key                    : Value\n",
      "         food_eaten[bread] :   8.35310647704211e-10\n",
      "      food_eaten[takeaway] : 2.5068018506518723e-09\n",
      "    food_eaten[vegetables] : 1.6730627698360893e-09\n"
     ]
    }
   ],
   "source": [
    "#Inspect dual variables for lower bound\n",
    "m.ipopt_zL_out.display()"
   ]
  },
  {
   "cell_type": "code",
   "execution_count": 15,
   "metadata": {},
   "outputs": [
    {
     "name": "stdout",
     "output_type": "stream",
     "text": [
      "ipopt_zU_out : Direction=IMPORT, Datatype=FLOAT\n",
      "    Key : Value\n"
     ]
    }
   ],
   "source": [
    "#Inspect dual variables for upper bound\n",
    "m.ipopt_zU_out.display()"
   ]
  },
  {
   "cell_type": "code",
   "execution_count": 16,
   "metadata": {},
   "outputs": [
    {
     "name": "stdout",
     "output_type": "stream",
     "text": [
      "dual : Direction=IMPORT_EXPORT, Datatype=FLOAT\n",
      "    Key         : Value\n",
      "    diet_min[C] : 8.368398117061357e-10\n",
      "    diet_min[F] :      1.78571428033602\n",
      "    diet_min[P] :   0.42857143096267053\n",
      "    diet_min[V] :   0.14285714142265304\n"
     ]
    }
   ],
   "source": [
    "# Inspect duals\n",
    "m.dual.display()"
   ]
  },
  {
   "cell_type": "markdown",
   "metadata": {},
   "source": [
    "## Take Away Messages\n",
    "* Linear programs are convex. We will learn this means all local optima are global optima.\n",
    "* There are specialize solves for linear programs, quadratic programs, and convex programs. In this class, we will focus on more general algorithms for (non)convex nonlinear programs including the algorithms used by the `ipopt` solver."
   ]
  }
 ],
 "metadata": {
  "kernelspec": {
   "display_name": "summer2024",
   "language": "python",
   "name": "python3"
  },
  "language_info": {
   "codemirror_mode": {
    "name": "ipython",
    "version": 3
   },
   "file_extension": ".py",
   "mimetype": "text/x-python",
   "name": "python",
   "nbconvert_exporter": "python",
   "pygments_lexer": "ipython3",
   "version": "3.10.14"
  }
 },
 "nbformat": 4,
 "nbformat_minor": 2
}
