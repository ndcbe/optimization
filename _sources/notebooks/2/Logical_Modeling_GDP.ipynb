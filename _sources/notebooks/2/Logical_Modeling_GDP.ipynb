{
 "cells": [
  {
   "cell_type": "markdown",
   "metadata": {
    "id": "oUfQgdrfGwh5"
   },
   "source": [
    "# Logical Modeling and Generalized Disjunctive Programs"
   ]
  },
  {
   "cell_type": "markdown",
   "metadata": {
    "id": "EhN9eYPwDvm8"
   },
   "source": [
    "**Prepared by:** Prof. Alexander Dowling (adowling@nd.edu), [Hailey Lynch](https://github.com/hglynch) (hlynch@nd.edu, 2023)"
   ]
  },
  {
   "cell_type": "markdown",
   "metadata": {
    "id": "SeEBhlCg3kM2"
   },
   "source": [
    "## Introduction and Learning Objectives"
   ]
  },
  {
   "cell_type": "markdown",
   "metadata": {
    "id": "fvzu0Caj3puP"
   },
   "source": [
    "This notebook introduces generalized disjunctive programs through an example in Pyomo.GDP. Students will learn concepts related to Logical Modeling and Modeling Disjunctions in this notebook. These techniques will be applied to the Reactor Problem and then implemented into Pyomo. Critical thinking discussion questions will be included to connect concepts from CBE 60499."
   ]
  },
  {
   "cell_type": "markdown",
   "metadata": {
    "id": "ycyZO6EW2Qz8"
   },
   "source": [
    "## Import Modules"
   ]
  },
  {
   "cell_type": "code",
   "execution_count": 1,
   "metadata": {
    "colab": {
     "base_uri": "https://localhost:8080/"
    },
    "id": "ILDzq1xaGwh6",
    "outputId": "59c08019-a421-454e-8a32-75566eb95420"
   },
   "outputs": [],
   "source": [
    "# Imports\n",
    "import sys\n",
    "if \"google.colab\" in sys.modules:\n",
    "    !wget \"https://raw.githubusercontent.com/ndcbe/optimization/main/notebooks/helper.py\"\n",
    "    import helper\n",
    "    helper.easy_install()\n",
    "else:\n",
    "    sys.path.insert(0, '../')\n",
    "    import helper\n",
    "helper.set_plotting_style()\n",
    "\n",
    "milp_solver = 'cbc'"
   ]
  },
  {
   "cell_type": "markdown",
   "metadata": {},
   "source": [
    "## Motivating Example: Separation\n",
    "\n",
    "*The following excerpts are from Section 15.8 in Biegler, Grossmann, and Westerberg (1997).*"
   ]
  },
  {
   "cell_type": "markdown",
   "metadata": {},
   "source": [
    "From [](../1/IP.ipynb), we saw that modeling \"choose only 1 item\" is straightforward:\n",
    "\n",
    "$ \\sum_{i \\in R} y_i = 1 $\n",
    "\n",
    "Let's consider something more complex:  \n",
    "\n",
    "\"If the absorber to recover the product is selected or the membrane is selected, then do not use cryogenic distillation.\"\n",
    "\n",
    "Yes/No binary decisions:  \n",
    "* $y_A$: absorber  \n",
    "* $y_M$: membrane  \n",
    "* $y_{CS}$: cryogenic separation\n",
    "\n",
    "How to translate this logical statement into a linear constraint?\n",
    "\n",
    "```{dropdown} Click here to see answer\n",
    "\n",
    "One option:  \n",
    "\n",
    "$ y_A + y_M + 2y_{CS} \\leq 2 $\n",
    "\n",
    "Another option:  \n",
    "\n",
    "$ y_A + y_{CS} \\leq 1 $  \n",
    "\n",
    "$ y_M + y_{CS} \\leq 1 $\n",
    "\n",
    "They are equivalent, but the latter is \"tighter\"; it constrains more of the feasible space. (Think of 3D visualization.)\n",
    "```\n",
    "\n",
    "We seek a formal system to go from logical statements to linear constraints.\n"
   ]
  },
  {
   "cell_type": "markdown",
   "metadata": {
    "id": "eV77X57YGwh7"
   },
   "source": [
    "## Logical Modeling"
   ]
  },
  {
   "cell_type": "markdown",
   "metadata": {
    "id": "UwslnWavbisG"
   },
   "source": [
    "First we will look at important logic notation that is commonly used in logical modeling. This will enable us to convert logical expressions such as **disjunctive clauses** ($Q_i = P_1 \\lor P_2 \\ \\lor ... \\lor \\ P_r$) into **conjuctive normal form** ($Q_1 \\land Q_2 \\ \\land ... \\land \\ Q_s$)."
   ]
  },
  {
   "cell_type": "markdown",
   "metadata": {
    "id": "C-y7TnTQ3biz"
   },
   "source": [
    "### Symbolic Logic Notation"
   ]
  },
  {
   "cell_type": "markdown",
   "metadata": {
    "id": "6US-ncYUwTxS"
   },
   "source": [
    "\n",
    "| Logical Operation      | Logical Symbol      |\n",
    "| -----------            | -----------          |\n",
    "| $\\text{OR}$          | $\\lor$             |\n",
    "| $\\text{AND}$         | $\\land$            |\n",
    "| $\\text{IMPLICATION}$ | $\\Rightarrow$      |\n",
    "| $\\text{NEGATION}$    | $\\neg$             |\n",
    "| $\\text{EQUIVALENCE}$ | $\\Leftrightarrow$  |\n",
    "| $\\text{EXCLUSIVE OR}$| $\\veebar$          |"
   ]
  },
  {
   "cell_type": "markdown",
   "metadata": {},
   "source": [
    "### Vocabulary\n",
    "\n",
    "[**Literal**](https://en.wikipedia.org/wiki/Literal_(mathematical_logic)) $P_i$ is a selection or action and $y_i$ is the associated binary (true/false variable):\n",
    "\n",
    "$\n",
    "y_i = \\begin{cases} 1 & \\text{if~} P_i \\text{~is~true} \\\\\n",
    "0 & \\text{otherwise} \\end{cases}\n",
    "$\n",
    "\n",
    "**Negation** or complement $\\neg P_i$ implies $1 - y_i$.\n",
    "\n",
    "**Conjunctive normal form**: sequence of clauses connected by AND operators\n",
    "\n",
    "**Atom** or atomic formula: no deeper structure (e.g., no connectives or subformulas)\n",
    "\n",
    "**Literal**: atom or its negation\n",
    "\n",
    "**Conjunctive clause**: finite collection of literals connected with $ \\wedge $. (The clause is true when all literals are true.)\n",
    "\n",
    "**Disjunctive clause**: finite collection connected with $ \\vee $. (The clause is true when at least one literal is true.)\n",
    "\n",
    "Example: $ Q_i $ is a disjunctive clause, $ P_1 \\vee P_2 \\vee \\dots \\vee P_r $, such that $ y_1 + \\dots + y_r \\geq 1 $.\n",
    "\n",
    "Need a system to convert logical statements into **conjunctive normal form**, e.g., $Q_1 \\wedge Q_2 \\wedge ... \\wedge Q_n$\n",
    "\n",
    "\n",
    "\n",
    "\n"
   ]
  },
  {
   "cell_type": "markdown",
   "metadata": {
    "id": "NiYWPUGM2eqh"
   },
   "source": [
    "### Logical Statements and Conjuctive Normal Form"
   ]
  },
  {
   "cell_type": "markdown",
   "metadata": {
    "id": "AzgzSPMBGwh7"
   },
   "source": [
    "*The following excerpts are from Section 15.7 in Biegler, Grossmann, and Westerberg (1997).*"
   ]
  },
  {
   "cell_type": "markdown",
   "metadata": {
    "id": "cq4KHAHKHyQO"
   },
   "source": [
    "The three step procedure below shows how to convert logical statements into conjuctive normal form:\n",
    "\n",
    "Step 1: Replace the implication by its equivalent disjunction. Example:\n",
    "\n",
    "  \\begin{equation}\n",
    "  P_{1} \\Rightarrow P_{2} \\Leftrightarrow \\neg P_{1} \\lor P_{2} \\tag{15.18}\n",
    "  \\end{equation}\n",
    "\n",
    "```{dropdown} Click to further explore this example\n",
    "Let's enumrate to better understand this example. We will look at all possible outcomes for $P_1$ and $P_2$ and then assess if the left and right statements are true or false.\n",
    "\n",
    "| $P_1$ | $P_2$ | $P_{1} \\Rightarrow P_{2}$ | $\\neg P_{1} \\lor P_{2}$ | \n",
    "| - | - | - | - |\n",
    "| true | true | true | true |\n",
    "| true | false | false | false |\n",
    "| false | true | true | true |\n",
    "| false | false | true | true | \n",
    "```\n",
    "  \n",
    "Step 2: Distribute the negation by applying DeMorgan's Theorem. Examples:\n",
    "\n",
    "  \\begin{equation}\n",
    "  \\neg (P_{1} \\land P_{2}) \\Leftrightarrow \\neg P_{1} \\lor \\neg P_{2}\\tag{15.19}\n",
    "  \\end{equation}\n",
    "\n",
    "```{dropdown} Click to further explore this example\n",
    "Let's enumrate to better understand this example\n",
    "\n",
    "| $P_1$ | $P_2$ | $\\neg (P_{1} \\land P_{2})$ | $\\neg P_{1} \\lor \\neg P_{2}$ |\n",
    "| - | - | - | - |\n",
    "| true | true | false | false |\n",
    "| true | false | true | true |\n",
    "| false | true | true | true |\n",
    "| false | false | true | true |\n",
    "\n",
    "The example holds.\n",
    "```\n",
    "\n",
    "\n",
    "  \\begin{equation}\n",
    "  \\neg (P_{1} \\lor P_{2}) \\Leftrightarrow \\neg P_{1} \\land \\neg P_{2}\\tag{15.20}\n",
    "  \\end{equation}\n",
    "\n",
    "```{dropdown} Click to further explore this example\n",
    "\n",
    "Let's enumrate to better understand this example\n",
    "\n",
    "| $P_1$ | $P_2$ | $\\neg (P_{1} \\lor P_{2})$ | $\\neg P_{1} \\land \\neg P_{2}$ |\n",
    "| - | - | - | - |\n",
    "| true | true | false | false |\n",
    "| true | false | false | false |\n",
    "| false | true | false | false |\n",
    "| false | false | true | true |\n",
    "\n",
    "The example holds.\n",
    "```\n",
    "\n",
    "Step 3: Recursively distribute the $\\textbf{OR}$ over the $\\textbf{AND}$ by using the following equivalence. Example:\n",
    "  \n",
    "  \\begin{equation}\n",
    "  (P_{1} \\land P_{2}) \\lor P_{3} \\Leftrightarrow (P_{1} \\lor P_{3}) \\land (P_{2} \\lor P_{3})\\tag{15.21}\n",
    "  \\end{equation}\n",
    "\n",
    "```{dropdown} Click to further explore this example\n",
    "\n",
    "Let's enumrate to better understand this example\n",
    "\n",
    "| $P_1$  | $P_2$  | $P_3$  | $(P_{1} \\land P_{2}) \\lor P_{3}$ | $(P_{1} \\lor P_{3}) \\land (P_{2} \\lor P_{3})$ |\n",
    "|--------|--------|--------|-------------|--------------|\n",
    "| true   | true   | true   | true        | true         |\n",
    "| true   | true   | false  | false       | false        |\n",
    "| true   | false  | true   | true        | true         |\n",
    "| true   | false  | false  | false       | false        |\n",
    "| false  | true   | true   | true        | true         |\n",
    "| false  | true   | false  | false       | false        |\n",
    "| false  | false  | true   | false       | false        |\n",
    "| false  | false  | false  | false       | false        |\n",
    "\n",
    "Again, the example holds.\n",
    "```\n",
    "\n",
    "Once in conjuctive normal form, we can apply the following rules:\n",
    "\n",
    "| Logical Relation | Comments | Boolean Expression | Representation as Linear Inequalities          |\n",
    "|------------------|-------------------------------------------------------------------------------|--------------------------------------------------------|-------------------------------------------------|\n",
    "| Logical OR       |                                                                               | $P_{1}$ $\\lor$ $P_{2}$ $\\lor \\ .. \\lor$ $P_{r}$                  | $y_{1} + y_{2}$ $ + \\ ..\\ +$ $y_{r} \\geq 1$             |\n",
    "| Logical AND      |                                                                               | $P_{1}$ $\\land$ $P_{2}$ $\\land \\ .. \\land$ $P_{r}$                | $y_{1} \\geq 1\\\\ y_{2} \\geq 1\\\\ .. \\\\ y_{r} \\geq 1$ |\n",
    "| Implication      | $P_{1} \\Rightarrow P_{2}$                                                     | $\\neg P_{1} \\lor P_{2}$                                | $1-y_{1} + y_{2} \\geq 1$                        |\n",
    "| Equivalence      | $P_{1}$ **iff** $P_{2} (P_{1} \\Rightarrow P_{2}) \\land (P_{2} \\Rightarrow P_{1})$ | $(\\neg P_{1} \\lor P_{2})$ $\\land$ $(\\neg P_{2} \\lor P_{1})$     | $y_{1} = y_{2}$                                 |\n",
    "| Exclusive OR     | **Exactly one of the variables is true**                                          | $P_{1} \\veebar P_{2} $ $\\veebar \\ .. \\ \\veebar$ $P_{r}$                  | $y_{1} + y_{2}$ $+ \\ ..\\ +$ $y_{r} = 1$    "
   ]
  },
  {
   "cell_type": "markdown",
   "metadata": {},
   "source": [
    "### Example: Separation Sequence\n",
    "\n",
    "Let's revist the example from the top of the notebook. Reformulate:\n",
    "\n",
    "$$ P_A \\lor P_M \\implies \\neg P_{CS} $$\n",
    "\n",
    "Step 1:\n",
    "\n",
    "$$ \\neg (P_A \\lor P_M) \\lor \\neg P_{CS} $$\n",
    "\n",
    "Step 2:\n",
    "\n",
    "$$ (\\neg P_A \\land \\neg P_M) \\lor \\neg P_{CS} $$\n",
    "\n",
    "Step 3:\n",
    "\n",
    "$$ (\\neg P_A \\lor \\neg P_{CS}) \\land (\\neg P_M \\lor \\neg P_{CS}) $$\n",
    "\n",
    "Now substituting:\n",
    "\n",
    "$ \\neg P_A \\rightarrow 1 - y_A, \\quad \\neg P_{CS} \\rightarrow 1 - y_{CS} $\n",
    "\n",
    "$ \\neg P_M \\rightarrow 1 - y_M, \\quad \\neg P_{CS} \\rightarrow 1 - y_{CS} $\n",
    "\n",
    "We get:\n",
    "\n",
    "$ (1 - y_A) + (1 - y_{CS}) \\geq 1 $\n",
    "\n",
    "$ (1 - y_M) + (1 - y_{CS}) \\geq 1 $\n",
    "\n",
    "Rearrange:\n",
    "\n",
    "$ y_A + y_{CS} \\leq 1 $\n",
    "\n",
    "$ y_M + y_{CS} \\leq 1 $\n"
   ]
  },
  {
   "cell_type": "markdown",
   "metadata": {},
   "source": [
    "### Example: Assembling Components\n",
    "\n",
    "If you use (parts 1 and 2) or part 3, then you must also use parts 4 or 5.\n",
    "\n",
    "$P_i$ true means \"use part $i$\" (corresponding to $y_i$).\n",
    "\n",
    "$$ (P_1 \\land P_2) \\lor P_3 \\implies (P_4 \\lor P_5) $$\n",
    "\n",
    "**Step 1:**\n",
    "\n",
    "$$ \\neg ((P_1 \\land P_2) \\lor P_3) \\lor (P_4 \\lor P_5) $$\n",
    "\n",
    "which simplifies to:\n",
    "\n",
    "$$ \\neg (P_1 \\land P_2) \\land \\neg P_3 \\lor (P_4 \\lor P_5) $$\n",
    "\n",
    "**Step 2:**\n",
    "\n",
    "$$ (\\neg P_1 \\lor \\neg P_2) \\land \\neg P_3 \\lor (P_4 \\lor P_5) $$\n",
    "\n",
    "**Step 3:**\n",
    "\n",
    "$$ (\\neg P_1 \\lor \\neg P_2 \\lor P_4 \\lor P_5) \\land (\\neg P_3 \\lor P_4 \\lor P_5) $$\n",
    "\n",
    "We now have our statement in conjunctive normal form.\n",
    "\n",
    "On the **left** of the $\\land$ is equivalent to:\n",
    "\n",
    "$$ (1 - y_1) + (1 - y_2) + y_4 + y_5 \\geq 1 $$\n",
    "\n",
    "Simplifying:\n",
    "\n",
    "$$ -y_1 - y_2 + y_4 + y_5 \\geq -1 $$\n",
    "\n",
    "Rearranging:\n",
    "\n",
    "$$ y_1 + y_2 - y_4 - y_5 \\leq 1 $$\n",
    "\n",
    "On the **right** of the $\\land$ is equivalent to:\n",
    "\n",
    "$$ (1 - y_3) + y_4 + y_5 \\geq 1 $$\n",
    "\n",
    "Simplifying:\n",
    "\n",
    "$$ y_3 - y_4 - y_5 \\leq 0 $$\n",
    "\n",
    "\n"
   ]
  },
  {
   "cell_type": "markdown",
   "metadata": {
    "id": "5oraZ8gKhint"
   },
   "source": [
    "## Modeling Disjunctions"
   ]
  },
  {
   "cell_type": "markdown",
   "metadata": {
    "id": "0J96KsqVmz7B"
   },
   "source": [
    "When modeling disjunctions, we will have to represent logical constraints that involve continuous variables."
   ]
  },
  {
   "cell_type": "markdown",
   "metadata": {
    "id": "0fTB7QJxhqi3"
   },
   "source": [
    "### General Notation"
   ]
  },
  {
   "cell_type": "markdown",
   "metadata": {
    "id": "_liIppx3iyzg"
   },
   "source": [
    "\\begin{equation}\n",
    "\\lor_{i \\in D_{R}}\n",
    "\\begin{bmatrix}\n",
    "Y_{ik}\\\\\n",
    "n_{ik}(x)\\leq0\\\\\n",
    "c_{k} = \\mu_{ik}\n",
    "\\end{bmatrix} \\ \\ \\ , \\ \\ \\ \\Omega(Y)= \\text{True}\n",
    "\\end{equation}\n",
    "where:\n",
    "\n",
    "| Notation      | Definition       |\n",
    "| -----------            | -----------          |\n",
    "| $\\lor$          | The **OR** operator that connects a finite collection of disjunctive clauses            |\n",
    "| $D_{R}$         | The set of disjunctive terms           |\n",
    "| $Y_{ij}$ | Boolean \"indicator variable\"      |\n",
    "| $n_{ik}(x)\\leq0$    | Constraint enforced when $Y_{ik}$ is true            |\n",
    "| $\\mu_{ik}$ | Parameter values when indicator is true  |\n",
    "| $\\Omega(Y)$| Additional logical constraints         |\n"
   ]
  },
  {
   "cell_type": "markdown",
   "metadata": {
    "id": "86x7l3NDiluQ"
   },
   "source": [
    "## Example: The Reactor Problem "
   ]
  },
  {
   "cell_type": "markdown",
   "metadata": {
    "id": "4xsld0ebhn7P"
   },
   "source": [
    "*The following excerpts are from Section 15.8 in Biegler, Grossmann, and Westerberg (1997).*"
   ]
  },
  {
   "cell_type": "markdown",
   "metadata": {
    "id": "xcMV8pvUuUso"
   },
   "source": [
    "This modeling disjunctions example involves selecting between two reactors:\n",
    "\n",
    "* If *reactor 1* is selected, then pressure $P$ must be between $5$ and $10$ atmospheres.\n",
    "* If *reactor 2* is selected, then pressure $P$ must be between $20$ and $30$ atmospheres."
   ]
  },
  {
   "cell_type": "markdown",
   "metadata": {
    "id": "EmCgiqAnH5U_"
   },
   "source": [
    "**Linear Disjunction Form:**\n",
    "\\begin{equation}\n",
    "\\lor_{i \\in D}\n",
    "\\begin{bmatrix}\n",
    "A_{i}x \\leq b_{i}(x)\n",
    "\\end{bmatrix}\n",
    "\\end{equation}"
   ]
  },
  {
   "cell_type": "markdown",
   "metadata": {
    "id": "OhbB4FLTw40C"
   },
   "source": [
    "**Applied to the Reactor Problem:**\n",
    "\\begin{equation}\n",
    "  \\begin{bmatrix}\n",
    "    y_1\\\\\n",
    "    P \\leq 10\\\\\n",
    "    -P \\leq -5\n",
    "  \\end{bmatrix} \\lor\n",
    "  \\begin{bmatrix}\n",
    "    y_2\\\\\n",
    "    P \\leq 30\\\\\n",
    "    -P \\leq -20\n",
    "  \\end{bmatrix}\n",
    "\\end{equation}\n",
    "\n",
    "<br> where $y_{1}$ represents *reactor 1* and $y_{2}$ represents *reactor 2*."
   ]
  },
  {
   "cell_type": "markdown",
   "metadata": {
    "id": "g1zlsk5N55PU"
   },
   "source": [
    "### Define Model in Pyomo with GDP"
   ]
  },
  {
   "cell_type": "markdown",
   "metadata": {
    "id": "9qGQ-95KDrwk"
   },
   "source": [
    "First we will define the model (including disjunctions) for the Reactor Problem in Pyomo. "
   ]
  },
  {
   "cell_type": "code",
   "execution_count": 3,
   "metadata": {
    "id": "bUpBQiL45200"
   },
   "outputs": [],
   "source": [
    "'''\n",
    "Instead of using\n",
    "# import pyomo.environ as pyo\n",
    "We can import specific functions/objects\n",
    "'''\n",
    "from pyomo.environ import (ConcreteModel, NonNegativeReals, Objective, Param,\n",
    "                           Set, SolverFactory, TransformationFactory, Var, value)\n",
    "\n",
    "def create_model():\n",
    "    '''\n",
    "    Build the reactor problem model.\n",
    "    \n",
    "    Return:\n",
    "    model: Pyomo model\n",
    "    \n",
    "    '''\n",
    "    ## Model\n",
    "    model = ConcreteModel(name=\"Selecting a reactor\")\n",
    "\n",
    "    ## Sets\n",
    "    # Initialized for reactor 1 (1) and reactor 2 (2)\n",
    "    model.reactors = Set(initialize=[1,2])\n",
    "\n",
    "    ## Parameters\n",
    "    # Initialized with a dictionary where the keys are 1 and 2 (the reactors)\n",
    "    # for the minimum and maximum pressure values (atm)\n",
    "    model.min_pressure = Param(model.reactors,initialize={1:5,2:20}) \n",
    "    model.max_pressure = Param(model.reactors,initialize={1:10,2:30})\n",
    "    \n",
    "    ## Variables\n",
    "    # Reactor pressure bounded between the lower bound (5 atm) and upper bound (30 atm)\n",
    "    model.P = Var(bounds=(5,30),doc='Reactor pressure (atm)')\n",
    "\n",
    "    ## Adding an objective for the example\n",
    "    @model.Objective()\n",
    "    def objective(model):\n",
    "      return model.P \n",
    "\n",
    "    ## Disjunctions\n",
    "    # Objective is bounded by the maximum and minimum pressure values\n",
    "    # Note: Pyomo.GDP by default treats the disjunction as a xor (choose only one)\n",
    "    # https://pyomo.readthedocs.io/en/latest/modeling_extensions/gdp/modeling.html\n",
    "    @model.Disjunction(\n",
    "        model.reactors,\n",
    "        doc=\"Pressure bounds for different reactor selections\")\n",
    "    def pressure_bounds(m, r):\n",
    "        return [\n",
    "            m.P <= m.max_pressure[r],\n",
    "            m.P >= m.min_pressure[r],\n",
    "        ]\n",
    "\n",
    "    return model"
   ]
  },
  {
   "cell_type": "markdown",
   "metadata": {
    "id": "OZPTo5jaGwh9"
   },
   "source": [
    "### Transform and Solve with Big-M Relaxation"
   ]
  },
  {
   "cell_type": "markdown",
   "metadata": {
    "id": "3waXgrCFkY6T"
   },
   "source": [
    "*The following excerpts are from Section 15.8 in Biegler, Grossmann, and \n",
    "Westerberg (1997).*"
   ]
  },
  {
   "cell_type": "markdown",
   "metadata": {
    "id": "mTDB8uuF3wvR"
   },
   "source": [
    "Use \"Big-M\" constraints to convert linear disjunctions into mixed-integer constraints to represent logic with continuous variables. "
   ]
  },
  {
   "cell_type": "markdown",
   "metadata": {
    "id": "77MEH02y3wc5"
   },
   "source": [
    "### Big-M Relaxation Approach"
   ]
  },
  {
   "cell_type": "markdown",
   "metadata": {
    "id": "k8KsYhfkkH7U"
   },
   "source": [
    "**General Notation:**\n",
    "\\begin{equation}\n",
    "A_{i}(x) \\leq b_{i} + M_{i}(1-y_{i})  \\ , \\  \\forall i \\in D\n",
    "\\end{equation}\n",
    "\n",
    "\\begin{equation}\n",
    "\\sum_{i \\in D} y_{i} = 1\n",
    "\\end{equation}\n",
    "\n",
    "\\begin{equation}\n",
    "y_{i} \\in \\{0,1\\} \\ , \\  \\forall i \\in D\n",
    "\\end{equation}\n",
    "\n",
    "\n",
    "\n",
    "**Applied to the Reactor Problem:**\n",
    "\n",
    "\\begin{equation}\n",
    "  P \\leq 10 + M_{1}(1-y_{1})\\\\\n",
    "  -P \\leq -5 + M_{1}(1-y_{1})\\\\\n",
    "  P \\leq 30 + M_{2}(1-y_{2})\\\\\n",
    "  -P \\leq -20 + M_{2}(1-y_{2})\\\\\n",
    "  y_{1} + y_{2} = 1\n",
    "\\end{equation}\n",
    "\n",
    "When the $y$'s are considered continuous variables, weak bounds for the objective function are formed for large values such as:\n",
    "\n",
    "$M_{1} = 100 \\ \\ \\text{and} \\ \\ M_{2} = 100$\n",
    "\n",
    "**Main Idea:**\n",
    "Considering the special case where $h_{i}(x) = A_{i}x - b_{i} \\leq 0,$ <br>\n",
    "$M_{i}$ is sufficiently large to relax $h_{i}(x) \\leq 0$ when $y_{i}=0$\n",
    "\n",
    "**Key Takeaways:**\n",
    "\n",
    "* If $M$ is too **large**, we can get a \"weak relaxation\" because integer programming algorithms need more iterations.\n",
    "* If $M$ is too **small**, we can get unintended bounds.   \n",
    "\n",
    "**Big-M is the best to use if the problem is small.**"
   ]
  },
  {
   "cell_type": "markdown",
   "metadata": {
    "id": "V4juITi_EOuL"
   },
   "source": [
    "### Big-M Implementation in Pyomo"
   ]
  },
  {
   "cell_type": "markdown",
   "metadata": {
    "id": "rRasPpqCGwh-"
   },
   "source": [
    "First we will create and print the model."
   ]
  },
  {
   "cell_type": "code",
   "execution_count": 4,
   "metadata": {
    "colab": {
     "base_uri": "https://localhost:8080/"
    },
    "id": "DcmPUQ3qGwh-",
    "outputId": "bf57f467-401a-4fe6-f9c4-2da01b548d27"
   },
   "outputs": [
    {
     "name": "stdout",
     "output_type": "stream",
     "text": [
      "1 Set Declarations\n",
      "    reactors : Size=1, Index=None, Ordered=Insertion\n",
      "        Key  : Dimen : Domain : Size : Members\n",
      "        None :     1 :    Any :    2 : {1, 2}\n",
      "\n",
      "2 Param Declarations\n",
      "    max_pressure : Size=2, Index=reactors, Domain=Any, Default=None, Mutable=False\n",
      "        Key : Value\n",
      "          1 :    10\n",
      "          2 :    30\n",
      "    min_pressure : Size=2, Index=reactors, Domain=Any, Default=None, Mutable=False\n",
      "        Key : Value\n",
      "          1 :     5\n",
      "          2 :    20\n",
      "\n",
      "1 Var Declarations\n",
      "    P : Reactor pressure (atm)\n",
      "        Size=1, Index=None\n",
      "        Key  : Lower : Value : Upper : Fixed : Stale : Domain\n",
      "        None :     5 :  None :    30 : False :  True :  Reals\n",
      "\n",
      "1 Objective Declarations\n",
      "    objective : Size=1, Index=None, Active=True\n",
      "        Key  : Active : Sense    : Expression\n",
      "        None :   True : minimize :          P\n",
      "\n",
      "1 Disjunct Declarations\n",
      "    pressure_bounds_disjuncts : Size=4, Index=Any, Active=True\n",
      "        pressure_bounds_disjuncts[0] : Active=True\n",
      "            1 Var Declarations\n",
      "                binary_indicator_var : Size=1, Index=None\n",
      "                    Key  : Lower : Value : Upper : Fixed : Stale : Domain\n",
      "                    None :     0 :  None :     1 : False :  True : Binary\n",
      "\n",
      "            1 Constraint Declarations\n",
      "                constraint : Size=1, Index={1}, Active=True\n",
      "                    Key : Lower : Body : Upper : Active\n",
      "                      1 :  -Inf :    P :  10.0 :   True\n",
      "\n",
      "            1 BooleanVar Declarations\n",
      "                indicator_var : Size=1, Index=None\n",
      "                    Key  : Value : Fixed : Stale\n",
      "                    None :  None : False :  True\n",
      "\n",
      "            1 LogicalConstraint Declarations\n",
      "                propositions : Size=0, Index={}, Active=True\n",
      "                    Key : Body : Active\n",
      "\n",
      "            4 Declarations: indicator_var binary_indicator_var constraint propositions\n",
      "        pressure_bounds_disjuncts[1] : Active=True\n",
      "            1 Var Declarations\n",
      "                binary_indicator_var : Size=1, Index=None\n",
      "                    Key  : Lower : Value : Upper : Fixed : Stale : Domain\n",
      "                    None :     0 :  None :     1 : False :  True : Binary\n",
      "\n",
      "            1 Constraint Declarations\n",
      "                constraint : Size=1, Index={1}, Active=True\n",
      "                    Key : Lower : Body : Upper : Active\n",
      "                      1 :   5.0 :    P :  +Inf :   True\n",
      "\n",
      "            1 BooleanVar Declarations\n",
      "                indicator_var : Size=1, Index=None\n",
      "                    Key  : Value : Fixed : Stale\n",
      "                    None :  None : False :  True\n",
      "\n",
      "            1 LogicalConstraint Declarations\n",
      "                propositions : Size=0, Index={}, Active=True\n",
      "                    Key : Body : Active\n",
      "\n",
      "            4 Declarations: indicator_var binary_indicator_var constraint propositions\n",
      "        pressure_bounds_disjuncts[2] : Active=True\n",
      "            1 Var Declarations\n",
      "                binary_indicator_var : Size=1, Index=None\n",
      "                    Key  : Lower : Value : Upper : Fixed : Stale : Domain\n",
      "                    None :     0 :  None :     1 : False :  True : Binary\n",
      "\n",
      "            1 Constraint Declarations\n",
      "                constraint : Size=1, Index={1}, Active=True\n",
      "                    Key : Lower : Body : Upper : Active\n",
      "                      1 :  -Inf :    P :  30.0 :   True\n",
      "\n",
      "            1 BooleanVar Declarations\n",
      "                indicator_var : Size=1, Index=None\n",
      "                    Key  : Value : Fixed : Stale\n",
      "                    None :  None : False :  True\n",
      "\n",
      "            1 LogicalConstraint Declarations\n",
      "                propositions : Size=0, Index={}, Active=True\n",
      "                    Key : Body : Active\n",
      "\n",
      "            4 Declarations: indicator_var binary_indicator_var constraint propositions\n",
      "        pressure_bounds_disjuncts[3] : Active=True\n",
      "            1 Var Declarations\n",
      "                binary_indicator_var : Size=1, Index=None\n",
      "                    Key  : Lower : Value : Upper : Fixed : Stale : Domain\n",
      "                    None :     0 :  None :     1 : False :  True : Binary\n",
      "\n",
      "            1 Constraint Declarations\n",
      "                constraint : Size=1, Index={1}, Active=True\n",
      "                    Key : Lower : Body : Upper : Active\n",
      "                      1 :  20.0 :    P :  +Inf :   True\n",
      "\n",
      "            1 BooleanVar Declarations\n",
      "                indicator_var : Size=1, Index=None\n",
      "                    Key  : Value : Fixed : Stale\n",
      "                    None :  None : False :  True\n",
      "\n",
      "            1 LogicalConstraint Declarations\n",
      "                propositions : Size=0, Index={}, Active=True\n",
      "                    Key : Body : Active\n",
      "\n",
      "            4 Declarations: indicator_var binary_indicator_var constraint propositions\n",
      "\n",
      "1 Disjunction Declarations\n",
      "    pressure_bounds : Pressure bounds for different reactor selections\n",
      "        Size=2, Index=reactors, Active=True\n",
      "        Key : Disjuncts                                                        : Active : XOR\n",
      "          1 : ['pressure_bounds_disjuncts[0]', 'pressure_bounds_disjuncts[1]'] :   True : True\n",
      "          2 : ['pressure_bounds_disjuncts[2]', 'pressure_bounds_disjuncts[3]'] :   True : True\n",
      "\n",
      "7 Declarations: reactors min_pressure max_pressure P objective pressure_bounds pressure_bounds_disjuncts\n"
     ]
    }
   ],
   "source": [
    "# Creating the model\n",
    "model = create_model()\n",
    "\n",
    "# Printing the model\n",
    "model.pprint()"
   ]
  },
  {
   "cell_type": "markdown",
   "metadata": {
    "id": "5LScSNdHGwh-"
   },
   "source": [
    "Next, let's transform using Big-M and print the model again."
   ]
  },
  {
   "cell_type": "code",
   "execution_count": 5,
   "metadata": {
    "colab": {
     "base_uri": "https://localhost:8080/"
    },
    "id": "fVhra7bXGwh_",
    "outputId": "899f8997-5995-4a54-a5ab-9961b185a668"
   },
   "outputs": [
    {
     "name": "stdout",
     "output_type": "stream",
     "text": [
      "1 Set Declarations\n",
      "    reactors : Size=1, Index=None, Ordered=Insertion\n",
      "        Key  : Dimen : Domain : Size : Members\n",
      "        None :     1 :    Any :    2 : {1, 2}\n",
      "\n",
      "2 Param Declarations\n",
      "    max_pressure : Size=2, Index=reactors, Domain=Any, Default=None, Mutable=False\n",
      "        Key : Value\n",
      "          1 :    10\n",
      "          2 :    30\n",
      "    min_pressure : Size=2, Index=reactors, Domain=Any, Default=None, Mutable=False\n",
      "        Key : Value\n",
      "          1 :     5\n",
      "          2 :    20\n",
      "\n",
      "1 Var Declarations\n",
      "    P : Reactor pressure (atm)\n",
      "        Size=1, Index=None\n",
      "        Key  : Lower : Value : Upper : Fixed : Stale : Domain\n",
      "        None :     5 :  None :    30 : False :  True :  Reals\n",
      "\n",
      "1 Objective Declarations\n",
      "    objective : Size=1, Index=None, Active=True\n",
      "        Key  : Active : Sense    : Expression\n",
      "        None :   True : minimize :          P\n",
      "\n",
      "1 Block Declarations\n",
      "    _pyomo_gdp_bigm_reformulation : Size=1, Index=None, Active=True\n",
      "        1 Constraint Declarations\n",
      "            pressure_bounds_xor : Size=2, Index=Any, Active=True\n",
      "                Key : Lower : Body                                                                                                  : Upper : Active\n",
      "                  1 :   1.0 : pressure_bounds_disjuncts[0].binary_indicator_var + pressure_bounds_disjuncts[1].binary_indicator_var :   1.0 :   True\n",
      "                  2 :   1.0 : pressure_bounds_disjuncts[2].binary_indicator_var + pressure_bounds_disjuncts[3].binary_indicator_var :   1.0 :   True\n",
      "\n",
      "        1 Block Declarations\n",
      "            relaxedDisjuncts : Size=4, Index=NonNegativeIntegers, Active=True\n",
      "                _pyomo_gdp_bigm_reformulation.relaxedDisjuncts[0] : Active=True\n",
      "                    1 Constraint Declarations\n",
      "                        transformedConstraints : Size=1, Index=Any, Active=True\n",
      "                            Key                          : Lower : Body                                                             : Upper : Active\n",
      "                            ('constraint[1]_0', 1, 'ub') :  -Inf : P - 20.0*(1 - pressure_bounds_disjuncts[0].binary_indicator_var) :  10.0 :   True\n",
      "\n",
      "                    1 Block Declarations\n",
      "                        localVarReferences : Size=1, Index=None, Active=True\n",
      "                            1 Var Declarations\n",
      "                                binary_indicator_var : Size=1, Index=UnindexedComponent_ReferenceSet, ReferenceTo=pressure_bounds_disjuncts[0].binary_indicator_var\n",
      "                                    Key  : Lower : Value : Upper : Fixed : Stale : Domain\n",
      "                                    None :     0 :  None :     1 : False :  True : Binary\n",
      "\n",
      "                            1 Declarations: binary_indicator_var\n",
      "\n",
      "                    2 Declarations: transformedConstraints localVarReferences\n",
      "                _pyomo_gdp_bigm_reformulation.relaxedDisjuncts[1] : Active=True\n",
      "                    1 Constraint Declarations\n",
      "                        transformedConstraints : Size=1, Index=Any, Active=True\n",
      "                            Key                          : Lower : Body                                                            : Upper : Active\n",
      "                            ('constraint[1]_0', 1, 'lb') :   5.0 : P - 0.0*(1 - pressure_bounds_disjuncts[1].binary_indicator_var) :  +Inf :   True\n",
      "\n",
      "                    1 Block Declarations\n",
      "                        localVarReferences : Size=1, Index=None, Active=True\n",
      "                            1 Var Declarations\n",
      "                                binary_indicator_var : Size=1, Index=UnindexedComponent_ReferenceSet, ReferenceTo=pressure_bounds_disjuncts[1].binary_indicator_var\n",
      "                                    Key  : Lower : Value : Upper : Fixed : Stale : Domain\n",
      "                                    None :     0 :  None :     1 : False :  True : Binary\n",
      "\n",
      "                            1 Declarations: binary_indicator_var\n",
      "\n",
      "                    2 Declarations: transformedConstraints localVarReferences\n",
      "                _pyomo_gdp_bigm_reformulation.relaxedDisjuncts[2] : Active=True\n",
      "                    1 Constraint Declarations\n",
      "                        transformedConstraints : Size=1, Index=Any, Active=True\n",
      "                            Key                          : Lower : Body                                                            : Upper : Active\n",
      "                            ('constraint[1]_0', 1, 'ub') :  -Inf : P - 0.0*(1 - pressure_bounds_disjuncts[2].binary_indicator_var) :  30.0 :   True\n",
      "\n",
      "                    1 Block Declarations\n",
      "                        localVarReferences : Size=1, Index=None, Active=True\n",
      "                            1 Var Declarations\n",
      "                                binary_indicator_var : Size=1, Index=UnindexedComponent_ReferenceSet, ReferenceTo=pressure_bounds_disjuncts[2].binary_indicator_var\n",
      "                                    Key  : Lower : Value : Upper : Fixed : Stale : Domain\n",
      "                                    None :     0 :  None :     1 : False :  True : Binary\n",
      "\n",
      "                            1 Declarations: binary_indicator_var\n",
      "\n",
      "                    2 Declarations: transformedConstraints localVarReferences\n",
      "                _pyomo_gdp_bigm_reformulation.relaxedDisjuncts[3] : Active=True\n",
      "                    1 Constraint Declarations\n",
      "                        transformedConstraints : Size=1, Index=Any, Active=True\n",
      "                            Key                          : Lower : Body                                                             : Upper : Active\n",
      "                            ('constraint[1]_0', 1, 'lb') :  20.0 : P + 15.0*(1 - pressure_bounds_disjuncts[3].binary_indicator_var) :  +Inf :   True\n",
      "\n",
      "                    1 Block Declarations\n",
      "                        localVarReferences : Size=1, Index=None, Active=True\n",
      "                            1 Var Declarations\n",
      "                                binary_indicator_var : Size=1, Index=UnindexedComponent_ReferenceSet, ReferenceTo=pressure_bounds_disjuncts[3].binary_indicator_var\n",
      "                                    Key  : Lower : Value : Upper : Fixed : Stale : Domain\n",
      "                                    None :     0 :  None :     1 : False :  True : Binary\n",
      "\n",
      "                            1 Declarations: binary_indicator_var\n",
      "\n",
      "                    2 Declarations: transformedConstraints localVarReferences\n",
      "\n",
      "        2 Declarations: relaxedDisjuncts pressure_bounds_xor\n",
      "\n",
      "1 Disjunct Declarations\n",
      "    pressure_bounds_disjuncts : Size=4, Index=Any, Active=False\n",
      "        pressure_bounds_disjuncts[0] : Active=False\n",
      "            1 Var Declarations\n",
      "                binary_indicator_var : Size=1, Index=None\n",
      "                    Key  : Lower : Value : Upper : Fixed : Stale : Domain\n",
      "                    None :     0 :  None :     1 : False :  True : Binary\n",
      "\n",
      "            1 Constraint Declarations\n",
      "                constraint : Size=1, Index={1}, Active=True\n",
      "                    Key : Lower : Body : Upper : Active\n",
      "                      1 :  -Inf :    P :  10.0 :  False\n",
      "\n",
      "            1 BooleanVar Declarations\n",
      "                indicator_var : Size=1, Index=None\n",
      "                    Key  : Value : Fixed : Stale\n",
      "                    None :  None : False :  True\n",
      "\n",
      "            1 LogicalConstraint Declarations\n",
      "                propositions : Size=0, Index={}, Active=False\n",
      "                    Key : Body : Active\n",
      "\n",
      "            4 Declarations: indicator_var binary_indicator_var constraint propositions\n",
      "        pressure_bounds_disjuncts[1] : Active=False\n",
      "            1 Var Declarations\n",
      "                binary_indicator_var : Size=1, Index=None\n",
      "                    Key  : Lower : Value : Upper : Fixed : Stale : Domain\n",
      "                    None :     0 :  None :     1 : False :  True : Binary\n",
      "\n",
      "            1 Constraint Declarations\n",
      "                constraint : Size=1, Index={1}, Active=True\n",
      "                    Key : Lower : Body : Upper : Active\n",
      "                      1 :   5.0 :    P :  +Inf :  False\n",
      "\n",
      "            1 BooleanVar Declarations\n",
      "                indicator_var : Size=1, Index=None\n",
      "                    Key  : Value : Fixed : Stale\n",
      "                    None :  None : False :  True\n",
      "\n",
      "            1 LogicalConstraint Declarations\n",
      "                propositions : Size=0, Index={}, Active=False\n",
      "                    Key : Body : Active\n",
      "\n",
      "            4 Declarations: indicator_var binary_indicator_var constraint propositions\n",
      "        pressure_bounds_disjuncts[2] : Active=False\n",
      "            1 Var Declarations\n",
      "                binary_indicator_var : Size=1, Index=None\n",
      "                    Key  : Lower : Value : Upper : Fixed : Stale : Domain\n",
      "                    None :     0 :  None :     1 : False :  True : Binary\n",
      "\n",
      "            1 Constraint Declarations\n",
      "                constraint : Size=1, Index={1}, Active=True\n",
      "                    Key : Lower : Body : Upper : Active\n",
      "                      1 :  -Inf :    P :  30.0 :  False\n",
      "\n",
      "            1 BooleanVar Declarations\n",
      "                indicator_var : Size=1, Index=None\n",
      "                    Key  : Value : Fixed : Stale\n",
      "                    None :  None : False :  True\n",
      "\n",
      "            1 LogicalConstraint Declarations\n",
      "                propositions : Size=0, Index={}, Active=False\n",
      "                    Key : Body : Active\n",
      "\n",
      "            4 Declarations: indicator_var binary_indicator_var constraint propositions\n",
      "        pressure_bounds_disjuncts[3] : Active=False\n",
      "            1 Var Declarations\n",
      "                binary_indicator_var : Size=1, Index=None\n",
      "                    Key  : Lower : Value : Upper : Fixed : Stale : Domain\n",
      "                    None :     0 :  None :     1 : False :  True : Binary\n",
      "\n",
      "            1 Constraint Declarations\n",
      "                constraint : Size=1, Index={1}, Active=True\n",
      "                    Key : Lower : Body : Upper : Active\n",
      "                      1 :  20.0 :    P :  +Inf :  False\n",
      "\n",
      "            1 BooleanVar Declarations\n",
      "                indicator_var : Size=1, Index=None\n",
      "                    Key  : Value : Fixed : Stale\n",
      "                    None :  None : False :  True\n",
      "\n",
      "            1 LogicalConstraint Declarations\n",
      "                propositions : Size=0, Index={}, Active=False\n",
      "                    Key : Body : Active\n",
      "\n",
      "            4 Declarations: indicator_var binary_indicator_var constraint propositions\n",
      "\n",
      "1 Disjunction Declarations\n",
      "    pressure_bounds : Pressure bounds for different reactor selections\n",
      "        Size=2, Index=reactors, Active=False\n",
      "        Key : Disjuncts                                                        : Active : XOR\n",
      "          1 : ['pressure_bounds_disjuncts[0]', 'pressure_bounds_disjuncts[1]'] :  False : True\n",
      "          2 : ['pressure_bounds_disjuncts[2]', 'pressure_bounds_disjuncts[3]'] :  False : True\n",
      "\n",
      "8 Declarations: reactors min_pressure max_pressure P objective pressure_bounds pressure_bounds_disjuncts _pyomo_gdp_bigm_reformulation\n"
     ]
    }
   ],
   "source": [
    "# Applying Big-M relaxation to the model\n",
    "# Add your solution here\n",
    "\n",
    "# Printing\n",
    "model.pprint()"
   ]
  },
  {
   "cell_type": "markdown",
   "metadata": {},
   "source": [
    "```{dropdown} Click to see the solution to the activity\n",
    "\n",
    "```python\n",
    "TransformationFactory('gdp.bigm').apply_to(model)"
   ]
  },
  {
   "cell_type": "markdown",
   "metadata": {
    "id": "w2tgG9dHGwh_"
   },
   "source": [
    "Finally, we'll solve the model and examine the solution."
   ]
  },
  {
   "cell_type": "code",
   "execution_count": 6,
   "metadata": {
    "colab": {
     "base_uri": "https://localhost:8080/"
    },
    "id": "Y4Cc8AwGGwh_",
    "outputId": "0adf1cdf-d73d-4a3b-db79-e4d3912c139c"
   },
   "outputs": [
    {
     "name": "stdout",
     "output_type": "stream",
     "text": [
      "Welcome to the CBC MILP Solver \n",
      "Version: 2.10.10 \n",
      "Build Date: Jun  7 2023 \n",
      "\n",
      "command line - /Users/adowling/.idaes/bin/cbc -printingOptions all -import /var/folders/3w/vr4xmyqs451dg23xk88pqcg00000gq/T/tmpx99o357i.pyomo.lp -stat=1 -solve -solu /var/folders/3w/vr4xmyqs451dg23xk88pqcg00000gq/T/tmpx99o357i.pyomo.soln (default strategy 1)\n",
      "Option for printingOptions changed from normal to all\n",
      "Presolve 0 (-6) rows, 0 (-5) columns and 0 (-10) elements\n",
      "Statistics for presolved model\n",
      "Original problem has 4 integers (4 of which binary)\n",
      "\n",
      "\n",
      "Problem has 0 rows, 0 columns (0 with objective) and 0 elements\n",
      "Column breakdown:\n",
      "0 of type 0.0->inf, 0 of type 0.0->up, 0 of type lo->inf, \n",
      "0 of type lo->up, 0 of type free, 0 of type fixed, \n",
      "0 of type -inf->0.0, 0 of type -inf->up, 0 of type 0.0->1.0 \n",
      "Row breakdown:\n",
      "0 of type E 0.0, 0 of type E 1.0, 0 of type E -1.0, \n",
      "0 of type E other, 0 of type G 0.0, 0 of type G 1.0, \n",
      "0 of type G other, 0 of type L 0.0, 0 of type L 1.0, \n",
      "0 of type L other, 0 of type Range 0.0->1.0, 0 of type Range other, \n",
      "0 of type Free \n",
      "Continuous objective value is 5 - 0.00 seconds\n",
      "Cgl0004I processed model has 0 rows, 0 columns (0 integer (0 of which binary)) and 0 elements\n",
      "Cbc3007W No integer variables - nothing to do\n",
      "Cuts at root node changed objective from 5 to -1.79769e+308\n",
      "Probing was tried 0 times and created 0 cuts of which 0 were active after adding rounds of cuts (0.000 seconds)\n",
      "Gomory was tried 0 times and created 0 cuts of which 0 were active after adding rounds of cuts (0.000 seconds)\n",
      "Knapsack was tried 0 times and created 0 cuts of which 0 were active after adding rounds of cuts (0.000 seconds)\n",
      "Clique was tried 0 times and created 0 cuts of which 0 were active after adding rounds of cuts (0.000 seconds)\n",
      "MixedIntegerRounding2 was tried 0 times and created 0 cuts of which 0 were active after adding rounds of cuts (0.000 seconds)\n",
      "FlowCover was tried 0 times and created 0 cuts of which 0 were active after adding rounds of cuts (0.000 seconds)\n",
      "TwoMirCuts was tried 0 times and created 0 cuts of which 0 were active after adding rounds of cuts (0.000 seconds)\n",
      "ZeroHalf was tried 0 times and created 0 cuts of which 0 were active after adding rounds of cuts (0.000 seconds)\n",
      "\n",
      "Result - Optimal solution found\n",
      "\n",
      "Objective value:                5.00000000\n",
      "Enumerated nodes:               0\n",
      "Total iterations:               0\n",
      "Time (CPU seconds):             0.00\n",
      "Time (Wallclock seconds):       0.00\n",
      "\n",
      "Total time (CPU seconds):       0.00   (Wallclock seconds):       0.01\n",
      "\n",
      "P : Reactor pressure (atm)\n",
      "    Size=1, Index=None\n",
      "    Key  : Lower : Value : Upper : Fixed : Stale : Domain\n",
      "    None :     5 :   5.0 :    30 : False : False :  Reals\n"
     ]
    }
   ],
   "source": [
    "# Solve and print the solution\n",
    "SolverFactory(milp_solver).solve(model, tee=True)\n",
    "\n",
    "model.P.display()"
   ]
  },
  {
   "cell_type": "markdown",
   "metadata": {
    "id": "6nbUb0SkGwh_"
   },
   "source": [
    "### Transform and Solve with Convex Hull Relaxation"
   ]
  },
  {
   "cell_type": "markdown",
   "metadata": {
    "id": "f2667WMjkVDM"
   },
   "source": [
    "*The following excerpts are from Section 15.8 in Biegler, Grossmann, and Westerberg (1997).*"
   ]
  },
  {
   "cell_type": "markdown",
   "metadata": {
    "id": "yjH4y3aTESh3"
   },
   "source": [
    "Convex hull can be used if we don't want to implement Big-M parameters. This approach requires separating the continuous variables into its components.\n"
   ]
  },
  {
   "cell_type": "markdown",
   "metadata": {
    "id": "MDHOmnLAEST6"
   },
   "source": [
    "### Convex Hull Relaxation Approach"
   ]
  },
  {
   "cell_type": "markdown",
   "metadata": {
    "id": "HHJaJzOukO68"
   },
   "source": [
    "**General Notation:**\n",
    "\n",
    "$$\n",
    "\\begin{equation}\n",
    "x = \\sum_{i \\in D} z_{i}\n",
    "\\end{equation}\n",
    "$$\n",
    "\n",
    "$$\n",
    "\\begin{equation}\n",
    "A_{i} z_{i} \\leq b_{i}y_{i}  \\ , \\ \\forall i \\in D\n",
    "\\end{equation}\n",
    "$$\n",
    "\n",
    "$$\n",
    "\\begin{equation}\n",
    "\\sum_{i \\in D} y_{i} = 1\n",
    "\\end{equation}\n",
    "$$\n",
    "\n",
    "$$\n",
    "\\begin{equation}\n",
    "0 \\leq z_{i} \\leq Uy_{i}  \\ , \\ \\forall i \\in D\n",
    "\\end{equation}\n",
    "$$\n",
    "\n",
    "$$\n",
    "\\begin{equation}\n",
    "y_{i} = \\{0,1\\} \\ , \\ \\forall i \\in D\n",
    "\\end{equation}\n",
    "$$\n",
    "\n",
    "$z_{i}$: continuous variables separated into as many new variables as there are terms for the disjunctions.\n",
    "\n",
    "**Applied to the Reactor Problem:** <br>\n",
    "\n",
    "\\begin{equation}\n",
    "  P = P_{1} + P_{2} \\\\\n",
    "  P_{1} \\leq 10y_{1}\\\\\n",
    "  P_{2} \\leq 30y_{2} \\\\\n",
    "  -P_{1} \\leq -5y_{1}\\\\\n",
    "  -P_{2} \\leq -20y_{2}\\\\\n",
    "  y_{1} + y_{2} = 1\n",
    "\\end{equation}\n",
    "\n",
    "**Key Takeaways:** <br>\n",
    "\n",
    "(+) Constraints do not require Big-M parameters which produce a tight linear programming relaxation. <br>\n",
    "(--) A larger number of variables and constraints is required.\n",
    "\n",
    "**Convex hull is better to use over Big-M if the problem is large.**"
   ]
  },
  {
   "cell_type": "markdown",
   "metadata": {
    "id": "0ExVFVrIEELf"
   },
   "source": [
    "### Convex Hull Implementation in Pyomo"
   ]
  },
  {
   "cell_type": "markdown",
   "metadata": {
    "id": "goXwK2iXGwh_"
   },
   "source": [
    "We will repeat the procedure above but using Convex Hull now."
   ]
  },
  {
   "cell_type": "code",
   "execution_count": 7,
   "metadata": {
    "colab": {
     "base_uri": "https://localhost:8080/"
    },
    "id": "wp1JWlKoGwh_",
    "outputId": "c4d62b3f-8a11-4ca7-a9d6-9a8ac5d73e1b"
   },
   "outputs": [
    {
     "name": "stdout",
     "output_type": "stream",
     "text": [
      "Welcome to the CBC MILP Solver \n",
      "Version: 2.10.10 \n",
      "Build Date: Jun  7 2023 \n",
      "\n",
      "command line - /Users/adowling/.idaes/bin/cbc -printingOptions all -import /var/folders/3w/vr4xmyqs451dg23xk88pqcg00000gq/T/tmppgpvdtjh.pyomo.lp -stat=1 -solve -solu /var/folders/3w/vr4xmyqs451dg23xk88pqcg00000gq/T/tmppgpvdtjh.pyomo.soln (default strategy 1)\n",
      "Option for printingOptions changed from normal to all\n",
      "Presolve 10 (-6) rows, 5 (-4) columns and 24 (-10) elements\n",
      "Statistics for presolved model\n",
      "Original problem has 4 integers (4 of which binary)\n",
      "Presolved problem has 2 integers (2 of which binary)\n",
      "==== 4 zero objective 2 different\n",
      "4 variables have objective of 0\n",
      "1 variables have objective of 1\n",
      "==== absolute objective values 2 different\n",
      "4 variables have objective of 0\n",
      "1 variables have objective of 1\n",
      "==== for integers 2 zero objective 1 different\n",
      "2 variables have objective of 0\n",
      "==== for integers absolute objective values 1 different\n",
      "2 variables have objective of 0\n",
      "===== end objective counts\n",
      "\n",
      "\n",
      "Problem has 10 rows, 5 columns (1 with objective) and 24 elements\n",
      "Column breakdown:\n",
      "0 of type 0.0->inf, 2 of type 0.0->up, 0 of type lo->inf, \n",
      "1 of type lo->up, 0 of type free, 0 of type fixed, \n",
      "0 of type -inf->0.0, 0 of type -inf->up, 2 of type 0.0->1.0 \n",
      "Row breakdown:\n",
      "0 of type E 0.0, 0 of type E 1.0, 0 of type E -1.0, \n",
      "0 of type E other, 0 of type G 0.0, 0 of type G 1.0, \n",
      "0 of type G other, 5 of type L 0.0, 0 of type L 1.0, \n",
      "5 of type L other, 0 of type Range 0.0->1.0, 0 of type Range other, \n",
      "0 of type Free \n",
      "Continuous objective value is 5 - 0.00 seconds\n",
      "Cgl0003I 0 fixed, 0 tightened bounds, 1 strengthened rows, 0 substitutions\n",
      "Cgl0003I 0 fixed, 0 tightened bounds, 1 strengthened rows, 0 substitutions\n",
      "Cgl0004I processed model has 8 rows, 5 columns (2 integer (2 of which binary)) and 21 elements\n",
      "Cbc0038I Initial state - 0 integers unsatisfied sum - 0\n",
      "Cbc0038I Solution found of 5\n",
      "Cbc0038I Relaxing continuous gives 5\n",
      "Cbc0038I Before mini branch and bound, 2 integers at bound fixed and 3 continuous\n",
      "Cbc0038I Mini branch and bound did not improve solution (0.00 seconds)\n",
      "Cbc0038I After 0.00 seconds - Feasibility pump exiting with objective of 5 - took 0.00 seconds\n",
      "Cbc0012I Integer solution of 5 found by feasibility pump after 0 iterations and 0 nodes (0.00 seconds)\n",
      "Cbc0001I Search completed - best objective 5, took 0 iterations and 0 nodes (0.00 seconds)\n",
      "Cbc0035I Maximum depth 0, 0 variables fixed on reduced cost\n",
      "Cuts at root node changed objective from 5 to 5\n",
      "Probing was tried 0 times and created 0 cuts of which 0 were active after adding rounds of cuts (0.000 seconds)\n",
      "Gomory was tried 0 times and created 0 cuts of which 0 were active after adding rounds of cuts (0.000 seconds)\n",
      "Knapsack was tried 0 times and created 0 cuts of which 0 were active after adding rounds of cuts (0.000 seconds)\n",
      "Clique was tried 0 times and created 0 cuts of which 0 were active after adding rounds of cuts (0.000 seconds)\n",
      "MixedIntegerRounding2 was tried 0 times and created 0 cuts of which 0 were active after adding rounds of cuts (0.000 seconds)\n",
      "FlowCover was tried 0 times and created 0 cuts of which 0 were active after adding rounds of cuts (0.000 seconds)\n",
      "TwoMirCuts was tried 0 times and created 0 cuts of which 0 were active after adding rounds of cuts (0.000 seconds)\n",
      "ZeroHalf was tried 0 times and created 0 cuts of which 0 were active after adding rounds of cuts (0.000 seconds)\n",
      "\n",
      "Result - Optimal solution found\n",
      "\n",
      "Objective value:                5.00000000\n",
      "Enumerated nodes:               0\n",
      "Total iterations:               0\n",
      "Time (CPU seconds):             0.00\n",
      "Time (Wallclock seconds):       0.00\n",
      "\n",
      "Total time (CPU seconds):       0.00   (Wallclock seconds):       0.00\n",
      "\n",
      "P : Reactor pressure (atm)\n",
      "    Size=1, Index=None\n",
      "    Key  : Lower : Value : Upper : Fixed : Stale : Domain\n",
      "    None :     5 :   5.0 :    30 : False : False :  Reals\n"
     ]
    }
   ],
   "source": [
    "# Creating the model\n",
    "model = create_model()\n",
    "\n",
    "# Applying convex hull relaxation to the model\n",
    "# Add your solution here\n",
    "\n",
    "# Solve and print the solution\n",
    "SolverFactory(milp_solver).solve(model, tee=True)\n",
    "\n",
    "model.P.display()"
   ]
  },
  {
   "cell_type": "markdown",
   "metadata": {},
   "source": [
    "```{dropdown} Click to see the solution to the activity\n",
    "\n",
    "```python\n",
    "TransformationFactory('gdp.hull').apply_to(model)"
   ]
  },
  {
   "cell_type": "markdown",
   "metadata": {
    "id": "ghz4bjwZ9mqC"
   },
   "source": [
    "## Discussion Questions\n",
    "1. How do we create a system to go from logical expressions to linear constraints?\n",
    "2. Are conjuctive or disjunctive clauses more common? Why might this be the case?\n",
    "3. If $y_{i}=0$ and $y_{i}=1$, what happens when a Big-M parameter is introduced in the general notation?\n",
    "4. When will the convex hull formulation simplify?"
   ]
  },
  {
   "cell_type": "markdown",
   "metadata": {},
   "source": [
    "```{dropdown} Click to see the ideas for the discussion questions\n",
    "\n",
    "1. Using conjuctive normal form. \n",
    "2. Disjunctive clauses because the clause is true when at least one literal is true which occurs more often.\n",
    "3. The inequality becomes unnecessary when $y_{i}=0$ and the inequality is applied when $y_{i}=1$.\n",
    "4. If the disjunction only has two terms and one of the terms requires the variable to take a value at 0."
   ]
  }
 ],
 "metadata": {
  "colab": {
   "provenance": []
  },
  "kernelspec": {
   "display_name": "Python 3",
   "language": "python",
   "name": "python3"
  },
  "language_info": {
   "codemirror_mode": {
    "name": "ipython",
    "version": 3
   },
   "file_extension": ".py",
   "mimetype": "text/x-python",
   "name": "python",
   "nbconvert_exporter": "python",
   "pygments_lexer": "ipython3",
   "version": "3.10.14"
  }
 },
 "nbformat": 4,
 "nbformat_minor": 0
}
