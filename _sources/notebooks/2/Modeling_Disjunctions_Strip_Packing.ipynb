{
 "cells": [
  {
   "attachments": {},
   "cell_type": "markdown",
   "metadata": {
    "id": "oUfQgdrfGwh5"
   },
   "source": [
    "# Modeling Disjunctions through the Strip Packing Problem"
   ]
  },
  {
   "attachments": {},
   "cell_type": "markdown",
   "metadata": {
    "id": "U74fRmss-X8w"
   },
   "source": [
    "**Prepared by:** Prof. Alexander Dowling (adowling@nd.edu), [Hailey Lynch](https://github.com/hglynch) (hlynch@nd.edu, 2023)"
   ]
  },
  {
   "attachments": {},
   "cell_type": "markdown",
   "metadata": {
    "id": "sZGoXpLW5OnZ"
   },
   "source": [
    "## Introduction and Learning Objectives"
   ]
  },
  {
   "attachments": {},
   "cell_type": "markdown",
   "metadata": {
    "id": "FESjuRnH-iIS"
   },
   "source": [
    "This notebook illustrates a more complicated example of generalized disjunctive programs. Students will practice applying concepts of Logical Modeling and Generalized Disjunctive Programs to the Strip Packing Problem. Critical thinking discussion questions will be included to connect concepts from CBE 60499.\n",
    "\n",
    "See the following notebook for a primer on Logical Modeling and Generalized Disjunctive Programs: [Logical Modeling and Generalized Disjunctive Programs](LINK HERE)"
   ]
  },
  {
   "attachments": {},
   "cell_type": "markdown",
   "metadata": {
    "id": "wQtgW3K0GXZT"
   },
   "source": [
    "## Import Modules"
   ]
  },
  {
   "cell_type": "code",
   "execution_count": 1,
   "metadata": {
    "colab": {
     "base_uri": "https://localhost:8080/"
    },
    "id": "ILDzq1xaGwh6",
    "outputId": "b952ea8a-7661-4013-b8af-ffc3a9c1310c"
   },
   "outputs": [],
   "source": [
    "# Imports\n",
    "import sys\n",
    "if \"google.colab\" in sys.modules:\n",
    "    !wget \"https://raw.githubusercontent.com/ndcbe/optimization/main/notebooks/helper.py\"\n",
    "    import helper\n",
    "    helper.easy_install()\n",
    "else:\n",
    "    sys.path.insert(0, '../')\n",
    "    import helper\n",
    "helper.set_plotting_style()"
   ]
  },
  {
   "cell_type": "code",
   "execution_count": 2,
   "metadata": {
    "id": "2jkM0EKaGwh7"
   },
   "outputs": [],
   "source": [
    "milp_solver = 'cbc'"
   ]
  },
  {
   "attachments": {},
   "cell_type": "markdown",
   "metadata": {
    "id": "4k0jua-uGwh8"
   },
   "source": [
    "## Pyomo.GDP: Strip Packing Problem"
   ]
  },
  {
   "attachments": {},
   "cell_type": "markdown",
   "metadata": {
    "id": "-AnkVSI6Gwh8"
   },
   "source": [
    "We will be looking at the Strip Packing Problem using Pyomo.GDP as an example for modeling disjunctions.\n",
    "\n",
    "> Aldo Vecchietti (1) and Ignacio Grossman (2) <br> (1) INGAR – Instituto de Desarrollo y Diseño – CONICET – UTN, Avellaneda 3657 – Santa Fe ‐ Argentina <br> (2) Carnegie Mellon University, 5000 Forbes Av. ‐ Pittsburgh, PA ‐ USA\n",
    "\n",
    "| Additional Information       | Link        |\n",
    "| ----------- | ----------- |\n",
    "| Reference   |  https://www.minlp.org/library/problem/index.php?i=121&lib=GDP       |\n",
    "| Description | https://www.minlp.org/problems/ver/156/over/Strip-Packing-Overview.pdf        |\n",
    "| Results    | https://www.minlp.org/problems/ver/156/results/Strip-Packing-Results.pdf       |\n",
    "| Problem Formulation    | https://www.sciencedirect.com/science/article/pii/S0098135405000992"
   ]
  },
  {
   "attachments": {},
   "cell_type": "markdown",
   "metadata": {
    "id": "w7zFHyFULaa7"
   },
   "source": [
    "### Problem Statement"
   ]
  },
  {
   "attachments": {},
   "cell_type": "markdown",
   "metadata": {
    "id": "TcSIgA5Ph8-U"
   },
   "source": [
    "The objective in this problem consists of minimizing the length of the strip $lt$ and by representing every rectangle by its coordinates in the $(x,y)$ space such that no overlap occurs between rectangles. \n",
    "\n",
    "$ \\text{min} \\ lt $ \n",
    "\n",
    "subject to...\n",
    "\n",
    "Thus, every rectangle $i \\in N$ has length $L_{i}$, height $H_{i}$, and coordinates $(x_{i}, y_{i})$, where the point of reference corresponds to the upper left corner of every rectangle.\n",
    "\n",
    "$$\n",
    "\\begin{equation}\n",
    "\\ lt \\geq x_{i} + L_{i} \\ \\ \\forall i \\in N\n",
    "\\end{equation}\n",
    "$$\n",
    "\n",
    "By constraining every pair of rectangels $(i,j)$ where $(i,j \\in N, i<j)$ that no overlap occurs, we obtain a series of disjunctions with four disjuncts each, where each disjunct represents the position of rectangle $i$ in relation to rectangle $j$. \n",
    "\n",
    "$$\n",
    "\\begin{equation}\n",
    "  \\begin{bmatrix}\n",
    "  Y_{ij}^{1} \\\\\n",
    "  x_{i} + L_{i} \\leq x_{j}\n",
    "  \\end{bmatrix}\n",
    " \\lor\n",
    "  \\begin{bmatrix}\n",
    "  Y_{ij}^{2} \\\\\n",
    "  x_{j} + L_{j} \\leq x_{i}\n",
    "  \\end{bmatrix}\n",
    " \\lor \n",
    "  \\begin{bmatrix}\n",
    "  Y_{ij}^{3} \\\\\n",
    "  y_{i} - H_{i} \\geq y_{j}\n",
    "  \\end{bmatrix}\n",
    " \\lor\n",
    "  \\begin{bmatrix}\n",
    "  Y_{ij}^{4} \\\\\n",
    "  y_{j} - H_{j} \\geq y_{i}\n",
    "  \\end{bmatrix}\n",
    "\\end{equation} \n",
    "$$\n",
    "\n",
    "Note that the y-coordinate of every rectange is bounded from above by the fixed width of the strip $W$, and that the upper bound $UB_{i}$, which in a best case scenario would correspond to the optimal value of $lt$, is obtained using a bottom-left rectangle-placing heurisitc and serves as an upper bound for the x-coordinate of every rectangle.\n",
    "\n",
    "$$\n",
    "\\begin{equation}\n",
    "  x_{i} \\leq UB_{i} - L_{i} \\ \\ \\forall i \\in N \\tag{4}\n",
    "\\end{equation}\n",
    "$$\n",
    "\n",
    "$$\n",
    "\\begin{equation}\n",
    "  H_{i} \\leq y_{i} \\leq W \\ \\ \\forall i \\in N \\tag{5}\n",
    "\\end{equation}\n",
    "$$\n",
    "\n",
    "$$\n",
    "\\begin{equation}\n",
    " lt, x_{i}, y_{i} \\in \\mathbb{R}_{+}^{1}, Y_{ij}^{1}, Y_{ij}^{2}, Y_{ij}^{3}, Y_{ij}^{4} \\in \\text{\\{True, False}\\} \\ \\ \\forall i, j \\in N, i < j\n",
    "\\end{equation}\n",
    "$$"
   ]
  },
  {
   "attachments": {},
   "cell_type": "markdown",
   "metadata": {
    "id": "J37gjxv-Gwh8"
   },
   "source": [
    "### Define model in Pyomo with GDP"
   ]
  },
  {
   "attachments": {},
   "cell_type": "markdown",
   "metadata": {
    "id": "X5rJcVChAa5x"
   },
   "source": [
    "First we will define the model for the Strip Packing Problem in Pyomo. "
   ]
  },
  {
   "cell_type": "code",
   "execution_count": 3,
   "metadata": {
    "id": "758SajUtGwh9"
   },
   "outputs": [],
   "source": [
    "'''\n",
    "Instead of using\n",
    "# import pyomo.environ as pyo\n",
    "We can import specific functions/objects\n",
    "'''\n",
    "from pyomo.environ import (ConcreteModel, NonNegativeReals, Objective, Param,\n",
    "                           Set, SolverFactory, TransformationFactory, Var, value)\n",
    "\n",
    "# Strip-packing example from http://minlp.org/library/lib.php?lib=GDP\n",
    "\n",
    "# This model packs a set of rectangles without rotation or overlap within a\n",
    "# strip of a given width, minimizing the length of the strip.\n",
    "\n",
    "def create_model():\n",
    "    '''\n",
    "    Build the strip packing problem model.\n",
    "\n",
    "    Return:\n",
    "    model: Pyomo model\n",
    "    \n",
    "    '''\n",
    "    \n",
    "    ## Model\n",
    "    model = ConcreteModel(name=\"Rectangles strip packing\")\n",
    "    \n",
    "    ## Sets\n",
    "    model.rectangles = Set(ordered=True, initialize=[0, 1, 2, 3, 4, 5, 6, 7])\n",
    "\n",
    "    ## Parameters\n",
    "    # Width and length of each rectangle\n",
    "    model.rect_width = Param(\n",
    "        model.rectangles, initialize={0: 3, 1: 3, 2: 2, 3: 2, 4: 3, 5: 5,\n",
    "                                      6: 7, 7: 7})\n",
    "    \n",
    "    # Parameter indexed by each rectangle\n",
    "    # Length means height\n",
    "    model.rect_length = Param(\n",
    "        model.rectangles, initialize={0: 4, 1: 3, 2: 2, 3: 2, 4: 3, 5: 3,\n",
    "                                      6: 4, 7: 4})\n",
    "\n",
    "    model.strip_width = Param(\n",
    "        initialize=10, doc=\"Available width of the strip\")\n",
    "\n",
    "    # Upperbound on length (default is sum of lengths of rectangles)\n",
    "    model.max_length = Param(\n",
    "        initialize=sum(model.rect_length[i] for i in model.rectangles),\n",
    "        doc=\"Maximum length of the strip (if all rectangles were arranged \"\n",
    "        \"lengthwise)\")\n",
    "\n",
    "    ## Variables\n",
    "    # x (length) and y (width) coordinates of each of the rectangles\n",
    "    model.x = Var(model.rectangles,\n",
    "                  bounds=(0, model.max_length),\n",
    "                  doc=\"Rectangle corner x-position (position across length)\")\n",
    "\n",
    "    # Width bounds\n",
    "    def w_bounds(m, i):\n",
    "        return (0, m.strip_width - m.rect_width[i])\n",
    "    model.y = Var(model.rectangles,\n",
    "                  bounds=w_bounds,\n",
    "                  doc=\"Rectangle corner y-position (position down width)\")\n",
    "    # String length\n",
    "    model.strip_length = Var(\n",
    "        within=NonNegativeReals, doc=\"Length of strip required.\")\n",
    "\n",
    "    # Rectangle conflicts\n",
    "    def rec_pairs_filter(model, i, j):\n",
    "        return i < j\n",
    "    model.overlap_pairs = Set(\n",
    "        initialize=model.rectangles * model.rectangles,\n",
    "        dimen=2, filter=rec_pairs_filter,\n",
    "        doc=\"Set of possible rectangle conflicts\")\n",
    "\n",
    "    ## Constraints\n",
    "    @model.Constraint(model.rectangles)\n",
    "    def strip_ends_after_last_rec(model, i):\n",
    "        return model.strip_length >= model.x[i] + model.rect_length[i]\n",
    "\n",
    "    ## Objective\n",
    "    model.total_length = Objective(expr=model.strip_length,\n",
    "                                   doc=\"Minimize length\")\n",
    "\n",
    "    \n",
    "    ## Insert the no-overlap disjunctions here!\n",
    "    \n",
    "    # Add your solution here\n",
    "\n",
    "    return model"
   ]
  },
  {
   "cell_type": "markdown",
   "metadata": {},
   "source": [
    "```{dropdown} Click to see the solution to the activity\n",
    "\n",
    "```python\n",
    "@model.Disjunction(\n",
    "    model.overlap_pairs,\n",
    "    doc=\"Make sure that none of the rectangles on the strip overlap in \"\n",
    "    \"either the x or y dimensions.\")\n",
    "def no_overlap(m, i, j):\n",
    "    return [\n",
    "        m.x[i] + m.rect_length[i] <= m.x[j],\n",
    "        m.x[j] + m.rect_length[j] <= m.x[i],\n",
    "        m.y[i] + m.rect_width[i] <= m.y[j],\n",
    "        m.y[j] + m.rect_width[j] <= m.y[i],\n",
    "    ]"
   ]
  },
  {
   "attachments": {},
   "cell_type": "markdown",
   "metadata": {
    "id": "OZPTo5jaGwh9"
   },
   "source": [
    "### Transform and Solve with Big M Relaxation"
   ]
  },
  {
   "attachments": {},
   "cell_type": "markdown",
   "metadata": {
    "id": "rRasPpqCGwh-"
   },
   "source": [
    "Now we will create the model and use Big-M Relaxation."
   ]
  },
  {
   "attachments": {},
   "cell_type": "markdown",
   "metadata": {
    "id": "V4juITi_EOuL"
   },
   "source": [
    "### Big-M Implementation in Pyomo"
   ]
  },
  {
   "cell_type": "code",
   "execution_count": 4,
   "metadata": {
    "id": "DcmPUQ3qGwh-"
   },
   "outputs": [],
   "source": [
    "# Creating the model\n",
    "model = create_model()"
   ]
  },
  {
   "attachments": {},
   "cell_type": "markdown",
   "metadata": {
    "id": "5LScSNdHGwh-"
   },
   "source": [
    "Next, let's transform the model. The updated model is really big, so we will not print it. This is because the transformation factory replaced the disjunctions with many Big-M constraints."
   ]
  },
  {
   "cell_type": "code",
   "execution_count": 5,
   "metadata": {
    "id": "fVhra7bXGwh_"
   },
   "outputs": [],
   "source": [
    "# Applying Big-M relaxation to the model\n",
    "# Add your solution here"
   ]
  },
  {
   "cell_type": "markdown",
   "metadata": {},
   "source": [
    "```{dropdown} Click to see the solution to the activity\n",
    "\n",
    "```python\n",
    "TransformationFactory('gdp.bigm').apply_to(model)"
   ]
  },
  {
   "attachments": {},
   "cell_type": "markdown",
   "metadata": {
    "id": "w2tgG9dHGwh_"
   },
   "source": [
    "Finally, we'll solve the model and examine the solution."
   ]
  },
  {
   "cell_type": "code",
   "execution_count": 6,
   "metadata": {
    "colab": {
     "base_uri": "https://localhost:8080/"
    },
    "id": "Y4Cc8AwGGwh_",
    "outputId": "cdf3df24-792e-4b8b-d493-83686d107704"
   },
   "outputs": [
    {
     "name": "stdout",
     "output_type": "stream",
     "text": [
      "Welcome to the CBC MILP Solver \n",
      "Version: 2.10.10 \n",
      "Build Date: Jun  7 2023 \n",
      "\n",
      "command line - /Users/adowling/.idaes/bin/cbc -printingOptions all -import /var/folders/3w/vr4xmyqs451dg23xk88pqcg00000gq/T/tmpfr4nysg9.pyomo.lp -stat=1 -solve -solu /var/folders/3w/vr4xmyqs451dg23xk88pqcg00000gq/T/tmpfr4nysg9.pyomo.soln (default strategy 1)\n",
      "Option for printingOptions changed from normal to all\n",
      "Presolve 148 (0) rows, 129 (0) columns and 464 (0) elements\n",
      "Statistics for presolved model\n",
      "Original problem has 112 integers (112 of which binary)\n",
      "==== 128 zero objective 2 different\n",
      "128 variables have objective of 0\n",
      "1 variables have objective of 1\n",
      "==== absolute objective values 2 different\n",
      "128 variables have objective of 0\n",
      "1 variables have objective of 1\n",
      "==== for integers 112 zero objective 1 different\n",
      "112 variables have objective of 0\n",
      "==== for integers absolute objective values 1 different\n",
      "112 variables have objective of 0\n",
      "===== end objective counts\n",
      "\n",
      "\n",
      "Problem has 148 rows, 129 columns (1 with objective) and 464 elements\n",
      "Column breakdown:\n",
      "1 of type 0.0->inf, 16 of type 0.0->up, 0 of type lo->inf, \n",
      "0 of type lo->up, 0 of type free, 0 of type fixed, \n",
      "0 of type -inf->0.0, 0 of type -inf->up, 112 of type 0.0->1.0 \n",
      "Row breakdown:\n",
      "0 of type E 0.0, 28 of type E 1.0, 0 of type E -1.0, \n",
      "0 of type E other, 0 of type G 0.0, 0 of type G 1.0, \n",
      "0 of type G other, 0 of type L 0.0, 0 of type L 1.0, \n",
      "120 of type L other, 0 of type Range 0.0->1.0, 0 of type Range other, \n",
      "0 of type Free \n",
      "Continuous objective value is 4 - 0.00 seconds\n",
      "Cgl0004I processed model has 139 rows, 120 columns (103 integer (103 of which binary)) and 434 elements\n",
      "Cbc0038I Initial state - 53 integers unsatisfied sum - 13.8138\n",
      "Cbc0038I Pass   1: suminf.    5.20000 (20) obj. 11 iterations 33\n",
      "Cbc0038I Pass   2: suminf.    2.20000 (10) obj. 12 iterations 28\n",
      "Cbc0038I Pass   3: suminf.    2.00000 (10) obj. 12 iterations 5\n",
      "Cbc0038I Pass   4: suminf.    1.60000 (8) obj. 12 iterations 16\n",
      "Cbc0038I Pass   5: suminf.    1.40000 (8) obj. 12 iterations 4\n",
      "Cbc0038I Pass   6: suminf.    2.20000 (8) obj. 12 iterations 9\n",
      "Cbc0038I Pass   7: suminf.    1.80000 (8) obj. 12 iterations 5\n",
      "Cbc0038I Pass   8: suminf.    1.20000 (6) obj. 14 iterations 14\n",
      "Cbc0038I Pass   9: suminf.    0.80000 (4) obj. 14 iterations 8\n",
      "Cbc0038I Pass  10: suminf.    0.80000 (4) obj. 14 iterations 6\n",
      "Cbc0038I Pass  11: suminf.    3.60000 (14) obj. 18 iterations 38\n",
      "Cbc0038I Pass  12: suminf.    2.80000 (12) obj. 19 iterations 14\n",
      "Cbc0038I Pass  13: suminf.    1.00000 (4) obj. 20 iterations 15\n",
      "Cbc0038I Pass  14: suminf.    0.40000 (2) obj. 20 iterations 6\n",
      "Cbc0038I Pass  15: suminf.    0.40000 (2) obj. 20 iterations 5\n",
      "Cbc0038I Pass  16: suminf.    4.37654 (21) obj. 13 iterations 62\n",
      "Cbc0038I Pass  17: suminf.    3.11232 (15) obj. 15 iterations 20\n",
      "Cbc0038I Pass  18: suminf.    1.72315 (7) obj. 16 iterations 23\n",
      "Cbc0038I Pass  19: suminf.    0.20000 (2) obj. 19 iterations 8\n",
      "Cbc0038I Pass  20: suminf.    0.35714 (1) obj. 16 iterations 4\n",
      "Cbc0038I Solution found of 16\n",
      "Cbc0038I Relaxing continuous gives 16\n",
      "Cbc0038I Before mini branch and bound, 24 integers at bound fixed and 0 continuous\n",
      "Cbc0038I Full problem 139 rows 120 columns, reduced to 110 rows 91 columns - 5 fixed gives 97, 78 - ok now\n",
      "Cbc0038I Full problem 139 rows 120 columns, reduced to 94 rows 75 columns\n",
      "Cbc0038I Mini branch and bound improved solution from 16 to 12 (0.04 seconds)\n",
      "Cbc0038I Round again with cutoff of 11.2\n",
      "Cbc0038I Pass  21: suminf.    5.20000 (20) obj. 11 iterations 0\n",
      "Cbc0038I Pass  22: suminf.    3.00000 (16) obj. 11 iterations 13\n",
      "Cbc0038I Pass  23: suminf.    1.62759 (9) obj. 11.2 iterations 22\n",
      "Cbc0038I Pass  24: suminf.    1.62759 (9) obj. 11.2 iterations 6\n",
      "Cbc0038I Pass  25: suminf.    1.60000 (8) obj. 11.2 iterations 18\n",
      "Cbc0038I Pass  26: suminf.    1.40000 (6) obj. 11.2 iterations 14\n",
      "Cbc0038I Pass  27: suminf.    1.40000 (6) obj. 11.2 iterations 8\n",
      "Cbc0038I Pass  28: suminf.    5.01376 (20) obj. 11.2 iterations 29\n",
      "Cbc0038I Pass  29: suminf.    2.93005 (11) obj. 11.2 iterations 14\n",
      "Cbc0038I Pass  30: suminf.    2.93005 (11) obj. 11.2 iterations 0\n",
      "Cbc0038I Pass  31: suminf.    1.79310 (9) obj. 11.2 iterations 17\n",
      "Cbc0038I Pass  32: suminf.    1.70246 (7) obj. 11.2 iterations 15\n",
      "Cbc0038I Pass  33: suminf.    1.60000 (6) obj. 11.2 iterations 12\n",
      "Cbc0038I Pass  34: suminf.    1.57143 (6) obj. 11.2 iterations 9\n",
      "Cbc0038I Pass  35: suminf.    4.91073 (21) obj. 11.2 iterations 28\n",
      "Cbc0038I Pass  36: suminf.    3.20172 (16) obj. 11.2 iterations 22\n",
      "Cbc0038I Pass  37: suminf.    2.72241 (14) obj. 11.2 iterations 2\n",
      "Cbc0038I Pass  38: suminf.    2.44261 (14) obj. 11.2 iterations 16\n",
      "Cbc0038I Pass  39: suminf.    2.82044 (18) obj. 11.2 iterations 28\n",
      "Cbc0038I Pass  40: suminf.    3.37586 (13) obj. 11.2 iterations 26\n",
      "Cbc0038I Pass  41: suminf.    2.76921 (13) obj. 11.2 iterations 5\n",
      "Cbc0038I Pass  42: suminf.    3.14058 (17) obj. 11.2 iterations 20\n",
      "Cbc0038I Pass  43: suminf.    2.14058 (15) obj. 11.2 iterations 5\n",
      "Cbc0038I Pass  44: suminf.    1.94975 (13) obj. 11.2 iterations 15\n",
      "Cbc0038I Pass  45: suminf.    1.16552 (7) obj. 11.2 iterations 16\n",
      "Cbc0038I Pass  46: suminf.    2.03793 (9) obj. 11.2 iterations 11\n",
      "Cbc0038I Pass  47: suminf.    2.03793 (9) obj. 11.2 iterations 0\n",
      "Cbc0038I Pass  48: suminf.    1.35862 (9) obj. 11.2 iterations 13\n",
      "Cbc0038I Pass  49: suminf.    1.16552 (9) obj. 11.2 iterations 2\n",
      "Cbc0038I Pass  50: suminf.    1.68769 (9) obj. 11.2 iterations 9\n",
      "Cbc0038I No solution found this major pass\n",
      "Cbc0038I Before mini branch and bound, 22 integers at bound fixed and 0 continuous\n",
      "Cbc0038I Full problem 139 rows 120 columns, reduced to 112 rows 93 columns - 11 fixed gives 74, 56 - ok now\n",
      "Cbc0038I Mini branch and bound did not improve solution (0.05 seconds)\n",
      "Cbc0038I After 0.05 seconds - Feasibility pump exiting with objective of 12 - took 0.05 seconds\n",
      "Cbc0012I Integer solution of 12 found by feasibility pump after 0 iterations and 0 nodes (0.05 seconds)\n",
      "Cbc0038I Full problem 139 rows 120 columns, reduced to 85 rows 66 columns\n",
      "Cbc0031I 48 added rows had average density of 4.2916667\n",
      "Cbc0013I At root node, 48 cuts changed objective from 4 to 9.699223 in 55 passes\n",
      "Cbc0014I Cut generator 0 (Probing) - 1733 row cuts average 3.7 elements, 0 column cuts (21 active)  in 0.018 seconds - new frequency is 1\n",
      "Cbc0014I Cut generator 1 (Gomory) - 531 row cuts average 22.5 elements, 0 column cuts (0 active)  in 0.008 seconds - new frequency is 1\n",
      "Cbc0014I Cut generator 2 (Knapsack) - 1 row cuts average 3.0 elements, 0 column cuts (0 active)  in 0.005 seconds - new frequency is -100\n",
      "Cbc0014I Cut generator 3 (Clique) - 0 row cuts average 0.0 elements, 0 column cuts (0 active)  in 0.001 seconds - new frequency is -100\n",
      "Cbc0014I Cut generator 4 (MixedIntegerRounding2) - 309 row cuts average 2.5 elements, 0 column cuts (0 active)  in 0.005 seconds - new frequency is 1\n",
      "Cbc0014I Cut generator 5 (FlowCover) - 9 row cuts average 2.0 elements, 0 column cuts (0 active)  in 0.007 seconds - new frequency is -100\n",
      "Cbc0014I Cut generator 6 (TwoMirCuts) - 416 row cuts average 11.8 elements, 0 column cuts (0 active)  in 0.007 seconds - new frequency is 1\n",
      "Cbc0010I After 0 nodes, 1 on tree, 12 best solution, best possible 9.699223 (0.18 seconds)\n",
      "Cbc0038I Full problem 139 rows 120 columns, reduced to 65 rows 46 columns\n",
      "Cbc0038I Full problem 139 rows 120 columns, reduced to 82 rows 63 columns\n",
      "Cbc0038I Full problem 139 rows 120 columns, reduced to 78 rows 59 columns\n",
      "Cbc0004I Integer solution of 11 found after 10939 iterations and 261 nodes (0.45 seconds)\n",
      "Cbc0001I Search completed - best objective 11, took 11062 iterations and 267 nodes (0.45 seconds)\n",
      "Cbc0032I Strong branching done 2076 times (15344 iterations), fathomed 12 nodes and fixed 38 variables\n",
      "Cbc0035I Maximum depth 23, 2 variables fixed on reduced cost\n",
      "Cuts at root node changed objective from 4 to 9.69922\n",
      "Probing was tried 339 times and created 5383 cuts of which 21 were active after adding rounds of cuts (0.044 seconds)\n",
      "Gomory was tried 244 times and created 1243 cuts of which 0 were active after adding rounds of cuts (0.019 seconds)\n",
      "Knapsack was tried 55 times and created 1 cuts of which 0 were active after adding rounds of cuts (0.005 seconds)\n",
      "Clique was tried 55 times and created 0 cuts of which 0 were active after adding rounds of cuts (0.001 seconds)\n",
      "MixedIntegerRounding2 was tried 244 times and created 751 cuts of which 0 were active after adding rounds of cuts (0.014 seconds)\n",
      "FlowCover was tried 55 times and created 9 cuts of which 0 were active after adding rounds of cuts (0.007 seconds)\n",
      "TwoMirCuts was tried 244 times and created 775 cuts of which 0 were active after adding rounds of cuts (0.017 seconds)\n",
      "ZeroHalf was tried 1 times and created 0 cuts of which 0 were active after adding rounds of cuts (0.000 seconds)\n",
      "ImplicationCuts was tried 38 times and created 54 cuts of which 0 were active after adding rounds of cuts (0.000 seconds)\n",
      "\n",
      "Result - Optimal solution found\n",
      "\n",
      "Objective value:                11.00000000\n",
      "Enumerated nodes:               267\n",
      "Total iterations:               11062\n",
      "Time (CPU seconds):             0.46\n",
      "Time (Wallclock seconds):       0.53\n",
      "\n",
      "Total time (CPU seconds):       0.46   (Wallclock seconds):       0.53\n",
      "\n",
      "Rectangle 0: (7.0, 7.0)\n",
      "Rectangle 1: (4.0, 0.0)\n",
      "Rectangle 2: (2.0, 0.0)\n",
      "Rectangle 3: (0.0, 0.0)\n",
      "Rectangle 4: (0.0, 2.0)\n",
      "Rectangle 5: (0.0, 5.0)\n",
      "Rectangle 6: (7.0, 0.0)\n",
      "Rectangle 7: (3.0, 3.0)\n",
      "total_length : Size=1, Index=None, Active=True\n",
      "    Key  : Active : Value\n",
      "    None :   True :  11.0\n"
     ]
    }
   ],
   "source": [
    "# Solve and print the solution\n",
    "SolverFactory(milp_solver).solve(model, tee=True)\n",
    "for i in model.rectangles:\n",
    "    print(\"Rectangle %s: (%s, %s)\" % (i, value(model.x[i]), value(model.y[i])))\n",
    "model.total_length.display()"
   ]
  },
  {
   "attachments": {},
   "cell_type": "markdown",
   "metadata": {
    "id": "6nbUb0SkGwh_"
   },
   "source": [
    "### Transform and Solve with Convex Hull Relaxation"
   ]
  },
  {
   "attachments": {},
   "cell_type": "markdown",
   "metadata": {
    "id": "goXwK2iXGwh_"
   },
   "source": [
    "We will repeat the procedure above using Convex Hull Relaxation."
   ]
  },
  {
   "attachments": {},
   "cell_type": "markdown",
   "metadata": {
    "id": "0ExVFVrIEELf"
   },
   "source": [
    "### Convex Hull Implementation in Pyomo"
   ]
  },
  {
   "cell_type": "code",
   "execution_count": 7,
   "metadata": {
    "colab": {
     "base_uri": "https://localhost:8080/"
    },
    "id": "wp1JWlKoGwh_",
    "outputId": "f7e8bdbf-e210-4353-f538-2aa785bd0a2f"
   },
   "outputs": [
    {
     "name": "stdout",
     "output_type": "stream",
     "text": [
      "Welcome to the CBC MILP Solver \n",
      "Version: 2.10.10 \n",
      "Build Date: Jun  7 2023 \n",
      "\n",
      "command line - /Users/adowling/.idaes/bin/cbc -printingOptions all -import /var/folders/3w/vr4xmyqs451dg23xk88pqcg00000gq/T/tmplx9dkbbu.pyomo.lp -stat=1 -solve -solu /var/folders/3w/vr4xmyqs451dg23xk88pqcg00000gq/T/tmplx9dkbbu.pyomo.soln (default strategy 1)\n",
      "Option for printingOptions changed from normal to all\n",
      "Presolve 484 (-112) rows, 353 (-112) columns and 1696 (0) elements\n",
      "Statistics for presolved model\n",
      "Original problem has 112 integers (112 of which binary)\n",
      "Presolved problem has 112 integers (112 of which binary)\n",
      "==== 352 zero objective 2 different\n",
      "352 variables have objective of 0\n",
      "1 variables have objective of 1\n",
      "==== absolute objective values 2 different\n",
      "352 variables have objective of 0\n",
      "1 variables have objective of 1\n",
      "==== for integers 112 zero objective 1 different\n",
      "112 variables have objective of 0\n",
      "==== for integers absolute objective values 1 different\n",
      "112 variables have objective of 0\n",
      "===== end objective counts\n",
      "\n",
      "\n",
      "Problem has 484 rows, 353 columns (1 with objective) and 1696 elements\n",
      "Column breakdown:\n",
      "1 of type 0.0->inf, 240 of type 0.0->up, 0 of type lo->inf, \n",
      "0 of type lo->up, 0 of type free, 0 of type fixed, \n",
      "0 of type -inf->0.0, 0 of type -inf->up, 112 of type 0.0->1.0 \n",
      "Row breakdown:\n",
      "0 of type E 0.0, 28 of type E 1.0, 0 of type E -1.0, \n",
      "0 of type E other, 0 of type G 0.0, 0 of type G 1.0, \n",
      "0 of type G other, 336 of type L 0.0, 0 of type L 1.0, \n",
      "120 of type L other, 0 of type Range 0.0->1.0, 0 of type Range other, \n",
      "0 of type Free \n",
      "Continuous objective value is 6 - 0.00 seconds\n",
      "Cgl0003I 0 fixed, 0 tightened bounds, 21 strengthened rows, 0 substitutions\n",
      "Cgl0004I processed model has 463 rows, 332 columns (103 integer (103 of which binary)) and 1594 elements\n",
      "Cbc0038I Initial state - 57 integers unsatisfied sum - 14.153\n",
      "Cbc0038I Pass   1: suminf.    7.62993 (32) obj. 11.0857 iterations 154\n",
      "Cbc0038I Pass   2: suminf.    5.59836 (25) obj. 15.3 iterations 24\n",
      "Cbc0038I Pass   3: suminf.    5.19836 (21) obj. 15.8 iterations 2\n",
      "Cbc0038I Pass   4: suminf.    4.84663 (22) obj. 12.6207 iterations 12\n",
      "Cbc0038I Pass   5: suminf.    2.52062 (14) obj. 19.069 iterations 53\n",
      "Cbc0038I Pass   6: suminf.    2.35412 (12) obj. 15.6207 iterations 6\n",
      "Cbc0038I Pass   7: suminf.    2.02857 (11) obj. 22.5238 iterations 29\n",
      "Cbc0038I Pass   8: suminf.    1.96552 (9) obj. 23.069 iterations 4\n",
      "Cbc0038I Pass   9: suminf.    1.96552 (11) obj. 19.6207 iterations 1\n",
      "Cbc0038I Pass  10: suminf.    3.65681 (15) obj. 18.3333 iterations 28\n",
      "Cbc0038I Pass  11: suminf.    3.26348 (13) obj. 18.6207 iterations 8\n",
      "Cbc0038I Pass  12: suminf.    2.90633 (12) obj. 17.9286 iterations 9\n",
      "Cbc0038I Pass  13: suminf.    2.83218 (9) obj. 18.069 iterations 36\n",
      "Cbc0038I Pass  14: suminf.    2.73695 (9) obj. 18.069 iterations 5\n",
      "Cbc0038I Pass  15: suminf.    2.53695 (7) obj. 27 iterations 23\n",
      "Cbc0038I Pass  16: suminf.    1.73695 (9) obj. 27 iterations 10\n",
      "Cbc0038I Pass  17: suminf.    1.73695 (9) obj. 27 iterations 0\n",
      "Cbc0038I Pass  18: suminf.    3.14552 (10) obj. 27 iterations 19\n",
      "Cbc0038I Pass  19: suminf.    3.12062 (10) obj. 27 iterations 3\n",
      "Cbc0038I Pass  20: suminf.    2.23810 (8) obj. 27 iterations 29\n",
      "Cbc0038I Pass  21: suminf.    2.18367 (8) obj. 27 iterations 6\n",
      "Cbc0038I Pass  22: suminf.    2.56552 (8) obj. 27 iterations 31\n",
      "Cbc0038I Pass  23: suminf.    2.56552 (8) obj. 27 iterations 0\n",
      "Cbc0038I Pass  24: suminf.    1.16552 (5) obj. 27 iterations 25\n",
      "Cbc0038I Pass  25: suminf.    1.16552 (7) obj. 27 iterations 2\n",
      "Cbc0038I Pass  26: suminf.    2.18000 (8) obj. 27 iterations 17\n",
      "Cbc0038I Pass  27: suminf.    2.15510 (8) obj. 27 iterations 3\n",
      "Cbc0038I Pass  28: suminf.    1.66667 (6) obj. 27 iterations 25\n",
      "Cbc0038I Pass  29: suminf.    1.61224 (6) obj. 27 iterations 6\n",
      "Cbc0038I Pass  30: suminf.    1.60000 (5) obj. 27 iterations 27\n",
      "Cbc0038I No solution found this major pass\n",
      "Cbc0038I Before mini branch and bound, 36 integers at bound fixed and 114 continuous\n",
      "Cbc0038I Full problem 463 rows 332 columns, reduced to 287 rows 168 columns - too large\n",
      "Cbc0038I Mini branch and bound did not improve solution (0.02 seconds)\n",
      "Cbc0038I Full problem 464 rows 332 columns, reduced to 464 rows 332 columns - too large\n",
      "Cbc0038I After 0.03 seconds - Feasibility pump exiting - took 0.02 seconds\n",
      "Cbc0031I 24 added rows had average density of 56.416667\n",
      "Cbc0013I At root node, 24 cuts changed objective from 6 to 8 in 100 passes\n",
      "Cbc0014I Cut generator 0 (Probing) - 323 row cuts average 2.3 elements, 0 column cuts (0 active)  in 0.120 seconds - new frequency is 1\n",
      "Cbc0014I Cut generator 1 (Gomory) - 1530 row cuts average 170.6 elements, 0 column cuts (0 active)  in 0.071 seconds - new frequency is 1\n",
      "Cbc0014I Cut generator 2 (Knapsack) - 0 row cuts average 0.0 elements, 0 column cuts (0 active)  in 0.014 seconds - new frequency is -100\n",
      "Cbc0014I Cut generator 3 (Clique) - 0 row cuts average 0.0 elements, 0 column cuts (0 active)  in 0.003 seconds - new frequency is -100\n",
      "Cbc0014I Cut generator 4 (MixedIntegerRounding2) - 3 row cuts average 8.0 elements, 0 column cuts (0 active)  in 0.036 seconds - new frequency is -100\n",
      "Cbc0014I Cut generator 5 (FlowCover) - 0 row cuts average 0.0 elements, 0 column cuts (0 active)  in 0.043 seconds - new frequency is -100\n",
      "Cbc0014I Cut generator 6 (TwoMirCuts) - 291 row cuts average 67.1 elements, 0 column cuts (0 active)  in 0.026 seconds - new frequency is 1\n",
      "Cbc0010I After 0 nodes, 1 on tree, 1e+50 best solution, best possible 8 (0.82 seconds)\n",
      "Cbc0012I Integer solution of 19 found by DiveCoefficient after 10553 iterations and 5 nodes (1.16 seconds)\n",
      "Cbc0038I Full problem 463 rows 332 columns, reduced to 403 rows 253 columns - too large\n",
      "Cbc0012I Integer solution of 18 found by DiveCoefficient after 10558 iterations and 6 nodes (1.18 seconds)\n",
      "Cbc0016I Integer solution of 16 found by strong branching after 15117 iterations and 40 nodes (1.57 seconds)\n",
      "Cbc0038I Full problem 463 rows 332 columns, reduced to 279 rows 153 columns - 5 fixed gives 246, 132 - ok now\n",
      "Cbc0004I Integer solution of 12 found after 17131 iterations and 81 nodes (1.70 seconds)\n",
      "Cbc0038I Full problem 463 rows 332 columns, reduced to 205 rows 107 columns\n",
      "Cbc0038I Full problem 463 rows 332 columns, reduced to 264 rows 143 columns - 2 fixed gives 244, 130 - ok now\n",
      "Cbc0038I Full problem 463 rows 332 columns, reduced to 226 rows 127 columns\n",
      "Cbc0038I Full problem 463 rows 332 columns, reduced to 275 rows 148 columns - 1 fixed gives 272, 146 - still too large\n",
      "Cbc0038I Full problem 463 rows 332 columns, reduced to 270 rows 146 columns - too large\n",
      "Cbc0038I Full problem 463 rows 332 columns, reduced to 236 rows 127 columns\n",
      "Cbc0038I Full problem 463 rows 332 columns, reduced to 231 rows 125 columns\n",
      "Cbc0038I Full problem 463 rows 332 columns, reduced to 317 rows 182 columns - 3 fixed gives 292, 166 - still too large\n",
      "Cbc0038I Full problem 463 rows 332 columns, reduced to 288 rows 166 columns - too large\n",
      "Cbc0010I After 1000 nodes, 11 on tree, 12 best solution, best possible 8 (4.15 seconds)\n",
      "Cbc0038I Full problem 463 rows 332 columns, reduced to 304 rows 166 columns - 2 fixed gives 290, 158 - still too large\n",
      "Cbc0038I Full problem 463 rows 332 columns, reduced to 287 rows 158 columns - too large\n",
      "Cbc0038I Full problem 463 rows 332 columns, reduced to 364 rows 216 columns - 2 fixed gives 347, 203 - still too large\n",
      "Cbc0038I Full problem 463 rows 332 columns, reduced to 347 rows 203 columns - too large\n",
      "Cbc0038I Full problem 463 rows 332 columns, reduced to 372 rows 226 columns - 3 fixed gives 355, 216 - still too large\n",
      "Cbc0038I Full problem 463 rows 332 columns, reduced to 355 rows 216 columns - too large\n",
      "Cbc0038I Full problem 463 rows 332 columns, reduced to 291 rows 155 columns - 3 fixed gives 268, 138 - still too large\n",
      "Cbc0038I Full problem 463 rows 332 columns, reduced to 265 rows 138 columns - too large\n",
      "Cbc0010I After 2000 nodes, 21 on tree, 12 best solution, best possible 8 (6.05 seconds)\n",
      "Cbc0038I Full problem 463 rows 332 columns, reduced to 261 rows 138 columns - 4 fixed gives 234, 117 - ok now\n",
      "Cbc0038I Full problem 463 rows 332 columns, reduced to 219 rows 117 columns\n",
      "Cbc0010I After 3000 nodes, 14 on tree, 12 best solution, best possible 8 (7.34 seconds)\n",
      "Cbc0038I Full problem 463 rows 332 columns, reduced to 235 rows 129 columns\n",
      "Cbc0010I After 4000 nodes, 13 on tree, 12 best solution, best possible 8 (8.75 seconds)\n",
      "Cbc0038I Full problem 463 rows 332 columns, reduced to 277 rows 144 columns - 4 fixed gives 243, 124 - ok now\n",
      "Cbc0038I Full problem 463 rows 332 columns, reduced to 229 rows 124 columns\n",
      "Cbc0010I After 5000 nodes, 14 on tree, 12 best solution, best possible 8 (10.09 seconds)\n",
      "Cbc0004I Integer solution of 11 found after 285152 iterations and 5174 nodes (10.35 seconds)\n",
      "Cbc0001I Search completed - best objective 11, took 286086 iterations and 5185 nodes (10.41 seconds)\n",
      "Cbc0032I Strong branching done 3520 times (78869 iterations), fathomed 33 nodes and fixed 260 variables\n",
      "Cbc0035I Maximum depth 41, 7 variables fixed on reduced cost\n",
      "Cuts at root node changed objective from 6 to 8\n",
      "Probing was tried 5564 times and created 73868 cuts of which 0 were active after adding rounds of cuts (0.910 seconds)\n",
      "Gomory was tried 4529 times and created 25863 cuts of which 0 were active after adding rounds of cuts (0.602 seconds)\n",
      "Knapsack was tried 100 times and created 0 cuts of which 0 were active after adding rounds of cuts (0.014 seconds)\n",
      "Clique was tried 100 times and created 0 cuts of which 0 were active after adding rounds of cuts (0.003 seconds)\n",
      "MixedIntegerRounding2 was tried 100 times and created 3 cuts of which 0 were active after adding rounds of cuts (0.036 seconds)\n",
      "FlowCover was tried 100 times and created 0 cuts of which 0 were active after adding rounds of cuts (0.043 seconds)\n",
      "TwoMirCuts was tried 4529 times and created 463 cuts of which 0 were active after adding rounds of cuts (0.563 seconds)\n",
      "ZeroHalf was tried 1 times and created 0 cuts of which 0 were active after adding rounds of cuts (0.000 seconds)\n",
      "ImplicationCuts was tried 272 times and created 495 cuts of which 0 were active after adding rounds of cuts (0.002 seconds)\n",
      "\n",
      "Result - Optimal solution found\n",
      "\n",
      "Objective value:                11.00000000\n",
      "Enumerated nodes:               5185\n",
      "Total iterations:               286086\n",
      "Time (CPU seconds):             10.43\n",
      "Time (Wallclock seconds):       10.96\n",
      "\n",
      "Total time (CPU seconds):       10.43   (Wallclock seconds):       10.96\n",
      "\n",
      "Rectangle 0: (4.0, 7.0)\n",
      "Rectangle 1: (8.0, 7.0)\n",
      "Rectangle 2: (3.0, 0.0)\n",
      "Rectangle 3: (5.0, 0.0)\n",
      "Rectangle 4: (0.0, 0.0)\n",
      "Rectangle 5: (4.0, 2.0)\n",
      "Rectangle 6: (0.0, 3.0)\n",
      "Rectangle 7: (7.0, 0.0)\n",
      "total_length : Size=1, Index=None, Active=True\n",
      "    Key  : Active : Value\n",
      "    None :   True :  11.0\n"
     ]
    }
   ],
   "source": [
    "# Creating the model\n",
    "model = create_model()\n",
    "\n",
    "# Applying convex hull relaxation to the model\n",
    "# Add your solution here\n",
    "\n",
    "# Solve and print the solution\n",
    "SolverFactory(milp_solver).solve(model, tee=True)\n",
    "for i in model.rectangles:\n",
    "    print(\"Rectangle %s: (%s, %s)\" % (i, value(model.x[i]), value(model.y[i])))\n",
    "model.total_length.display()"
   ]
  },
  {
   "cell_type": "markdown",
   "metadata": {},
   "source": [
    "```{dropdown} Click to see the solution to the activity\n",
    "\n",
    "```python\n",
    "TransformationFactory('gdp.hull').apply_to(model)"
   ]
  },
  {
   "attachments": {},
   "cell_type": "markdown",
   "metadata": {
    "id": "ghz4bjwZ9mqC"
   },
   "source": [
    "## Discussion Questions"
   ]
  },
  {
   "attachments": {},
   "cell_type": "markdown",
   "metadata": {
    "id": "nclEbDboUibX"
   },
   "source": [
    "1. What is the advantage of using the decorator notation for optimization problems?\n",
    "2. How do disjunctions affect the degree of freedom analysis?\n",
    "3. Why is it necessary to make separate variables for length and width?\n",
    "4. Compare the outputs of Big-M and Convex Hull. How are they different (if at all)?"
   ]
  },
  {
   "cell_type": "markdown",
   "metadata": {},
   "source": [
    "```{dropdown} Click to see the ideas for the discussion questions\n",
    "\n",
    "1. Decorators are a more compact (less typing) way to declare components in Pyomo.\n",
    "2. Disjunctions change the number of constraints.\n",
    "3. The coordinates for length and width differ.\n",
    "4. It gives the same optimal solution, but convex hull requires more iterations (for this problem and solver)"
   ]
  }
 ],
 "metadata": {
  "colab": {
   "provenance": []
  },
  "kernelspec": {
   "display_name": "Python 3",
   "language": "python",
   "name": "python3"
  },
  "language_info": {
   "codemirror_mode": {
    "name": "ipython",
    "version": 3
   },
   "file_extension": ".py",
   "mimetype": "text/x-python",
   "name": "python",
   "nbconvert_exporter": "python",
   "pygments_lexer": "ipython3",
   "version": "3.10.14"
  }
 },
 "nbformat": 4,
 "nbformat_minor": 0
}
