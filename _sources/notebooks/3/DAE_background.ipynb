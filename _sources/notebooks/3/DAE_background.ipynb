{
 "cells": [
  {
   "attachments": {},
   "cell_type": "markdown",
   "metadata": {
    "id": "7i_jCPHpBlHC",
    "nbpages": {
     "level": 1,
     "link": "[2.4 Dynamic Optimization: Differential Algebraic Equations (DAEs)](https://ndcbe.github.io/CBE60499/02.04-DAE-modeling.html#2.4-Dynamic-Optimization:-Differential-Algebraic-Equations-(DAEs))",
     "section": "2.4 Dynamic Optimization: Differential Algebraic Equations (DAEs)"
    }
   },
   "source": [
    "# Differential Algebraic Equations (DAEs)\n",
    "**Prepared by:** Prof. Alexander Dowling, Myia Dickens (mdicken2@nd.edu, 2023), Molly Dougher (mdoughe6@nd.edu, 2023)"
   ]
  },
  {
   "cell_type": "code",
   "execution_count": 1,
   "metadata": {
    "colab": {
     "base_uri": "https://localhost:8080/"
    },
    "id": "zkXuXNSeBlHD",
    "nbpages": {
     "level": 1,
     "link": "[2.4 Dynamic Optimization: Differential Algebraic Equations (DAEs)](https://ndcbe.github.io/CBE60499/02.04-DAE-modeling.html#2.4-Dynamic-Optimization:-Differential-Algebraic-Equations-(DAEs))",
     "section": "2.4 Dynamic Optimization: Differential Algebraic Equations (DAEs)"
    },
    "outputId": "6f1f1352-4d78-44e3-d6cd-af59e12c54fc"
   },
   "outputs": [],
   "source": [
    "import sys\n",
    "if \"google.colab\" in sys.modules:\n",
    "    !wget \"https://raw.githubusercontent.com/ndcbe/optimization/main/notebooks/helper.py\"\n",
    "    !pip install casadi\n",
    "    import helper\n",
    "    helper.easy_install()\n",
    "else:\n",
    "    sys.path.insert(0, '../')\n",
    "    import helper\n",
    "helper.set_plotting_style()\n"
   ]
  },
  {
   "attachments": {},
   "cell_type": "markdown",
   "metadata": {
    "id": "lppRhPlb6U9c"
   },
   "source": [
    "## External Documentaiton for libraries used\n",
    "Pyomo.dae documentation:\n",
    "* https://pyomo.readthedocs.io/en/latest/modeling_extensions/dae.html\n",
    "\n",
    "\n",
    "CasADi (need to integrate DAEs):\n",
    "* https://web.casadi.org/get/\n",
    "* For local installation: ```pip install casadi```. Warning: installing `CasADi` with `conda` will install an \"okay\" version of Ipopt. If you really want to install `CasADi` with `conda`, you'll likely need to add `import idaes` to your notebook to load the \"good\" version of Ipopt (Linux and Windows users)."
   ]
  },
  {
   "attachments": {},
   "cell_type": "markdown",
   "metadata": {
    "id": "CL9L5UDeTiLm"
   },
   "source": [
    "## Dynamic Optimization Overview"
   ]
  },
  {
   "attachments": {},
   "cell_type": "markdown",
   "metadata": {
    "id": "Ll7C6XvXTxRR"
   },
   "source": [
    "### Introduction to Dynamic Optimization\n",
    "Dynamic systems can be found in a wide range of engineering fields and subfields. This section is meant to be an introduction to solve differentiable-algebraic equations (DAEs) with resepct to optimizing dynamic systems. To allow for uniform understanding, the examples and explanations in this notebook will focus on basic physics examples (i.e. the pendulum example) and explanations. \n",
    "\n",
    "DAEs are tpyically specified as initial value problems with initial coniditions at zero. These equations are experessed with resepct to an independent variable, $t$, and are typically autnomous, or $t$ does not explicilty appear in the equation. \n",
    "\n",
    "DAEs are tpyically of the form:\n",
    "\n",
    "\\begin{align}\n",
    "F\\left(x, \\frac{d x}{d t}, u(t), p, t\\right)=0, \\quad h(x(0))=0\n",
    "\\end{align}\n",
    "\n",
    "$x(t)$: state variables, functions of time \n",
    "\n",
    "$u(t)$: control variables, functions of time\n",
    "\n",
    "$p$: variables, independent of $t$\n",
    "\n",
    "With respect to optimizing DAEs, the equations are structured to the simpler form:\n",
    "\n",
    "\\begin{equation}\n",
    "\\frac{d z}{d t}= f(z(t), y(t), u(t), p), \\quad z(0)=z_0, \\quad\n",
    "g(z(t), y(t), u(t), p)=0\n",
    "\\end{equation}\n",
    "\n",
    "where the state variables $x(t)$ is partioned into differenetiable varibales, $z(t)$, and algebraic variables $y(t)$. It is assumed that $y(t)$ can be solved independetly from $z(t)$, $u(t)$, and $p$, which allows for the DAE to be treated as an ODE of the form: \n",
    "\n",
    "\\begin{align}\n",
    "\\frac{d z}{d t}=f(z(t), y[z(t),u(t),p], u(t), p)= \\bar f(z(t), u(t), p), \\quad z(0)=0\n",
    "\\end{align}\n",
    "\n",
    "The section, Handling Path Constraints, will explain DAE indexing and how to reduce the index of a DAE to allow it to be treated as an ODE. \n",
    "\n",
    "## General Breakdown of DAEs\n",
    "\n",
    "With resepct to constructing DAEs:\n",
    "\n",
    "\n",
    "*   $z(t)$: Differential equations are typically dervied from conservation laws.\n",
    "*   $y(t)$ : Algebraic equations are typiclaly derived from constitutive and equilbrium laws. \n",
    "*   The decision variables of the system fall under the two following variables:\n",
    " *  $u(t)$ : the control variables include manipulated variables that change over time.\n",
    " * $p$ : time-independent variables that correspond to parameteres, initial conditions, and other steady state conditions.\n",
    "\n",
    "## DAEs as Boundary Value Problems\n",
    "Because DAEs are typically initial value problems, they can also be boundary value problems (BVP), where the initial condition is replaced by bondary conditions. With respect to solving DAE optimization problems, BVP DAEs are of the form: \n",
    "\\begin{align}\n",
    "\\frac{d z}{d t}=\\hat f(z(t)), \\quad h(z(0),z[t_f;z(0)])=0\n",
    "\\end{align}\n",
    "\n",
    "In this form the solutions may be nonunique or not exist over a speficied reason; therefore, a key property is finding a locally unique solution, expressed by the theorem:\n",
    "\n",
    "\n",
    "\n",
    "> **Theorem 8.2**: Consider the BVP DAE with solution $ \\hat z(t)$. Also let $\\bar f(z(t))$ be Lipschitz continuous for all z(t) $|| z(t) - \\hat z(t) || \\leq \\epsilon$ for some $\\epsilon > 0$ and $t \\in [0, t_f]$. Then  the solution $\\hat z(t)$ is locally unique if and only if the matrix:\n",
    ">\n",
    "> \\begin{align}\n",
    "Q(t) = \\frac{\\partial h\\left(\\hat{z}(0), \\hat{z}\\left(t_f\\right)\\right)}{\\partial z(0)}+Z(t) \\frac{\\partial h\\left(\\hat{z}(0), \\hat{z}\\left(t_f\\right)\\right)}{\\partial z\\left(t_f\\right)}\n",
    "\\end{align}\n",
    "> \n",
    "> is nonsingular, where the fundamental solution matrix $Z(t) = \\frac{dz(t_f)}{dz(0)}$ is evaluated at the solution $\\hat z(t)$. \n",
    "\n",
    "Theorem 8.2 is important when designing DAE constrained optimization problems.\n",
    "\n",
    "## DAE Optimization\n",
    "Typically dynamic systems needed to be optimized over multiple periods, $l = 1,..., N_T$, in a time range, $t$. The model, states, and decisions can change during each period, $t \\in (t_{l-1}, t_l]$ , or over multiple periods. The multiperiod, dynamic optimization problem is of the form:\n",
    "\n",
    "\\begin{align}\n",
    "\\min & \\sum_{l=1}^{N_T} \\Phi^l\\left(z^l\\left(t_l\\right), y^l\\left(t_l\\right), u^l\\left(t_l\\right), p^l\\right) \\\\\n",
    "\\text { s.t. } & \\frac{d z^l}{d t}=f^l\\left(z^l(t), y^l(t), u^l(t), p^l\\right), \\quad z^l\\left(t_{l-1}\\right)=z_0^l, \\\\\n",
    "& g^l\\left(z^l(t), y^l(t), u^l(t), p^l\\right)=0, \\\\\n",
    "& u_L^l \\leq u^l(t) \\leq u_U^l, \\\\\n",
    "& p_L^l \\leq p^l \\leq p_U^l, \\\\\n",
    "& y_L^l \\leq y^l(t) \\leq y_U^l, \\\\\n",
    "& z_L^l \\leq z^l(t) \\leq z_U^l, \\quad t \\in\\left(t_{l-1}, t_l\\right], l=1, \\ldots, N_T, \\\\\n",
    "& h\\left(p, z_0^1, z^1\\left(t_1\\right), z_0^2, z^2\\left(t_2\\right), \\ldots, z_0^{N_T}, z^{N_T}\\left(t_{N_T}\\right)\\right)=0\n",
    "\\end{align}\n",
    "\n",
    "In this form, it is assumed that the state variables are not continuous across periods; therefore, the last line is meant to connect the states of each period. The initial conditions and inequality constraints are represented as simple bounds in this form. \n",
    "\n",
    "Key applications of DAEs and Dynamic Optimization are as follows:\n",
    "\n",
    "* Chemical Reactor Design\n",
    "* Parameter Estimation of a Dynamic System\n",
    "* Batch Process Estimation\n",
    "* Dynamic Real-Time Optimization\n",
    "\n",
    "A desciption and further explanation of these applications can be found in Chapter 8 of the Biegler (2010) textbook."
   ]
  },
  {
   "attachments": {},
   "cell_type": "markdown",
   "metadata": {
    "id": "RDf4icFqUYNe"
   },
   "source": [
    "## Handling Path Constraints\n",
    "*Information taken from Section 8.4 of Biegler (2010).*\n",
    "\n"
   ]
  },
  {
   "attachments": {},
   "cell_type": "markdown",
   "metadata": {
    "id": "mBpYfYeSCQIy"
   },
   "source": [
    "The motivation for defining the *index* of a DAE system starts with considering the general algebraic equality constraint $g_E(z,y,u,p)=0$. After the algebraic and control variables are established, deriving the Euler-Lagrange equations requires variable and equation nesting. In order to be nested, the algebraic variables must be able to be implicitly emliminated from their paired algebraic equation. If $y(t)$ cannot be implicitly eliminated from this algebraic equality, reformulation is needed. This reformulation  begins with establishing an index of a DAE system."
   ]
  },
  {
   "attachments": {},
   "cell_type": "markdown",
   "metadata": {
    "id": "PqMDqCWYCnqP"
   },
   "source": [
    "### DAE Index and Index Reduction\n",
    "> **Definition 8.6**: Consider the DAE systems of the form: \n",
    "> \n",
    "> \\begin{align}\n",
    "F\\left(x, \\frac{d x}{d t}, u(t), p, t\\right)=0, \\quad h(x(0))=0\n",
    "\\end{align}\n",
    "> \n",
    "> OR \n",
    "> \n",
    "> \\begin{equation}\n",
    "\\frac{d z}{d t}= f(z(t), y(t), u(t), p), \\quad z(0)=z_0, \\quad\n",
    "g(z(t), y(t), u(t), p)=0\n",
    "\\end{equation}\n",
    "> \n",
    "> with decisions $u(t$) and $p$ fixed. The index is the integer $s$ that represents the minimum number of differentiations of the DAE system (with no respect to time) required to determine an ODE for the variables $z(t)$ and $y(t)$.\n",
    "\n",
    "Generally, for semiexplicit systems, the index of a DAE system can be determined by first differentiating the algebraic equations and then substituting resulting differential terms into the respective differential equation. Recall the number of differentiations required to isolate an ODE system corresponds to the index.\n",
    "\n",
    "As the goal is usually to isolate a DAE of index 1, the following algorithm describes the typical procedure to reduce the index of a DAE system.\n",
    "\n",
    "> **Algorithm 8.1**: (Reduction of High Index DAEs)\n",
    "Start with a DAE of the form:\n",
    "> \n",
    "> \\begin{equation}\n",
    "\\frac{d z}{d t}= f(z(t), y(t), u(t), p), \\quad z(0)=z_0, \\quad g(z(t), y(t), u(t), p)=0.\n",
    "\\end{equation}\n",
    "> \n",
    "> 1. Check if the DAE system is index 1. If yes, stop.\n",
    "> 2. Identify a subset of algebraic equations that can be solved for a subset of algebraic variables.\n",
    "> 3. Consider the remaining algebraic equations that contain differential variables $z_j$. Differentiating these remaining algebraic equations with respect to time leads to terms $\\frac{dz_j}{dt}$ in the differentiated equations.\n",
    "> 4. For the differential terms $\\frac{dz_j}{dt}$, substitute the right-hand sides of the corresponding differential equations $f_j(z,y,u,p)$ into the differentiated algebraic equations, and eliminate (some of) these differential equations. This leads to new algebraic equations that replace the same number of existing differential equations.\n",
    "> 5. With this new DAE system, go to step 1.\n",
    "\n",
    "An example of this algorithm in use can be found within the following pendulum example."
   ]
  },
  {
   "cell_type": "markdown",
   "metadata": {},
   "source": [
    "### Pendulum model and index reduction\n",
    "Pendulum example:\n",
    "* Python version of example: http://apmonitor.com/wiki/index.php/Apps/PendulumMotion\n",
    "* More details on index reduction for example: https://www.lehigh.edu/~wes1/apci/11may00.pdf"
   ]
  },
  {
   "cell_type": "markdown",
   "metadata": {},
   "source": [
    "```{tikz}\n",
    "\\begin{tikzpicture}\n",
    "\n",
    "% Drawing the pivot point\n",
    "\\filldraw[black] (-1, 3) ellipse (0.1cm and 0.1cm);\n",
    "\n",
    "% Drawing the pendulum arm\n",
    "\\draw[thick] (-1, 3) -- (2, -2) ;\n",
    "\n",
    "\\node at (1.05,1) {\\Large $L = 1$} ;\n",
    "\n",
    "% Coordinate axes at the bob's position\n",
    "\\draw[->, thick] (2, -2) -- (0, -2) node[left] {\\Large $x$};\n",
    "\\draw[->, thick] (2, -2) -- (2, -4) node[below] {\\Large $y$};\n",
    "\n",
    "% Drawing the mass (bob) at the end of the pendulum\n",
    "\\filldraw[blue] (2, -2) circle (1cm);\n",
    "\n",
    "% Drawing the angle arc\n",
    "\\draw[-, dashed] (-1, 3) -- (-1, 1.5) node[right] {\\Large $\\theta$};\n",
    "\n",
    "\n",
    "\\node at (2,-2) {\\Large $m = 1$} ;\n",
    "\n",
    "\\end{tikzpicture}\n",
    "```"
   ]
  },
  {
   "attachments": {},
   "cell_type": "markdown",
   "metadata": {
    "id": "9XLQdAtHBlHG"
   },
   "source": [
    "The following DAE system describes the pendulum system:\n",
    "\n",
    "\\begin{align}\n",
    "& x' = u \\\\\n",
    "& y' = v \\\\\n",
    "& u' = -Tx \\\\\n",
    "& v' = g - Ty \\\\\n",
    "& x^2 + y^2 = 1 \\\\\n",
    "\\end{align}\n",
    "\n",
    "To find the index of the DAE system, first take the derivative of the algebraic equation and substitute in for the differential variables:\n",
    "\n",
    "\\begin{align}\n",
    "& x^2 + y^2 = 1 \\\\\n",
    "& 2xx' + 2yy' = 0 \\\\\n",
    "& 2xu + 2yv = 0\n",
    "\\end{align}\n",
    "\n",
    "Next, differentiate the obtained equation using the product rule, make similar substitutions, and rearrange:\n",
    "\n",
    "\\begin{align}\n",
    "& 2xu + 2yv = 0 \\\\\n",
    "& 2(xu'+ x'u) + 2(yv' + vy') = 0 \\\\\n",
    "& 2(-Tx^2 + u^2) + 2(y(g-Ty) + v^2) = 0 \\\\\n",
    "& 2(u^2 + v^2) + 2(-Tx^2 + gy - Ty^2) = 0 \\\\\n",
    "& 2(u^2 + v^2) - 2T(x^2 + y^2) + 2gy = 0\n",
    "\\end{align}\n",
    "\n",
    "Finally, implicitly differentiate the obtained equation, make similar substitutions, and rearrange to isolate the $T'$ term:\n",
    "\n",
    "\\begin{align}\n",
    "& 2(u^2 + v^2) - 2T(x^2 + y^2) + 2gy = 0 \\\\\n",
    "& 4(uu' + vv') - 4T(xx' + yy') - 2T'(x^2 + y^2) + 2gy' = 0 \\\\\n",
    "& 4(uu' + vv') - 4T(xx' + yy') + 2gy' = 2T'(x^2 + y^2) \\\\\n",
    "& 4(-Tux + v(g-Ty)) - 4T(xu + yv) + 2gv = 2T' \\\\\n",
    "& 4(-Tux -Tyv + gv) - 4T(xu + yv) + 2gv = 2T' \n",
    "\\end{align}\n",
    "\n",
    "Now the equations are a system of ODEs. Three differentiations were completed, indicating that this is an **Index 3 DAE**.\n",
    "\n",
    "To reduce this DAE to index 1, follow Algorithm 8.1. The above analysis shows that this is not an index 1 DAE system. Therefore, the following algebraic equation is identified: $x^2 + y^2 = 1$. Differentiate the algebraic equation to yield:\n",
    "\\begin{align}\n",
    "& 2xx' + 2yy' = 0\\\\\n",
    "\\end{align}\n",
    "which can be solved for $x'$. Substitute for $x'$ and $y'$ to yield:\n",
    "\\begin{align}\n",
    "& 2xu + 2yv = 0\\\\\n",
    "\\end{align}\n",
    "The new DAE system is now:\n",
    "\\begin{align}\n",
    "& y' = v \\\\\n",
    "& u' = -Tx \\\\\n",
    "& v' = g - Ty \\\\\n",
    "& x^2 + y^2 = 1 \\\\\n",
    "& 2xu + 2yv = 0 \\\\\n",
    "\\end{align}\n",
    "where $x$ is now an algebraic variable and the final equation must be solved for $T$. Differentiating the algebraic (last) equation leads to:\n",
    "\\begin{align}\n",
    "& 2(xu'+ x'u) + 2(yv' + vy') = 0 \\\\\n",
    "& 2(xu' + u^2) + 2(yv' + v^2) = 0 \\\\\n",
    "& 2(u^2 - Tx^2) + 2(v^2 + gy - Ty^2) = 0 \\\\\n",
    "\\end{align}\n",
    "The equations can replace $u' = -Tx$, leading to the following DAE system:\n",
    "\\begin{align}\n",
    "& y' = v \\\\\n",
    "& v' = g - Ty \\\\\n",
    "& x^2 + y^2 = 1 \\\\\n",
    "& 2xu + 2yv = 0 \\\\\n",
    "& (u^2 + v^2) - T\\underbrace{(x^2 + y^2)}_{1} + gy = 0 \\\\\n",
    "\\end{align}\n",
    "which is an **Index 1 DAE**."
   ]
  },
  {
   "cell_type": "code",
   "execution_count": 2,
   "metadata": {
    "id": "MVJ_57wPBlHG",
    "nbpages": {
     "level": 2,
     "link": "[2.4.3 DAE Formulations for Simple Pendulum Example](https://ndcbe.github.io/CBE60499/02.04-DAE-modeling.html#2.4.3-DAE-Formulations-for-Simple-Pendulum-Example)",
     "section": "2.4.3 DAE Formulations for Simple Pendulum Example"
    }
   },
   "outputs": [],
   "source": [
    "## Load libraries\n",
    "import pyomo.environ as pyo\n",
    "import pyomo.dae as dae\n",
    "from pyomo.dae.simulator import Simulator\n",
    "import matplotlib.pyplot as plt\n",
    "import numpy as np\n",
    "\n",
    "## Define function for plotting results\n",
    "def plot_results(sim, tsim, profiles):\n",
    "\n",
    "    '''\n",
    "    inputs:\n",
    "\n",
    "    sim: pyomo.DAE simulator results from a simulation of ODE or DAE\n",
    "    tsim: 1D array of time samples of the DAE/ODE simulatiion\n",
    "    profiles: 2D array of simulated differential and algebraic equations\n",
    "\n",
    "    outputs:\n",
    "\n",
    "    Plot 1: A plot of the curated profiles\n",
    "    Plot 2: A plot of the simulated results\n",
    "\n",
    "    time = list(m.t)\n",
    "    x = [value(m.x[t]) for t in m.t]\n",
    "    y = [value(m.y[t]) for t in m.t]\n",
    "\n",
    "    plt.plot(time, x, '-b', label='x')\n",
    "    plt.plot(time, y, '-r', label='y')\n",
    "    plt.xlabel('Time')\n",
    "    plt.ylabel('Position')\n",
    "    plt.legend(loc='best')\n",
    "    plt.show()\n",
    "    '''\n",
    "    \n",
    "    plt.figure(1,figsize=(4,4))\n",
    "    varorder = sim.get_variable_order()\n",
    "    algorder = sim.get_variable_order(vartype='algebraic')\n",
    "\n",
    "    # Create empty dictionary\n",
    "    results = {}\n",
    "    \n",
    "    # Collect Different Profiles\n",
    "    for idx1, v in enumerate(varorder):\n",
    "        i = idx1\n",
    "        v_ = str(v)\n",
    "        results[v_] = profiles[:, i]\n",
    "        plt.plot(tsim, results[v_], label=v)\n",
    "\n",
    "    \n",
    "    # Collect Algebraic Profiles\n",
    "    for idx2, v in enumerate(algorder):\n",
    "        i = len(varorder) + idx2\n",
    "        v_ = str(v)\n",
    "        results[v_] = profiles[:, i]\n",
    "        plt.plot(tsim, results[v_], label=v)\n",
    "    \n",
    "    # Plot the simulated algebraic and differential profiles as they change in time\n",
    "    plt.xlabel('t', fontsize=16, fontweight='bold')\n",
    "    plt.tick_params(direction=\"in\",labelsize=15)\n",
    "    plt.legend(loc='best')\n",
    "    \n",
    "    plt.show()\n",
    "    \n",
    "    # Plot the results of the simulation\n",
    "    plt.figure(2,figsize=(4,4))\n",
    "    x_ = results['x[{t}]']\n",
    "    y_ = results['y[{t}]']\n",
    "    plt.plot(tsim, np.sqrt(x_**2 + y_**2), '-b', label='length')\n",
    "    plt.xlabel('t', fontsize=16, fontweight='bold')\n",
    "    plt.tick_params(direction=\"in\",labelsize=15)\n",
    "    plt.ylabel('$\\sqrt{x^2 + y^2}$')\n",
    "    plt.show()\n",
    "    \n",
    "    #return results"
   ]
  },
  {
   "attachments": {},
   "cell_type": "markdown",
   "metadata": {
    "id": "r4sVhD8UBlHG",
    "nbpages": {
     "level": 3,
     "link": "[2.4.3.1 Formulation 1: Index-3 DAE](https://ndcbe.github.io/CBE60499/02.04-DAE-modeling.html#2.4.3.1-Formulation-1:-Index-3-DAE)",
     "section": "2.4.3.1 Formulation 1: Index-3 DAE"
    }
   },
   "source": [
    "### Formulation 1: Index-3 DAE\n",
    "\n",
    "Consider the following model:\n",
    "\n",
    "$$\\begin{align}\n",
    "\\frac{d x}{dt} &= u \\\\\n",
    "\\frac{d y}{dt} &= v \\\\\n",
    "\\frac{d u}{dt} &= -T x \\\\\n",
    "\\frac{d v}{dt} &= g - Ty \\\\\n",
    "& x^2 + y^2 = 1\n",
    "\\end{align}$$\n",
    "\n",
    "This assumes mass and length of unity."
   ]
  },
  {
   "cell_type": "code",
   "execution_count": 3,
   "metadata": {
    "colab": {
     "base_uri": "https://localhost:8080/",
     "height": 537
    },
    "id": "IEDz1uZqBlHG",
    "nbpages": {
     "level": 3,
     "link": "[2.4.3.1 Formulation 1: Index-3 DAE](https://ndcbe.github.io/CBE60499/02.04-DAE-modeling.html#2.4.3.1-Formulation-1:-Index-3-DAE)",
     "section": "2.4.3.1 Formulation 1: Index-3 DAE"
    },
    "outputId": "9e082e5d-4028-4fcc-f205-0d16e3fa6665"
   },
   "outputs": [
    {
     "name": "stderr",
     "output_type": "stream",
     "text": [
      "psetup failed: .../casadi/interfaces/sundials/idas_interface.cpp:852: Linear solve failed\n",
      "psetup failed: .../casadi/interfaces/sundials/idas_interface.cpp:852: Linear solve failed\n",
      "psetup failed: .../casadi/interfaces/sundials/idas_interface.cpp:852: Linear solve failed\n",
      "psetup failed: .../casadi/interfaces/sundials/idas_interface.cpp:852: Linear solve failed\n",
      "psetup failed: .../casadi/interfaces/sundials/idas_interface.cpp:852: Linear solve failed\n",
      "psetup failed: .../casadi/interfaces/sundials/idas_interface.cpp:852: Linear solve failed\n",
      "psetup failed: .../casadi/interfaces/sundials/idas_interface.cpp:852: Linear solve failed\n",
      "psetup failed: .../casadi/interfaces/sundials/idas_interface.cpp:852: Linear solve failed\n",
      "psetup failed: .../casadi/interfaces/sundials/idas_interface.cpp:852: Linear solve failed\n",
      "psetup failed: .../casadi/interfaces/sundials/idas_interface.cpp:852: Linear solve failed\n",
      "At t = 0 and h = 1.06624e-14, the corrector convergence failed repeatedly or with |h| = hmin.\n"
     ]
    },
    {
     "ename": "RuntimeError",
     "evalue": ".../casadi/interfaces/sundials/idas_interface.cpp:591: IDASolve returned \"IDA_CONV_FAIL\". Consult IDAS documentation.",
     "output_type": "error",
     "traceback": [
      "\u001b[0;31m---------------------------------------------------------------------------\u001b[0m",
      "\u001b[0;31mRuntimeError\u001b[0m                              Traceback (most recent call last)",
      "\u001b[0;32m/var/folders/8v/lbvy4xb128d687t1pwzl_cfh0000gp/T/ipykernel_66414/739539068.py\u001b[0m in \u001b[0;36m?\u001b[0;34m()\u001b[0m\n\u001b[1;32m     63\u001b[0m \u001b[0mint_ops\u001b[0m \u001b[0;34m=\u001b[0m \u001b[0;34m{\u001b[0m\u001b[0;34m'print_stats'\u001b[0m\u001b[0;34m:\u001b[0m\u001b[0;32mTrue\u001b[0m\u001b[0;34m,\u001b[0m\u001b[0;34m\"abstol\"\u001b[0m\u001b[0;34m:\u001b[0m\u001b[0;36m1E-8\u001b[0m\u001b[0;34m,\u001b[0m\u001b[0;34m\"reltol\"\u001b[0m\u001b[0;34m:\u001b[0m\u001b[0;36m1E-6\u001b[0m\u001b[0;34m}\u001b[0m\u001b[0;34m\u001b[0m\u001b[0;34m\u001b[0m\u001b[0m\n\u001b[1;32m     64\u001b[0m \u001b[0;34m\u001b[0m\u001b[0m\n\u001b[1;32m     65\u001b[0m \u001b[0;31m# Solve DAEs\u001b[0m\u001b[0;34m\u001b[0m\u001b[0;34m\u001b[0m\u001b[0m\n\u001b[1;32m     66\u001b[0m \u001b[0msim\u001b[0m \u001b[0;34m=\u001b[0m \u001b[0mSimulator\u001b[0m\u001b[0;34m(\u001b[0m\u001b[0mindex3\u001b[0m\u001b[0;34m,\u001b[0m \u001b[0mpackage\u001b[0m\u001b[0;34m=\u001b[0m\u001b[0;34m'casadi'\u001b[0m\u001b[0;34m)\u001b[0m\u001b[0;34m\u001b[0m\u001b[0;34m\u001b[0m\u001b[0m\n\u001b[0;32m---> 67\u001b[0;31m \u001b[0mtsim\u001b[0m\u001b[0;34m,\u001b[0m \u001b[0mprofiles\u001b[0m \u001b[0;34m=\u001b[0m \u001b[0msim\u001b[0m\u001b[0;34m.\u001b[0m\u001b[0msimulate\u001b[0m\u001b[0;34m(\u001b[0m\u001b[0mnumpoints\u001b[0m\u001b[0;34m=\u001b[0m\u001b[0;36m100\u001b[0m\u001b[0;34m,\u001b[0m \u001b[0mintegrator\u001b[0m\u001b[0;34m=\u001b[0m\u001b[0;34m'idas'\u001b[0m\u001b[0;34m,\u001b[0m\u001b[0mintegrator_options\u001b[0m\u001b[0;34m=\u001b[0m\u001b[0mint_ops\u001b[0m\u001b[0;34m)\u001b[0m\u001b[0;34m\u001b[0m\u001b[0;34m\u001b[0m\u001b[0m\n\u001b[0m\u001b[1;32m     68\u001b[0m \u001b[0;34m\u001b[0m\u001b[0m\n\u001b[1;32m     69\u001b[0m \u001b[0;31m# Plot solution\u001b[0m\u001b[0;34m\u001b[0m\u001b[0;34m\u001b[0m\u001b[0m\n\u001b[1;32m     70\u001b[0m \u001b[0mplot_results\u001b[0m\u001b[0;34m(\u001b[0m\u001b[0msim\u001b[0m\u001b[0;34m,\u001b[0m \u001b[0mtsim\u001b[0m\u001b[0;34m,\u001b[0m \u001b[0mprofiles\u001b[0m\u001b[0;34m)\u001b[0m\u001b[0;34m\u001b[0m\u001b[0;34m\u001b[0m\u001b[0m\n",
      "\u001b[0;32m~/anaconda3/envs/controls/lib/python3.10/site-packages/pyomo/dae/simulator.py\u001b[0m in \u001b[0;36m?\u001b[0;34m(self, numpoints, tstep, integrator, varying_inputs, initcon, integrator_options)\u001b[0m\n\u001b[1;32m    928\u001b[0m                 tsim, profile = self._simulate_with_casadi_with_inputs(\n\u001b[1;32m    929\u001b[0m                     \u001b[0minitcon\u001b[0m\u001b[0;34m,\u001b[0m \u001b[0mtsim\u001b[0m\u001b[0;34m,\u001b[0m \u001b[0mvarying_inputs\u001b[0m\u001b[0;34m,\u001b[0m \u001b[0mintegrator\u001b[0m\u001b[0;34m,\u001b[0m \u001b[0mintegrator_options\u001b[0m\u001b[0;34m\u001b[0m\u001b[0;34m\u001b[0m\u001b[0m\n\u001b[1;32m    930\u001b[0m                 )\n\u001b[1;32m    931\u001b[0m             \u001b[0;32melse\u001b[0m\u001b[0;34m:\u001b[0m\u001b[0;34m\u001b[0m\u001b[0;34m\u001b[0m\u001b[0m\n\u001b[0;32m--> 932\u001b[0;31m                 tsim, profile = self._simulate_with_casadi_no_inputs(\n\u001b[0m\u001b[1;32m    933\u001b[0m                     \u001b[0minitcon\u001b[0m\u001b[0;34m,\u001b[0m \u001b[0mtsim\u001b[0m\u001b[0;34m,\u001b[0m \u001b[0mintegrator\u001b[0m\u001b[0;34m,\u001b[0m \u001b[0mintegrator_options\u001b[0m\u001b[0;34m\u001b[0m\u001b[0;34m\u001b[0m\u001b[0m\n\u001b[1;32m    934\u001b[0m                 )\n\u001b[1;32m    935\u001b[0m \u001b[0;34m\u001b[0m\u001b[0m\n",
      "\u001b[0;32m~/anaconda3/envs/controls/lib/python3.10/site-packages/pyomo/dae/simulator.py\u001b[0m in \u001b[0;36m?\u001b[0;34m(self, initcon, tsim, integrator, integrator_options)\u001b[0m\n\u001b[1;32m    990\u001b[0m \u001b[0;34m\u001b[0m\u001b[0m\n\u001b[1;32m    991\u001b[0m         \u001b[0mintegrator_options\u001b[0m\u001b[0;34m[\u001b[0m\u001b[0;34m'grid'\u001b[0m\u001b[0;34m]\u001b[0m \u001b[0;34m=\u001b[0m \u001b[0mtsim\u001b[0m\u001b[0;34m\u001b[0m\u001b[0;34m\u001b[0m\u001b[0m\n\u001b[1;32m    992\u001b[0m         \u001b[0mintegrator_options\u001b[0m\u001b[0;34m[\u001b[0m\u001b[0;34m'output_t0'\u001b[0m\u001b[0;34m]\u001b[0m \u001b[0;34m=\u001b[0m \u001b[0;32mTrue\u001b[0m\u001b[0;34m\u001b[0m\u001b[0;34m\u001b[0m\u001b[0m\n\u001b[1;32m    993\u001b[0m         \u001b[0mF\u001b[0m \u001b[0;34m=\u001b[0m \u001b[0mcasadi\u001b[0m\u001b[0;34m.\u001b[0m\u001b[0mintegrator\u001b[0m\u001b[0;34m(\u001b[0m\u001b[0;34m'F'\u001b[0m\u001b[0;34m,\u001b[0m \u001b[0mintegrator\u001b[0m\u001b[0;34m,\u001b[0m \u001b[0mdae\u001b[0m\u001b[0;34m,\u001b[0m \u001b[0mintegrator_options\u001b[0m\u001b[0;34m)\u001b[0m\u001b[0;34m\u001b[0m\u001b[0;34m\u001b[0m\u001b[0m\n\u001b[0;32m--> 994\u001b[0;31m         \u001b[0msol\u001b[0m \u001b[0;34m=\u001b[0m \u001b[0mF\u001b[0m\u001b[0;34m(\u001b[0m\u001b[0mx0\u001b[0m\u001b[0;34m=\u001b[0m\u001b[0minitcon\u001b[0m\u001b[0;34m)\u001b[0m\u001b[0;34m\u001b[0m\u001b[0;34m\u001b[0m\u001b[0m\n\u001b[0m\u001b[1;32m    995\u001b[0m         \u001b[0mprofile\u001b[0m \u001b[0;34m=\u001b[0m \u001b[0msol\u001b[0m\u001b[0;34m[\u001b[0m\u001b[0;34m'xf'\u001b[0m\u001b[0;34m]\u001b[0m\u001b[0;34m.\u001b[0m\u001b[0mfull\u001b[0m\u001b[0;34m(\u001b[0m\u001b[0;34m)\u001b[0m\u001b[0;34m.\u001b[0m\u001b[0mT\u001b[0m\u001b[0;34m\u001b[0m\u001b[0;34m\u001b[0m\u001b[0m\n\u001b[1;32m    996\u001b[0m \u001b[0;34m\u001b[0m\u001b[0m\n\u001b[1;32m    997\u001b[0m         \u001b[0;32mif\u001b[0m \u001b[0mlen\u001b[0m\u001b[0;34m(\u001b[0m\u001b[0mself\u001b[0m\u001b[0;34m.\u001b[0m\u001b[0m_algvars\u001b[0m\u001b[0;34m)\u001b[0m \u001b[0;34m!=\u001b[0m \u001b[0;36m0\u001b[0m\u001b[0;34m:\u001b[0m\u001b[0;34m\u001b[0m\u001b[0;34m\u001b[0m\u001b[0m\n",
      "\u001b[0;32m~/anaconda3/envs/controls/lib/python3.10/site-packages/casadi/casadi.py\u001b[0m in \u001b[0;36m?\u001b[0;34m(self, *args, **kwargs)\u001b[0m\n\u001b[1;32m   7768\u001b[0m         \u001b[0;32melse\u001b[0m\u001b[0;34m:\u001b[0m\u001b[0;34m\u001b[0m\u001b[0;34m\u001b[0m\u001b[0m\n\u001b[1;32m   7769\u001b[0m           \u001b[0;32mreturn\u001b[0m \u001b[0mtuple\u001b[0m\u001b[0;34m(\u001b[0m\u001b[0mret\u001b[0m\u001b[0;34m)\u001b[0m\u001b[0;34m\u001b[0m\u001b[0;34m\u001b[0m\u001b[0m\n\u001b[1;32m   7770\u001b[0m       \u001b[0;32melse\u001b[0m\u001b[0;34m:\u001b[0m\u001b[0;34m\u001b[0m\u001b[0;34m\u001b[0m\u001b[0m\n\u001b[1;32m   7771\u001b[0m     \u001b[0;31m# Named inputs -> return dictionary\u001b[0m\u001b[0;34m\u001b[0m\u001b[0;34m\u001b[0m\u001b[0m\n\u001b[0;32m-> 7772\u001b[0;31m         \u001b[0;32mreturn\u001b[0m \u001b[0mself\u001b[0m\u001b[0;34m.\u001b[0m\u001b[0mcall\u001b[0m\u001b[0;34m(\u001b[0m\u001b[0mkwargs\u001b[0m\u001b[0;34m)\u001b[0m\u001b[0;34m\u001b[0m\u001b[0;34m\u001b[0m\u001b[0m\n\u001b[0m",
      "\u001b[0;32m~/anaconda3/envs/controls/lib/python3.10/site-packages/casadi/casadi.py\u001b[0m in \u001b[0;36m?\u001b[0;34m(self, *args)\u001b[0m\n\u001b[1;32m   6941\u001b[0m         \u001b[0mpre\u001b[0m\u001b[0;34m-\u001b[0m\u001b[0mCasADi\u001b[0m \u001b[0;36m3.2\u001b[0m\u001b[0;34m\u001b[0m\u001b[0;34m\u001b[0m\u001b[0m\n\u001b[1;32m   6942\u001b[0m \u001b[0;34m\u001b[0m\u001b[0m\n\u001b[1;32m   6943\u001b[0m \u001b[0;34m\u001b[0m\u001b[0m\n\u001b[1;32m   6944\u001b[0m         \"\"\"\n\u001b[0;32m-> 6945\u001b[0;31m         \u001b[0;32mreturn\u001b[0m \u001b[0m_casadi\u001b[0m\u001b[0;34m.\u001b[0m\u001b[0mFunction_call\u001b[0m\u001b[0;34m(\u001b[0m\u001b[0mself\u001b[0m\u001b[0;34m,\u001b[0m \u001b[0;34m*\u001b[0m\u001b[0margs\u001b[0m\u001b[0;34m)\u001b[0m\u001b[0;34m\u001b[0m\u001b[0;34m\u001b[0m\u001b[0m\n\u001b[0m",
      "\u001b[0;31mRuntimeError\u001b[0m: .../casadi/interfaces/sundials/idas_interface.cpp:591: IDASolve returned \"IDA_CONV_FAIL\". Consult IDAS documentation."
     ]
    }
   ],
   "source": [
    "def create_model_index3():\n",
    "    '''\n",
    "    Creates a model to define the Index 3 DAE system.\n",
    "\n",
    "    Output: the model, m\n",
    "    '''\n",
    "\n",
    "    m = pyo.ConcreteModel()\n",
    "\n",
    "    # Declare time\n",
    "    m.t = dae.ContinuousSet(bounds=(0.0, 1))\n",
    "\n",
    "    # Declare parameter - acceleration due to gravity\n",
    "    m.g = pyo.Param(initialize=9.81) # m/s^2\n",
    "\n",
    "    # Declare variables indexed over time\n",
    "    m.x = pyo.Var(m.t) # horizontal position\n",
    "    m.y = pyo.Var(m.t) # vertical position\n",
    "    m.u = pyo.Var(m.t) # horizontal velocity\n",
    "    m.v = pyo.Var(m.t) # vertical velocity\n",
    "    m.T = pyo.Var(m.t) # tension\n",
    "\n",
    "    # Declare derivative variables\n",
    "    m.dx = dae.DerivativeVar(m.x) # with respect to t is implied\n",
    "    m.dy = dae.DerivativeVar(m.y)\n",
    "    m.du = dae.DerivativeVar(m.u)\n",
    "    m.dv = dae.DerivativeVar(m.v)\n",
    "\n",
    "    # Declare differential equations\n",
    "    def _dx_eqn(m, t):\n",
    "        return m.dx[t] == m.u[t]\n",
    "    m.dx_eqn = pyo.Constraint(m.t, rule=_dx_eqn)\n",
    "\n",
    "    def _dy_eqn(m, t):\n",
    "        return m.dy[t] == m.v[t]\n",
    "    m.dy_eqn = pyo.Constraint(m.t, rule=_dy_eqn)\n",
    "\n",
    "    def _du_eqn(m, t):\n",
    "        return m.du[t] == -m.T[t]*m.x[t]\n",
    "    m.du_eqn = pyo.Constraint(m.t, rule=_du_eqn)\n",
    "\n",
    "    def _dv_eqn(m, t):\n",
    "        return m.dv[t] == m.g -m.T[t]*m.y[t]\n",
    "    m.dv_eqn = pyo.Constraint(m.t, rule=_dv_eqn)\n",
    "\n",
    "    # Declare algebraic equation\n",
    "    def _alg_eqn(m, t):\n",
    "        return m.x[t]**2 + m.y[t]**2 == 1\n",
    "    m.alg_eqn = pyo.Constraint(m.t, rule=_alg_eqn)\n",
    "\n",
    "    # Specify initial conditions\n",
    "    m.x[0] = 0\n",
    "    m.y[0] = 1\n",
    "    m.u[0] = 1\n",
    "    m.v[0] = 0\n",
    "    m.T[0] = 1 + m.g\n",
    "    \n",
    "    return m\n",
    "\n",
    "index3 = create_model_index3()\n",
    "\n",
    "# Specify integrator options\n",
    "int_ops = {'print_stats':True,\"abstol\":1E-8,\"reltol\":1E-6}\n",
    "\n",
    "# Solve DAEs\n",
    "sim = Simulator(index3, package='casadi')\n",
    "tsim, profiles = sim.simulate(numpoints=100, integrator='idas',integrator_options=int_ops)\n",
    "\n",
    "# Plot solution\n",
    "plot_results(sim, tsim, profiles)"
   ]
  },
  {
   "attachments": {},
   "cell_type": "markdown",
   "metadata": {
    "id": "hhmnrzc7BlHH",
    "nbpages": {
     "level": 3,
     "link": "[2.4.3.1 Formulation 1: Index-3 DAE](https://ndcbe.github.io/CBE60499/02.04-DAE-modeling.html#2.4.3.1-Formulation-1:-Index-3-DAE)",
     "section": "2.4.3.1 Formulation 1: Index-3 DAE"
    }
   },
   "source": [
    "**Warning**: If you run this notebook in Colab, you may get the following runtime error and your kernel may crash:\n",
    "\n",
    "![casadi-error-1](https://raw.githubusercontent.com/ndcbe/optimization/main/media/casadi-error1.png)\n",
    "\n",
    "![casadi-error-2](https://raw.githubusercontent.com/ndcbe/optimization/main/media/casadi-error2.png)"
   ]
  },
  {
   "attachments": {},
   "cell_type": "markdown",
   "metadata": {
    "id": "JN6hXqm5BlHH",
    "nbpages": {
     "level": 3,
     "link": "[2.4.3.1 Formulation 1: Index-3 DAE](https://ndcbe.github.io/CBE60499/02.04-DAE-modeling.html#2.4.3.1-Formulation-1:-Index-3-DAE)",
     "section": "2.4.3.1 Formulation 1: Index-3 DAE"
    }
   },
   "source": [
    "Why did the `IDAS` integrator in `SUNDIALS` fail? It is [only meant for index 0 or 1 DAEs](https://groups.google.com/g/casadi-users/c/E02-X6nGVFs)! Integrating high index DAEs is really hard!"
   ]
  },
  {
   "attachments": {},
   "cell_type": "markdown",
   "metadata": {
    "id": "DF_vhUU-BlHH",
    "nbpages": {
     "level": 3,
     "link": "[2.4.3.2 Formulation 2: Pure ODE Model](https://ndcbe.github.io/CBE60499/02.04-DAE-modeling.html#2.4.3.2-Formulation-2:-Pure-ODE-Model)",
     "section": "2.4.3.2 Formulation 2: Pure ODE Model"
    }
   },
   "source": [
    "### Formulation 2: Pure ODE Model/ Index-0 Example\n",
    "\n",
    "$$\\begin{align}\n",
    "\\frac{d x}{dt} &= u \\\\\n",
    "\\frac{d y}{dt} &= v \\\\\n",
    "\\frac{d u}{dt} &= -T x \\\\\n",
    "\\frac{d v}{dt} &= g - Ty \\\\\n",
    "\\frac{d T}{dt} &= 4 T (x u + y v) + 3 g v\n",
    "\\end{align}$$\n"
   ]
  },
  {
   "cell_type": "code",
   "execution_count": 4,
   "metadata": {
    "colab": {
     "base_uri": "https://localhost:8080/",
     "height": 1000
    },
    "id": "XIeeoY9YBlHH",
    "nbpages": {
     "level": 3,
     "link": "[2.4.3.2 Formulation 2: Pure ODE Model](https://ndcbe.github.io/CBE60499/02.04-DAE-modeling.html#2.4.3.2-Formulation-2:-Pure-ODE-Model)",
     "section": "2.4.3.2 Formulation 2: Pure ODE Model"
    },
    "outputId": "7dbfff0c-ebda-4901-8d28-adc087ae4575"
   },
   "outputs": [
    {
     "name": "stdout",
     "output_type": "stream",
     "text": [
      "FORWARD INTEGRATION:\n",
      "Number of steps taken by SUNDIALS: 167\n",
      "Number of calls to the user’s f function: 242\n",
      "Number of calls made to the linear solver setup function: 31\n",
      "Number of error test failures: 7\n",
      "Method order used on the last internal step: 5\n",
      "Method order to be used on the next internal step: 5\n",
      "Actual value of initial step size: 7.90569e-07\n",
      "Step size taken on the last internal step: 0.00246466\n",
      "Step size to be attempted on the next internal step: 0.00492933\n",
      "Current internal time reached: 0.00492933\n",
      "Number of nonlinear iterations performed: 240\n",
      "Number of nonlinear convergence failures: 0\n",
      "\n"
     ]
    },
    {
     "data": {
      "image/png": "[encoded data removed]",
      "text/plain": [
       "<Figure size 400x400 with 1 Axes>"
      ]
     },
     "metadata": {},
     "output_type": "display_data"
    },
    {
     "data": {
      "image/png": "[encoded data removed]",
      "text/plain": [
       "<Figure size 400x400 with 1 Axes>"
      ]
     },
     "metadata": {},
     "output_type": "display_data"
    }
   ],
   "source": [
    "def create_model_ode():\n",
    "    '''\n",
    "    Creates a model to define the Index 0 DAE system.\n",
    "\n",
    "    Output: the model, m\n",
    "    '''\n",
    "\n",
    "    m = pyo.ConcreteModel()\n",
    "\n",
    "    # Declare time\n",
    "    m.t = dae.ContinuousSet(bounds=(0.0, 5.0))\n",
    "\n",
    "    # Declare parameter - acceleration due to gravit\n",
    "    m.g = pyo.Param(initialize=9.81) # m/s^2\n",
    "\n",
    "    # Declare variables indexed over time\n",
    "    m.x = pyo.Var(m.t) # horizontal position\n",
    "    m.y = pyo.Var(m.t) # vertical position\n",
    "    m.u = pyo.Var(m.t) # horizontal velocity\n",
    "    m.v = pyo.Var(m.t) # vertical velocity\n",
    "    m.T = pyo.Var(m.t) # tension\n",
    "\n",
    "    # Declare derivative variables\n",
    "    m.dx = dae.DerivativeVar(m.x) # with respect to t is implied\n",
    "    m.dy = dae.DerivativeVar(m.y)\n",
    "    m.du = dae.DerivativeVar(m.u)\n",
    "    m.dv = dae.DerivativeVar(m.v)\n",
    "    m.dT = dae.DerivativeVar(m.T)\n",
    "\n",
    "    # Declare differential equations\n",
    "    def _dx_eqn(m, t):\n",
    "        return m.dx[t] == m.u[t]\n",
    "    m.dx_eqn = pyo.Constraint(m.t, rule=_dx_eqn)\n",
    "\n",
    "    def _dy_eqn(m, t):\n",
    "        return m.dy[t] == m.v[t]\n",
    "    m.dy_eqn = pyo.Constraint(m.t, rule=_dy_eqn)\n",
    "\n",
    "    def _du_eqn(m, t):\n",
    "        return m.du[t] == -m.T[t]*m.x[t]\n",
    "    m.du_eqn = pyo.Constraint(m.t, rule=_du_eqn)\n",
    "\n",
    "    def _dv_eqn(m, t):\n",
    "        return m.dv[t] == m.g -m.T[t]*m.y[t]\n",
    "    m.dv_eqn = pyo.Constraint(m.t, rule=_dv_eqn)\n",
    "\n",
    "    def _dT_eqn(m, t):\n",
    "        return m.dT[t] == 4*m.T[t]*(m.x[t]*m.u[t] + m.y[t]*m.v[t]) + 3*m.g*m.v[t]\n",
    "    m.dT_eqn = pyo.Constraint(m.t, rule=_dT_eqn)\n",
    "\n",
    "    # Specify initial conditions\n",
    "    m.x[0] = 0\n",
    "    m.y[0] = 1\n",
    "    m.u[0] = 1\n",
    "    m.v[0] = 0\n",
    "    m.T[0] = 1 + m.g\n",
    "    \n",
    "    return m\n",
    "\n",
    "ode = create_model_ode()\n",
    "\n",
    "# Specify integrator options\n",
    "int_ops = {'print_stats':True,\"abstol\":1E-6,\"reltol\":1E-4}\n",
    "\n",
    "# Solve DAEs\n",
    "sim = Simulator(ode, package='casadi')\n",
    "tsim, profiles = sim.simulate(numpoints=100, integrator='idas',integrator_options=int_ops)\n",
    "\n",
    "# Plot solution\n",
    "results = plot_results(sim, tsim, profiles)"
   ]
  },
  {
   "attachments": {},
   "cell_type": "markdown",
   "metadata": {
    "id": "L7OK1ufnBlHH",
    "nbpages": {
     "level": 3,
     "link": "[2.4.3.2 Formulation 2: Pure ODE Model](https://ndcbe.github.io/CBE60499/02.04-DAE-modeling.html#2.4.3.2-Formulation-2:-Pure-ODE-Model)",
     "section": "2.4.3.2 Formulation 2: Pure ODE Model"
    }
   },
   "source": [
    "**Discussion**\n",
    "* Are all of the algebraic constraints in the original formulation satisfied?"
   ]
  },
  {
   "attachments": {},
   "cell_type": "markdown",
   "metadata": {
    "id": "EIoP70vuBlHH",
    "nbpages": {
     "level": 3,
     "link": "[2.4.3.3 Formulation 3: Index-1 DAE Model](https://ndcbe.github.io/CBE60499/02.04-DAE-modeling.html#2.4.3.3-Formulation-3:-Index-1-DAE-Model)",
     "section": "2.4.3.3 Formulation 3: Index-1 DAE Model"
    }
   },
   "source": [
    "### Formulation 3: Index-1 DAE Model\n",
    "\n",
    "$$\\begin{align}\n",
    "\\frac{d y}{dt} &= v \\\\\n",
    "\\frac{d v}{dt} &= g - Ty \\\\\n",
    " & x^2 + y^2 = 1 \\\\\n",
    " & 2 x u + 2 y v = 0 \\\\\n",
    " & (u^2 + v^2) - T \\underbrace{(x^2 + y^2)}_{1} + g y = 0\n",
    "\\end{align}$$\n",
    "\n",
    "(This reformulation is NOT unique... could have written $\\frac{dx}{dt}$ and $\\frac{du}{dt}$ instead.)\n",
    "\n",
    "Consistent initial conditions:\n",
    "1. Specify $y(0)$ and $v(0)$.\n",
    "2. Solve for $x(0)$, $u(0)$, and $T(0)$"
   ]
  },
  {
   "cell_type": "code",
   "execution_count": 5,
   "metadata": {
    "colab": {
     "base_uri": "https://localhost:8080/",
     "height": 555
    },
    "id": "gETPlqsvBlHH",
    "nbpages": {
     "level": 3,
     "link": "[2.4.3.3 Formulation 3: Index-1 DAE Model](https://ndcbe.github.io/CBE60499/02.04-DAE-modeling.html#2.4.3.3-Formulation-3:-Index-1-DAE-Model)",
     "section": "2.4.3.3 Formulation 3: Index-1 DAE Model"
    },
    "outputId": "9b77b964-ecfd-463d-b623-3d31f6efc206"
   },
   "outputs": [
    {
     "name": "stdout",
     "output_type": "stream",
     "text": [
      "Constraint 1:\n",
      "0\n",
      "\n",
      "Constraint 2:\n",
      "0\n",
      "\n",
      "Constraint 3:\n",
      "0.0\n"
     ]
    },
    {
     "name": "stderr",
     "output_type": "stream",
     "text": [
      "psetup failed: .../casadi/interfaces/sundials/idas_interface.cpp:852: Linear solve failed\n",
      "psetup failed: .../casadi/interfaces/sundials/idas_interface.cpp:852: Linear solve failed\n",
      "psetup failed: .../casadi/interfaces/sundials/idas_interface.cpp:852: Linear solve failed\n",
      "psetup failed: .../casadi/interfaces/sundials/idas_interface.cpp:852: Linear solve failed\n",
      "psetup failed: .../casadi/interfaces/sundials/idas_interface.cpp:852: Linear solve failed\n",
      "The residual routine or the linear setup or solve routine had a recoverable error, but IDACalcIC was unable to recover.\n"
     ]
    },
    {
     "ename": "RuntimeError",
     "evalue": ".../casadi/interfaces/sundials/idas_interface.cpp:591: IDACalcIC returned \"IDA_NO_RECOVERY\". Consult IDAS documentation.",
     "output_type": "error",
     "traceback": [
      "\u001b[0;31m---------------------------------------------------------------------------\u001b[0m",
      "\u001b[0;31mRuntimeError\u001b[0m                              Traceback (most recent call last)",
      "\u001b[0;32m/var/folders/8v/lbvy4xb128d687t1pwzl_cfh0000gp/T/ipykernel_66414/4113190258.py\u001b[0m in \u001b[0;36m?\u001b[0;34m()\u001b[0m\n\u001b[1;32m     80\u001b[0m \u001b[0mint_ops\u001b[0m \u001b[0;34m=\u001b[0m \u001b[0;34m{\u001b[0m\u001b[0;34m'print_stats'\u001b[0m\u001b[0;34m:\u001b[0m\u001b[0;32mTrue\u001b[0m\u001b[0;34m,\u001b[0m\u001b[0;34m\"abstol\"\u001b[0m\u001b[0;34m:\u001b[0m\u001b[0;36m1E-6\u001b[0m\u001b[0;34m,\u001b[0m\u001b[0;34m\"reltol\"\u001b[0m\u001b[0;34m:\u001b[0m\u001b[0;36m1E-4\u001b[0m\u001b[0;34m}\u001b[0m\u001b[0;34m\u001b[0m\u001b[0;34m\u001b[0m\u001b[0m\n\u001b[1;32m     81\u001b[0m \u001b[0;34m\u001b[0m\u001b[0m\n\u001b[1;32m     82\u001b[0m \u001b[0;31m# Solve DAEs\u001b[0m\u001b[0;34m\u001b[0m\u001b[0;34m\u001b[0m\u001b[0m\n\u001b[1;32m     83\u001b[0m \u001b[0msim\u001b[0m \u001b[0;34m=\u001b[0m \u001b[0mSimulator\u001b[0m\u001b[0;34m(\u001b[0m\u001b[0mindex1\u001b[0m\u001b[0;34m,\u001b[0m \u001b[0mpackage\u001b[0m\u001b[0;34m=\u001b[0m\u001b[0;34m'casadi'\u001b[0m\u001b[0;34m)\u001b[0m\u001b[0;34m\u001b[0m\u001b[0;34m\u001b[0m\u001b[0m\n\u001b[0;32m---> 84\u001b[0;31m \u001b[0mtsim\u001b[0m\u001b[0;34m,\u001b[0m \u001b[0mprofiles\u001b[0m \u001b[0;34m=\u001b[0m \u001b[0msim\u001b[0m\u001b[0;34m.\u001b[0m\u001b[0msimulate\u001b[0m\u001b[0;34m(\u001b[0m\u001b[0mnumpoints\u001b[0m\u001b[0;34m=\u001b[0m\u001b[0;36m100\u001b[0m\u001b[0;34m,\u001b[0m \u001b[0mintegrator\u001b[0m\u001b[0;34m=\u001b[0m\u001b[0;34m'idas'\u001b[0m\u001b[0;34m,\u001b[0m\u001b[0mintegrator_options\u001b[0m\u001b[0;34m=\u001b[0m\u001b[0mint_ops\u001b[0m\u001b[0;34m)\u001b[0m\u001b[0;34m\u001b[0m\u001b[0;34m\u001b[0m\u001b[0m\n\u001b[0m\u001b[1;32m     85\u001b[0m \u001b[0;31m# tsim, profiles = sim.simulate(numpoints=100, integrator='collocation')\u001b[0m\u001b[0;34m\u001b[0m\u001b[0;34m\u001b[0m\u001b[0m\n",
      "\u001b[0;32m~/anaconda3/envs/controls/lib/python3.10/site-packages/pyomo/dae/simulator.py\u001b[0m in \u001b[0;36m?\u001b[0;34m(self, numpoints, tstep, integrator, varying_inputs, initcon, integrator_options)\u001b[0m\n\u001b[1;32m    928\u001b[0m                 tsim, profile = self._simulate_with_casadi_with_inputs(\n\u001b[1;32m    929\u001b[0m                     \u001b[0minitcon\u001b[0m\u001b[0;34m,\u001b[0m \u001b[0mtsim\u001b[0m\u001b[0;34m,\u001b[0m \u001b[0mvarying_inputs\u001b[0m\u001b[0;34m,\u001b[0m \u001b[0mintegrator\u001b[0m\u001b[0;34m,\u001b[0m \u001b[0mintegrator_options\u001b[0m\u001b[0;34m\u001b[0m\u001b[0;34m\u001b[0m\u001b[0m\n\u001b[1;32m    930\u001b[0m                 )\n\u001b[1;32m    931\u001b[0m             \u001b[0;32melse\u001b[0m\u001b[0;34m:\u001b[0m\u001b[0;34m\u001b[0m\u001b[0;34m\u001b[0m\u001b[0m\n\u001b[0;32m--> 932\u001b[0;31m                 tsim, profile = self._simulate_with_casadi_no_inputs(\n\u001b[0m\u001b[1;32m    933\u001b[0m                     \u001b[0minitcon\u001b[0m\u001b[0;34m,\u001b[0m \u001b[0mtsim\u001b[0m\u001b[0;34m,\u001b[0m \u001b[0mintegrator\u001b[0m\u001b[0;34m,\u001b[0m \u001b[0mintegrator_options\u001b[0m\u001b[0;34m\u001b[0m\u001b[0;34m\u001b[0m\u001b[0m\n\u001b[1;32m    934\u001b[0m                 )\n\u001b[1;32m    935\u001b[0m \u001b[0;34m\u001b[0m\u001b[0m\n",
      "\u001b[0;32m~/anaconda3/envs/controls/lib/python3.10/site-packages/pyomo/dae/simulator.py\u001b[0m in \u001b[0;36m?\u001b[0;34m(self, initcon, tsim, integrator, integrator_options)\u001b[0m\n\u001b[1;32m    990\u001b[0m \u001b[0;34m\u001b[0m\u001b[0m\n\u001b[1;32m    991\u001b[0m         \u001b[0mintegrator_options\u001b[0m\u001b[0;34m[\u001b[0m\u001b[0;34m'grid'\u001b[0m\u001b[0;34m]\u001b[0m \u001b[0;34m=\u001b[0m \u001b[0mtsim\u001b[0m\u001b[0;34m\u001b[0m\u001b[0;34m\u001b[0m\u001b[0m\n\u001b[1;32m    992\u001b[0m         \u001b[0mintegrator_options\u001b[0m\u001b[0;34m[\u001b[0m\u001b[0;34m'output_t0'\u001b[0m\u001b[0;34m]\u001b[0m \u001b[0;34m=\u001b[0m \u001b[0;32mTrue\u001b[0m\u001b[0;34m\u001b[0m\u001b[0;34m\u001b[0m\u001b[0m\n\u001b[1;32m    993\u001b[0m         \u001b[0mF\u001b[0m \u001b[0;34m=\u001b[0m \u001b[0mcasadi\u001b[0m\u001b[0;34m.\u001b[0m\u001b[0mintegrator\u001b[0m\u001b[0;34m(\u001b[0m\u001b[0;34m'F'\u001b[0m\u001b[0;34m,\u001b[0m \u001b[0mintegrator\u001b[0m\u001b[0;34m,\u001b[0m \u001b[0mdae\u001b[0m\u001b[0;34m,\u001b[0m \u001b[0mintegrator_options\u001b[0m\u001b[0;34m)\u001b[0m\u001b[0;34m\u001b[0m\u001b[0;34m\u001b[0m\u001b[0m\n\u001b[0;32m--> 994\u001b[0;31m         \u001b[0msol\u001b[0m \u001b[0;34m=\u001b[0m \u001b[0mF\u001b[0m\u001b[0;34m(\u001b[0m\u001b[0mx0\u001b[0m\u001b[0;34m=\u001b[0m\u001b[0minitcon\u001b[0m\u001b[0;34m)\u001b[0m\u001b[0;34m\u001b[0m\u001b[0;34m\u001b[0m\u001b[0m\n\u001b[0m\u001b[1;32m    995\u001b[0m         \u001b[0mprofile\u001b[0m \u001b[0;34m=\u001b[0m \u001b[0msol\u001b[0m\u001b[0;34m[\u001b[0m\u001b[0;34m'xf'\u001b[0m\u001b[0;34m]\u001b[0m\u001b[0;34m.\u001b[0m\u001b[0mfull\u001b[0m\u001b[0;34m(\u001b[0m\u001b[0;34m)\u001b[0m\u001b[0;34m.\u001b[0m\u001b[0mT\u001b[0m\u001b[0;34m\u001b[0m\u001b[0;34m\u001b[0m\u001b[0m\n\u001b[1;32m    996\u001b[0m \u001b[0;34m\u001b[0m\u001b[0m\n\u001b[1;32m    997\u001b[0m         \u001b[0;32mif\u001b[0m \u001b[0mlen\u001b[0m\u001b[0;34m(\u001b[0m\u001b[0mself\u001b[0m\u001b[0;34m.\u001b[0m\u001b[0m_algvars\u001b[0m\u001b[0;34m)\u001b[0m \u001b[0;34m!=\u001b[0m \u001b[0;36m0\u001b[0m\u001b[0;34m:\u001b[0m\u001b[0;34m\u001b[0m\u001b[0;34m\u001b[0m\u001b[0m\n",
      "\u001b[0;32m~/anaconda3/envs/controls/lib/python3.10/site-packages/casadi/casadi.py\u001b[0m in \u001b[0;36m?\u001b[0;34m(self, *args, **kwargs)\u001b[0m\n\u001b[1;32m   7768\u001b[0m         \u001b[0;32melse\u001b[0m\u001b[0;34m:\u001b[0m\u001b[0;34m\u001b[0m\u001b[0;34m\u001b[0m\u001b[0m\n\u001b[1;32m   7769\u001b[0m           \u001b[0;32mreturn\u001b[0m \u001b[0mtuple\u001b[0m\u001b[0;34m(\u001b[0m\u001b[0mret\u001b[0m\u001b[0;34m)\u001b[0m\u001b[0;34m\u001b[0m\u001b[0;34m\u001b[0m\u001b[0m\n\u001b[1;32m   7770\u001b[0m       \u001b[0;32melse\u001b[0m\u001b[0;34m:\u001b[0m\u001b[0;34m\u001b[0m\u001b[0;34m\u001b[0m\u001b[0m\n\u001b[1;32m   7771\u001b[0m     \u001b[0;31m# Named inputs -> return dictionary\u001b[0m\u001b[0;34m\u001b[0m\u001b[0;34m\u001b[0m\u001b[0m\n\u001b[0;32m-> 7772\u001b[0;31m         \u001b[0;32mreturn\u001b[0m \u001b[0mself\u001b[0m\u001b[0;34m.\u001b[0m\u001b[0mcall\u001b[0m\u001b[0;34m(\u001b[0m\u001b[0mkwargs\u001b[0m\u001b[0;34m)\u001b[0m\u001b[0;34m\u001b[0m\u001b[0;34m\u001b[0m\u001b[0m\n\u001b[0m",
      "\u001b[0;32m~/anaconda3/envs/controls/lib/python3.10/site-packages/casadi/casadi.py\u001b[0m in \u001b[0;36m?\u001b[0;34m(self, *args)\u001b[0m\n\u001b[1;32m   6941\u001b[0m         \u001b[0mpre\u001b[0m\u001b[0;34m-\u001b[0m\u001b[0mCasADi\u001b[0m \u001b[0;36m3.2\u001b[0m\u001b[0;34m\u001b[0m\u001b[0;34m\u001b[0m\u001b[0m\n\u001b[1;32m   6942\u001b[0m \u001b[0;34m\u001b[0m\u001b[0m\n\u001b[1;32m   6943\u001b[0m \u001b[0;34m\u001b[0m\u001b[0m\n\u001b[1;32m   6944\u001b[0m         \"\"\"\n\u001b[0;32m-> 6945\u001b[0;31m         \u001b[0;32mreturn\u001b[0m \u001b[0m_casadi\u001b[0m\u001b[0;34m.\u001b[0m\u001b[0mFunction_call\u001b[0m\u001b[0;34m(\u001b[0m\u001b[0mself\u001b[0m\u001b[0;34m,\u001b[0m \u001b[0;34m*\u001b[0m\u001b[0margs\u001b[0m\u001b[0;34m)\u001b[0m\u001b[0;34m\u001b[0m\u001b[0;34m\u001b[0m\u001b[0m\n\u001b[0m",
      "\u001b[0;31mRuntimeError\u001b[0m: .../casadi/interfaces/sundials/idas_interface.cpp:591: IDACalcIC returned \"IDA_NO_RECOVERY\". Consult IDAS documentation."
     ]
    }
   ],
   "source": [
    "def create_model_index1():\n",
    "    '''\n",
    "    Creates a model to define the Index 1 DAE system.\n",
    "\n",
    "    Output: the model, m\n",
    "    '''\n",
    "\n",
    "    m = pyo.ConcreteModel()\n",
    "\n",
    "    # Declare time\n",
    "    m.t = dae.ContinuousSet(bounds=(0, 5))\n",
    "\n",
    "    # Declare parameter - acceleration due to gravity\n",
    "    m.g = pyo.Param(initialize=9.81) # m/s^2\n",
    "\n",
    "    # Declare variables indexed over time\n",
    "    m.x = pyo.Var(m.t) # horizontal position\n",
    "    m.y = pyo.Var(m.t) # vertical position\n",
    "    m.u = pyo.Var(m.t) # horizontal velocity\n",
    "    m.v = pyo.Var(m.t) # vertical velocity\n",
    "    m.T = pyo.Var(m.t) # tension\n",
    "\n",
    "    # Declare derivative variables\n",
    "    m.dy = dae.DerivativeVar(m.y)\n",
    "    m.dv = dae.DerivativeVar(m.v)\n",
    "\n",
    "    # Declare differential equations\n",
    "    def _dy_eqn(m, t):\n",
    "        return m.dy[t] == m.v[t]\n",
    "    m.dy_eqn = pyo.Constraint(m.t, rule=_dy_eqn)\n",
    "\n",
    "    def _dv_eqn(m, t):\n",
    "        return m.dv[t] == m.g - m.T[t]*m.y[t]\n",
    "    m.dv_eqn = pyo.Constraint(m.t, rule=_dv_eqn)\n",
    "\n",
    "    # Declare algebraic equations\n",
    "    def _alg_eqn1(m, t):\n",
    "        return m.x[t]**2 + m.y[t]**2 == 1\n",
    "    m.alg_eqn1 = pyo.Constraint(m.t, rule=_alg_eqn1)\n",
    "\n",
    "    def _alg_eqn2(m, t):\n",
    "        return m.x[t]*m.u[t] + m.y[t]*m.v[t] == 0\n",
    "    m.alg_eqn2 = pyo.Constraint(m.t, rule=_alg_eqn2)\n",
    "\n",
    "    def _alg_eqn3(m, t):\n",
    "        return m.u[t]**2 + m.v[t]**2 - m.T[t]*(m.x[t]**2 + m.y[t]**2) + m.g*m.y[t] == 0\n",
    "    m.alg_eqn3 = pyo.Constraint(m.t, rule=_alg_eqn3)\n",
    "\n",
    "    # Specify initial conditions\n",
    "    m.x[0] = 0\n",
    "    m.y[0] = 1\n",
    "    m.u[0] = 1\n",
    "    m.v[0] = 0\n",
    "    m.T[0] = 1 + m.g\n",
    "    \n",
    "    return m\n",
    "\n",
    "def index1_check_constraints(m):\n",
    "    \"\"\" Check if the three constraints are feasible.\n",
    "    \"\"\"\n",
    "    \n",
    "    print(\"Constraint 1:\")\n",
    "    r1 = m.x[0]()**2 + m.y[0]()**2 - 1\n",
    "    print(r1)\n",
    "    \n",
    "    print(\"\\nConstraint 2:\")\n",
    "    r2 = m.x[0]()*m.u[0]() + m.y[0]()*m.v[0]()\n",
    "    print(r2)\n",
    "    \n",
    "    print(\"\\nConstraint 3:\")\n",
    "    r3 = m.u[0]()**2 + m.v[0]()**2 - m.T[0]() + m.g*m.y[0]()\n",
    "    print(r3)\n",
    "\n",
    "index1 = create_model_index1()\n",
    "\n",
    "# Check initial condition\n",
    "index1_check_constraints(index1)\n",
    "\n",
    "# Specify integrator options\n",
    "int_ops = {'print_stats':True,\"abstol\":1E-6,\"reltol\":1E-4}\n",
    "\n",
    "# Solve DAEs\n",
    "sim = Simulator(index1, package='casadi')\n",
    "tsim, profiles = sim.simulate(numpoints=100, integrator='idas',integrator_options=int_ops)\n",
    "# tsim, profiles = sim.simulate(numpoints=100, integrator='collocation')"
   ]
  },
  {
   "attachments": {},
   "cell_type": "markdown",
   "metadata": {
    "id": "FNaHYl0aBlHI",
    "nbpages": {
     "level": 3,
     "link": "[2.4.3.3 Formulation 3: Index-1 DAE Model](https://ndcbe.github.io/CBE60499/02.04-DAE-modeling.html#2.4.3.3-Formulation-3:-Index-1-DAE-Model)",
     "section": "2.4.3.3 Formulation 3: Index-1 DAE Model"
    }
   },
   "source": [
    "What happened? [Point singularity](https://sourceforge.net/p/casadi/discussion/1271244/thread/1d895c9e/) at $x=0$.\n",
    "\n",
    "Let's try $x=0.1$ as the initial point."
   ]
  },
  {
   "cell_type": "code",
   "execution_count": 6,
   "metadata": {
    "colab": {
     "base_uri": "https://localhost:8080/",
     "height": 537
    },
    "id": "yyi3Xjg8BlHI",
    "nbpages": {
     "level": 3,
     "link": "[2.4.3.3 Formulation 3: Index-1 DAE Model](https://ndcbe.github.io/CBE60499/02.04-DAE-modeling.html#2.4.3.3-Formulation-3:-Index-1-DAE-Model)",
     "section": "2.4.3.3 Formulation 3: Index-1 DAE Model"
    },
    "outputId": "17f5dcf1-c397-41a5-a54a-edf0f3d178e0"
   },
   "outputs": [
    {
     "name": "stdout",
     "output_type": "stream",
     "text": [
      "Constraint 1:\n",
      "0.010000000000000009\n",
      "\n",
      "Constraint 2:\n",
      "0.1\n",
      "\n",
      "Constraint 3:\n",
      "0.0\n"
     ]
    },
    {
     "name": "stderr",
     "output_type": "stream",
     "text": [
      "psetup failed: .../casadi/interfaces/sundials/idas_interface.cpp:852: Linear solve failed\n",
      "psetup failed: .../casadi/interfaces/sundials/idas_interface.cpp:852: Linear solve failed\n",
      "psetup failed: .../casadi/interfaces/sundials/idas_interface.cpp:852: Linear solve failed\n",
      "psetup failed: .../casadi/interfaces/sundials/idas_interface.cpp:852: Linear solve failed\n",
      "psetup failed: .../casadi/interfaces/sundials/idas_interface.cpp:852: Linear solve failed\n",
      "The residual routine or the linear setup or solve routine had a recoverable error, but IDACalcIC was unable to recover.\n"
     ]
    },
    {
     "ename": "RuntimeError",
     "evalue": ".../casadi/interfaces/sundials/idas_interface.cpp:591: IDACalcIC returned \"IDA_NO_RECOVERY\". Consult IDAS documentation.",
     "output_type": "error",
     "traceback": [
      "\u001b[0;31m---------------------------------------------------------------------------\u001b[0m",
      "\u001b[0;31mRuntimeError\u001b[0m                              Traceback (most recent call last)",
      "\u001b[0;32m/var/folders/8v/lbvy4xb128d687t1pwzl_cfh0000gp/T/ipykernel_66414/575022909.py\u001b[0m in \u001b[0;36m?\u001b[0;34m()\u001b[0m\n\u001b[1;32m     15\u001b[0m \u001b[0;31m# Solve DAEs\u001b[0m\u001b[0;34m\u001b[0m\u001b[0;34m\u001b[0m\u001b[0m\n\u001b[1;32m     16\u001b[0m \u001b[0msim\u001b[0m \u001b[0;34m=\u001b[0m \u001b[0mSimulator\u001b[0m\u001b[0;34m(\u001b[0m\u001b[0mindex1_again\u001b[0m\u001b[0;34m,\u001b[0m \u001b[0mpackage\u001b[0m\u001b[0;34m=\u001b[0m\u001b[0;34m'casadi'\u001b[0m\u001b[0;34m)\u001b[0m\u001b[0;34m\u001b[0m\u001b[0;34m\u001b[0m\u001b[0m\n\u001b[1;32m     17\u001b[0m \u001b[0;34m\u001b[0m\u001b[0m\n\u001b[1;32m     18\u001b[0m \u001b[0;31m# Simulator\u001b[0m\u001b[0;34m\u001b[0m\u001b[0;34m\u001b[0m\u001b[0m\n\u001b[0;32m---> 19\u001b[0;31m \u001b[0mtsim\u001b[0m\u001b[0;34m,\u001b[0m \u001b[0mprofiles\u001b[0m \u001b[0;34m=\u001b[0m \u001b[0msim\u001b[0m\u001b[0;34m.\u001b[0m\u001b[0msimulate\u001b[0m\u001b[0;34m(\u001b[0m\u001b[0mnumpoints\u001b[0m\u001b[0;34m=\u001b[0m\u001b[0;36m100\u001b[0m\u001b[0;34m,\u001b[0m \u001b[0mintegrator\u001b[0m\u001b[0;34m=\u001b[0m\u001b[0;34m'idas'\u001b[0m\u001b[0;34m,\u001b[0m\u001b[0mintegrator_options\u001b[0m\u001b[0;34m=\u001b[0m\u001b[0mint_ops\u001b[0m\u001b[0;34m)\u001b[0m\u001b[0;34m\u001b[0m\u001b[0;34m\u001b[0m\u001b[0m\n\u001b[0m",
      "\u001b[0;32m~/anaconda3/envs/controls/lib/python3.10/site-packages/pyomo/dae/simulator.py\u001b[0m in \u001b[0;36m?\u001b[0;34m(self, numpoints, tstep, integrator, varying_inputs, initcon, integrator_options)\u001b[0m\n\u001b[1;32m    928\u001b[0m                 tsim, profile = self._simulate_with_casadi_with_inputs(\n\u001b[1;32m    929\u001b[0m                     \u001b[0minitcon\u001b[0m\u001b[0;34m,\u001b[0m \u001b[0mtsim\u001b[0m\u001b[0;34m,\u001b[0m \u001b[0mvarying_inputs\u001b[0m\u001b[0;34m,\u001b[0m \u001b[0mintegrator\u001b[0m\u001b[0;34m,\u001b[0m \u001b[0mintegrator_options\u001b[0m\u001b[0;34m\u001b[0m\u001b[0;34m\u001b[0m\u001b[0m\n\u001b[1;32m    930\u001b[0m                 )\n\u001b[1;32m    931\u001b[0m             \u001b[0;32melse\u001b[0m\u001b[0;34m:\u001b[0m\u001b[0;34m\u001b[0m\u001b[0;34m\u001b[0m\u001b[0m\n\u001b[0;32m--> 932\u001b[0;31m                 tsim, profile = self._simulate_with_casadi_no_inputs(\n\u001b[0m\u001b[1;32m    933\u001b[0m                     \u001b[0minitcon\u001b[0m\u001b[0;34m,\u001b[0m \u001b[0mtsim\u001b[0m\u001b[0;34m,\u001b[0m \u001b[0mintegrator\u001b[0m\u001b[0;34m,\u001b[0m \u001b[0mintegrator_options\u001b[0m\u001b[0;34m\u001b[0m\u001b[0;34m\u001b[0m\u001b[0m\n\u001b[1;32m    934\u001b[0m                 )\n\u001b[1;32m    935\u001b[0m \u001b[0;34m\u001b[0m\u001b[0m\n",
      "\u001b[0;32m~/anaconda3/envs/controls/lib/python3.10/site-packages/pyomo/dae/simulator.py\u001b[0m in \u001b[0;36m?\u001b[0;34m(self, initcon, tsim, integrator, integrator_options)\u001b[0m\n\u001b[1;32m    990\u001b[0m \u001b[0;34m\u001b[0m\u001b[0m\n\u001b[1;32m    991\u001b[0m         \u001b[0mintegrator_options\u001b[0m\u001b[0;34m[\u001b[0m\u001b[0;34m'grid'\u001b[0m\u001b[0;34m]\u001b[0m \u001b[0;34m=\u001b[0m \u001b[0mtsim\u001b[0m\u001b[0;34m\u001b[0m\u001b[0;34m\u001b[0m\u001b[0m\n\u001b[1;32m    992\u001b[0m         \u001b[0mintegrator_options\u001b[0m\u001b[0;34m[\u001b[0m\u001b[0;34m'output_t0'\u001b[0m\u001b[0;34m]\u001b[0m \u001b[0;34m=\u001b[0m \u001b[0;32mTrue\u001b[0m\u001b[0;34m\u001b[0m\u001b[0;34m\u001b[0m\u001b[0m\n\u001b[1;32m    993\u001b[0m         \u001b[0mF\u001b[0m \u001b[0;34m=\u001b[0m \u001b[0mcasadi\u001b[0m\u001b[0;34m.\u001b[0m\u001b[0mintegrator\u001b[0m\u001b[0;34m(\u001b[0m\u001b[0;34m'F'\u001b[0m\u001b[0;34m,\u001b[0m \u001b[0mintegrator\u001b[0m\u001b[0;34m,\u001b[0m \u001b[0mdae\u001b[0m\u001b[0;34m,\u001b[0m \u001b[0mintegrator_options\u001b[0m\u001b[0;34m)\u001b[0m\u001b[0;34m\u001b[0m\u001b[0;34m\u001b[0m\u001b[0m\n\u001b[0;32m--> 994\u001b[0;31m         \u001b[0msol\u001b[0m \u001b[0;34m=\u001b[0m \u001b[0mF\u001b[0m\u001b[0;34m(\u001b[0m\u001b[0mx0\u001b[0m\u001b[0;34m=\u001b[0m\u001b[0minitcon\u001b[0m\u001b[0;34m)\u001b[0m\u001b[0;34m\u001b[0m\u001b[0;34m\u001b[0m\u001b[0m\n\u001b[0m\u001b[1;32m    995\u001b[0m         \u001b[0mprofile\u001b[0m \u001b[0;34m=\u001b[0m \u001b[0msol\u001b[0m\u001b[0;34m[\u001b[0m\u001b[0;34m'xf'\u001b[0m\u001b[0;34m]\u001b[0m\u001b[0;34m.\u001b[0m\u001b[0mfull\u001b[0m\u001b[0;34m(\u001b[0m\u001b[0;34m)\u001b[0m\u001b[0;34m.\u001b[0m\u001b[0mT\u001b[0m\u001b[0;34m\u001b[0m\u001b[0;34m\u001b[0m\u001b[0m\n\u001b[1;32m    996\u001b[0m \u001b[0;34m\u001b[0m\u001b[0m\n\u001b[1;32m    997\u001b[0m         \u001b[0;32mif\u001b[0m \u001b[0mlen\u001b[0m\u001b[0;34m(\u001b[0m\u001b[0mself\u001b[0m\u001b[0;34m.\u001b[0m\u001b[0m_algvars\u001b[0m\u001b[0;34m)\u001b[0m \u001b[0;34m!=\u001b[0m \u001b[0;36m0\u001b[0m\u001b[0;34m:\u001b[0m\u001b[0;34m\u001b[0m\u001b[0;34m\u001b[0m\u001b[0m\n",
      "\u001b[0;32m~/anaconda3/envs/controls/lib/python3.10/site-packages/casadi/casadi.py\u001b[0m in \u001b[0;36m?\u001b[0;34m(self, *args, **kwargs)\u001b[0m\n\u001b[1;32m   7768\u001b[0m         \u001b[0;32melse\u001b[0m\u001b[0;34m:\u001b[0m\u001b[0;34m\u001b[0m\u001b[0;34m\u001b[0m\u001b[0m\n\u001b[1;32m   7769\u001b[0m           \u001b[0;32mreturn\u001b[0m \u001b[0mtuple\u001b[0m\u001b[0;34m(\u001b[0m\u001b[0mret\u001b[0m\u001b[0;34m)\u001b[0m\u001b[0;34m\u001b[0m\u001b[0;34m\u001b[0m\u001b[0m\n\u001b[1;32m   7770\u001b[0m       \u001b[0;32melse\u001b[0m\u001b[0;34m:\u001b[0m\u001b[0;34m\u001b[0m\u001b[0;34m\u001b[0m\u001b[0m\n\u001b[1;32m   7771\u001b[0m     \u001b[0;31m# Named inputs -> return dictionary\u001b[0m\u001b[0;34m\u001b[0m\u001b[0;34m\u001b[0m\u001b[0m\n\u001b[0;32m-> 7772\u001b[0;31m         \u001b[0;32mreturn\u001b[0m \u001b[0mself\u001b[0m\u001b[0;34m.\u001b[0m\u001b[0mcall\u001b[0m\u001b[0;34m(\u001b[0m\u001b[0mkwargs\u001b[0m\u001b[0;34m)\u001b[0m\u001b[0;34m\u001b[0m\u001b[0;34m\u001b[0m\u001b[0m\n\u001b[0m",
      "\u001b[0;32m~/anaconda3/envs/controls/lib/python3.10/site-packages/casadi/casadi.py\u001b[0m in \u001b[0;36m?\u001b[0;34m(self, *args)\u001b[0m\n\u001b[1;32m   6941\u001b[0m         \u001b[0mpre\u001b[0m\u001b[0;34m-\u001b[0m\u001b[0mCasADi\u001b[0m \u001b[0;36m3.2\u001b[0m\u001b[0;34m\u001b[0m\u001b[0;34m\u001b[0m\u001b[0m\n\u001b[1;32m   6942\u001b[0m \u001b[0;34m\u001b[0m\u001b[0m\n\u001b[1;32m   6943\u001b[0m \u001b[0;34m\u001b[0m\u001b[0m\n\u001b[1;32m   6944\u001b[0m         \"\"\"\n\u001b[0;32m-> 6945\u001b[0;31m         \u001b[0;32mreturn\u001b[0m \u001b[0m_casadi\u001b[0m\u001b[0;34m.\u001b[0m\u001b[0mFunction_call\u001b[0m\u001b[0;34m(\u001b[0m\u001b[0mself\u001b[0m\u001b[0;34m,\u001b[0m \u001b[0;34m*\u001b[0m\u001b[0margs\u001b[0m\u001b[0;34m)\u001b[0m\u001b[0;34m\u001b[0m\u001b[0;34m\u001b[0m\u001b[0m\n\u001b[0m",
      "\u001b[0;31mRuntimeError\u001b[0m: .../casadi/interfaces/sundials/idas_interface.cpp:591: IDACalcIC returned \"IDA_NO_RECOVERY\". Consult IDAS documentation."
     ]
    }
   ],
   "source": [
    "index1_again = create_model_index1()\n",
    "\n",
    "# Specify alternative initial conditions\n",
    "small_number = 0.1\n",
    "\n",
    "index1_again.x[0] = small_number\n",
    "index1_again.y[0] = 1\n",
    "index1_again.u[0] = 1\n",
    "index1_again.v[0] = 0\n",
    "index1_again.T[0] = 1 + index1_again.g\n",
    "\n",
    "# Check initial condition\n",
    "index1_check_constraints(index1_again)\n",
    "\n",
    "# Solve DAEs\n",
    "sim = Simulator(index1_again, package='casadi')\n",
    "\n",
    "# Simulator\n",
    "tsim, profiles = sim.simulate(numpoints=100, integrator='idas',integrator_options=int_ops)"
   ]
  },
  {
   "attachments": {},
   "cell_type": "markdown",
   "metadata": {
    "id": "GtGdf1BSBlHI",
    "nbpages": {
     "level": 3,
     "link": "[2.4.3.3 Formulation 3: Index-1 DAE Model](https://ndcbe.github.io/CBE60499/02.04-DAE-modeling.html#2.4.3.3-Formulation-3:-Index-1-DAE-Model)",
     "section": "2.4.3.3 Formulation 3: Index-1 DAE Model"
    }
   },
   "source": [
    "Our initial point does not satisfy the algebraic constraints! We need a consistent initial point."
   ]
  },
  {
   "attachments": {},
   "cell_type": "markdown",
   "metadata": {
    "id": "ZVOeakE8BlHI",
    "nbpages": {
     "level": 3,
     "link": "[2.4.3.3 Formulation 3: Index-1 DAE Model](https://ndcbe.github.io/CBE60499/02.04-DAE-modeling.html#2.4.3.3-Formulation-3:-Index-1-DAE-Model)",
     "section": "2.4.3.3 Formulation 3: Index-1 DAE Model"
    }
   },
   "source": [
    "Given $x = \\epsilon$, solve $x^2 + y^2 = 1$ for $y$:\n",
    "\n",
    "$$ y = \\sqrt{1^2 - \\epsilon^2}$$\n",
    "\n",
    "Then, assume $u = 1$ and solve $2 x u + 2 y v = 0$ for $v$:\n",
    "\n",
    "$$v = \\frac{-x u}{y}$$\n",
    "\n",
    "Finally, we can solve $(u^2 + v^2) - T (x^2 + y^2) + g y = 0$ for $T$:\n",
    "\n",
    "$$\n",
    "T = \\frac{(u^2 + v^2) + gy}{x^2 + y^2} = \\frac{(u^2 + v^2) + gy}{1}\n",
    "$$"
   ]
  },
  {
   "cell_type": "code",
   "execution_count": 7,
   "metadata": {
    "colab": {
     "base_uri": "https://localhost:8080/",
     "height": 537
    },
    "id": "klWVZwiPBlHI",
    "nbpages": {
     "level": 3,
     "link": "[2.4.3.3 Formulation 3: Index-1 DAE Model](https://ndcbe.github.io/CBE60499/02.04-DAE-modeling.html#2.4.3.3-Formulation-3:-Index-1-DAE-Model)",
     "section": "2.4.3.3 Formulation 3: Index-1 DAE Model"
    },
    "outputId": "a8079fd1-4678-454f-97f7-2efddc900f28"
   },
   "outputs": [
    {
     "name": "stdout",
     "output_type": "stream",
     "text": [
      "Constraint 1:\n",
      "0.0\n",
      "\n",
      "Constraint 2:\n",
      "0.0\n",
      "\n",
      "Constraint 3:\n",
      "0.0\n"
     ]
    },
    {
     "name": "stderr",
     "output_type": "stream",
     "text": [
      "psetup failed: .../casadi/interfaces/sundials/idas_interface.cpp:852: Linear solve failed\n",
      "psetup failed: .../casadi/interfaces/sundials/idas_interface.cpp:852: Linear solve failed\n",
      "psetup failed: .../casadi/interfaces/sundials/idas_interface.cpp:852: Linear solve failed\n",
      "psetup failed: .../casadi/interfaces/sundials/idas_interface.cpp:852: Linear solve failed\n",
      "psetup failed: .../casadi/interfaces/sundials/idas_interface.cpp:852: Linear solve failed\n",
      "The residual routine or the linear setup or solve routine had a recoverable error, but IDACalcIC was unable to recover.\n"
     ]
    },
    {
     "ename": "RuntimeError",
     "evalue": ".../casadi/interfaces/sundials/idas_interface.cpp:591: IDACalcIC returned \"IDA_NO_RECOVERY\". Consult IDAS documentation.",
     "output_type": "error",
     "traceback": [
      "\u001b[0;31m---------------------------------------------------------------------------\u001b[0m",
      "\u001b[0;31mRuntimeError\u001b[0m                              Traceback (most recent call last)",
      "\u001b[0;32m/var/folders/8v/lbvy4xb128d687t1pwzl_cfh0000gp/T/ipykernel_66414/2451325184.py\u001b[0m in \u001b[0;36m?\u001b[0;34m()\u001b[0m\n\u001b[1;32m     20\u001b[0m int_ops2 = {'print_stats':True,\"abstol\":1E-6,\"reltol\":1E-4,\n\u001b[1;32m     21\u001b[0m             \"verbose\":False,\"calc_ic\":True}\n\u001b[1;32m     22\u001b[0m \u001b[0;34m\u001b[0m\u001b[0m\n\u001b[1;32m     23\u001b[0m \u001b[0;31m# Simulator\u001b[0m\u001b[0;34m\u001b[0m\u001b[0;34m\u001b[0m\u001b[0m\n\u001b[0;32m---> 24\u001b[0;31m \u001b[0mtsim\u001b[0m\u001b[0;34m,\u001b[0m \u001b[0mprofiles\u001b[0m \u001b[0;34m=\u001b[0m \u001b[0msim\u001b[0m\u001b[0;34m.\u001b[0m\u001b[0msimulate\u001b[0m\u001b[0;34m(\u001b[0m\u001b[0mnumpoints\u001b[0m\u001b[0;34m=\u001b[0m\u001b[0;36m20\u001b[0m\u001b[0;34m,\u001b[0m \u001b[0mintegrator\u001b[0m\u001b[0;34m=\u001b[0m\u001b[0;34m'idas'\u001b[0m\u001b[0;34m,\u001b[0m\u001b[0mintegrator_options\u001b[0m\u001b[0;34m=\u001b[0m\u001b[0mint_ops2\u001b[0m\u001b[0;34m)\u001b[0m\u001b[0;34m\u001b[0m\u001b[0;34m\u001b[0m\u001b[0m\n\u001b[0m",
      "\u001b[0;32m~/anaconda3/envs/controls/lib/python3.10/site-packages/pyomo/dae/simulator.py\u001b[0m in \u001b[0;36m?\u001b[0;34m(self, numpoints, tstep, integrator, varying_inputs, initcon, integrator_options)\u001b[0m\n\u001b[1;32m    928\u001b[0m                 tsim, profile = self._simulate_with_casadi_with_inputs(\n\u001b[1;32m    929\u001b[0m                     \u001b[0minitcon\u001b[0m\u001b[0;34m,\u001b[0m \u001b[0mtsim\u001b[0m\u001b[0;34m,\u001b[0m \u001b[0mvarying_inputs\u001b[0m\u001b[0;34m,\u001b[0m \u001b[0mintegrator\u001b[0m\u001b[0;34m,\u001b[0m \u001b[0mintegrator_options\u001b[0m\u001b[0;34m\u001b[0m\u001b[0;34m\u001b[0m\u001b[0m\n\u001b[1;32m    930\u001b[0m                 )\n\u001b[1;32m    931\u001b[0m             \u001b[0;32melse\u001b[0m\u001b[0;34m:\u001b[0m\u001b[0;34m\u001b[0m\u001b[0;34m\u001b[0m\u001b[0m\n\u001b[0;32m--> 932\u001b[0;31m                 tsim, profile = self._simulate_with_casadi_no_inputs(\n\u001b[0m\u001b[1;32m    933\u001b[0m                     \u001b[0minitcon\u001b[0m\u001b[0;34m,\u001b[0m \u001b[0mtsim\u001b[0m\u001b[0;34m,\u001b[0m \u001b[0mintegrator\u001b[0m\u001b[0;34m,\u001b[0m \u001b[0mintegrator_options\u001b[0m\u001b[0;34m\u001b[0m\u001b[0;34m\u001b[0m\u001b[0m\n\u001b[1;32m    934\u001b[0m                 )\n\u001b[1;32m    935\u001b[0m \u001b[0;34m\u001b[0m\u001b[0m\n",
      "\u001b[0;32m~/anaconda3/envs/controls/lib/python3.10/site-packages/pyomo/dae/simulator.py\u001b[0m in \u001b[0;36m?\u001b[0;34m(self, initcon, tsim, integrator, integrator_options)\u001b[0m\n\u001b[1;32m    990\u001b[0m \u001b[0;34m\u001b[0m\u001b[0m\n\u001b[1;32m    991\u001b[0m         \u001b[0mintegrator_options\u001b[0m\u001b[0;34m[\u001b[0m\u001b[0;34m'grid'\u001b[0m\u001b[0;34m]\u001b[0m \u001b[0;34m=\u001b[0m \u001b[0mtsim\u001b[0m\u001b[0;34m\u001b[0m\u001b[0;34m\u001b[0m\u001b[0m\n\u001b[1;32m    992\u001b[0m         \u001b[0mintegrator_options\u001b[0m\u001b[0;34m[\u001b[0m\u001b[0;34m'output_t0'\u001b[0m\u001b[0;34m]\u001b[0m \u001b[0;34m=\u001b[0m \u001b[0;32mTrue\u001b[0m\u001b[0;34m\u001b[0m\u001b[0;34m\u001b[0m\u001b[0m\n\u001b[1;32m    993\u001b[0m         \u001b[0mF\u001b[0m \u001b[0;34m=\u001b[0m \u001b[0mcasadi\u001b[0m\u001b[0;34m.\u001b[0m\u001b[0mintegrator\u001b[0m\u001b[0;34m(\u001b[0m\u001b[0;34m'F'\u001b[0m\u001b[0;34m,\u001b[0m \u001b[0mintegrator\u001b[0m\u001b[0;34m,\u001b[0m \u001b[0mdae\u001b[0m\u001b[0;34m,\u001b[0m \u001b[0mintegrator_options\u001b[0m\u001b[0;34m)\u001b[0m\u001b[0;34m\u001b[0m\u001b[0;34m\u001b[0m\u001b[0m\n\u001b[0;32m--> 994\u001b[0;31m         \u001b[0msol\u001b[0m \u001b[0;34m=\u001b[0m \u001b[0mF\u001b[0m\u001b[0;34m(\u001b[0m\u001b[0mx0\u001b[0m\u001b[0;34m=\u001b[0m\u001b[0minitcon\u001b[0m\u001b[0;34m)\u001b[0m\u001b[0;34m\u001b[0m\u001b[0;34m\u001b[0m\u001b[0m\n\u001b[0m\u001b[1;32m    995\u001b[0m         \u001b[0mprofile\u001b[0m \u001b[0;34m=\u001b[0m \u001b[0msol\u001b[0m\u001b[0;34m[\u001b[0m\u001b[0;34m'xf'\u001b[0m\u001b[0;34m]\u001b[0m\u001b[0;34m.\u001b[0m\u001b[0mfull\u001b[0m\u001b[0;34m(\u001b[0m\u001b[0;34m)\u001b[0m\u001b[0;34m.\u001b[0m\u001b[0mT\u001b[0m\u001b[0;34m\u001b[0m\u001b[0;34m\u001b[0m\u001b[0m\n\u001b[1;32m    996\u001b[0m \u001b[0;34m\u001b[0m\u001b[0m\n\u001b[1;32m    997\u001b[0m         \u001b[0;32mif\u001b[0m \u001b[0mlen\u001b[0m\u001b[0;34m(\u001b[0m\u001b[0mself\u001b[0m\u001b[0;34m.\u001b[0m\u001b[0m_algvars\u001b[0m\u001b[0;34m)\u001b[0m \u001b[0;34m!=\u001b[0m \u001b[0;36m0\u001b[0m\u001b[0;34m:\u001b[0m\u001b[0;34m\u001b[0m\u001b[0;34m\u001b[0m\u001b[0m\n",
      "\u001b[0;32m~/anaconda3/envs/controls/lib/python3.10/site-packages/casadi/casadi.py\u001b[0m in \u001b[0;36m?\u001b[0;34m(self, *args, **kwargs)\u001b[0m\n\u001b[1;32m   7768\u001b[0m         \u001b[0;32melse\u001b[0m\u001b[0;34m:\u001b[0m\u001b[0;34m\u001b[0m\u001b[0;34m\u001b[0m\u001b[0m\n\u001b[1;32m   7769\u001b[0m           \u001b[0;32mreturn\u001b[0m \u001b[0mtuple\u001b[0m\u001b[0;34m(\u001b[0m\u001b[0mret\u001b[0m\u001b[0;34m)\u001b[0m\u001b[0;34m\u001b[0m\u001b[0;34m\u001b[0m\u001b[0m\n\u001b[1;32m   7770\u001b[0m       \u001b[0;32melse\u001b[0m\u001b[0;34m:\u001b[0m\u001b[0;34m\u001b[0m\u001b[0;34m\u001b[0m\u001b[0m\n\u001b[1;32m   7771\u001b[0m     \u001b[0;31m# Named inputs -> return dictionary\u001b[0m\u001b[0;34m\u001b[0m\u001b[0;34m\u001b[0m\u001b[0m\n\u001b[0;32m-> 7772\u001b[0;31m         \u001b[0;32mreturn\u001b[0m \u001b[0mself\u001b[0m\u001b[0;34m.\u001b[0m\u001b[0mcall\u001b[0m\u001b[0;34m(\u001b[0m\u001b[0mkwargs\u001b[0m\u001b[0;34m)\u001b[0m\u001b[0;34m\u001b[0m\u001b[0;34m\u001b[0m\u001b[0m\n\u001b[0m",
      "\u001b[0;32m~/anaconda3/envs/controls/lib/python3.10/site-packages/casadi/casadi.py\u001b[0m in \u001b[0;36m?\u001b[0;34m(self, *args)\u001b[0m\n\u001b[1;32m   6941\u001b[0m         \u001b[0mpre\u001b[0m\u001b[0;34m-\u001b[0m\u001b[0mCasADi\u001b[0m \u001b[0;36m3.2\u001b[0m\u001b[0;34m\u001b[0m\u001b[0;34m\u001b[0m\u001b[0m\n\u001b[1;32m   6942\u001b[0m \u001b[0;34m\u001b[0m\u001b[0m\n\u001b[1;32m   6943\u001b[0m \u001b[0;34m\u001b[0m\u001b[0m\n\u001b[1;32m   6944\u001b[0m         \"\"\"\n\u001b[0;32m-> 6945\u001b[0;31m         \u001b[0;32mreturn\u001b[0m \u001b[0m_casadi\u001b[0m\u001b[0;34m.\u001b[0m\u001b[0mFunction_call\u001b[0m\u001b[0;34m(\u001b[0m\u001b[0mself\u001b[0m\u001b[0;34m,\u001b[0m \u001b[0;34m*\u001b[0m\u001b[0margs\u001b[0m\u001b[0;34m)\u001b[0m\u001b[0;34m\u001b[0m\u001b[0;34m\u001b[0m\u001b[0m\n\u001b[0m",
      "\u001b[0;31mRuntimeError\u001b[0m: .../casadi/interfaces/sundials/idas_interface.cpp:591: IDACalcIC returned \"IDA_NO_RECOVERY\". Consult IDAS documentation."
     ]
    }
   ],
   "source": [
    "index1_take_two = create_model_index1()\n",
    "\n",
    "# Specify alternative initial conditions\n",
    "small_number = 0.1\n",
    "\n",
    "index1_take_two.x[0] = small_number\n",
    "index1_take_two.y[0] = np.sqrt(1 - small_number**2)\n",
    "index1_take_two.u[0] = 1\n",
    "index1_take_two.v[0] = -index1_take_two.x[0]()*index1_take_two.u[0]()/index1_take_two.y[0]()\n",
    "index1_take_two.T[0] = (index1_take_two.u[0]()**2 + index1_take_two.v[0]()**2\n",
    "    + index1_take_two.g*index1_take_two.y[0]())\n",
    "\n",
    "# Check initial condition\n",
    "index1_check_constraints(index1_take_two)\n",
    "\n",
    "# Solve DAEs\n",
    "sim = Simulator(index1_take_two, package='casadi')\n",
    "\n",
    "# Specify integrator options\n",
    "int_ops2 = {'print_stats':True,\"abstol\":1E-6,\"reltol\":1E-4,\n",
    "            \"verbose\":False,\"calc_ic\":True}\n",
    "\n",
    "# Simulator\n",
    "tsim, profiles = sim.simulate(numpoints=20, integrator='idas',integrator_options=int_ops2)"
   ]
  },
  {
   "attachments": {},
   "cell_type": "markdown",
   "metadata": {
    "id": "t5ec78rFBlHI"
   },
   "source": [
    "Hmm, this does not make sense. Perhaps there is something subtle wrong with the model.\n",
    "\n",
    "Let's try solving the model with Ipopt after discretizing with collocation."
   ]
  },
  {
   "cell_type": "code",
   "execution_count": 8,
   "metadata": {
    "id": "lqgiN-O3BlHI"
   },
   "outputs": [],
   "source": [
    "# discretize the model\n",
    "index1_take_two.Obj = pyo.Objective(expr=1) # Add a dummy objective\n",
    "discretizer = pyo.TransformationFactory('dae.collocation')\n",
    "discretizer.apply_to(index1_take_two,nfe=15,scheme='LAGRANGE-RADAU',ncp=3)\n",
    "\n",
    "# initialize\n",
    "for t in index1_take_two.t:\n",
    "    index1_take_two.x[t] = small_number\n",
    "    index1_take_two.y[t] = np.sqrt(1 - small_number**2)\n",
    "    index1_take_two.u[t] = 1\n",
    "    index1_take_two.v[t] = -index1_take_two.x[t]()*index1_take_two.u[t]()/index1_take_two.y[t]()\n",
    "    index1_take_two.T[t] = (index1_take_two.u[t]()**2 + index1_take_two.v[t]()**2\n",
    "        + index1_take_two.g*index1_take_two.y[t]())"
   ]
  },
  {
   "cell_type": "code",
   "execution_count": 9,
   "metadata": {
    "colab": {
     "base_uri": "https://localhost:8080/",
     "height": 364
    },
    "id": "mqKA8QyiBlHI",
    "outputId": "13cc6ae7-eea4-45ca-f05b-01d087474940"
   },
   "outputs": [
    {
     "name": "stdout",
     "output_type": "stream",
     "text": [
      "Ipopt 3.13.2: max_iter=300\n",
      "\n",
      "\n",
      "******************************************************************************\n",
      "This program contains Ipopt, a library for large-scale nonlinear optimization.\n",
      " Ipopt is released as open source code under the Eclipse Public License (EPL).\n",
      "         For more information visit http://projects.coin-or.org/Ipopt\n",
      "\n",
      "This version of Ipopt was compiled from source code available at\n",
      "    https://github.com/IDAES/Ipopt as part of the Institute for the Design of\n",
      "    Advanced Energy Systems Process Systems Engineering Framework (IDAES PSE\n",
      "    Framework) Copyright (c) 2018-2019. See https://github.com/IDAES/idaes-pse.\n",
      "\n",
      "This version of Ipopt was compiled using HSL, a collection of Fortran codes\n",
      "    for large-scale scientific computation.  All technical papers, sales and\n",
      "    publicity material resulting from use of the HSL codes within IPOPT must\n",
      "    contain the following acknowledgement:\n",
      "        HSL, a collection of Fortran codes for large-scale scientific\n",
      "        computation. See http://www.hsl.rl.ac.uk.\n",
      "******************************************************************************\n",
      "\n",
      "This is Ipopt version 3.13.2, running with linear solver ma27.\n",
      "\n",
      "Number of nonzeros in equality constraint Jacobian...:     1186\n",
      "Number of nonzeros in inequality constraint Jacobian.:        0\n",
      "Number of nonzeros in Lagrangian Hessian.............:      368\n",
      "\n",
      "Total number of variables............................:      322\n",
      "                     variables with only lower bounds:        0\n",
      "                variables with lower and upper bounds:        0\n",
      "                     variables with only upper bounds:        0\n",
      "Total number of equality constraints.................:      320\n",
      "Total number of inequality constraints...............:        0\n",
      "        inequality constraints with only lower bounds:        0\n",
      "   inequality constraints with lower and upper bounds:        0\n",
      "        inequality constraints with only upper bounds:        0\n",
      "\n",
      "iter    objective    inf_pr   inf_du lg(mu)  ||d||  lg(rg) alpha_du alpha_pr  ls\n",
      "   0  1.0000000e+00 9.07e-01 0.00e+00  -1.0 0.00e+00    -  0.00e+00 0.00e+00   0\n",
      "   1  1.0000000e+00 3.29e-01 1.89e-04  -1.7 1.14e+00  -4.0 1.00e+00 1.00e+00h  1\n",
      "   2  1.0000000e+00 1.72e-01 8.57e-04  -1.7 4.16e-01  -3.6 1.00e+00 1.00e+00h  1\n",
      "   3  1.0000000e+00 1.72e-01 8.43e-04  -2.5 2.05e+02  -4.1 1.00e+00 2.44e-04h 13\n",
      "   4  1.0000000e+00 8.00e-02 3.19e-04  -2.5 3.03e-01  -3.6 1.00e+00 1.00e+00h  1\n",
      "   5  1.0000000e+00 1.50e-01 1.98e-04  -2.5 6.09e-01    -  1.00e+00 1.00e+00h  1\n",
      "   6  1.0000000e+00 3.53e-02 4.96e-05  -2.5 1.88e-01    -  1.00e+00 1.00e+00h  1\n",
      "   7  1.0000000e+00 8.82e-03 1.24e-05  -2.5 9.41e-02    -  1.00e+00 1.00e+00h  1\n",
      "   8  1.0000000e+00 2.20e-03 3.10e-06  -3.8 4.70e-02    -  1.00e+00 1.00e+00h  1\n",
      "   9  1.0000000e+00 5.51e-04 7.74e-07  -3.8 2.35e-02    -  1.00e+00 1.00e+00h  1\n",
      "iter    objective    inf_pr   inf_du lg(mu)  ||d||  lg(rg) alpha_du alpha_pr  ls\n",
      "  10  1.0000000e+00 1.38e-04 1.94e-07  -5.7 1.18e-02    -  1.00e+00 1.00e+00h  1\n",
      "  11  1.0000000e+00 3.45e-05 4.84e-08  -5.7 5.88e-03    -  1.00e+00 1.00e+00h  1\n",
      "  12  1.0000000e+00 8.61e-06 1.21e-08  -5.7 2.94e-03    -  1.00e+00 1.00e+00h  1\n",
      "  13  1.0000000e+00 2.15e-06 3.02e-09  -8.6 1.47e-03    -  1.00e+00 1.00e+00h  1\n",
      "  14  1.0000000e+00 5.38e-07 7.56e-10  -8.6 7.35e-04    -  1.00e+00 1.00e+00h  1\n",
      "  15  1.0000000e+00 1.35e-07 1.89e-10  -8.6 3.67e-04    -  1.00e+00 1.00e+00h  1\n",
      "  16  1.0000000e+00 3.36e-08 4.73e-11  -8.6 1.84e-04    -  1.00e+00 1.00e+00h  1\n",
      "  17  1.0000000e+00 8.41e-09 1.18e-11  -8.6 9.19e-05    -  1.00e+00 1.00e+00h  1\n",
      "\n",
      "Number of Iterations....: 17\n",
      "\n",
      "                                   (scaled)                 (unscaled)\n",
      "Objective...............:   1.0000000000000000e+00    1.0000000000000000e+00\n",
      "Dual infeasibility......:   1.1815139856129635e-11    1.1815139856129635e-11\n",
      "Constraint violation....:   8.4114670784174450e-09    8.4114670784174450e-09\n",
      "Complementarity.........:   0.0000000000000000e+00    0.0000000000000000e+00\n",
      "Overall NLP error.......:   8.4114670784174450e-09    8.4114670784174450e-09\n",
      "\n",
      "\n",
      "Number of objective function evaluations             = 30\n",
      "Number of objective gradient evaluations             = 18\n",
      "Number of equality constraint evaluations            = 31\n",
      "Number of inequality constraint evaluations          = 0\n",
      "Number of equality constraint Jacobian evaluations   = 18\n",
      "Number of inequality constraint Jacobian evaluations = 0\n",
      "Number of Lagrangian Hessian evaluations             = 17\n",
      "Total CPU secs in IPOPT (w/o function evaluations)   =      0.009\n",
      "Total CPU secs in NLP function evaluations           =      0.001\n",
      "\n",
      "EXIT: Optimal Solution Found.\n"
     ]
    },
    {
     "data": {
      "text/plain": [
       "{'Problem': [{'Lower bound': -inf, 'Upper bound': inf, 'Number of objectives': 1, 'Number of constraints': 320, 'Number of variables': 322, 'Sense': 'unknown'}], 'Solver': [{'Status': 'ok', 'Message': 'Ipopt 3.13.2\\\\x3a Optimal Solution Found', 'Termination condition': 'optimal', 'Id': 0, 'Error rc': 0, 'Time': 0.12675833702087402}], 'Solution': [OrderedDict([('number of solutions', 0), ('number of solutions displayed', 0)])]}"
      ]
     },
     "execution_count": 9,
     "metadata": {},
     "output_type": "execute_result"
    }
   ],
   "source": [
    "# solve the discretized model\n",
    "solver = pyo.SolverFactory('ipopt')\n",
    "solver.options['max_iter'] = 300\n",
    "solver.solve(index1_take_two,tee=True)"
   ]
  },
  {
   "attachments": {},
   "cell_type": "markdown",
   "metadata": {
    "id": "pY54hFHLBlHI"
   },
   "source": [
    "Take away: There is something strange with formulation 3 that is causing the numeric integrator to fail. We can still solve this problem after discretizing."
   ]
  },
  {
   "attachments": {},
   "cell_type": "markdown",
   "metadata": {
    "id": "TQCVYvQSBlHI",
    "nbpages": {
     "level": 3,
     "link": "[2.4.3.4 Formulation 4: Index-1 DAE Model](https://ndcbe.github.io/CBE60499/02.04-DAE-modeling.html#2.4.3.4-Formulation-4:-Index-1-DAE-Model)",
     "section": "2.4.3.4 Formulation 4: Index-1 DAE Model"
    }
   },
   "source": [
    "### Formulation 4: Index-1 DAE Model\n",
    "\n",
    "$$\\begin{align}\n",
    "\\frac{d x}{dt} &= u \\\\\n",
    "\\frac{d y}{dt} &= v \\\\\n",
    "\\frac{d u}{dt} &= -T x \\\\\n",
    "\\frac{d v}{dt} &= g - Ty \\\\\n",
    "0 &= (u^2 + v^2) - T (x^2 + y^2) + g y\n",
    "\\end{align}$$\n",
    "\n",
    "Consistent initial conditions:\n",
    "1. Specify $x(0)$, $u(0)$, $y(0)$, and $v(0)$.\n",
    "2. Solve for $T(0)$"
   ]
  },
  {
   "cell_type": "code",
   "execution_count": 10,
   "metadata": {
    "id": "r-sjp3RgBlHI",
    "nbpages": {
     "level": 3,
     "link": "[2.4.3.4 Formulation 4: Index-1 DAE Model](https://ndcbe.github.io/CBE60499/02.04-DAE-modeling.html#2.4.3.4-Formulation-4:-Index-1-DAE-Model)",
     "section": "2.4.3.4 Formulation 4: Index-1 DAE Model"
    }
   },
   "outputs": [],
   "source": [
    "def create_model_index1_b():\n",
    "    '''\n",
    "    Creates a model to define the Index 1 DAE system.\n",
    "\n",
    "    Output: the model, m\n",
    "    '''\n",
    "\n",
    "    m = pyo.ConcreteModel()\n",
    "    \n",
    "    # Declare time\n",
    "    m.t = dae.ContinuousSet(bounds=(0.0, 5))\n",
    "\n",
    "    # Declare parameter - acceleration due to gravity\n",
    "    m.g = pyo.Param(initialize=9.81) # m/s^2\n",
    "\n",
    "    # Declare variables indexed over time\n",
    "    m.x = pyo.Var(m.t) # horizontal position\n",
    "    m.y = pyo.Var(m.t) # vertical position\n",
    "    m.u = pyo.Var(m.t) # horizontal velocity\n",
    "    m.v = pyo.Var(m.t) # vertical velocity\n",
    "    m.T = pyo.Var(m.t) # tension\n",
    "\n",
    "    # Declare derivative variables\n",
    "    m.dx = dae.DerivativeVar(m.x) # with respect to t is implied\n",
    "    m.dy = dae.DerivativeVar(m.y)\n",
    "    m.du = dae.DerivativeVar(m.u)\n",
    "    m.dv = dae.DerivativeVar(m.v)\n",
    "\n",
    "    # Declare differential equations\n",
    "    def _dx_eqn(m, t):\n",
    "        return m.dx[t] == m.u[t]\n",
    "    m.dx_eqn = pyo.Constraint(m.t, rule=_dx_eqn)\n",
    "\n",
    "    def _dy_eqn(m, t):\n",
    "        return m.dy[t] == m.v[t]\n",
    "    m.dy_eqn = pyo.Constraint(m.t, rule=_dy_eqn)\n",
    "\n",
    "    def _du_eqn(m, t):\n",
    "        return m.du[t] == -m.T[t]*m.x[t]\n",
    "    m.du_eqn = pyo.Constraint(m.t, rule=_du_eqn)\n",
    "\n",
    "    def _dv_eqn(m, t):\n",
    "        return m.dv[t] == m.g -m.T[t]*m.y[t]\n",
    "    m.dv_eqn = pyo.Constraint(m.t, rule=_dv_eqn)\n",
    "\n",
    "    def _alg_eqn3(m, t):\n",
    "        return m.u[t]**2 + m.v[t]**2 - m.T[t]*(m.x[t]**2 + m.y[t]**2) + m.g*m.y[t] == 0\n",
    "    m.alg_eqn3 = pyo.Constraint(m.t, rule=_alg_eqn3)\n",
    "\n",
    "    # Specify initial conditions\n",
    "    m.x[0] = 0\n",
    "    m.y[0] = 1\n",
    "    m.u[0] = 1\n",
    "    m.v[0] = 0\n",
    "    m.T[0] = 1 + m.g\n",
    "    \n",
    "    return m"
   ]
  },
  {
   "cell_type": "code",
   "execution_count": 11,
   "metadata": {
    "colab": {
     "base_uri": "https://localhost:8080/",
     "height": 1000
    },
    "id": "u4wnBzdqBlHI",
    "nbpages": {
     "level": 3,
     "link": "[2.4.3.4 Formulation 4: Index-1 DAE Model](https://ndcbe.github.io/CBE60499/02.04-DAE-modeling.html#2.4.3.4-Formulation-4:-Index-1-DAE-Model)",
     "section": "2.4.3.4 Formulation 4: Index-1 DAE Model"
    },
    "outputId": "6f74546a-c13f-430a-a134-c44593cfe3c8"
   },
   "outputs": [
    {
     "name": "stdout",
     "output_type": "stream",
     "text": [
      "FORWARD INTEGRATION:\n",
      "Number of steps taken by SUNDIALS: 379\n",
      "Number of calls to the user’s f function: 485\n",
      "Number of calls made to the linear solver setup function: 31\n",
      "Number of error test failures: 3\n",
      "Method order used on the last internal step: 5\n",
      "Method order to be used on the next internal step: 5\n",
      "Actual value of initial step size: 7.90569e-09\n",
      "Step size taken on the last internal step: 0.0120795\n",
      "Step size to be attempted on the next internal step: 0.0120795\n",
      "Current internal time reached: 0.0120795\n",
      "Number of nonlinear iterations performed: 483\n",
      "Number of nonlinear convergence failures: 0\n",
      "\n"
     ]
    },
    {
     "data": {
      "image/png": "[encoded data removed]",
      "text/plain": [
       "<Figure size 400x400 with 1 Axes>"
      ]
     },
     "metadata": {},
     "output_type": "display_data"
    },
    {
     "data": {
      "image/png": "[encoded data removed]",
      "text/plain": [
       "<Figure size 400x400 with 1 Axes>"
      ]
     },
     "metadata": {},
     "output_type": "display_data"
    }
   ],
   "source": [
    "index1_b = create_model_index1_b()\n",
    "\n",
    "# Specify integrator options\n",
    "int_ops = {'print_stats':True,\"abstol\":1E-8,\"reltol\":1E-6}\n",
    "\n",
    "# Solve DAEs\n",
    "sim = Simulator(index1_b, package='casadi')\n",
    "tsim, profiles = sim.simulate(numpoints=100, integrator='idas',integrator_options=int_ops)\n",
    "\n",
    "# Plot solution\n",
    "plot_results(sim, tsim, profiles)"
   ]
  },
  {
   "attachments": {},
   "cell_type": "markdown",
   "metadata": {
    "id": "WpFBNXFTBlHJ",
    "nbpages": {
     "level": 2,
     "link": "[2.4.4 Take Away Messages](https://ndcbe.github.io/CBE60499/02.04-DAE-modeling.html#2.4.4-Take-Away-Messages)",
     "section": "2.4.4 Take Away Messages"
    }
   },
   "source": [
    "## 2.4.4 Take Away Messages\n",
    "1. Differential algebriac equations (DAEs) are really powerful modeling tools.\n",
    "2. Integrating DAEs requires special care. Make sure your model is index 1.\n",
    "3. Often there are many ways to reformulate the DAE model. But the numeric integrator only enforces error tolerances on the equations that are explicitly modeled. If an algebriac constraint must be satified to a specific tolerance, include it in the DAE model (as long as it is not high index!).\n",
    "\n",
    "## Important Topics from the Textbook\n",
    "**Chapter 8: Dynamic Optimization Introduction** (Biegler, 2010)\n",
    "-\tChemical engineering examples\n",
    "-\tClassical (variational) approaches including Hamiltonian and Euler-Lagrange equations\n",
    "\n",
    "![](https://raw.githubusercontent.com/ndcbe/optimization/main/media/dynamic_optimization_strategies.png)\n",
    "\n",
    "**Chapter 9: Sequential Methods** (Biegler, 2010)\n",
    "-\tDAE integration \n",
    "-\tSingle Shooting\n",
    "-\tMultiple Shooting\n",
    "\n",
    "![](https://raw.githubusercontent.com/ndcbe/optimization/main/media/sequential_dae_optimization.png)\n",
    "\n",
    "**Chapter 10: Simultaneous Methods** (Biegler, 2010)\n",
    "-\tGauss quadrature\n",
    "-\tOrthogonal collocation on finite elements\n",
    "-\tExamples, benchmarks, and large-scale extensions"
   ]
  },
  {
   "cell_type": "markdown",
   "metadata": {},
   "source": []
  }
 ],
 "metadata": {
  "colab": {
   "provenance": []
  },
  "kernelspec": {
   "display_name": "controls",
   "language": "python",
   "name": "python3"
  },
  "language_info": {
   "codemirror_mode": {
    "name": "ipython",
    "version": 3
   },
   "file_extension": ".py",
   "mimetype": "text/x-python",
   "name": "python",
   "nbconvert_exporter": "python",
   "pygments_lexer": "ipython3",
   "version": "3.10.13"
  }
 },
 "nbformat": 4,
 "nbformat_minor": 0
}
