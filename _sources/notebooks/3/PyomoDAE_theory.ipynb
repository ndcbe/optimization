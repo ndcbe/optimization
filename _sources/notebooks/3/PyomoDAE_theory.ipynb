{
 "cells": [
  {
   "attachments": {},
   "cell_type": "markdown",
   "metadata": {
    "id": "FdJE2GjqE5n1"
   },
   "source": [
    "# Dynamic Optimization with Collocation and Pyomo.DAE\n",
    "**Prepared by:** Prof. Alexander Dowling, Molly Dougher (mdoughe6@nd.edu, 2023)"
   ]
  },
  {
   "cell_type": "code",
   "execution_count": null,
   "metadata": {
    "colab": {
     "base_uri": "https://localhost:8080/"
    },
    "id": "qN1vjhfyE5n3",
    "outputId": "fb3c07a1-d483-4554-f6b2-01e4e003cc7d"
   },
   "outputs": [
    {
     "name": "stdout",
     "output_type": "stream",
     "text": [
      "--2023-05-04 21:32:38--  https://raw.githubusercontent.com/ndcbe/CBE60499/main/notebooks/helper.py\n",
      "Resolving raw.githubusercontent.com (raw.githubusercontent.com)... 185.199.108.133, 185.199.109.133, 185.199.110.133, ...\n",
      "Connecting to raw.githubusercontent.com (raw.githubusercontent.com)|185.199.108.133|:443... connected.\n",
      "HTTP request sent, awaiting response... 200 OK\n",
      "Length: 7171 (7.0K) [text/plain]\n",
      "Saving to: ‘helper.py’\n",
      "\n",
      "helper.py           100%[===================>]   7.00K  --.-KB/s    in 0s      \n",
      "\n",
      "2023-05-04 21:32:38 (45.6 MB/s) - ‘helper.py’ saved [7171/7171]\n",
      "\n",
      "Installing idaes via pip...\n",
      "idaes was successfully installed\n",
      "Running idaes get-extensions to install Ipopt, k_aug, and more...\n",
      "Ipopt 3.13.2 (x86_64-pc-linux-gnu), ASL(20190605)\n",
      "\n",
      "[K_AUG] 0.1.0, Part of the IDAES PSE framework\n",
      "Please visit https://idaes.org/ (x86_64-pc-linux-gnu), ASL(20190605)\n",
      "\n",
      "Couenne 0.5.8 -- an Open-Source solver for Mixed Integer Nonlinear Optimization\n",
      "Mailing list: couenne@list.coin-or.org\n",
      "Instructions: http://www.coin-or.org/Couenne\n",
      "couenne (x86_64-pc-linux-gnu), ASL(20190605)\n",
      "\n",
      "Bonmin 1.8.8 using Cbc 2.10.8 and Ipopt 3.13.2\n",
      "bonmin (x86_64-pc-linux-gnu), ASL(20190605)\n",
      "\n",
      "Ipopt 3.13.3 (x86_64-pc-linux-gnu), ASL(20190605)\n",
      "\n",
      "ipopt was successfully installed\n",
      "k_aug was successfuly installed\n",
      "cbc was successfuly installed\n",
      "clp was successfuly installed\n",
      "bonmin was successfuly installed\n",
      "couenne was successfuly installed\n",
      "ipopt_l1 was successfuly installed\n",
      " \n"
     ]
    }
   ],
   "source": [
    "# Install Pyomo and solvers for Google Colab\n",
    "import sys\n",
    "if \"google.colab\" in sys.modules:\n",
    "    !wget \"https://raw.githubusercontent.com/ndcbe/optimization/main/notebooks/helper.py\"\n",
    "    import helper\n",
    "    helper.easy_install()\n",
    "else:\n",
    "    sys.path.insert(0, '../')\n",
    "    import helper\n",
    "helper.set_plotting_style()\n",
    "\n",
    "import numpy as np\n",
    "import matplotlib.pyplot as plt"
   ]
  },
  {
   "attachments": {},
   "cell_type": "markdown",
   "metadata": {
    "id": "zD1NutCHZnbe"
   },
   "source": [
    "## Notebook Context\n",
    "*Summary information taken from Section 10.1 of Biegler (2010)*"
   ]
  },
  {
   "attachments": {},
   "cell_type": "markdown",
   "metadata": {
    "id": "5hfLnbtVZ7ss"
   },
   "source": [
    "As seen in the previous notebooks (2.5 and 2.6), DAEs have a vast range of applications. The goal of this section is to provide the necessary theoretical background to now look at dynamic optimization of an NLP without an embedded DAE solver (Biegler Chapter 10). A multiperiod problem is considered with piecewise polynomial elements representing different states, leading to a discretization that is the same as the Runge-Kutta methods (Biegler Chapter 9).\n"
   ]
  },
  {
   "attachments": {},
   "cell_type": "markdown",
   "metadata": {
    "id": "nH7PVdO33DCD"
   },
   "source": [
    "## Quadrature Methods\n",
    "\n",
    "First, the relevent background on quadrature is provided so that it can be applied to the following derivation of collocation methods. These topics are applied to an example in the next section on the website. See the following resources for further information on quadrature methods:\n",
    "\n",
    "* Chapter 9 in [Biegler (2010)](https://epubs.siam.org/doi/book/10.1137/1.9780898719383)\n",
    "* Chapter 17 in [McClarren (2018)](https://www.sciencedirect.com/book/9780128122532/computational-nuclear-engineering-and-radiological-science-using-python)"
   ]
  },
  {
   "attachments": {},
   "cell_type": "markdown",
   "metadata": {
    "id": "dRkqtfXR5abn"
   },
   "source": [
    "### Main Idea\n",
    "\n",
    "The quadrature rule approximates the integral $I$ with weighted sum of function evaluations:\n",
    "\n",
    "$$\\begin{equation*}\n",
    "I := \\int_{-1}^{1} f(x) dx \\approx \\underbrace{\\sum_{l=1}^{L} w_l f(x_l)}_{\\text{quadrature rule}}\n",
    "\\end{equation*}$$\n",
    "\n",
    "where:\n",
    "* $x_l$ are nodes (also known as abscissas)\n",
    "* $w_l$ are weights\n",
    "* $n$ number of nodes and weights\n",
    "\n",
    "Central questions:\n",
    "* How to choose *nodes* and *weights*?\n",
    "* How does this choice impact approximation error?\n",
    "* How does $n$ impact approximation error?"
   ]
  },
  {
   "attachments": {},
   "cell_type": "markdown",
   "metadata": {
    "id": "YOjFD-AA5aSP"
   },
   "source": [
    "### Recall: The degree and order of a polynomial\n",
    "\n",
    "Consider the polynomial:\n",
    "\n",
    "$$p(t) = a_0 + a_1 t + ... + a_K t^K.$$\n",
    "\n",
    "$p(t)$ is said to be of **order K+1** as it has K+1 coefficients $a_0, ... a_K$.\n",
    "\n",
    "The **degree** of the polynomial is the highest power with a non-zero coefficient. Thus if $a_K \\neq 0$, then $p(t)$ is degree K."
   ]
  },
  {
   "attachments": {},
   "cell_type": "markdown",
   "metadata": {
    "id": "Pu_hEssf5oFM"
   },
   "source": [
    "### Gauss-Legendre Quadrature\n",
    "\n",
    "For a *specific choice of nodes and weights*, the quadrature rule $\\sum_{l=1}^{L} w_l f(x_l)$ is exact for integral $I$ if $f(x)$ is a polynomial of degree $2L-1$ or less. This specific case is the **optimal** (most accurate) rule known as the Gauss-Legendre quadrature.\n",
    "\n",
    "The weights and nodes are given for $L$ up to 8:"
   ]
  },
  {
   "attachments": {},
   "cell_type": "markdown",
   "metadata": {
    "id": "NYyZ5LAXuQaG"
   },
   "source": [
    "| $L$  |  $x_l$ | $w_l$ |\n",
    "| ---- | ------ | ----- |\n",
    "| 1 | 0 | 2.0 |\n",
    "| 2 | ±0.5773502691896257645091488 | 1.0 | \n",
    "| 3 | 0                            | 0.8888888888888888888888889 |  \n",
    "|   | ±0.7745966692414833770358531 | 0.5555555555555555555555556 |\n",
    "| 4 | ±0.3399810435848562648026658 | 0.6521451548625461426269361 |  \n",
    "|   | ±0.8611363115940525752239465 | 0.3478548451374538573730639 | \n",
    "| 5 | 0                            | 0.5688888888888888888888889 |  \n",
    "|   | ±0.5384693101056830910363144 | 0.4786286704993664680412915 |  \n",
    "|   | ±0.9061798459386639927976269 | 0.2369268850561890875142640 | \n",
    "| 6 | ±0.2386191860831969086305017 | 0.4679139345726910473898703 |\n",
    "|   | ±0.6612093864662645136613996 | 0.3607615730481386075698335 |\n",
    "|   | ±0.9324695142031520278123016 | 0.1713244923791703450402961 |\n",
    "| 7 | 0                            | 0.4179591836734693877551020 |\n",
    "|   | ±0.4058451513773971669066064 | 0.3818300505051189449503698 |\n",
    "|   | ±0.7415311855993944398638648 | 0.2797053914892766679014678 |\n",
    "|   | ±0.9491079123427585245261897 | 0.1294849661688696932706114 | \n",
    "| 8 | ±0.1834346424956498049394761 | 0.3626837833783619829651504 |\n",
    "|   | ±0.5255324099163289858177390 | 0.3137066458778872873379622 |\n",
    "|   | ±0.7966664774136267395915539 | 0.2223810344533744705443560 |\n",
    "|   | ±0.9602898564975362316835609 | 0.1012285362903762591525314 |"
   ]
  },
  {
   "attachments": {},
   "cell_type": "markdown",
   "metadata": {
    "id": "dWzU6xon67n3"
   },
   "source": [
    "### Why $2L-1$?\n",
    "\n",
    "Let $f(x) = a_{2L-1} x^{2L-1} + a_{2L-2} x^{2L-2} + ... + a_{1} x^1 + a_{0}$\n",
    "\n",
    "This polynomial has $2L$ coefficients. Likewise, $\\int f(x)dx$ has $2L$ coefficients plus the constant of integration. This is the same number of degrees of freedom we have in choosing the *weights* and *nodes*."
   ]
  },
  {
   "attachments": {},
   "cell_type": "markdown",
   "metadata": {
    "id": "bVzXe7hE7AF9"
   },
   "source": [
    "### How to determine the nodes and weights? \n",
    "\n",
    "One way to derive the Gauss-Legendre quadrature rules is by looking at the integral generic monomials of degree 0 up to $2L-1$ and setting each equal to the $L$ point Gauss-Legendre quadrature rule:\n",
    "\n",
    "$$ \\begin{align*} \\int\\limits_{-1}^{1} dx\\, a_0 x^0 &=  a_0\\sum_{l=1}^L w_l x_l^0, \\\\\n",
    "\\int\\limits_{-1}^{1} dx\\, a_1 x^1 &= a_1\\sum_{l=1}^L w_l x_l^1, \\\\\n",
    "& ~~ \\vdots \\\\\n",
    "\\int\\limits_{-1}^{1} dx\\, a_{2L-1} x^{2L-1} &= a_{2L-1}\\sum_{l=1}^L w_l x_l^{2L-1}.\n",
    "\\end{align*}\n",
    "$$\n",
    "Notice that the $a_i$ **constants cancel out** of each equation so they do not matter. This system is $2L$ equations with $L$ weights, $w_l$, and $L$ nodes, $x_l$. We could solve these equations to get the weights and nodes, though this is not how it is done in practice generally---this is accomplished by using the theory of orthogonal polynomials."
   ]
  },
  {
   "attachments": {},
   "cell_type": "markdown",
   "metadata": {
    "id": "HdoMYKHK5x4B"
   },
   "source": [
    "### Code"
   ]
  },
  {
   "cell_type": "code",
   "execution_count": null,
   "metadata": {
    "id": "nBiJfbpq5ywS"
   },
   "outputs": [],
   "source": [
    "def GLQuad(f, L=8,dataReturn = False):\n",
    "    \"\"\"Compute the Gauss-Legendre Quadrature estimate \n",
    "    of the integral of f(x) from -1 to 1\n",
    "    Inputs:\n",
    "    f:   name of function to integrate\n",
    "    L:   Order of integration rule (8 or less)\n",
    "    dataReturn:   determines whether weights and xs are returned\n",
    "    \n",
    "    Returns:\n",
    "    G-L Quadrature estimate\"\"\"\n",
    "    \n",
    "    # Set bound on L\n",
    "    assert(L>=1)\n",
    "\n",
    "    # Enumerate over L to define weights and x in each scenario\n",
    "    if (L==1):\n",
    "        weights = np.ones(1)*2\n",
    "        xs = np.array([0])\n",
    "    elif (L==2):\n",
    "        weights = np.ones(2)\n",
    "        xs = np.array([-np.sqrt(1.0/3.0),np.sqrt(1.0/3.0)])\n",
    "    elif (L==3):\n",
    "        weights = np.array([0.8888888888888888888888889,\n",
    "                            0.5555555555555555555555556,\n",
    "                            0.5555555555555555555555556])\n",
    "        xs = np.array([0.0,-0.7745966692414833770358531,\n",
    "                       0.7745966692414833770358531])\n",
    "    elif (L==4):\n",
    "        weights = np.array([0.6521451548625461426269361,0.6521451548625461426269361,\n",
    "                            0.3478548451374538573730639,0.3478548451374538573730639])\n",
    "        xs = np.array([-0.3399810435848562648026658, 0.3399810435848562648026658,\n",
    "                       -0.8611363115940525752239465, 0.8611363115940525752239465])\n",
    "    elif (L==5):\n",
    "        weights = np.array([0.5688888888888888888888889,\n",
    "                            0.4786286704993664680412915,0.4786286704993664680412915,\n",
    "                            0.2369268850561890875142640,0.2369268850561890875142640])\n",
    "        xs = np.array([0.0,-0.5384693101056830910363144,0.5384693101056830910363144,\n",
    "                       -0.9061798459386639927976269,0.9061798459386639927976269])\n",
    "    elif (L==6):\n",
    "        weights = np.array([0.4679139345726910473898703,0.4679139345726910473898703,\n",
    "                            0.3607615730481386075698335,0.3607615730481386075698335,\n",
    "                            0.1713244923791703450402961,0.1713244923791703450402961])\n",
    "        xs = np.array([-0.2386191860831969086305017, 0.2386191860831969086305017,\n",
    "                       -0.6612093864662645136613996, 0.6612093864662645136613996,\n",
    "                       -0.9324695142031520278123016, 0.9324695142031520278123016])\n",
    "    elif (L==7):\n",
    "        weights = np.array([0.4179591836734693877551020,\n",
    "                            0.3818300505051189449503698,0.3818300505051189449503698,\n",
    "                            0.2797053914892766679014678,0.2797053914892766679014678,\n",
    "                            0.1294849661688696932706114,0.1294849661688696932706114])\n",
    "        xs = np.array([0.0,-0.4058451513773971669066064,0.4058451513773971669066064,\n",
    "                       -0.7415311855993944398638648,0.7415311855993944398638648,\n",
    "                       -0.9491079123427585245261897,0.9491079123427585245261897])\n",
    "    elif (L==8):\n",
    "        weights = np.array([0.3626837833783619829651504,0.3626837833783619829651504,\n",
    "                            0.3137066458778872873379622,0.3137066458778872873379622,\n",
    "                            0.2223810344533744705443560,0.2223810344533744705443560,\n",
    "                            0.1012285362903762591525314,0.1012285362903762591525314])\n",
    "        xs = np.array([-0.1834346424956498049394761, 0.1834346424956498049394761,\n",
    "                       -0.5255324099163289858177390, 0.5255324099163289858177390,\n",
    "                       -0.7966664774136267395915539, 0.7966664774136267395915539,\n",
    "                       -0.9602898564975362316835609, 0.9602898564975362316835609])\n",
    "    else: #use numpy's function\n",
    "        xs, weights = np.polynomial.legendre.leggauss(L)\n",
    "    \n",
    "    # Calculate the quadrature estimate\n",
    "    quad_estimate = np.sum(weights*f(xs))\n",
    "    \n",
    "    if (dataReturn):\n",
    "        return quad_estimate, weights, xs\n",
    "    else:\n",
    "        return quad_estimate"
   ]
  },
  {
   "attachments": {},
   "cell_type": "markdown",
   "metadata": {
    "id": "fVXNEpbZ6vct"
   },
   "source": [
    "### Visualize Weights"
   ]
  },
  {
   "cell_type": "code",
   "execution_count": null,
   "metadata": {
    "colab": {
     "base_uri": "https://localhost:8080/",
     "height": 442
    },
    "id": "bYRvcN5i60eY",
    "outputId": "65a34cbc-e6dd-4698-9ca3-51fa440d1518"
   },
   "outputs": [
    {
     "data": {
      "image/png": "[encoded data removed]",
      "text/plain": [
       "<Figure size 400x400 with 1 Axes>"
      ]
     },
     "metadata": {},
     "output_type": "display_data"
    }
   ],
   "source": [
    "# Establish L\n",
    "L = np.arange(1,15)\n",
    "# Define a lambda function\n",
    "f = lambda x: x\n",
    "\n",
    "# Define the figure\n",
    "plt.figure(figsize=(4,4))\n",
    "\n",
    "# Loop over L\n",
    "for l in L:\n",
    "    # Calculate quadrature estimate\n",
    "    quad_est, weights, xs = GLQuad(f,l,dataReturn=True)\n",
    "    levels = weights*0 + l\n",
    "    plt.scatter(xs, levels, s=weights*100)\n",
    "\n",
    "# Format the plot\n",
    "plt.xlabel(\"x\",fontsize=16, fontweight='bold')\n",
    "plt.ylabel(\"L\",fontsize=16, fontweight='bold')\n",
    "plt.tick_params(direction=\"in\",labelsize=15)\n",
    "plt.title(\"Gauss-Legendre Quadrature Points\\nSize of Point is Weight\",fontsize=16, fontweight='bold')\n",
    "plt.show()"
   ]
  },
  {
   "attachments": {},
   "cell_type": "markdown",
   "metadata": {
    "id": "jywBhAOi7EjM"
   },
   "source": [
    "### Polynomial Example\n",
    "\n",
    "As a simple demonstration of the Gauss-Legendre quadrature, let's show that it integrates polynomials of degree $2L-1$ exactly.  Consider the integral\n",
    "$$\\int\\limits_{-1}^1 (x+1)^{2L-1}\\,dx = \\frac{2^{2 L-1}}{L}.$$\n",
    "\n",
    "We can use the GLQuad function to evaluate the error."
   ]
  },
  {
   "cell_type": "code",
   "execution_count": null,
   "metadata": {
    "colab": {
     "base_uri": "https://localhost:8080/"
    },
    "id": "FBJLTZRn7Jls",
    "outputId": "e3eb77f7-9485-445f-8b99-8c5cf0a436d8"
   },
   "outputs": [
    {
     "name": "stdout",
     "output_type": "stream",
     "text": [
      "L = 1 \t Estimate is 2.0 Exact value is 2.0 \n",
      "Abs. Relative Error is 0.0\n",
      "L = 2 \t Estimate is 3.9999999999999996 Exact value is 4.0 \n",
      "Abs. Relative Error is 1.1102230246251565e-16\n",
      "L = 3 \t Estimate is 10.666666666666668 Exact value is 10.666666666666666 \n",
      "Abs. Relative Error is 1.6653345369377348e-16\n",
      "L = 4 \t Estimate is 31.99999999999999 Exact value is 32.0 \n",
      "Abs. Relative Error is 3.3306690738754696e-16\n",
      "L = 5 \t Estimate is 102.39999999999995 Exact value is 102.4 \n",
      "Abs. Relative Error is 5.551115123125783e-16\n",
      "L = 6 \t Estimate is 341.33333333333337 Exact value is 341.3333333333333 \n",
      "Abs. Relative Error is 1.6653345369377348e-16\n",
      "L = 7 \t Estimate is 1170.2857142857135 Exact value is 1170.2857142857142 \n",
      "Abs. Relative Error is 5.828670879282072e-16\n",
      "L = 8 \t Estimate is 4096.000000000003 Exact value is 4096.0 \n",
      "Abs. Relative Error is 6.661338147750939e-16\n",
      "L = 9 \t Estimate is 14563.555555555577 Exact value is 14563.555555555555 \n",
      "Abs. Relative Error is 1.4988010832439613e-15\n",
      "L = 10 \t Estimate is 52428.799999999974 Exact value is 52428.8 \n",
      "Abs. Relative Error is 5.551115123125783e-16\n",
      "L = 11 \t Estimate is 190650.181818181 Exact value is 190650.18181818182 \n",
      "Abs. Relative Error is 4.274358644806853e-15\n"
     ]
    }
   ],
   "source": [
    "L = np.arange(1,12)\n",
    "for l in L:\n",
    "    \n",
    "    # Create f\n",
    "    f = lambda x: (x+1)**(2*l-1)\n",
    "    \n",
    "    # Evaluate exact (analytic) solution\n",
    "    integral = 2**(2*l - 1)/l\n",
    "    \n",
    "    # Evaluate quadrature rule\n",
    "    GLintegral = GLQuad(f,l)\n",
    "    \n",
    "    # Print results\n",
    "    print(\"L =\", l,\"\\t Estimate is\",GLintegral,\n",
    "          \"Exact value is\",integral, \n",
    "          \"\\nAbs. Relative Error is\", np.abs(GLintegral-integral)/integral)"
   ]
  },
  {
   "attachments": {},
   "cell_type": "markdown",
   "metadata": {
    "id": "fCpwbSzi7dBb"
   },
   "source": [
    "### Generalization\n",
    "\n",
    "We are generally interested in integrals not just over the domain $x\\in [-1,1]$.  We'll now make a function that does Gauss-Legendre quadrature over a general range using the formula\n",
    "$$\\int_a^b f(x)\\,dx = \\frac{b-a}{2} \\int_{-1}^1 f\\left(\\frac{b-a}{2}z + \\frac{a+b}{2}\\right)\\,dz.$$"
   ]
  },
  {
   "cell_type": "code",
   "execution_count": null,
   "metadata": {
    "id": "ic61N5sx7iky"
   },
   "outputs": [],
   "source": [
    "def generalGL(f,a,b,L):\n",
    "    \"\"\"Compute the Gauss-Legendre Quadrature estimate \n",
    "    of the integral of f(x) from a to b\n",
    "    Inputs:\n",
    "    f:   name of function to integrate\n",
    "    a:   lower bound of integral\n",
    "    b:   upper bound of integral\n",
    "    L:   Order of integration rule (8 or less)\n",
    "    Returns:\n",
    "    G-L Quadrature estimate\"\"\"\n",
    "    \n",
    "    # Set bound on L\n",
    "    assert(L>=1)\n",
    "\n",
    "    # Define a re-scaled f\n",
    "    f_rescaled = lambda  z: f(0.5*(b-a)*z + 0.5*(a+b))\n",
    "\n",
    "    # Define the integral\n",
    "    integral = GLQuad(f_rescaled,L)\n",
    "\n",
    "    # Calculate the G-L quadrature estimate\n",
    "    return integral*(b-a)*0.5"
   ]
  },
  {
   "attachments": {},
   "cell_type": "markdown",
   "metadata": {
    "id": "e4S96Apn7nxu"
   },
   "source": [
    "Let's show that this version integrates polynomials of degree $2L-1$ exactly.  Consider the integral\n",
    "$$\\int\\limits_{-3}^2 (x+1)^{2L-1}\\,dx = \\frac{9^L-4^L}{2 L}.$$"
   ]
  },
  {
   "cell_type": "code",
   "execution_count": null,
   "metadata": {
    "colab": {
     "base_uri": "https://localhost:8080/"
    },
    "id": "qAZx1nXb7rZ4",
    "outputId": "bab4d819-5e24-4c2c-bb23-3ff75c1a776f"
   },
   "outputs": [
    {
     "name": "stdout",
     "output_type": "stream",
     "text": [
      "L = 1 \t Estimate is 2.5 Exact value is 2.5 \n",
      "Abs. Relative Error is 0.0\n",
      "L = 2 \t Estimate is 16.249999999999996 Exact value is 16.25 \n",
      "Abs. Relative Error is 2.1862853408003084e-16\n",
      "L = 3 \t Estimate is 110.83333333333336 Exact value is 110.83333333333333 \n",
      "Abs. Relative Error is 2.5643647606379557e-16\n",
      "L = 4 \t Estimate is 788.1249999999999 Exact value is 788.125 \n",
      "Abs. Relative Error is 1.4424975444455643e-16\n",
      "L = 5 \t Estimate is 5802.500000000002 Exact value is 5802.5 \n",
      "Abs. Relative Error is 3.1348374037843283e-16\n",
      "L = 6 \t Estimate is 43945.4166666667 Exact value is 43945.416666666664 \n",
      "Abs. Relative Error is 8.278403262589113e-16\n",
      "L = 7 \t Estimate is 340470.35714285733 Exact value is 340470.35714285716 \n",
      "Abs. Relative Error is 5.128874777992276e-16\n",
      "L = 8 \t Estimate is 2686324.0625 Exact value is 2686324.0625 \n",
      "Abs. Relative Error is 0.0\n",
      "L = 9 \t Estimate is 21508796.944444507 Exact value is 21508796.944444444 \n",
      "Abs. Relative Error is 2.9443736549946913e-15\n",
      "L = 10 \t Estimate is 174286791.24999988 Exact value is 174286791.25 \n",
      "Abs. Relative Error is 6.839835003892255e-16\n",
      "L = 11 \t Estimate is 1426221150.2272635 Exact value is 1426221150.2272727 \n",
      "Abs. Relative Error is 6.5195531446713024e-15\n"
     ]
    }
   ],
   "source": [
    "L = np.arange(1,12)\n",
    "\n",
    "# Loop over L to calculate the integral and the G-L estimate\n",
    "for l in L:\n",
    "    # Define a lambda function\n",
    "    f = lambda x: (x+1)**(2*l-1)\n",
    "    # Calculate the integral\n",
    "    integral = (9**l-4**l)/(2*l)\n",
    "    # Calculate the estimate\n",
    "    GLintegral = generalGL(f,-3,2,l)\n",
    "    # Print statement for the error comparison\n",
    "    print(\"L =\", l,\"\\t Estimate is\",GLintegral,\n",
    "          \"Exact value is\",integral, \n",
    "          \"\\nAbs. Relative Error is\", np.abs(GLintegral-integral)/integral)"
   ]
  },
  {
   "attachments": {},
   "cell_type": "markdown",
   "metadata": {
    "id": "qB9NkD3Q8KCS"
   },
   "source": [
    "### Radau Quadrature\n",
    "\n",
    "Sometimes we desire either:\n",
    "* The first node is at the beginning of the interval, i.e., $x_1 = -1$ or\n",
    "* The last node is at the end of the interval, i.e., $x_{L} = 1$.\n",
    "\n",
    "This is known as **Gauss-Radu quadrature**. The remaining nodes and weights are chosen optimally; thus, Radu quadrature *exactly* integrates *all* polynomials of degree $2L-2$ or less. Specifying one of the nodes leaves only $2L-1$ degrees of freedom.\n",
    "\n",
    "More info: http://mathworld.wolfram.com/RadauQuadrature.html\n"
   ]
  },
  {
   "attachments": {},
   "cell_type": "markdown",
   "metadata": {
    "id": "ugRScqij8NCv"
   },
   "source": [
    "### Differential Equations\n",
    "\n",
    "Consider solving the differential equation\n",
    "\n",
    "$$\\dot{x} = f(t,x), \\quad x(t_0) = x_0,$$\n",
    "\n",
    "to determine $x(t_f)$. This can be expressed as an integral:\n",
    "\n",
    "$$x(t_f) = \\int_{t_0}^{t_f} \\frac{dx}{dt} dt + x_0 = \\underbrace{\\int_{t_0}^{t_f} f(t, x(t)) dt}_{\\text{quadrature rule}} + x_0$$\n",
    "\n",
    "Thus, Runge-Kutta methods can be interpreted as a quadrature rule."
   ]
  },
  {
   "attachments": {},
   "cell_type": "markdown",
   "metadata": {
    "id": "nMOI0CP40ytz"
   },
   "source": [
    "## Collocation Methods\n",
    "See the following resources for more information on collocation:\n",
    "* Chapter 10 in [Biegler (2010)](https://epubs.siam.org/doi/book/10.1137/1.9780898719383)"
   ]
  },
  {
   "attachments": {},
   "cell_type": "markdown",
   "metadata": {
    "id": "zwQXXLDB0yt0"
   },
   "source": [
    "### What is a Collocation Method?\n",
    "https://encyclopediaofmath.org/wiki/Collocation_method"
   ]
  },
  {
   "attachments": {},
   "cell_type": "markdown",
   "metadata": {
    "id": "_-G909QA1t4p"
   },
   "source": [
    "Collocation methods are relevant to DAE systems because they are a way of numerically solving integral and differential equations. Given $n$ points (i.e., collocation points), the solution can be approximated such that conditions are satisfied at each collocation point. Then the approximate solution exists as a system of $n$ equations."
   ]
  },
  {
   "attachments": {},
   "cell_type": "markdown",
   "metadata": {
    "id": "FutxncXR0yt0"
   },
   "source": [
    "### Derivation of Collocation Methods\n",
    "*Derivations are followed from Section 10.2 of Biegler (2010).*"
   ]
  },
  {
   "attachments": {},
   "cell_type": "markdown",
   "metadata": {
    "id": "gpuuwfAJ1z8s"
   },
   "source": [
    "Consider the following multiperiod dynamic optimization problem (8.5).\n",
    "\n",
    "\\begin{align*}\n",
    "\\min & \\sum_{l=1}^{N_T} \\Phi^l\\left(z^l\\left(t_l\\right), y^l\\left(t_l\\right), u^l\\left(t_l\\right), p^l\\right) \\\\\n",
    "\\text { s.t. } & \\frac{d z^l}{d t}=f^l\\left(z^l(t), y^l(t), u^l(t), p^l\\right), \\quad z^l\\left(t_{l-1}\\right)=z_0^l, \\\\\n",
    "& g^l\\left(z^l(t), y^l(t), u^l(t), p^l\\right)=0, \\\\\n",
    "& u_L^l \\leq u^l(t) \\leq u_U^l, \\\\\n",
    "& p_L^l \\leq p^l \\leq p_U^l, \\\\\n",
    "& y_L^l \\leq y^l(t) \\leq y_U^l, \\\\\n",
    "& z_L^l \\leq z^l(t) \\leq z_U^l, \\quad t \\in\\left(t_{l-1}, t_l\\right], l=1, \\ldots, N_T, \\\\\n",
    "& h\\left(p, z_0^1, z^1\\left(t_1\\right), z_0^2, z^2\\left(t_2\\right), \\ldots, z_0^{N_T}, z^{N_T}\\left(t_{N_T}\\right)\\right)=0\n",
    "\\end{align*}\n",
    "\n",
    "The periods ($l$) can be represented by finite elements in time ($t$) and the state ($z$) and control variables ($u$) can be represented with polynomials (Figure 10.1).\n",
    " \n",
    "![BieglerFigure10.1](https://github.com/mollydougher/optimization/blob/dougher-final-project/media/contrib/BieglerFigure10.1.png?raw=true)\n",
    "\n",
    "\n",
    "The collocation method can be developed by solving the differential equation ($ dz/dt $) at specific time points. For example, Figure 10.1 shows the state variable approximation for a single finite element:\n",
    "\n",
    "\\begin{align}\n",
    "z^k(t) = \\alpha_0 + \\alpha_1t + ... + \\alpha_kt^k \n",
    "\\end{align}\n",
    "\n",
    "where $ \\alpha_n $ are constants in the power series. This profile can also be represented as a Lagrange interpolation polynomial. Choosing $K+1$ interpolation points within element $i$, the state can be represented as:\n",
    "\n",
    "\\begin{align}\n",
    "& t = t_{i-1} + h_i\\tau , \\\\\n",
    "& z^k(t) = \\sum_{j=0}^K \\ell_j(\\tau)z_{ij} , \\\\\n",
    "& \\text{for } t \\in [t_{i-1},t_i] \\text{ and } \\tau \\in [0,1] , \\\\\n",
    "& \\text{where } \\ell_j(\\tau) = \\prod_{k=0,\\neq j}^K \\frac{(\\tau-\\tau_k)}{(\\tau_j-\\tau_k)} \\\\\n",
    "& \\tau_0=0 \\\\\n",
    "& \\tau_j<\\tau_{j+1}, \\\\\n",
    "& j=0,...,K-1 , \\\\\n",
    "& \\text{and } h_i \\text{ is the length of element } i. \\\\\n",
    "\\end{align}\n",
    "\n",
    "The key property of this polynomial is that\n",
    "$ z^K(t_{ij})=z_{ij} $ where $ t_{ij}=t_{i-1} + \\tau_j h_i $.\n",
    "\n",
    "We can do the same thing for the time derivative of the state (Lagrange polynomial with K interpolation points):\n",
    "\n",
    "\\begin{align}\n",
    "z^k(t) = z_{i-1} + h_i \\sum_{j=1}^K \\Omega_j(\\tau) \\dot{z}_{ij} ,\n",
    "\\end{align}\n",
    "\n",
    "where $z_{i-1}$ represents the differential state at the beginning of element $i$, $\\dot{z}_{ij}$ is the time derivative, and $\\Omega_j(\\tau)$ is a $K^{th}$ order polynomial that satisfies:\n",
    "\n",
    "\\begin{align}\n",
    "\\Omega_j(\\tau)=\\int_0^{\\tau}\\ell_j(\\tau')d\\tau', \\text{ }t \\in [t_{i-1},t_i], \\text{ }\\tau \\in [0,1]. \n",
    "\\end{align}\n",
    "\n",
    "Note that this is equivalent to the implcit Runge-Kutta (IRK) representation, where $n_s=k$, $C_k=\\tau_k$, $a_{kj}=\\Omega_j(\\tau_k)$, and $b_k=\\Omega_k(1)$. We can obtain $\\ell_j$ and $\\Omega_j$ from Gauss quadrature.\n",
    "\n",
    "Collocation equations can be found by substituting the polynomial into the differential equation ($ dz/dt $). The algebraic equations must hold at each interpolation point $\\tau_j$. The collocation equations for the Lagrange polynomial are:\n",
    "\\begin{align}\n",
    "\\sum_{j=0}^K z_{ij} \\frac{d\\ell_j(\\tau_k)}{d\\tau}=h_i f(z_{ik},t_{ik}), \\text{ } k=1,...,K.\n",
    "\\end{align}"
   ]
  },
  {
   "attachments": {},
   "cell_type": "markdown",
   "metadata": {
    "id": "RpzgiCcPf2Vj"
   },
   "source": [
    "### Collocation with Orthogonal Polynomials\n",
    "With the interpolation points $\\tau_k$ known, then the collocation equations  become algebraic. Now $\\tau_k$ must be determined such that the approximation is most accurate. Representing the solution as an integral:\n",
    "\n",
    "\\begin{align}\n",
    "z(t_i) = z(t_{i-1}) + \\int_{t_{i-1}}^{t_i} f(z(t),t)dt ,\n",
    "\\end{align}\n",
    "\n",
    "the numerical solution is the quadrautre formula:\n",
    "\n",
    "\\begin{align}\n",
    "& z(t_i) = z(t_{i-1}) + \\sum_{j=1}^K \\omega_j h_i f(z(t_{ij}), t_{ij}),\n",
    "& t_{ij} = t_{i-1} + h_i \\tau_j \n",
    "\\end{align}\n",
    "\n",
    "> **Theorem 10.1**: The quadrature formula (above) provides the exact solution to the integral (above) if $f(z(t),t)$ is a polynomial in $t$ of order $2K$ and $\\tau_j$ are the roots of a $K$th degree polynomial, $P_K(\\tau)$ with the property:\n",
    "> \n",
    "> \\begin{align}\n",
    "& \\int_0^1 P_j(\\tau) P_{j'}(\\tau)d\\tau,\n",
    "& j=0,...,K-1, \n",
    "& \\text{ } j'=1,...,K, \n",
    "& \\text{for indices } j \\neq j'.\n",
    "\\end{align}\n",
    "\n",
    "This theorem justifies choosing the collocation points ($\\tau_j$) as the roots of $P_K(\\tau)$. $P_K(\\tau)$ is the shifted Gauss-Legendre polynomial that has the orthogonality property as shown by the result of the theorem. This polynomal can be broadly classified as a Gauss-Jacobi polynomial. See Section 10.2.2 of Biegler for more information. \n",
    "\n",
    "Using the roots of the Gauss-Jacobi polynomials as collocation points leads to the following results:\n",
    "*  Gauss-Legrende collocation leads to trucation error of $O(h^{2k})$\n",
    "* Gauss-Radau collocation leads to trucation error of $O(h^{2k-1})$\n",
    "\n",
    "Generally, Gauss-Legendre and Radau collocation are compatible with NLP formulations.\n",
    "\n",
    "### Applications to Runge-Kutta\n",
    "\n",
    "When the Runge-Kutta basis is applied, the collocation method is seen to be an IRK method, leading to the following properties (established in Biegler Section 9.2):\n",
    "* Collocation methods are A-stable (absolute stability) and Gauss-Legrende and Radau collocation are AN-stable (algebraically stable). Therefore,  $h_i$ has no stability limit (for stiff problems). This means large time steps $h_i$ can be used in systems where steady state components are captured and there are slow time scales.\n",
    "* Radau collaction has stiff decay. Therefore, if your problem is stiff, try Radau collocation first. \n",
    "* Gauss-Legendre and Radau collocation methods have high-order error. (Here, order refers to $z_i$.)\n",
    "\n",
    "### A Final Key Note\n",
    "\n",
    "Continuity is enforced in states accross finite element boundaries, NOT controls or algebraic variables."
   ]
  },
  {
   "cell_type": "code",
   "execution_count": null,
   "metadata": {
    "id": "PPijTpOkGb2v"
   },
   "outputs": [],
   "source": []
  }
 ],
 "metadata": {
  "colab": {
   "provenance": []
  },
  "kernelspec": {
   "display_name": "Python 3",
   "language": "python",
   "name": "python3"
  },
  "language_info": {
   "codemirror_mode": {
    "name": "ipython",
    "version": 3
   },
   "file_extension": ".py",
   "mimetype": "text/x-python",
   "name": "python",
   "nbconvert_exporter": "python",
   "pygments_lexer": "ipython3",
   "version": "3.8.6"
  }
 },
 "nbformat": 4,
 "nbformat_minor": 0
}
