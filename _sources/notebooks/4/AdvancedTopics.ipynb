{
 "cells": [
  {
   "cell_type": "markdown",
   "metadata": {},
   "source": [
    "# Advanced Topics in Stochastic Programming\n",
    "\n",
    "This notebook contains advanced topics for optimization under uncertainty."
   ]
  },
  {
   "cell_type": "markdown",
   "metadata": {},
   "source": [
    "## Sample Average Approximation\n",
    "\n",
    "Sample average approximation (SAA) method is an approach for solving stochastic optimization problems by Monte Carlo simulation. It approximates the expected objective function of the stochastic problem by a sample average estimate derived from a random sample. The resulting sample average approximation problem is then solved by deterministic optimization techniques. \n",
    "\n",
    "Consider a stochastic program in the following form: \n",
    "\n",
    "$z = \\inf \\int_{\\Xi} g(x,\\xi) P(d\\xi)$\n",
    "\n",
    "The optimal solution $x^*$ will have optimal value $z^*$. SAA consider a sample ${\\xi^i}$ of independent observations of $\\xi$:\n",
    "\n",
    "$z^{\\nu} = \\inf \\frac{1}{\\nu} \\sum_{i=1}^{\\nu} g(x,\\xi^i)$\n",
    "\n",
    "Where $x^{\\nu}$ is the random vector of solutions with independent random samples, $\\xi^i$, $i=1,...,\\nu$. "
   ]
  },
  {
   "cell_type": "markdown",
   "metadata": {},
   "source": [
    "## Sparse Grids (Worst Case)\n",
    "\n",
    "Instead of Monte carlo sampling, sparse grids can be used to obtain efficient characterizations of the integrals in stochastic programs. Many computational problems are solved on full grids. While this is feasible if the dimentionality $d$ of the problem is low, 2 or 3, full grids become very expensive when facing a higher dimentional problem $d>4$. This is due to the curse of dimensionality, which states that the complexity of full grids grows exponentially with $d$. \n",
    "\n",
    "Sparse grids defeat the curse of dimentionality and allow the solution of the problems with much smaller effort. It is constructed by extending one-dimensional quadrature rules to higher dimensions. Gaussian quadrature rule is one of these rules to approximate the definite integral of a function. It is usually a weighted sum of function values at specified points within the domain of integration, stated as: \n",
    "\n",
    "$\\int f(x)dx \\approx \\sum_{i=1}^{n} \\omega_i f(x_i) $\n",
    "\n",
    "Comparison between 2-point Gaussian and trapezoidal quadrature. For the polynomial: \n",
    "\n",
    "$y(x) = 7x^3-8x^2-3x+3$\n",
    "\n",
    "whose integral in [-1,1] is $\\frac{2}{3}$. \n",
    "\n",
    "The trapezoidal rule returns the integral of the orange dashed line: \n",
    "\n",
    "$y(-1)+y(1) = -10$\n",
    "\n",
    "The 2-point Gaussian quadrature returns the integral of the black dashed curve, equal to:\n",
    "\n",
    "$y(-\\sqrt{\\frac{1}{3}}) + y(\\sqrt{\\frac{1}{3}}) = \\frac{2}{3}$\n",
    "\n",
    "\n",
    "![sg1](https://raw.githubusercontent.com/ndcbe/optimization/main/media/sg-2.png)\n",
    "\n",
    "Figure from [1]"
   ]
  },
  {
   "cell_type": "code",
   "execution_count": null,
   "metadata": {},
   "outputs": [],
   "source": [
    "import Tasmanian\n",
    "import numpy as np\n",
    "import matplotlib.pyplot as plt\n",
    "\n",
    "# define bounds for integration\n",
    "UB = 1\n",
    "LB = -1\n",
    "\n",
    "# function\n",
    "y = lambda x: 7*x**3-8*x**2-3*x+3\n",
    "\n",
    "# integrated function \n",
    "int_y = lambda x: 1.75*x**4-8/3*x**3-1.5*x**2+3*x\n",
    "\n",
    "# real area \n",
    "real_S = int_y(UB) - int_y(LB)\n",
    "print('The area:', real_S)\n",
    "\n",
    "# area calculated by trapezoidal rule\n",
    "trap_S = (y(UB)+y(LB))*(UB-LB)/2\n",
    "print('The area calculated by trapezoidal rule:', trap_S)\n",
    "\n",
    "# generate sparse grids\n",
    "range_p = np.array([[LB,UB]])\n",
    "grid_p = Tasmanian.SparseGrid()\n",
    "grid_p.makeGlobalGrid(1,0,1,'level','gauss-legendre')\n",
    "grid_p.setDomainTransform(range_p)\n",
    "points_p = grid_p.getPoints()\n",
    "weights_p = grid_p.getQuadratureWeights()\n",
    "# area calculated by sparse grids\n",
    "gauss_S = sum(y(point)*weights_p[i] for i, point in enumerate(points_p))\n",
    "print('The area calculated by Gauss rule:', gauss_S)"
   ]
  },
  {
   "cell_type": "markdown",
   "metadata": {},
   "source": [
    "How to choose quadrature rules for sparse grids depends on how the problem is formed. A guidance on how to choose the one dimensional quadrature rule can be found in:\n",
    "https://tasmanian.ornl.gov/documentation/group__SGEnumerates.html#ga145e27d5ae92acdd5f74149c6d4f2ca2\n",
    "\n",
    "The following example shows several example quadrature rules:"
   ]
  },
  {
   "cell_type": "code",
   "execution_count": null,
   "metadata": {},
   "outputs": [],
   "source": [
    "def show_sparse_grids(range_p,dim=2,output=0,depth=5, rule='gauss-legendre'):\n",
    "    '''\n",
    "    This function shows the sparse grids generated with different rules\n",
    "    Arguments:\n",
    "        range_p: dimension ranges \n",
    "        dim: sparse grids dimension\n",
    "        output: output level\n",
    "        depth: depth level\n",
    "        rule: quadrature rules\n",
    "    Return: \n",
    "        None\n",
    "    Other:\n",
    "        A figure shows 2D sparse grids\n",
    "    '''\n",
    "    grid_p = Tasmanian.SparseGrid()\n",
    "    grid_p.makeGlobalGrid(dim,output,depth,'level',rule)\n",
    "    grid_p.setDomainTransform(range_p)\n",
    "    points_p = grid_p.getPoints()\n",
    "    weights_p = grid_p.getQuadratureWeights()\n",
    "    \n",
    "    for i in range(len(points_p)):\n",
    "        plt.scatter(points_p[i,0], points_p[i,1])\n",
    "        plt.title('Sparse girds of '+rule)\n",
    "    plt.show()\n",
    "    \n",
    "range_fix = np.array([[50,220],[300,600]])\n",
    "show_sparse_grids(range_fix)\n",
    "show_sparse_grids(range_fix, rule='gauss-hermite')\n",
    "show_sparse_grids(range_fix, rule='chebyshev')"
   ]
  },
  {
   "cell_type": "markdown",
   "metadata": {},
   "source": [
    "The following figure shows sparse grid on the top, and Monte Carlo samples on the bottom. Left graphs contain 441 scenarios, and the right graphs contain 1073 scenarios. Sparse grids can efficiently cover the domain and lead to higher convergence rates. \n",
    "\n",
    "![sg1](https://raw.githubusercontent.com/ndcbe/optimization/main/media/sg-1.png)\n",
    "\n",
    "Figure from [2]"
   ]
  },
  {
   "cell_type": "markdown",
   "metadata": {},
   "source": [
    "## Reference \n",
    "\n",
    "Biegler, L.T., 2010. Nonlinear programming: concepts, algorithms, and applications to chemical processes. Society for Industrial and Applied Mathematics.\n",
    "\n",
    "Birge, J.R. and Louveaux, F., 2011. Introduction to stochastic programming. Springer Science & Business Media.\n",
    "\n",
    "Figures from:\n",
    "\n",
    "[1] By Paolostar - Own work, CC BY-SA 4.0, https://commons.wikimedia.org/w/index.php?curid=46820806\n",
    "\n",
    "[2] Renteria, J.A., Cao, Y., Dowling, A.W. and Zavala, V.M., 2018. Optimal pid controller tuning using stochastic programming techniques. AIChE Journal, 64(8), pp.2997-3010."
   ]
  },
  {
   "cell_type": "markdown",
   "metadata": {},
   "source": []
  }
 ],
 "metadata": {
  "kernelspec": {
   "display_name": "base",
   "language": "python",
   "name": "python3"
  },
  "language_info": {
   "name": "python",
   "version": "3.9.12"
  }
 },
 "nbformat": 4,
 "nbformat_minor": 2
}
