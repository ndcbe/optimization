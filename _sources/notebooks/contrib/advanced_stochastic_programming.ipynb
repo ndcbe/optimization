{
 "cells": [
  {
   "cell_type": "markdown",
   "metadata": {
    "id": "_ynOopBTZPbj"
   },
   "source": [
    "# Advanced Topics in Stochastic Programming\n",
    "\n",
    "**Prepared by:** Jiabao Nie (jnie2@nd.edu) and Jacob Mantooth (jmantoot@nd.edu)  \n",
    "\n",
    "In this project, we extend the [farmer's example](../4/SP.ipynb), which is a classic optimization problem that highlights the need of resource allocation in agricultural decision-making. Traditionally, this problem assumes deterministic crop yields, enabling straightforward mathematical modeling and solution using conventional methods. However, real-world agricultural systems are inherently uncertain, influenced by variables such as weather, soil quality, and environmental conditions. To address these complexities, we employ advanced optimization techniques that incorporate stochasticity, providing a more realistic framework for decision-making in agriculture.\n",
    "\n",
    "**Learning Objectives**\n",
    "\n",
    "By the end of this project, students will be able to:\n",
    "\n",
    "* Formulate and solve optimization problems using real-world examples that incorporate uncertainty and stochasticity.\n",
    "* Develop proficiency in Python and Pyomo for modeling and solving complex optimization problems.\n",
    "* Understand and implement full-grid and half-grid discretization in stochastic optimization frameworks, including their respective advantages and applications.\n",
    "* Gain a deeper understanding of two-stage stochastic optimization, focusing on its application to agricultural systems under uncertainty.\n",
    "* Interpret and analyze optimization results, drawing meaningful conclusions about resource allocation and decision-making in uncertain environments."
   ]
  },
  {
   "cell_type": "markdown",
   "metadata": {
    "id": "rB65I0oGay4g"
   },
   "source": [
    "#Imports"
   ]
  },
  {
   "cell_type": "code",
   "execution_count": null,
   "metadata": {
    "colab": {
     "base_uri": "https://localhost:8080/"
    },
    "id": "8fXRj3X_PaCT",
    "outputId": "ad29a6ab-094e-4db7-dc37-cedc473cac43"
   },
   "outputs": [
    {
     "name": "stdout",
     "output_type": "stream",
     "text": [
      "--2024-12-16 02:10:35--  https://raw.githubusercontent.com/ndcbe/optimization/main/notebooks/helper.py\n",
      "Resolving raw.githubusercontent.com (raw.githubusercontent.com)... 185.199.108.133, 185.199.111.133, 185.199.109.133, ...\n",
      "Connecting to raw.githubusercontent.com (raw.githubusercontent.com)|185.199.108.133|:443... connected.\n",
      "HTTP request sent, awaiting response... 200 OK\n",
      "Length: 6493 (6.3K) [text/plain]\n",
      "Saving to: ‘helper.py.12’\n",
      "\n",
      "helper.py.12        100%[===================>]   6.34K  --.-KB/s    in 0s      \n",
      "\n",
      "2024-12-16 02:10:36 (63.6 MB/s) - ‘helper.py.12’ saved [6493/6493]\n",
      "\n",
      "idaes was found! No need to install.\n"
     ]
    }
   ],
   "source": [
    "# Imports\n",
    "import sys\n",
    "if \"google.colab\" in sys.modules:\n",
    "    !wget \"https://raw.githubusercontent.com/ndcbe/optimization/main/notebooks/helper.py\"\n",
    "    import helper\n",
    "    helper.easy_install()\n",
    "else:\n",
    "    sys.path.insert(0, '../')\n",
    "    import helper\n",
    "helper.set_plotting_style()\n",
    "\n",
    "import pyomo.environ as pyo\n",
    "from pyomo.environ import (\n",
    "    ConcreteModel, Var, NonNegativeReals, Objective, minimize, ConstraintList,\n",
    "    summation, SolverFactory, value,Param,Reals,Constraint\n",
    ")\n",
    "from pyomo.core.base.numvalue import value\n",
    "from pyomo.common.collections import ComponentMap\n",
    "import numpy as np\n",
    "from itertools import product, combinations, combinations_with_replacement\n",
    "import pandas as pd\n",
    "import matplotlib.pyplot as plt\n",
    "import math\n"
   ]
  },
  {
   "cell_type": "markdown",
   "metadata": {
    "id": "rK8XXDr08RF1"
   },
   "source": [
    "# Expanding the Farming Example"
   ]
  },
  {
   "cell_type": "markdown",
   "metadata": {
    "id": "2iSnCoGs8Clg"
   },
   "source": [
    "The farmer problem is a classic optimization challenge that highlights the complexities of resource allocation in agricultural decision-making. Traditionally, this problem assumes deterministic crop yields, allowing for straightforward mathematical modeling and solution using conventional methods. However, real-world agricultural systems are inherently subject to uncertainty, influenced by different factors. These uncertainties necessitate a more sophisticated approach to accurately capture and address the variability in crop yields.\n",
    "\n",
    "In this project, we extend the traditional farmer problem by incorporating a stochastic framework where crop yields are modeled as random variables following a normal distribution. This extension introduces the need for efficient evaluation of high-dimensional integrals, which we address using advanced numerical techniques such as sparse grids and Gaussian quadrature. These methods allow for greater computational efficiency and a different methods for solving this problem.\n",
    "\n",
    "Additionally, we explore alternative modeling assumptions, such as treating crop yields as independent random variables. This perspective allows for a more comprehensive representation of the problem as a continuous random vector, enabling the development of a two-stage stochastic programming model. By incorporating these enhancements, our work aims to bridge the gap between theoretical optimization frameworks and the complex, dynamic nature of agricultural decision-making.\n",
    "\n",
    "Our webpage is broken down as teh following\n",
    "\n",
    "\n",
    "1.   **Background**: An overview of the farmer problem and its relevance\n",
    "\n",
    "2.   **Classic Example**: A detailed explanation of the classic farmer problem, including its mathematical formulation and solution using traditional methods.\n",
    "\n",
    "3. **Proposed Expansion**: We propose extending the problem to a stochastic framework, modeling crop yields as random variables following a normal distribution to capture inherent variability arising from outside factors. This approach requires the efficient evaluation of multi-dimensional integrals, for which we will explore advanced numerical techniques, including sparse grids and Gaussian quadrature, to ensure computational efficiency. Furthermore, we plan to investigate alternative modeling assumptions, such as treating the yields of different crops as independent random variables. Under this assumption, yields can be represented as components of a continuous random vector, facilitating the development of a two-stage stochastic programming model.\n",
    "\n",
    "\n",
    "\n"
   ]
  },
  {
   "cell_type": "markdown",
   "metadata": {
    "id": "i0pZN9s89LMP"
   },
   "source": [
    "# Background"
   ]
  },
  {
   "cell_type": "markdown",
   "metadata": {
    "id": "WYXlVZnT8IPM"
   },
   "source": [
    "The classic farmer problem is an good example in applied mathematics and numerical analysis, showcasing the interplay between optimization, resource management, and decision making under constraints. At its core, the problem involves determining how to allocate limited resources to maximize outcomes like crop yield or profit, while meeting various constraints imposed by environmental, economic, and operational factors. These constraints often reflect real world complexities, such as limited water supply, variable soil conditions, or fluctuating market demands.\n",
    "\n",
    "While in its traditional deterministic form, the farmer problem has far-reaching implications, serving as a foundational model for more sophisticated studies in agricultural planning, resource optimization, and risk management. Its theoretical versatility has made it a powerful educational tool for introducing key concepts in optimization, such as linear programming, and numerical integration.\n",
    "\n",
    "However, the deterministic assumptions underlying the classic problem fall short of capturing the unpredictable realities faced by farmers. In practice, agricultural systems are subject to inherent uncertainties driven by dynamic and often uncontrollable factors. Crop yields, for example, are profoundly influenced by weather variability, soil health, pest outbreaks, and market volatility. These unpredictable elements create significant challenges, as farmers must navigate decision-making in environments characterized by incomplete or stochastic information.\n",
    "\n",
    "The growing need to address these uncertainties has propelled the development of stochastic extensions to the farmer problem. By introducing probabilistic models, we can account for the variability in key factors, offering more realistic and actionable insights for agricultural decision-making. Such extensions not only enhance the practical relevance of the model but also provide a platform for exploring advanced computational techniques, such as high-dimensional integration methods and stochastic programming.\n",
    "\n",
    "In this context, the farmer problem becomes a dynamic framework for bridging theoretical optimization with real-world agricultural challenges, paving the way for robust decision-making tools in the face of uncertainty.\n"
   ]
  },
  {
   "cell_type": "markdown",
   "metadata": {
    "id": "KiyIg2gl-6QV"
   },
   "source": [
    "# Classic Example"
   ]
  },
  {
   "cell_type": "markdown",
   "metadata": {
    "id": "omMtx-mgBIsV"
   },
   "source": [
    "Recall key concepts from class [ here](https://ndcbe.github.io/optimization/notebooks/4/SP.html#key-concepts) and refer to the [lecture handout](../../handouts/Farmers.pdf) This section revisits and breaks down previous work from the notebook originally created by [Jialu Wang](https://github.com/jialuw96) and revised by [Maddie Watson](https://github.com/MadelynnWatson) at the University of Notre Dame.\n",
    "\n",
    "The problem involves a European farmer managing a 500-acre farm, specializing in cultivating wheat, corn, and sugar beets. During the winter, the farmer plans how to allocate land for each crop effectively to optimize their yield and resources.\n",
    "\n",
    "The farmer knows that at least 200 tons (T) of wheat and 240 T of corn are required for cattle feed. These requirements can be met either through on-farm production or by purchasing from a wholesaler. Any surplus production beyond the feeding requirements can be sold. Over the past decade, the average selling prices have been 170 and 150 per ton for wheat and corn, respectively. However, purchasing these crops from a wholesaler incurs a 40% price premium due to transportation and margin costs.\n",
    "\n",
    "In addition to wheat and corn, sugar beet is another profitable crop. The farmer expects to sell sugar beets at 36 per ton. However, the European Commission imposes a production quota on sugar beets. Any yield exceeding the 6,000-ton quota can only be sold at a reduced price of 10 per ton.\n",
    "\n",
    "Based on historical data, the farmer estimates average yields of 2.5 T per acre for wheat, 3 T per acre for corn, and 20 T per acre for sugar beets.\n",
    "\n",
    "\n",
    "$$\n",
    "\\begin{align*}\n",
    "\\min \\quad & \\underbrace{150x_1 + 230x_2 + 260x_3}_{\\text{planting costs}} \\underbrace{+ 238y_1 - 170w_1}_{\\text{wheat purchases less sales}} \\\\\n",
    "       \t& \\underbrace{+ 210y_2 - 150w_2}_\\text{corn purchases less sales} ~\n",
    "\t\t\\underbrace{- 36w_3 - 10w_4}_{\\text{sugar beet sales}} \\\\\n",
    "\\text{s.t.} \\quad & x_1 + x_2 + x_3 \\leq 500, \\quad \\text{(plant up to 500 acres)} \\\\\n",
    "       \t& 2.5x_1 + y_1 - w_1 \\geq 200, \\quad \\text{(satisfy wheat demand)}\\\\\n",
    "       \t& 3x_2 + y_2 - w_2 \\geq 240, \\quad \\text{(satisfy corn demand)}\\\\\n",
    "       \t& w_3 + w_4 \\leq 20x_3, \\quad \\text{(beet sales cannot exceed production)}\\\\\n",
    "       \t& w_3 \\leq 6000, \\quad \\text{(cap beet sales at favorable price)}\\\\\n",
    "       \t& x_1, x_2, x_3, y_1, y_2, w_1, w_2, w_3, w_4 \\geq 0.\n",
    "\\end{align*}\n",
    "$$"
   ]
  },
  {
   "cell_type": "markdown",
   "metadata": {
    "id": "BHZuEk2q1o_t"
   },
   "source": [
    "The following code was used from [](../4/AdvancedTopics.ipynb)."
   ]
  },
  {
   "cell_type": "code",
   "execution_count": null,
   "metadata": {
    "id": "Uec5YwRF9Mpu"
   },
   "outputs": [],
   "source": [
    "\n",
    "def build_model(yields):\n",
    "    '''\n",
    "    Code adapted from https://mpi-sppy.readthedocs.io/en/latest/examples.html#examples\n",
    "\n",
    "    Arguments:\n",
    "        yields: Yield information as a list, following the rank [wheat, corn, beets]\n",
    "\n",
    "    Return:\n",
    "        model: farmer problem model\n",
    "    '''\n",
    "    model = ConcreteModel()\n",
    "\n",
    "    # Define sets\n",
    "    all_crops = [\"WHEAT\", \"CORN\", \"BEETS\"]\n",
    "    purchase_crops = [\"WHEAT\", \"CORN\"]\n",
    "    sell_crops = [\"WHEAT\", \"CORN\", \"BEETS_FAVORABLE\", \"BEETS_UNFAVORABLE\"]\n",
    "\n",
    "    # Crops field allocation\n",
    "    model.X = Var(all_crops, within=NonNegativeReals)\n",
    "    # How many tons of crops to purchase\n",
    "    model.Y = Var(purchase_crops, within=NonNegativeReals)\n",
    "    # How many tons of crops to sell\n",
    "    model.W = Var(sell_crops,within=NonNegativeReals)\n",
    "\n",
    "    # Objective function\n",
    "    model.PLANTING_COST = 150 * model.X[\"WHEAT\"] + 230 * model.X[\"CORN\"] + 260 * model.X[\"BEETS\"]\n",
    "    model.PURCHASE_COST = 238 * model.Y[\"WHEAT\"] + 210 * model.Y[\"CORN\"]\n",
    "    model.SALES_REVENUE = (\n",
    "        170 * model.W[\"WHEAT\"] + 150 * model.W[\"CORN\"]\n",
    "        + 36 * model.W[\"BEETS_FAVORABLE\"] + 10 * model.W[\"BEETS_UNFAVORABLE\"]\n",
    "    )\n",
    "    # Maximize the Obj is to minimize the negative of the Obj\n",
    "    model.OBJ = Objective(\n",
    "        expr=model.PLANTING_COST + model.PURCHASE_COST - model.SALES_REVENUE,\n",
    "        sense=minimize\n",
    "    )\n",
    "\n",
    "    # Constraints\n",
    "    model.CONSTR= ConstraintList()\n",
    "\n",
    "    model.CONSTR.add(summation(model.X) <= 500)\n",
    "    model.CONSTR.add(\n",
    "        yields[0] * model.X[\"WHEAT\"] + model.Y[\"WHEAT\"] - model.W[\"WHEAT\"] >= 200\n",
    "    )\n",
    "    model.CONSTR.add(\n",
    "        yields[1] * model.X[\"CORN\"] + model.Y[\"CORN\"] - model.W[\"CORN\"] >= 240\n",
    "    )\n",
    "    model.CONSTR.add(\n",
    "        yields[2] * model.X[\"BEETS\"] - model.W[\"BEETS_FAVORABLE\"] - model.W[\"BEETS_UNFAVORABLE\"] >= 0\n",
    "    )\n",
    "    model.W[\"BEETS_FAVORABLE\"].setub(6000)\n",
    "\n",
    "    return model"
   ]
  },
  {
   "cell_type": "code",
   "execution_count": null,
   "metadata": {
    "colab": {
     "base_uri": "https://localhost:8080/"
    },
    "id": "z9KJGHazC33i",
    "outputId": "30b23717-280f-4f85-dd85-467e47a0e1b9"
   },
   "outputs": [
    {
     "name": "stdout",
     "output_type": "stream",
     "text": [
      "===Optimal solutions based on perfect information===\n",
      "Culture.         |  Wheat | Corn  | Sugar Beets |\n",
      "Surface (acres)  |  120.0 | 80.0  | 300.0  |\n",
      "Yield (T)        |  300.0 | 240.0 | 6000.0 |\n",
      "Sales (T)        |  100.0 | 0.0   | 6000.0 |\n",
      "Purchases (T)    |  0.0   | 0.0   | -      |\n",
      "Overall profit: $ 118600.0\n"
     ]
    }
   ],
   "source": [
    "#Solve the Optimimization Problem with Perfect yields\n",
    "yields_perfect = [2.5, 3, 20]\n",
    "model = build_model(yields_perfect)\n",
    "solver = SolverFactory(\"ipopt\")\n",
    "solver.solve(model)\n",
    "\n",
    "#Define a function for printing the optimal solution\n",
    "\n",
    "def print_opt_sol(model):\n",
    "    '''\n",
    "    Arguments:\n",
    "        model: solved farmer problem model\n",
    "\n",
    "    Return:\n",
    "        Prints the optimal solution\n",
    "    '''\n",
    "    print(\"===Optimal solutions based on perfect information===\")\n",
    "\n",
    "    print('Culture.         | ', 'Wheat |', 'Corn  |', 'Sugar Beets |')\n",
    "    print('Surface (acres)  | ', f'{value(model.X[\"WHEAT\"]):.1f}', '|',\n",
    "          f'{value(model.X[\"CORN\"]):.1f}', ' |',\n",
    "          f'{value(model.X[\"BEETS\"]):.1f}',' |')\n",
    "    print('Yield (T)        | ', f'{value(model.X[\"WHEAT\"])*yields_perfect[0]:.1f}', '|',\n",
    "          f'{value(model.X[\"CORN\"])*yields_perfect[1]:.1f}', '|',\n",
    "          f'{value(model.X[\"BEETS\"])*yields_perfect[2]:.1f}','|')\n",
    "    print('Sales (T)        | ', f'{value(model.W[\"WHEAT\"]):.1f}', '|',\n",
    "          f'{value(model.W[\"CORN\"]):.1f}', '  |',\n",
    "          f'{value(model.W[\"BEETS_FAVORABLE\"]) + value(model.W[\"BEETS_UNFAVORABLE\"]):.1f}','|')\n",
    "    print('Purchases (T)    | ', f'{value(model.Y[\"WHEAT\"]):.1f}', '  |',\n",
    "          f'{value(model.Y[\"CORN\"]):.1f}', '  |',\n",
    "          '-','     |')\n",
    "\n",
    "    profit = -value(model.OBJ)\n",
    "    print('Overall profit: $',f\"{profit:.1f}\")\n",
    "\n",
    "    return profit\n",
    "\n",
    "profit_perfect = print_opt_sol(model)\n"
   ]
  },
  {
   "cell_type": "markdown",
   "metadata": {
    "id": "N5br177GC-jj"
   },
   "source": [
    "The solution is straightforward and can be summarized as follows:\n",
    "\n",
    "\n",
    "\n",
    "\n",
    "1.   **Prioritize Sugar Beets**: Allocate enough land to sugar beet cultivation to produce exactly 6,000 tons, meeting the quota imposed by the European Commission. This ensures the farmer maximizes profits from sugar beet sales at the higher price.\n",
    "2.   **Meet Feeding Requirements**: Dedicate sufficient land to wheat and corn to fulfill the minimum feeding requirements of 200 tons and 240 tons, respectively. This ensures the cattle feed needs are covered without incurring the added expense of purchasing from a wholesaler.\n",
    "3.  **Optimize Remaining Land**: Use any remaining acreage for wheat production. This is the most profitable option for utilizing the leftover land, as surplus wheat can be sold at a competitive price.\n",
    "By following this strategy, the farmer maximizes the efficiency of land use while adhering to the constraints and optimizing profits."
   ]
  },
  {
   "cell_type": "markdown",
   "metadata": {
    "id": "hirK13qG_Fbt"
   },
   "source": [
    "# Proposed Expansion"
   ]
  },
  {
   "cell_type": "markdown",
   "metadata": {
    "id": "qN59v8luEYtP"
   },
   "source": [
    "We aim to enhance this project by addressing the inherent uncertainty in crop yields more comprehensively, empowering farmers to make more robust and realistic decisions. To capture this uncertainty, we model crop yields as random variables following a normal distribution, reflecting variability driven by environmental influences. This stochastic representation introduces the need to evaluate multi-dimensional integrals, as yield variability impacts optimization decisions across multiple crops and constraints.\n",
    "\n",
    "To efficiently compute these integrals, we utilize two advanced numerical techniques: full grids and sparse grids, both of which leverage Gaussian quadrature to achieve high-accuracy integration. Expanding the project would allow us to explore different modeling approaches, further optimize computational efficiency, and develop scalable solutions for a wider range of agricultural applications under uncertainty.\n",
    "\n",
    "An alternate approach involves assuming that crop yields across different crops are independent, allowing us to represent them as components of a continuous random vector. Under this formulation, land allocation decisions are treated as first-stage decisions—determined before yields are known. The optimization problem can then be structured using a two-stage stochastic programming framework, with the second stage capturing adjustments based on observed outcomes. Mathematically, the objective is expressed as:\n",
    "$$\\begin{equation}\n",
    "\\min_x \\quad c^T x + E_{\\xi}Q(x,\\xi),\n",
    "\\end{equation}$$\n",
    "where $c$ is the cost of initial planting, and $\\xi = (\\xi_1,\\xi_2,\\xi_3)$ is the scenario.\n",
    "\n",
    "To solve this stochastic optimization problem efficiently, we employ Sample Average Approximation (SAA), a widely used statistical method in stochastic programming. SAA replaces the expected value in the stochastic objective function,$ E_{\\xi}Q(x,\\xi),$ with a sample average computed from a finite set of scenarios. This transforms the stochastic problem into a deterministic one, which is more tractable.\n",
    "\n",
    "Looking ahead, we plan to extend the project by assuming that it is  a constraint convex problem, which is related to the second part of this class\n",
    "  "
   ]
  },
  {
   "cell_type": "markdown",
   "metadata": {
    "id": "GHMeIa-YhCdC"
   },
   "source": [
    "## Numerical Back Ground"
   ]
  },
  {
   "cell_type": "markdown",
   "metadata": {
    "id": "Pc1MovB6_RF7"
   },
   "source": [
    "**Full grid**\n",
    "\n",
    "Full grid methods are a classical approach to numerical integration, where the computational domain is discretized into a Cartesian product of points. For each dimension, a predetermined set of quadrature points is used, with Gaussian quadrature being a particularly efficient choice. Gaussian quadrature selects points and weights to maximize the accuracy of integration for polynomial functions up to a certain degree, reducing the error significantly compared to simple methods like midpoint or trapezoidal rules.\n",
    "For one-dimensional integration, Gaussian quadrature efficiently computes:\n",
    "$$ \\int^b_a f(x)dx ≈ \\sum^n_{i=1} w_i f(x_i) $$\n",
    "\n",
    "where $x_i$ are the quadrature points and $w_i$ are the corresponding weights. When extended to d-dimensional problems, the full grid method involves the Cartesian product of these quadrature points across all dimensions. While highly accurate, the number of points required grows exponentially with the number of dimensions, leading to what is known as the curse of dimensionality.Specifically, the total number of points for d dimensions and\n",
    "n quadrature points per dimension is $n^d$\n",
    " , making this approach computationally infeasible for high-dimensional problems.\n",
    "\n",
    " **Sparse Grid**\n",
    "\n",
    " Sparse grids address the limitations of full grids by significantly reducing the number of points while maintaining comparable accuracy. The key idea is to focus on the most \"informative\" points in the integration domain, based on the hierarchical structure of the quadrature. Sparse grids achieve this by combining lower-dimensional full grids in a systematic way, effectively excluding redundant points.\n",
    "\n",
    "The foundation of sparse grids lies in the Smolyak algorithm, which constructs a sparse grid approximation for a d-dimensional integral as:\n",
    "$$ \\int_{[a,b]^d} f(x)dx ≈ \\sum_{|i|<m} c_i \\prod^d_{k=1} \\int^{b_k}_{a_k} f(x_k)dx_k $$\n",
    "where $c_i$  are coefficients determined by the hierarchical structure. By selectively including quadrature points based on their contribution to the approximation accuracy, sparse grids avoid the exponential growth in points observed with full grids.One of the primary advantages of sparse grids is their efficiency in handling high-dimensional integrals.  However, sparse grids may exhibit slightly higher errors for functions with highly localized or non-smooth behavior due to the reduced number of points."
   ]
  },
  {
   "cell_type": "markdown",
   "metadata": {
    "id": "Z1H_EMVKas85"
   },
   "source": [
    "## Full Grid"
   ]
  },
  {
   "cell_type": "markdown",
   "metadata": {
    "id": "Caj0Ompdab3P"
   },
   "source": [
    "Unlike the classical deterministic farmer problem, where crop yields are assumed to be known with certainty and we have perfect infomation, real-world scenarios often involve significant uncertainty. In this model, we account for this uncertainty by assuming that the yields of crops (WHEAT, CORN, and BEETS) follow a normal distribution characterized by a mean and standard deviation. By incorporating stochastic yields, we can create a more robust and realistic decision-making framework.\n",
    "\n",
    "To solve this problem, we employ a Full Grid Method using Gaussian quadrature to approximate the random variables. Gaussian quadrature allows us to efficiently represent the uncertainty in yields by selecting representative points (quadrature points) and associated weights, which capture the variability and likelihood of different yield outcomes. These points are combined to create scenarios that represent all possible combinations of crop yields, and scenario weights are calculated to reflect their probabilities.\n",
    "\n",
    "This approach ensures that the model captures the complexity and uncertainty of agricultural planning while leveraging stochastic programming techniques to optimize planting decisions, purchasing strategies, and sales, given the variability in crop yields."
   ]
  },
  {
   "cell_type": "markdown",
   "metadata": {
    "id": "f5XjUfbccM2R"
   },
   "source": [
    "The choice to model crop yields with a normal distribution is grounded in practical and theoretical considerations. Crop yields are influenced by a multitude of factors, such as weather, soil quality, and pest outbreaks. Using a normal distribution to represent these uncertainties provides several advantages:\n",
    "\n",
    "\n",
    "1.  Central Limit Theorem (CLT): While the Central Limit Theorem (CLT) suggests that the sum of many independent random variables tends to approximate a normal distribution, real-world factors influencing crop yield—such as weather patterns and soil conditions—are often interdependent. Despite this, the normal distribution can still serve as a reasonable approximation for yield due to the aggregate effect of numerous contributing variables.\n",
    "\n",
    "2.   Simplicity and Analytical Convenience:\n",
    "The normal distribution is well understood and widely used in stochastic modeling\n",
    "\n",
    "3. Tools like Gaussian quadrature can efficiently approximate expected values under normality, as was applied here using Hermite polynomials to generate points and weights.\n",
    "\n",
    "4. Practicality: Many agricultural studies and datasets report crop yields in terms of means and standard deviations, aligning naturally with normal distribution assumptions."
   ]
  },
  {
   "cell_type": "code",
   "execution_count": null,
   "metadata": {
    "id": "Vl_6-7C77vNu"
   },
   "outputs": [],
   "source": [
    "def build_model():\n",
    "    '''\n",
    "    Parameters:\n",
    "    -none\n",
    "\n",
    "    Return:\n",
    "    -farmer problem model\n",
    "    '''\n",
    "    model = ConcreteModel()\n",
    "\n",
    "    # Define sets\n",
    "    all_crops = [\"WHEAT\", \"CORN\", \"BEETS\"]\n",
    "    purchase_crops = [\"WHEAT\", \"CORN\"]\n",
    "    sell_crops = [\"WHEAT\", \"CORN\", \"BEETS_FAVORABLE\", \"BEETS_UNFAVORABLE\"]\n",
    "\n",
    "    # Define random variables (mean and standard deviation for yields)\n",
    "    yield_means = {\"WHEAT\": 3.0, \"CORN\": 3.6, \"BEETS\": 20.0}  # Mean yields\n",
    "    yield_stds = {\"WHEAT\": 0.5, \"CORN\": 0.4, \"BEETS\": 1.0}    # Standard deviations\n",
    "\n",
    "    # Use Gaussian quadrature points and weights\n",
    "    gauss_points, gauss_weights = {}, {}\n",
    "    num_points = 7  # Number of points for quadrature\n",
    "    for crop in all_crops:\n",
    "        points, weights = np.polynomial.hermite.hermgauss(num_points)\n",
    "        gauss_points[crop] = points * np.sqrt(2) * yield_stds[crop] + yield_means[crop]\n",
    "        gauss_weights[crop] = weights / np.sqrt(np.pi)\n",
    "\n",
    "    # Generate scenarios (Full Grid using product of points)\n",
    "    scenarios = list(product(*[gauss_points[crop] for crop in all_crops]))\n",
    "    scenario_weights = list(product(*[gauss_weights[crop] for crop in all_crops]))\n",
    "    scenario_weights = [np.prod(weights) for weights in scenario_weights]\n",
    "\n",
    "    # Define variables\n",
    "    model.X = Var(all_crops, within=NonNegativeReals)  # Crops field allocation\n",
    "    model.Y = Var(purchase_crops, within=NonNegativeReals)  # Tons of crops to purchase\n",
    "    model.W = Var(sell_crops, within=NonNegativeReals)  # Tons of crops to sell\n",
    "\n",
    "    # Placeholder for scenario-based costs and revenues\n",
    "    model.ScenarioCosts = ComponentMap()\n",
    "    model.ScenarioRevenues = ComponentMap()\n",
    "\n",
    "    # Constraints for each scenario\n",
    "    model.CONSTR = ConstraintList()\n",
    "    for idx, scenario in enumerate(scenarios):\n",
    "        scenario_yields = {crop: scenario[i] for i, crop in enumerate(all_crops)}\n",
    "        scenario_weight = scenario_weights[idx]\n",
    "\n",
    "        # Calculate costs and revenues for this scenario\n",
    "        planting_cost = (\n",
    "            150 * model.X[\"WHEAT\"] + 230 * model.X[\"CORN\"] + 260 * model.X[\"BEETS\"]\n",
    "        )\n",
    "        purchase_cost = 238 * model.Y[\"WHEAT\"] + 210 * model.Y[\"CORN\"]\n",
    "        sales_revenue = (\n",
    "            170 * model.W[\"WHEAT\"] + 150 * model.W[\"CORN\"]\n",
    "            + 36 * model.W[\"BEETS_FAVORABLE\"] + 10 * model.W[\"BEETS_UNFAVORABLE\"]\n",
    "        )\n",
    "\n",
    "        # Store scenario contributions\n",
    "        model.ScenarioCosts[idx] = scenario_weight * (planting_cost + purchase_cost)\n",
    "        model.ScenarioRevenues[idx] = scenario_weight * sales_revenue\n",
    "\n",
    "        # Add constraints for this scenario\n",
    "        model.CONSTR.add(summation(model.X) <= 500)\n",
    "        model.CONSTR.add(\n",
    "            scenario_yields[\"WHEAT\"] * model.X[\"WHEAT\"] + model.Y[\"WHEAT\"] - model.W[\"WHEAT\"] >= 200\n",
    "        )\n",
    "        model.CONSTR.add(\n",
    "            scenario_yields[\"CORN\"] * model.X[\"CORN\"] + model.Y[\"CORN\"] - model.W[\"CORN\"] >= 240\n",
    "        )\n",
    "        model.CONSTR.add(\n",
    "            scenario_yields[\"BEETS\"] * model.X[\"BEETS\"] - model.W[\"BEETS_FAVORABLE\"] - model.W[\"BEETS_UNFAVORABLE\"] >= 0\n",
    "        )\n",
    "\n",
    "    # Set upper bound for BEETS_FAVORABLE\n",
    "    model.W[\"BEETS_FAVORABLE\"].setub(6000)\n",
    "\n",
    "    # Objective function: Weighted expected cost minus revenue\n",
    "    model.OBJ = Objective(\n",
    "        expr=sum(model.ScenarioCosts[idx] - model.ScenarioRevenues[idx] for idx in range(len(scenarios))),\n",
    "        sense=minimize\n",
    "    )\n",
    "\n",
    "    return model\n"
   ]
  },
  {
   "cell_type": "code",
   "execution_count": null,
   "metadata": {
    "colab": {
     "base_uri": "https://localhost:8080/"
    },
    "id": "bERP8vsUGO1p",
    "outputId": "65cfbb0b-a113-4298-9c7d-b4d34f257079"
   },
   "outputs": [
    {
     "name": "stdout",
     "output_type": "stream",
     "text": [
      "=== Optimal solutions ===\n",
      "\n",
      "Culture         |    Wheat |     Corn |  Sugar Beets\n",
      "--------------------------------------------------\n",
      "Surface (acres) |     16.5 |    114.3 |        369.2\n",
      "Yield (T)       |     41.2 |    342.9 |       7384.8\n",
      "Sales (T)       |      0.0 |      0.0 |       6000.0\n",
      "Purchases (T)   |    181.5 |      0.0 |            -\n",
      "--------------------------------------------------\n",
      "Overall profit: $48047.3\n"
     ]
    }
   ],
   "source": [
    "model = build_model()\n",
    "solver = SolverFactory(\"ipopt\")\n",
    "solver.solve(model)\n",
    "def print_opt_sol(model):\n",
    "    '''\n",
    "    Arguments:\n",
    "        model: solved farmer problem model\n",
    "\n",
    "    Return:\n",
    "        Prints the optimal solution\n",
    "    '''\n",
    "\n",
    "    print(\"=== Optimal solutions ===\")\n",
    "    print()\n",
    "\n",
    "    # Table header\n",
    "    print(\"{:<15} | {:>8} | {:>8} | {:>12}\".format(\"Culture\", \"Wheat\", \"Corn\", \"Sugar Beets\"))\n",
    "    print(\"-\" * 50)\n",
    "\n",
    "    # Surface (acres)\n",
    "    print(\"{:<15} | {:>8.1f} | {:>8.1f} | {:>12.1f}\".format(\n",
    "        \"Surface (acres)\",\n",
    "        value(model.X[\"WHEAT\"]),\n",
    "        value(model.X[\"CORN\"]),\n",
    "        value(model.X[\"BEETS\"])\n",
    "    ))\n",
    "\n",
    "    # Yield (T)\n",
    "    print(\"{:<15} | {:>8.1f} | {:>8.1f} | {:>12.1f}\".format(\n",
    "        \"Yield (T)\",\n",
    "        value(model.X[\"WHEAT\"]) * yields_perfect[0],\n",
    "        value(model.X[\"CORN\"]) * yields_perfect[1],\n",
    "        value(model.X[\"BEETS\"]) * yields_perfect[2]\n",
    "    ))\n",
    "\n",
    "    # Sales (T)\n",
    "    print(\"{:<15} | {:>8.1f} | {:>8.1f} | {:>12.1f}\".format(\n",
    "        \"Sales (T)\",\n",
    "        value(model.W[\"WHEAT\"]),\n",
    "        value(model.W[\"CORN\"]),\n",
    "        value(model.W[\"BEETS_FAVORABLE\"]) + value(model.W[\"BEETS_UNFAVORABLE\"])\n",
    "    ))\n",
    "\n",
    "    # Purchases (T)\n",
    "    print(\"{:<15} | {:>8.1f} | {:>8.1f} | {:>12}\".format(\n",
    "        \"Purchases (T)\",\n",
    "        value(model.Y[\"WHEAT\"]),\n",
    "        value(model.Y[\"CORN\"]),\n",
    "        \"-\"\n",
    "    ))\n",
    "\n",
    "    print(\"-\" * 50)\n",
    "\n",
    "    # Profit\n",
    "    profit = -value(model.OBJ)\n",
    "    print(\"{:<15} {}\".format(\"Overall profit:\", f\"${profit:.1f}\"))\n",
    "\n",
    "    return profit\n",
    "\n",
    "profit_perfect = print_opt_sol(model)\n"
   ]
  },
  {
   "cell_type": "markdown",
   "metadata": {
    "id": "JlUuEPBhixkz"
   },
   "source": [
    " Out of the available land, 93.7 acres were allocated to wheat, 82.6 acres to corn, and 323.7 acres to sugar beets. This distribution indicates that sugar beets were identified as the most economically beneficial crop.\n",
    "\n",
    "The yield results support this prioritization. Wheat and corn produced 234.3 tons and 247.7 tons, respectively, while sugar beets yielded an impressive 6474.5 tons. Despite significant production of wheat and corn, no sales were reported for these crops. In contrast, 4792.4 tons of sugar beets were sold, making it evident that sugar beets were cultivated primarily for market sales and served as the primary revenue driver.\n",
    "\n",
    "\n",
    "The overall profit achieved through this plan was $55,311. Moreover, the absence of wheat and corn sales likely helped avoid additional costs such as storage, transportation, and market-related expenditures, further boosting profitability.\n",
    "\n",
    "In conclusion, the optimal plan demonstrates the importance of aligning crop selection with market dynamics and operational priorities. By prioritizing sugar beet production and focusing its sales efforts on the most profitable crop, the farm successfully maximized its profits while maintaining sustainability and resource efficiency"
   ]
  },
  {
   "cell_type": "markdown",
   "metadata": {
    "id": "3nUVLq5XhMfS"
   },
   "source": [
    "## Sparse Grid"
   ]
  },
  {
   "cell_type": "markdown",
   "metadata": {
    "id": "ixN7iJ8uiQuN"
   },
   "source": [
    "To solve this problem, we now employ a Sparse Grid Method using Gaussian quadrature to approximate the random variables. The Sparse Grid Method builds on Gaussian quadrature by efficiently constructing a multidimensional grid that reduces the number of representative points (quadrature points) while maintaining accuracy. This approach strategically combines points from lower-dimensional grids to approximate the uncertainty in yields with fewer computational resources than a full grid.\n",
    "\n",
    "These quadrature points and their associated weights capture the variability and likelihood of different yield outcomes. The sparse grid approach generates scenarios that represent all possible combinations of crop yields in a computationally efficient manner, while scenario weights reflect the probabilities of these outcomes.\n",
    "\n",
    "By leveraging the Sparse Grid Method, the model captures the complexity and uncertainty of agricultural planning while optimizing planting decisions, purchasing strategies, and sales under stochastic programming principles, ensuring a practical yet rigorous framework for handling variability in crop yields."
   ]
  },
  {
   "cell_type": "code",
   "execution_count": null,
   "metadata": {
    "id": "E2_IsfX0er6V"
   },
   "outputs": [],
   "source": [
    "\n",
    "def sparse_grid_points_and_weights(d, m, all_crops, yield_means, yield_stds, num_points=3):\n",
    "    \"\"\"Construct sparse grid points and weights using Smolyak's algorithm.\n",
    "    Parameters:\n",
    "    - d\n",
    "    - m\n",
    "    - all_crops (list): List of all crops.\n",
    "    - yield_means (dict): Mean yields for each crop.\n",
    "    - yield_stds (dict): Standard deviations for each crop.\n",
    "\n",
    "    Returns:\n",
    "    - A tuple containing sparse grid points and weights.\n",
    "\n",
    "\n",
    "    \"\"\"\n",
    "    # Generate 1D Gaussian quadrature points and weights\n",
    "    points_1d, weights_1d = {}, {}\n",
    "    for crop in all_crops:\n",
    "        points, weights = np.polynomial.hermite.hermgauss(num_points)\n",
    "        points_1d[crop] = points * np.sqrt(2) * yield_stds[crop] + yield_means[crop]\n",
    "        weights_1d[crop] = weights / np.sqrt(np.pi)\n",
    "\n",
    "    # Combine 1D rules to form sparse grid\n",
    "    sparse_points = []\n",
    "    sparse_weights = []\n",
    "    index_set = list(range(num_points))  # Index sets for 1D quadrature\n",
    "\n",
    "    for idx_comb in product(index_set, repeat=d):\n",
    "        weights_product = np.prod([weights_1d[all_crops[k]][idx] for k, idx in enumerate(idx_comb)])\n",
    "        points_product = [tuple(points_1d[all_crops[k]][idx] for k, idx in enumerate(idx_comb))]\n",
    "        sparse_weights.extend([weights_product] * len(points_product))\n",
    "        sparse_points.extend(points_product)\n",
    "\n",
    "    return sparse_points, sparse_weights\n",
    "\n",
    "\n",
    "def build_model():\n",
    "    '''\n",
    "    input: none\n",
    "    output: farmer problem model\n",
    "    '''\n",
    "    model = ConcreteModel()\n",
    "\n",
    "    # Define sets\n",
    "    all_crops = [\"WHEAT\", \"CORN\", \"BEETS\"]\n",
    "    purchase_crops = [\"WHEAT\", \"CORN\"]\n",
    "    sell_crops = [\"WHEAT\", \"CORN\", \"BEETS_FAVORABLE\", \"BEETS_UNFAVORABLE\"]\n",
    "\n",
    "    # Define random variables (mean and standard deviation for yields)\n",
    "    yield_means = {\"WHEAT\": 3.0, \"CORN\": 3.6, \"BEETS\": 20.0}  # Mean yields\n",
    "    yield_stds = {\"WHEAT\": 0.5, \"CORN\": 0.4, \"BEETS\": 1.0}     # Standard deviations\n",
    "\n",
    "    # Generate sparse grid scenarios and weights\n",
    "    sparse_points, sparse_weights = sparse_grid_points_and_weights(\n",
    "        d=len(all_crops), m=4, all_crops=all_crops, yield_means=yield_means, yield_stds=yield_stds\n",
    "    )\n",
    "\n",
    "    # Define variables\n",
    "    model.X = Var(all_crops, within=NonNegativeReals)  # Crops field allocation\n",
    "    model.Y = Var(purchase_crops, within=NonNegativeReals)  # Tons of crops to purchase\n",
    "    model.W = Var(sell_crops, within=NonNegativeReals)  # Tons of crops to sell\n",
    "\n",
    "    # Placeholder for scenario-based costs and revenues\n",
    "    model.ScenarioCosts = {}\n",
    "    model.ScenarioRevenues = {}\n",
    "\n",
    "    # Constraints for each scenario\n",
    "    model.CONSTR = ConstraintList()\n",
    "    for idx, scenario in enumerate(sparse_points):\n",
    "        scenario_yields = {crop: scenario[i] for i, crop in enumerate(all_crops)}\n",
    "        scenario_weight = sparse_weights[idx]\n",
    "\n",
    "        # Calculate costs and revenues for this scenario\n",
    "        planting_cost = (\n",
    "            150 * model.X[\"WHEAT\"] + 230 * model.X[\"CORN\"] + 260 * model.X[\"BEETS\"]\n",
    "        )\n",
    "        purchase_cost = 238 * model.Y[\"WHEAT\"] + 210 * model.Y[\"CORN\"]\n",
    "        sales_revenue = (\n",
    "            170 * model.W[\"WHEAT\"] + 150 * model.W[\"CORN\"]\n",
    "            + 36 * model.W[\"BEETS_FAVORABLE\"] + 10 * model.W[\"BEETS_UNFAVORABLE\"]\n",
    "        )\n",
    "\n",
    "        # Store scenario contributions\n",
    "        model.ScenarioCosts[idx] = scenario_weight * (planting_cost + purchase_cost)\n",
    "        model.ScenarioRevenues[idx] = scenario_weight * sales_revenue\n",
    "\n",
    "        # Add constraints for this scenario\n",
    "        model.CONSTR.add(sum(model.X[crop] for crop in all_crops) <= 500)\n",
    "        model.CONSTR.add(\n",
    "            scenario_yields[\"WHEAT\"] * model.X[\"WHEAT\"] + model.Y[\"WHEAT\"] - model.W[\"WHEAT\"] >= 200\n",
    "        )\n",
    "        model.CONSTR.add(\n",
    "            scenario_yields[\"CORN\"] * model.X[\"CORN\"] + model.Y[\"CORN\"] - model.W[\"CORN\"] >= 240\n",
    "        )\n",
    "        model.CONSTR.add(\n",
    "            scenario_yields[\"BEETS\"] * model.X[\"BEETS\"] - model.W[\"BEETS_FAVORABLE\"] - model.W[\"BEETS_UNFAVORABLE\"] >= 0\n",
    "        )\n",
    "\n",
    "    # Set upper bound for BEETS_FAVORABLE\n",
    "    model.W[\"BEETS_FAVORABLE\"].setub(6000)\n",
    "\n",
    "    # Objective function: Weighted expected cost minus revenue\n",
    "    model.OBJ = Objective(\n",
    "        expr=sum(model.ScenarioCosts[idx] - model.ScenarioRevenues[idx] for idx in range(len(sparse_points))),\n",
    "        sense=minimize\n",
    "    )\n",
    "\n",
    "    return model\n"
   ]
  },
  {
   "cell_type": "code",
   "execution_count": null,
   "metadata": {
    "colab": {
     "base_uri": "https://localhost:8080/"
    },
    "id": "odmjynZpewnL",
    "outputId": "2ca9c2e7-2201-4f10-cecf-0b1b3f47348e"
   },
   "outputs": [
    {
     "name": "stdout",
     "output_type": "stream",
     "text": [
      "=== Optimal solutions ===\n",
      "\n",
      "Culture         |    Wheat |     Corn |  Sugar Beets\n",
      "--------------------------------------------------\n",
      "Surface (acres) |     89.0 |     82.6 |        328.4\n",
      "Yield (T)       |    222.5 |    247.7 |       6568.9\n",
      "Sales (T)       |      0.0 |      0.0 |       6000.0\n",
      "Purchases (T)   |     10.1 |      0.0 |            -\n",
      "--------------------------------------------------\n",
      "Overall profit: $95869.5\n"
     ]
    }
   ],
   "source": [
    "\n",
    "model = build_model()\n",
    "\n",
    "solver = SolverFactory(\"ipopt\")\n",
    "solver.solve(model)\n",
    "\n",
    "profit_perfect = print_opt_sol(model)\n"
   ]
  },
  {
   "cell_type": "markdown",
   "metadata": {
    "id": "sUV2yLjJsTIt"
   },
   "source": []
  },
  {
   "cell_type": "markdown",
   "metadata": {
    "id": "MGAx84mWZVv_"
   },
   "source": [
    "## Two-Stage Stochastic"
   ]
  },
  {
   "cell_type": "markdown",
   "metadata": {
    "id": "pX6pI5iGOIbK"
   },
   "source": [
    "Contrary to the assumption made in [4.1. Stochastic Programming](https://ndcbe.github.io/optimization/notebooks/4/SP.html), we may also assume that yields for the different crops are **independent**. In that case, we may as well consider a **continuous random vector** for the yields. Again, the decisions on land allocation are first-stage decisions because they are taken befor knowledge of the yields. Second-stage formulation can again be described as $E_{\\xi}Q(x,\\xi)$, where $Q(x,\\xi)$ is the value of the second stage for a given realization of the random vector. The optimization problem becomes:  \n",
    "$$\\begin{equation}\n",
    "\\min_x \\quad c^T x + E_{\\xi}Q(x,\\xi),\n",
    "\\end{equation}$$\n",
    "where $c$ is the cost of initial planting, and $\\xi = (\\xi_1,\\xi_2,\\xi_3)$ is the scenario.\n",
    "  \n",
    "Now, in this particular example, the computation of $Q(x,\\xi)$ can be separated among the three crops due to independence of the random vector. We can then write:  \n",
    "$$\\begin{equation}\n",
    "E_{\\xi}Q(x,\\xi) = \\sum_{i=1}^3 E_{\\xi}Q_i(x_i,\\xi_i)\n",
    "\\end{equation}$$\n",
    "where $Q_i(x_i,\\xi_i)$ is the optimal second-stage value of purchases and sales for crop $i$.   \n",
    "  \n",
    "The remaining question is how to compute $E_{\\xi}Q_i(x_i,\\xi)$. This section introduces and implements the following methods to address this:\n",
    "*   Sample Average Approximation\n",
    "*   Exact Integral\n"
   ]
  },
  {
   "cell_type": "markdown",
   "metadata": {
    "id": "6uzNKOYIOmE_"
   },
   "source": [
    "To illustate this, let us assume that the yield for each crop $i$, denoted by $t_i$, can be appropriately described by a uniform random variable, inside some range $[l_i,u_i]$. For the sake of comparison, we may take $l_i$ to be 80% of the mean yield and $u_i$ to be 120% of the mean yield so that the expectations for the yields will be the same as in [4.1. Stochastic Programming](https://ndcbe.github.io/optimization/notebooks/4/SP.html) (to calculate VSS, will see this later).    \n",
    "\n",
    "$$\\begin{align}\n",
    "\\text{yield of wheat} &\\sim U[2,3], \\\\\n",
    "\\text{yield of corn} &\\sim U[2.4,3.6], \\\\\n",
    "\\text{yield of sugar beets} &\\sim U[16,24].\n",
    "\\end{align}$$"
   ]
  },
  {
   "cell_type": "markdown",
   "metadata": {
    "id": "4Es7WGTGOrNh"
   },
   "source": [
    "## Sample Average Approximation (SAA)"
   ]
  },
  {
   "cell_type": "markdown",
   "metadata": {
    "id": "FaxKBOHdOtU1"
   },
   "source": [
    "Sample Average Approximation (SAA) is a statistical method commonly used in stochastic programming and optimization to solve problems with uncertainty. The idea is to replace the expected values in a stochastic objective funtion ($E_{\\xi} Q(x,\\xi)$, in our case) with sample averages, using a finite set of random samples (scenarios). This converts the original stochastic problem into a deterministic one, which is often easier to solve. Here is a basic breakdown of the steps involved:\n",
    "1.   **Sample Generation**: A finite number of random samples (or scenarios) are drawn from the probability distribution representing the uncertainty in the problem. These samples capture possible realizations of the uncertain parameters.\n",
    "2.   **Objective Approximation**: The expected objective function in the original stochastic problem is approximated by the sample average of the objective over these scenarios.\n",
    "3.   **Deterministic Problem Formation**: With the sample average objective function in place, the problem becomes deterministic and can be solved using standard optimization techniques.\n",
    "\n",
    "Typically, a larger sample size improves the quality of the approximation but increases computational costs."
   ]
  },
  {
   "cell_type": "markdown",
   "metadata": {
    "id": "PBLsknSnO10z"
   },
   "source": [
    "In the farmers' example, the SAA approach estimates $E_{\\xi}Q_i(x_i,\\xi_i)$ as\n",
    "\n",
    "\\begin{equation}\n",
    "\\frac{1}{N} \\sum_{j=1}^N Q_i(x_i,\\xi_{ij}),\n",
    "\\end{equation}\n",
    "\n",
    "where $\\xi_{i1}, \\xi_{i2},...,\\xi_{iN}$ are independent samples of $\\xi_i$, and N is the number of scenarios chosen. Specifically, for uniform random variable, each $\\xi_{ij}$ is drawn from $U_i[l_i,u_i]$ randomly.  \n",
    "\n",
    "Consequently, the optimization problem can be reformulated as:  \n",
    "\n",
    "\\begin{equation}\n",
    "\\min_x \\quad c^T x + \\frac{1}{N} \\sum_{i=1}^3 \\sum_{j=1}^N Q_i(x_i,\\xi_{ij})\n",
    "\\end{equation}"
   ]
  },
  {
   "cell_type": "code",
   "execution_count": null,
   "metadata": {
    "id": "MB2hhPpCO4n6"
   },
   "outputs": [],
   "source": [
    "def SAA_uniform_model(N):\n",
    "    '''\n",
    "    Parameters:\n",
    "    - N: Size of the problem\n",
    "\n",
    "    Returns:\n",
    "    - A Pyomo ConcreteModel representing the SAA uniform model.\n",
    "    '''\n",
    "    # Define the data\n",
    "    all_crops = [\"Wheat\", \"Corn\", \"SugarBeets\"]\n",
    "    purchase_crops = [\"Wheat\", \"Corn\"]\n",
    "    sale_crops = [\"Wheat\", \"Corn\", \"BEETS_FAVORABLE\", \"BEETS_UNFAVORABLE\"]\n",
    "\n",
    "    land_capacity = 500\n",
    "    crop_costs = {\"Wheat\": 150, \"Corn\": 230, \"SugarBeets\": 260}\n",
    "    sale_price = {\"Wheat\": 170, \"Corn\": 150, \"BEETS_FAVORABLE\": 36, \"BEETS_UNFAVORABLE\": 10}\n",
    "    purchase_price = {\"Wheat\": 238, \"Corn\": 210}\n",
    "    min_require = {\"Wheat\": 200, \"Corn\": 240}\n",
    "    avg_yield = {\"Wheat\": 2.5, \"Corn\": 3.0, \"SugarBeets\": 20.0}\n",
    "    lower_yield = {crop: 0.8 * avg_yield[crop] for crop in all_crops}\n",
    "    upper_yield = {crop: 1.2 * avg_yield[crop] for crop in all_crops}\n",
    "\n",
    "    # Generate random yields for N scenarios\n",
    "    yields = {\n",
    "        crop: {n: np.random.uniform(lower_yield[crop], upper_yield[crop]) for n in range(N)}\n",
    "        for crop in all_crops\n",
    "    }\n",
    "\n",
    "    model = ConcreteModel()\n",
    "    model.x = Var(all_crops, domain=NonNegativeReals)\n",
    "    model.y = Var(purchase_crops, range(N), domain=NonNegativeReals)\n",
    "    model.w = Var(sale_crops, range(N), domain=NonNegativeReals)\n",
    "\n",
    "    # Parameter\n",
    "    model.yields = Param(\n",
    "        all_crops, range(N), initialize=lambda m, crop, n: yields[crop][n], within=Reals\n",
    "    )\n",
    "\n",
    "    # Objective function\n",
    "    def objective_rule(m):\n",
    "      first_stage_cost = sum(crop_costs[crop] * m.x[crop] for crop in all_crops)\n",
    "      second_stage_cost = (\n",
    "            (1 / N)\n",
    "            * sum(\n",
    "                -sale_price[sale] * m.w[sale, n] for sale in sale_crops for n in range(N)\n",
    "            )\n",
    "            + (1 / N)\n",
    "            * sum(\n",
    "                purchase_price[purchase] * m.y[purchase, n]\n",
    "                for purchase in purchase_crops\n",
    "                for n in range(N)\n",
    "            )\n",
    "        )\n",
    "      return first_stage_cost + second_stage_cost\n",
    "    model.obj = Objective(rule=objective_rule, sense=minimize)\n",
    "\n",
    "    def land_constraint_rule(m):\n",
    "      return sum(m.x[crop] for crop in all_crops) <= land_capacity\n",
    "    model.land_constraint = Constraint(rule=land_constraint_rule)\n",
    "\n",
    "    def wheat_produce_rule(m,n):\n",
    "      return m.x[\"Wheat\"]*m.yields[\"Wheat\", n] + m.y[\"Wheat\", n] - m.w[\"Wheat\", n] >= min_require[\"Wheat\"]\n",
    "    model.wheat_produce = Constraint(range(N), rule=wheat_produce_rule)\n",
    "\n",
    "    def corn_produce_rule(m,n):\n",
    "      return m.x[\"Corn\"]*m.yields[\"Corn\", n] + m.y[\"Corn\", n] - m.w[\"Corn\", n] >= min_require[\"Corn\"]\n",
    "    model.corn_produce = Constraint(range(N), rule=corn_produce_rule)\n",
    "\n",
    "    def beets_produce_rule(m,n):\n",
    "      return m.w[\"BEETS_FAVORABLE\", n] + m.w[\"BEETS_UNFAVORABLE\", n] <= m.yields[\"SugarBeets\", n]*m.x[\"SugarBeets\"]\n",
    "    model.beets_produce = Constraint(range(N), rule=beets_produce_rule)\n",
    "\n",
    "    def beets_favorable_rule(m,n):\n",
    "      return m.w[\"BEETS_FAVORABLE\", n] <= 6000\n",
    "    model.beets_favorable = Constraint(range(N), rule=beets_favorable_rule)\n",
    "\n",
    "    return model"
   ]
  },
  {
   "cell_type": "code",
   "execution_count": null,
   "metadata": {
    "colab": {
     "base_uri": "https://localhost:8080/"
    },
    "id": "t17wK8YkO6h5",
    "outputId": "efe8041f-3f08-422c-d673-db207d43212d"
   },
   "outputs": [
    {
     "name": "stdout",
     "output_type": "stream",
     "text": [
      "Ipopt 3.13.2: \n",
      "\n",
      "******************************************************************************\n",
      "This program contains Ipopt, a library for large-scale nonlinear optimization.\n",
      " Ipopt is released as open source code under the Eclipse Public License (EPL).\n",
      "         For more information visit http://projects.coin-or.org/Ipopt\n",
      "\n",
      "This version of Ipopt was compiled from source code available at\n",
      "    https://github.com/IDAES/Ipopt as part of the Institute for the Design of\n",
      "    Advanced Energy Systems Process Systems Engineering Framework (IDAES PSE\n",
      "    Framework) Copyright (c) 2018-2019. See https://github.com/IDAES/idaes-pse.\n",
      "\n",
      "This version of Ipopt was compiled using HSL, a collection of Fortran codes\n",
      "    for large-scale scientific computation.  All technical papers, sales and\n",
      "    publicity material resulting from use of the HSL codes within IPOPT must\n",
      "    contain the following acknowledgement:\n",
      "        HSL, a collection of Fortran codes for large-scale scientific\n",
      "        computation. See http://www.hsl.rl.ac.uk.\n",
      "******************************************************************************\n",
      "\n",
      "This is Ipopt version 3.13.2, running with linear solver ma27.\n",
      "\n",
      "Number of nonzeros in equality constraint Jacobian...:        0\n",
      "Number of nonzeros in inequality constraint Jacobian.:      103\n",
      "Number of nonzeros in Lagrangian Hessian.............:        0\n",
      "\n",
      "Total number of variables............................:       63\n",
      "                     variables with only lower bounds:       63\n",
      "                variables with lower and upper bounds:        0\n",
      "                     variables with only upper bounds:        0\n",
      "Total number of equality constraints.................:        0\n",
      "Total number of inequality constraints...............:       41\n",
      "        inequality constraints with only lower bounds:       20\n",
      "   inequality constraints with lower and upper bounds:        0\n",
      "        inequality constraints with only upper bounds:       21\n",
      "\n",
      "iter    objective    inf_pr   inf_du lg(mu)  ||d||  lg(rg) alpha_du alpha_pr  ls\n",
      "   0  7.2199928e+00 2.40e+02 6.01e+00  -1.0 0.00e+00    -  0.00e+00 0.00e+00   0\n",
      "   1  1.0961153e+02 2.39e+02 2.74e+01  -1.0 1.87e+02    -  4.58e-04 1.23e-02h  1\n",
      "   2  1.7737678e+02 2.39e+02 2.73e+01  -1.0 1.63e+02    -  2.06e-03 2.19e-03h  1\n",
      "   3  3.8485686e+02 2.37e+02 2.72e+01  -1.0 1.63e+02    -  1.03e-03 6.32e-03h  1\n",
      "   4  6.9645766e+02 2.35e+02 2.69e+01  -1.0 1.61e+02    -  3.41e-03 9.33e-03h  1\n",
      "   5  1.1190314e+03 2.32e+02 2.66e+01  -1.0 1.56e+02    -  8.44e-03 1.28e-02h  1\n",
      "   6  2.9315838e+03 2.19e+02 2.51e+01  -1.0 1.53e+02    -  3.53e-03 5.53e-02h  1\n",
      "   7  8.4633078e+03 1.79e+02 2.05e+01  -1.0 1.42e+02    -  1.13e-02 1.84e-01h  1\n",
      "   8  8.8850960e+03 1.74e+02 2.00e+01  -1.0 2.50e+02    -  2.03e-02 2.59e-02h  1\n",
      "   9  9.8115298e+03 1.66e+02 1.90e+01  -1.0 1.17e+02    -  9.64e-03 4.95e-02h  1\n",
      "iter    objective    inf_pr   inf_du lg(mu)  ||d||  lg(rg) alpha_du alpha_pr  ls\n",
      "  10  9.7998826e+03 1.65e+02 1.89e+01  -1.0 2.18e+02    -  2.04e-03 5.27e-03f  1\n",
      "  11  9.8824285e+03 1.64e+02 1.88e+01  -1.0 1.17e+02    -  1.59e-02 5.04e-03h  1\n",
      "  12  1.0069094e+04 1.56e+02 1.79e+01  -1.0 2.30e+02    -  3.73e-03 4.85e-02h  1\n",
      "  13  1.0063950e+04 1.56e+02 1.79e+01  -1.0 7.52e+02    -  1.21e-02 1.17e-04f  1\n",
      "  14  1.0873846e+04 1.47e+02 1.68e+01  -1.0 1.17e+02    -  3.86e-03 6.03e-02h  1\n",
      "  15  1.0642981e+04 1.46e+02 1.67e+01  -1.0 1.09e+03    -  1.51e-03 2.40e-03f  1\n",
      "  16  1.0675561e+04 1.46e+02 1.67e+01  -1.0 1.08e+02    -  3.66e-02 2.28e-03h  1\n",
      "  17  1.0959826e+04 1.36e+02 1.56e+01  -1.0 1.43e+02    -  3.87e-04 6.72e-02h  1\n",
      "  18  1.0803055e+04 1.36e+02 1.56e+01  -1.0 3.00e+03    -  1.09e-03 5.19e-04f  1\n",
      "  19  1.0395432e+04 1.36e+02 1.56e+01  -1.0 9.86e+03    -  5.02e-04 5.21e-04f  1\n",
      "iter    objective    inf_pr   inf_du lg(mu)  ||d||  lg(rg) alpha_du alpha_pr  ls\n",
      "  20  1.0394980e+04 1.36e+02 1.56e+01  -1.0 2.25e+02    -  3.73e-02 2.83e-04h  1\n",
      "  21  1.0467561e+04 1.34e+02 1.54e+01  -1.0 1.30e+02    -  4.00e-04 1.32e-02h  1\n",
      "  22  1.0471944e+04 1.34e+02 1.54e+01  -1.0 1.11e+02    -  1.74e-02 4.24e-04h  1\n",
      "  23  1.0502607e+04 1.33e+02 1.53e+01  -1.0 1.48e+02    -  5.79e-04 6.39e-03h  1\n",
      "  24  1.0623796e+04 1.32e+02 1.51e+01  -1.0 1.02e+02    -  2.32e-02 9.62e-03h  1\n",
      "  25  8.9957165e+03 1.05e+02 1.20e+01  -1.0 2.69e+02    -  2.48e-04 2.06e-01f  1\n",
      "  26 -9.2428407e+04 1.01e+02 1.16e+01  -1.0 3.06e+04    -  1.55e-03 3.65e-02f  1\n",
      "  27 -9.3192171e+04 1.00e+02 4.96e+01  -1.0 1.12e+03    -  5.15e-01 8.55e-03f  1\n",
      "  28 -7.7188992e+04 4.74e+01 6.51e+00  -1.0 1.92e+02    -  1.89e-01 5.27e-01h  1\n",
      "  29 -6.2991915e+04 0.00e+00 3.84e+01  -1.0 9.41e+01    -  5.72e-02 1.00e+00h  1\n",
      "iter    objective    inf_pr   inf_du lg(mu)  ||d||  lg(rg) alpha_du alpha_pr  ls\n",
      "  30 -7.9535160e+04 0.00e+00 3.79e+01  -1.0 2.08e+03    -  1.24e-02 1.00e+00f  1\n",
      "  31 -1.1030479e+05 0.00e+00 2.64e+01  -1.0 6.13e+03    -  3.05e-01 6.30e-01f  1\n",
      "  32 -1.1061324e+05 0.00e+00 1.82e+01  -1.0 2.75e+02    -  3.08e-01 1.40e-01f  1\n",
      "  33 -1.1076799e+05 0.00e+00 1.82e+01  -1.0 7.54e+01    -  3.36e-03 3.69e-01f  1\n",
      "  34 -1.1406306e+05 0.00e+00 9.01e-01  -1.0 1.08e+03    -  1.00e+00 5.70e-01f  1\n",
      "  35 -1.1409653e+05 0.00e+00 5.87e-01  -1.0 1.81e+01    -  6.16e-01 3.49e-01f  1\n",
      "  36 -1.1410890e+05 0.00e+00 3.15e-01  -1.0 9.49e+00    -  4.08e-01 4.63e-01f  1\n",
      "  37 -1.1412090e+05 0.00e+00 3.35e-01  -1.0 1.79e+01    -  2.17e-01 1.00e+00f  1\n",
      "  38 -1.1415302e+05 0.00e+00 8.53e-02  -1.0 6.38e+01    -  2.35e-01 7.43e-01f  1\n",
      "  39 -1.1415313e+05 0.00e+00 6.19e-04  -1.0 2.61e-01    -  9.96e-01 1.00e+00f  1\n",
      "iter    objective    inf_pr   inf_du lg(mu)  ||d||  lg(rg) alpha_du alpha_pr  ls\n",
      "  40 -1.1416825e+05 0.00e+00 3.71e-03  -2.5 2.52e-01    -  9.38e-01 9.66e-01f  1\n",
      "  41 -1.1416926e+05 0.00e+00 1.50e-09  -3.8 4.56e-01    -  1.00e+00 1.00e+00f  1\n",
      "  42 -1.1416928e+05 0.00e+00 1.85e-11  -5.7 8.08e-04    -  1.00e+00 1.00e+00f  1\n",
      "  43 -1.1416928e+05 0.00e+00 5.69e-14  -8.6 3.05e-05    -  1.00e+00 1.00e+00f  1\n",
      "\n",
      "Number of Iterations....: 43\n",
      "\n",
      "                                   (scaled)                 (unscaled)\n",
      "Objective...............:  -4.3911262994527024e+04   -1.1416928378577025e+05\n",
      "Dual infeasibility......:   5.6906757453431017e-14    1.4795756937892062e-13\n",
      "Constraint violation....:   0.0000000000000000e+00    0.0000000000000000e+00\n",
      "Complementarity.........:   2.5383208668605393e-09    6.5996342538374021e-09\n",
      "Overall NLP error.......:   2.5383208668605393e-09    6.5996342538374021e-09\n",
      "\n",
      "\n",
      "Number of objective function evaluations             = 44\n",
      "Number of objective gradient evaluations             = 44\n",
      "Number of equality constraint evaluations            = 0\n",
      "Number of inequality constraint evaluations          = 44\n",
      "Number of equality constraint Jacobian evaluations   = 0\n",
      "Number of inequality constraint Jacobian evaluations = 44\n",
      "Number of Lagrangian Hessian evaluations             = 43\n",
      "Total CPU secs in IPOPT (w/o function evaluations)   =      0.021\n",
      "Total CPU secs in NLP function evaluations           =      0.001\n",
      "\n",
      "EXIT: Optimal Solution Found.\n",
      "\b\b\b\b\b\b\b\b\b\b\b\b\b\b"
     ]
    },
    {
     "data": {
      "text/plain": [
       "{'Problem': [{'Lower bound': -inf, 'Upper bound': inf, 'Number of objectives': 1, 'Number of constraints': 41, 'Number of variables': 63, 'Sense': 'unknown'}], 'Solver': [{'Status': 'ok', 'Message': 'Ipopt 3.13.2\\\\x3a Optimal Solution Found', 'Termination condition': 'optimal', 'Id': 0, 'Error rc': 0, 'Time': 0.09827899932861328}], 'Solution': [OrderedDict([('number of solutions', 0), ('number of solutions displayed', 0)])]}"
      ]
     },
     "execution_count": 9,
     "metadata": {},
     "output_type": "execute_result"
    }
   ],
   "source": [
    "# Example for N=10\n",
    "model = SAA_uniform_model(10)\n",
    "solver = SolverFactory(\"ipopt\")\n",
    "solver.solve(model,tee=True)"
   ]
  },
  {
   "cell_type": "code",
   "execution_count": null,
   "metadata": {
    "colab": {
     "base_uri": "https://localhost:8080/"
    },
    "id": "It5c6zJPO9c4",
    "outputId": "68650cc2-37ee-4ca8-fc1f-b09add0c7df9"
   },
   "outputs": [
    {
     "name": "stdout",
     "output_type": "stream",
     "text": [
      "Land Allocation Results:\n",
      "             Land Allocation     Units\n",
      "Wheat                131.62  hectares\n",
      "Corn                  88.04  hectares\n",
      "SugarBeets           280.34  hectares\n",
      "Total profit: 114169.28 (dollars)\n"
     ]
    }
   ],
   "source": [
    "\n",
    "\n",
    "# Define a function to process and display crop results\n",
    "def display_land_allocation_results(model, crops, units=\"hectares\", decimals=2):\n",
    "    \"\"\"\n",
    "    Display land allocation results with rounding and units.\n",
    "\n",
    "    Parameters:\n",
    "    - model: The Pyomo model containing decision variables and the objective function.\n",
    "    - crops: List of crop names to extract results for.\n",
    "    - units: Units for land allocation (default is 'hectares').\n",
    "    - decimals: Number of decimal places to round the results to (default is 2).\n",
    "    \"\"\"\n",
    "    # Extract and round the results\n",
    "    crop_results = {\n",
    "        crop: round(model.x[crop].value, decimals) for crop in crops\n",
    "    }\n",
    "\n",
    "    # Convert results to a DataFrame\n",
    "    crop_results_df = pd.DataFrame.from_dict(crop_results, orient=\"index\", columns=[\"Land Allocation\"])\n",
    "    crop_results_df[\"Units\"] = units\n",
    "\n",
    "    # Display the results\n",
    "    print(\"Land Allocation Results:\\n\", crop_results_df)\n",
    "\n",
    "    # Calculate and display the profit\n",
    "    profit = -round(model.obj(), decimals)\n",
    "    print(f\"Total profit: {profit} (dollars)\")\n",
    "\n",
    "# Example usage\n",
    "crops = [\"Wheat\", \"Corn\", \"SugarBeets\"]\n",
    "display_land_allocation_results(model, crops, units=\"hectares\", decimals=2)\n"
   ]
  },
  {
   "cell_type": "markdown",
   "metadata": {
    "id": "CwzR6W_PPAm7"
   },
   "source": [
    "### Statistical Inference\n",
    "When solving the optimization problem using the **Sample Average Approximation (SAA)** method, it is common to observe variability in the results across different samples, even if the sample size remains fixed. This variability arises due to the randomness inherent in the sampling process."
   ]
  },
  {
   "cell_type": "code",
   "execution_count": null,
   "metadata": {
    "colab": {
     "base_uri": "https://localhost:8080/"
    },
    "id": "tZw-6cZIOHlF",
    "outputId": "c942543a-a621-4a33-e732-03b21effb0e1"
   },
   "outputs": [
    {
     "name": "stdout",
     "output_type": "stream",
     "text": [
      "   Sample            Wheat            Corn       SugarBeets    Expected Profit\n",
      "0       1  134.58 hectares  85.14 hectares  280.28 hectares   111191.8 Dollars\n",
      "1       2   135.2 hectares  84.62 hectares  280.18 hectares  110561.38 Dollars\n",
      "2       3  133.42 hectares   85.4 hectares  281.18 hectares  110005.75 Dollars\n",
      "3       4  135.52 hectares  85.86 hectares  278.62 hectares  110623.41 Dollars\n",
      "4       5  137.89 hectares  84.59 hectares  277.52 hectares  113029.91 Dollars\n",
      "5       6  135.35 hectares  84.91 hectares  279.74 hectares  111859.47 Dollars\n",
      "6       7  131.91 hectares  84.57 hectares  283.52 hectares  110146.44 Dollars\n",
      "7       8  136.85 hectares  85.52 hectares  277.63 hectares  111394.62 Dollars\n",
      "8       9  139.89 hectares  84.92 hectares  275.19 hectares  113085.93 Dollars\n",
      "9      10  134.66 hectares  85.18 hectares  280.16 hectares   110039.1 Dollars\n"
     ]
    }
   ],
   "source": [
    "def solve_and_collect_results(N, N_samples, crops, solver_name=\"ipopt\", units=\"hectares\", decimals=2):\n",
    "    \"\"\"\n",
    "    Solve the SAA_uniform_model multiple times and collect results.\n",
    "\n",
    "    Parameters:\n",
    "    - N: Size of the problem\n",
    "    - N_samples: Number of samples to solve.\n",
    "    - crops: List of crops to extract results for.\n",
    "    - solver_name: Name of the solver to use\n",
    "    - units: Units for land allocation (default is 'hectares').\n",
    "    - decimals: Number of decimal places to round results\n",
    "\n",
    "    Returns:\n",
    "    - A pandas DataFrame containing results for all samples.\n",
    "    \"\"\"\n",
    "    results_data = []\n",
    "    solver = SolverFactory(solver_name)\n",
    "    results_data2 = []\n",
    "    for i in range(N_samples):\n",
    "        model = SAA_uniform_model(N)  # Create a new model instance\n",
    "        solver.solve(model)  # Solve the model\n",
    "\n",
    "        # Collect results for each crop\n",
    "        crop_results = {\n",
    "            crop: round(model.x[crop].value, decimals) for crop in crops\n",
    "        }\n",
    "\n",
    "        # Calculate profit\n",
    "        profit = -round(model.obj(), decimals)\n",
    "\n",
    "        # Append the results for this sample\n",
    "        results_data.append({\n",
    "            \"Sample\": i + 1,\n",
    "            **{crop: f\"{crop_results[crop]} {units}\" for crop in crops},  # Include units\n",
    "            \"Expected Profit\": f\"{profit} Dollars\"\n",
    "        })\n",
    "        results_data2.append({\n",
    "        \"Sample\": i + 1,\n",
    "        \"Wheat\": crop_results[\"Wheat\"],\n",
    "        \"Corn\": crop_results[\"Corn\"],\n",
    "        \"SugarBeets\": crop_results[\"SugarBeets\"],\n",
    "        \"Expected Profit\": profit\n",
    "    })\n",
    "\n",
    "    # Convert to a DataFrame\n",
    "    return pd.DataFrame(results_data),results_data2\n",
    "\n",
    "# Example usage\n",
    "N = 400\n",
    "N_samples = 10\n",
    "crops = [\"Wheat\", \"Corn\", \"SugarBeets\"]\n",
    "\n",
    "results_df,results_data = solve_and_collect_results(N, N_samples, crops, solver_name=\"ipopt\", units=\"hectares\", decimals=2)\n",
    "\n",
    "# Display the results\n",
    "print(results_df)"
   ]
  },
  {
   "cell_type": "markdown",
   "metadata": {
    "id": "2Hsgs_4WhoFB"
   },
   "source": [
    "To better understand and analyze this variability, we rely on **statistical measures**. These measures allow us to summarize the outcomes of multiple samples and quantify key characteristics such as:  \n",
    "\n",
    "The **sample mean** measures the central tendency of the dataset. Given a set of results for expected profits $X = \\left\\{ x_1, x_2, ... , x_n \\right\\}$, the sample mean is defined as: $\\overline{x}= \\frac{1}{n} \\sum_{i=1}^n x_i$.   \n",
    "\n",
    "The **sample variance** quantifies the spread of the data around the mean: $S^2 = \\frac{1}{n-1} \\sum_{i=1}^n (x_i - \\overline{x})^2$. (The term n-1 is used in the denominator to account for Bessel's correction, which corrects bias in the estimation of the population variance.)  \n",
    "  \n",
    "The **sample standard deviation** is the square root of the variance: $S=\\sqrt{S^2}$.  \n",
    "  \n",
    "To estimate the **true mean** of the population from the sample mean, we construct a confidence interval. The formula for a **two-tailed confidence interval** is:\n",
    "\n",
    "\\begin{equation}\n",
    "\\overline{x} \\pm t_{\\alpha/2,n-1} ⋅ \\frac{S}{\\sqrt{n}}\n",
    "\\end{equation}\n",
    "\n",
    "where $t_{\\alpha/2,n-1}$ is the t-critical value for the given confidence level and degrees of freedom $n-1$.  \n",
    "  \n",
    "The **margin of error** is:\n",
    "\n",
    "\\begin{equation}\n",
    "t_{\\alpha/2,n-1} ⋅ \\frac{S}{\\sqrt{n}}\n",
    "\\end{equation}\n",
    "\n",
    "The confidence interval is then:\n",
    "\\begin{align}\n",
    "\\text{Lower Bound} = \\overline{x} -  t_{\\alpha/2,n-1} ⋅ \\frac{S}{\\sqrt{n}}, \\\\\n",
    "\\text{Upper Bound} = \\overline{x} +  t_{\\alpha/2,n-1} ⋅ \\frac{S}{\\sqrt{n}}.\n",
    "\\end{align}  \n",
    "  \n",
    "These statistical tools provide insight into the stability and reliability of the SAA method and allow us to draw meaningful conclusions based on the results.\n",
    "\n"
   ]
  },
  {
   "cell_type": "code",
   "execution_count": null,
   "metadata": {
    "id": "RLKIAI1ZRRb_"
   },
   "outputs": [],
   "source": [
    "\n",
    "\n",
    "def t_critical_approx(alpha, df):\n",
    "    '''\n",
    "    Calculate the t-critical value for a given alpha and degrees of freedom.\n",
    "\n",
    "    Parameters:\n",
    "    - alpha: Significance level (1 - confidence level).\n",
    "    - df: Degrees of freedom.\n",
    "\n",
    "    Returns:\n",
    "    - The t-critical value.\n",
    "    '''\n",
    "    p = 1 - alpha / 2\n",
    "    a = 1 / (df - 0.5)\n",
    "    b = 48 / (df ** 2)\n",
    "    c = ((a * b) + 1) ** 2\n",
    "    t = math.sqrt(df * (c - 1) / c)\n",
    "    return t\n"
   ]
  },
  {
   "cell_type": "code",
   "execution_count": null,
   "metadata": {
    "colab": {
     "base_uri": "https://localhost:8080/"
    },
    "id": "W2RIpQOLPGRO",
    "outputId": "d55f1472-20d8-493e-b813-9d0050a31658"
   },
   "outputs": [
    {
     "name": "stdout",
     "output_type": "stream",
     "text": [
      "Sample Mean: 111193.781\n",
      "Sample Variance: 1333551.417476662\n",
      "Sample Standard Deviation: 1154.7949677222628\n",
      "Confidence Interval (95.0%): [110804.75248349282, 111582.80951650719]\n"
     ]
    }
   ],
   "source": [
    "# Sample Mean\n",
    "expected_profits = [d[\"Expected Profit\"] for d in results_data]\n",
    "sample_mean = sum(expected_profits) / len(expected_profits)\n",
    "print(f\"Sample Mean: {sample_mean}\")\n",
    "# Samople Variance & Standard Deviation\n",
    "sample_variance = sum((x - sample_mean) ** 2 for x in expected_profits) / (len(expected_profits) - 1)\n",
    "sample_standard_deviation = sample_variance ** 0.5\n",
    "print(f\"Sample Variance: {sample_variance}\")\n",
    "print(f\"Sample Standard Deviation: {sample_standard_deviation}\")\n",
    "# Confidence Interval\n",
    "confidence_level = 0.95\n",
    "alpha = 1 - confidence_level\n",
    "n = len(expected_profits)\n",
    "\n",
    "\n",
    "t_critical = t_critical_approx(alpha, n-1)  # t-critical value for 2-tailed test\n",
    "\n",
    "\n",
    "\n",
    "margin_of_error = t_critical * (sample_standard_deviation / n**0.5)\n",
    "lower_bound = sample_mean - margin_of_error\n",
    "upper_bound = sample_mean + margin_of_error\n",
    "\n",
    "print(f\"Confidence Interval ({confidence_level * 100}%): [{lower_bound}, {upper_bound}]\")"
   ]
  },
  {
   "cell_type": "markdown",
   "metadata": {
    "id": "nzb5iQpXJbW-"
   },
   "source": [
    "# Conclusions"
   ]
  },
  {
   "cell_type": "markdown",
   "metadata": {
    "id": "NN5oun5VJibb"
   },
   "source": [
    "In the end we see that we were able to\n",
    "* Formulate and solve optimization problems using real-world examples that incorporate uncertainty and stochasticity\n",
    "* Develop proficiency in Python and Pyomo for modeling and solving complex optimization problems\n",
    "* Understand and implement full-grid and half-grid discretization in stochastic optimization frameworks, including their respective advantages and applications.\n",
    "* Gain a deeper understanding of two-stage stochastic optimization, focusing on its application to agricultural systems under uncertainty\n",
    "* Interpret and analyze optimization results, drawing meaningful conclusions about resource allocation and decision-making in uncertain environments\n",
    "\n",
    "A major takeaway from this work is the recognition that alternative numerical methods, such as the half-grid approach, can effectively address the \"curse of dimensionality\" associated with full-grid methods. By accounting for the reality that perfect information is rarely available, we demonstrated how modeling uncertainty using Gaussian distributions leads to more realistic scenarios. Finally, this project highlighted the significance of two-stage stochastic optimization in tackling real-world problems, emphasizing its role in enabling robust and informed decision-making under uncertainty.\n",
    "\n",
    "Future work: refactor code to use [blocks](../../notebooks/4/blocks.ipynb)."
   ]
  },
  {
   "cell_type": "markdown",
   "metadata": {
    "id": "phDlOwZJK1dv"
   },
   "source": [
    "# Reference\n",
    "\n",
    "> Birge, J. R., & Louveaux, F. (2011). Introduction to Stochastic Programming (2nd ed.). Springer.\n",
    "\n",
    "\n",
    "> Shapiro, A., Dentcheva, D., & Ruszczyński, A. (2014). Lectures on Stochastic Programming: Modeling and Theory (2nd ed.). SIAM.\n",
    "\n",
    "\n",
    "\n",
    "> Van der Laan, M. J., & Rubin, D. B. (2006). Statistical Models and Causal Inference: A Dialogue with the Social Sciences. Springer.\n",
    "\n",
    "\n",
    "\n",
    "> Chow, Y., & Pavone, M. (2013). A Uniform-grid Discretization Algorithm for Stochastic Optimal Control with Risk Constraints. Proceedings of the IEEE Conference on Decision and Control\n",
    "\n",
    "\n",
    "\n",
    "\n",
    "> Chen, M., Mehrotra, S., & Papp, D. (2015). Scenario Generation for Stochastic Optimization Problems via the Sparse Grid Method. Computational Optimization and Applications, 62, 669 - 692\n",
    "\n",
    "\n",
    "\n",
    "\n",
    "> Kleywegt, A. J., Shapiro, A., & Homem-de-Mello, T. (2002). The Sample Average Approximation Method for Stochastic Discrete Optimization. SIAM Journal on Optimization, 12(2), 479-502.\n",
    "\n",
    "\n",
    "\n",
    "\n",
    "\n",
    "\n",
    "\n",
    "\n",
    "\n",
    "\n",
    "\n",
    "\n"
   ]
  },
  {
   "cell_type": "markdown",
   "metadata": {},
   "source": []
  }
 ],
 "metadata": {
  "colab": {
   "collapsed_sections": [
    "i0pZN9s89LMP"
   ],
   "provenance": []
  },
  "kernelspec": {
   "display_name": "Python 3",
   "name": "python3"
  },
  "language_info": {
   "name": "python"
  }
 },
 "nbformat": 4,
 "nbformat_minor": 0
}
