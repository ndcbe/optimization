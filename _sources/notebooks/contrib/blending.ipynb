{
 "cells": [
  {
   "cell_type": "markdown",
   "metadata": {
    "id": "P9PuGBT6MX82"
   },
   "source": [
    "# Blending Under Uncertainty\n",
    "Prepared by Maks Kubicki (mkubicki@nd.edu) and Minho Lee (mlee56@nd.edu)."
   ]
  },
  {
   "cell_type": "markdown",
   "metadata": {
    "id": "1rEF_Vloq4We"
   },
   "source": [
    "## Learning Objectives\n",
    "*   Practice how to organize Pyomo model by considering uncertainties representing the 'real world' constraints.\n",
    "*   Learn the Monte Carlo simulation to see the distribution of results in various random situations under uncertainties.\n",
    "\n"
   ]
  },
  {
   "cell_type": "markdown",
   "metadata": {
    "id": "0TxwXuxTyesA"
   },
   "source": [
    "## Imports"
   ]
  },
  {
   "cell_type": "code",
   "execution_count": 20,
   "metadata": {
    "colab": {
     "base_uri": "https://localhost:8080/"
    },
    "id": "ODJ1x_euI6fr",
    "outputId": "74bafe54-e1fb-4a68-bc99-419040d35ab4"
   },
   "outputs": [
    {
     "name": "stdout",
     "output_type": "stream",
     "text": [
      "--2024-11-01 00:23:19--  https://raw.githubusercontent.com/ndcbe/optimization/main/notebooks/helper.py\n",
      "Resolving raw.githubusercontent.com (raw.githubusercontent.com)... 185.199.110.133, 185.199.111.133, 185.199.109.133, ...\n",
      "Connecting to raw.githubusercontent.com (raw.githubusercontent.com)|185.199.110.133|:443... connected.\n",
      "HTTP request sent, awaiting response... 200 OK\n",
      "Length: 6493 (6.3K) [text/plain]\n",
      "Saving to: ‘helper.py.1’\n",
      "\n",
      "\r",
      "helper.py.1           0%[                    ]       0  --.-KB/s               \r",
      "helper.py.1         100%[===================>]   6.34K  --.-KB/s    in 0s      \n",
      "\n",
      "2024-11-01 00:23:19 (59.5 MB/s) - ‘helper.py.1’ saved [6493/6493]\n",
      "\n",
      "idaes was found! No need to install.\n"
     ]
    }
   ],
   "source": [
    "# Imports\n",
    "import sys\n",
    "if \"google.colab\" in sys.modules:\n",
    "    !wget \"https://raw.githubusercontent.com/ndcbe/optimization/main/notebooks/helper.py\"\n",
    "    import helper\n",
    "    helper.easy_install()\n",
    "else:\n",
    "    sys.path.insert(0, '../')\n",
    "    import helper\n",
    "helper.set_plotting_style()\n",
    "import pyomo.environ as pyo\n",
    "from scipy.stats import norm\n",
    "import matplotlib.pyplot as plt\n",
    "import numpy as np"
   ]
  },
  {
   "cell_type": "markdown",
   "metadata": {
    "id": "r8JNHsRqMjeg"
   },
   "source": [
    "## Original Linear Blending Problem\n",
    "Reference: https://jckantor.github.io/ND-Pyomo-Cookbook/notebooks/02.03-Linear-Blending-Problem.html\n",
    "\n",
    "A brewery receives an order for 100 gallons of 4% ABV (alchohol by volume) beer. The brewery has on hand beer A that is 4.5% ABV that cost USD 0.32 per gallon to make, and beer B that is 3.7% ABV and cost USD 0.25 per gallon. Water could also be used as a blending agent at a cost of USD 0.05 per gallon. Find the minimum cost blend that meets the customer requirements.\n",
    "\n",
    "### How this project extends the original\n",
    "*   +/-10% of uncertainty for the product demands with equal probabilities\n",
    "*   +/-20% of uncertainty for the raw materials' costs\n",
    "*   Setting minimum required water usage for blending = at least 10 gallons\n",
    "\n",
    "Before we start to consider uncertainties, let's solve the problem including only the minimum water constraint.\n",
    "\n",
    "### Objective Function\n",
    "The objective is to minimize the expected cost of production. The cost is influenced by uncertainty in the cost of ingredients and is expressed as follows:\n",
    "\n",
    "$$\n",
    "\\text{Minimize } Cost = \\left( C_{A} x_A + C_{B} x_B + C_{W} x_W \\right)\n",
    "$$\n",
    "\n",
    "Where:\n",
    "- ${Cost}$ is the cost of blending.\n",
    "- $C_{A}, C_{B}, C_{W}$ are the costs of Beer A, Beer B, and Water.\n",
    "- $x_A, x_B, x_W$ are the decision variables representing the volumes of Beer A, Beer B, and Water respectively.\n",
    "\n",
    "### Constraints\n",
    "1. Volume Constraint:\n",
    "   The total volume of Beer A, Beer B, and Water must be at least equal to the mean demand:\n",
    "   $$\n",
    "   x_A + x_B + x_W =\n",
    "   $$\n",
    "   Where $D$ is the mean demand.\n",
    "\n",
    "2. ABV Constraint:\n",
    "   The final blend must have an alcohol content of 4% ABV. This constraint is expressed as:\n",
    "   $$\n",
    "   ABV_{target} = \\frac{ABV_A x_A + ABV_B x_B + ABV_W x_W}{x_A + x_B + x_W}\n",
    "   $$\n",
    "   Where:\n",
    "   - $ABV_{target}$ is the target ABV (4%).\n",
    "   - $ABV_A, ABV_B, ABV_W$ are the ABV values for Beer A, Beer B, and Water respectively.\n",
    "\n",
    "3. Minimum Water Constraint:\n",
    "   There must be at least 10 gallons of Water in the blend:\n",
    "   $$\n",
    "   x_W \\geq 10\n",
    "   $$\n",
    "\n",
    "### Input/Data"
   ]
  },
  {
   "cell_type": "code",
   "execution_count": 21,
   "metadata": {
    "id": "xJ652bm19f9s"
   },
   "outputs": [],
   "source": [
    "data = {\n",
    "    'A': {'abv': 0.045, 'cost': 0.32},\n",
    "    'B': {'abv': 0.037, 'cost': 0.25},\n",
    "    'W': {'abv': 0.000, 'cost': 0.05},\n",
    "}\n",
    "\n",
    "# Target ABV\n",
    "abv_target = 0.04\n",
    "\n",
    "# product demand and cost\n",
    "mean_demand = 100"
   ]
  },
  {
   "cell_type": "markdown",
   "metadata": {
    "id": "f5J4hM7dErXi"
   },
   "source": [
    "### Implementation without uncertainty"
   ]
  },
  {
   "cell_type": "code",
   "execution_count": 26,
   "metadata": {
    "id": "WwVTQBVJEruY"
   },
   "outputs": [],
   "source": [
    "def beer_blend(vol, abv, data):\n",
    "    C = data.keys()\n",
    "    model = pyo.ConcreteModel()\n",
    "    # Variable\n",
    "    model.x = pyo.Var(C, domain=pyo.NonNegativeReals)\n",
    "\n",
    "    # Objective\n",
    "    model.cost = pyo.Objective(expr = sum(model.x[c]*data[c]['cost'] for c in C))\n",
    "\n",
    "    # Contraints\n",
    "    model.vol = pyo.Constraint(expr = vol == sum(model.x[c] for c in C)) # The final demand volume constraint\n",
    "    model.abv = pyo.Constraint(expr = 0 == sum(model.x[c]*(data[c]['abv'] - abv) for c in C)) # The final abv of blending\n",
    "    model.min_water = pyo.Constraint(expr = model.x['W'] >= 10) # Minimum water volume\n",
    "\n",
    "    # Solve Problem\n",
    "    solver = pyo.SolverFactory('cbc')\n",
    "    solver.solve(model)\n",
    "\n",
    "    print('Optimal Blend')\n",
    "    for c in data.keys():\n",
    "        print('  ', c, ':', model.x[c](), 'gallons')\n",
    "    print()\n",
    "    print('Volume = ', model.vol(), 'gallons')\n",
    "    print('Cost = $', model.cost())"
   ]
  },
  {
   "cell_type": "markdown",
   "metadata": {
    "id": "e9VfVDqyFaTj"
   },
   "source": [
    "### Result without uncertainty"
   ]
  },
  {
   "cell_type": "code",
   "execution_count": 27,
   "metadata": {
    "colab": {
     "base_uri": "https://localhost:8080/"
    },
    "id": "4FzaDFbVFgKk",
    "outputId": "bb90bcea-e7cf-406c-b78a-d1f7a32ff6a1"
   },
   "outputs": [
    {
     "name": "stdout",
     "output_type": "stream",
     "text": [
      "Optimal Blend\n",
      "   A : 83.75 gallons\n",
      "   B : 6.25 gallons\n",
      "   W : 10.0 gallons\n",
      "\n",
      "Volume =  100.0 gallons\n",
      "Cost = $ 28.8625\n"
     ]
    }
   ],
   "source": [
    "beer_blend(mean_demand, abv_target, data)"
   ]
  },
  {
   "cell_type": "markdown",
   "metadata": {
    "id": "xfXxghFpEIwu"
   },
   "source": [
    "## Monte Carlo Simulation\n",
    "The Monte Carlo simulation is used to evaluate the cost under different scenarios of cost and demand uncertainty. By generating random values for the costs and demands based on given distributions, we can calculate the expected value and standard deviation of the total cost.\n",
    "\n",
    "- Expected Cost: The average cost across all simulated scenarios.\n",
    "- Standard Deviation of Cost: A measure of the variability in cost due to uncertainties in demand and ingredient prices.\n",
    "\n",
    "The results are visualized to understand the distribution of the cost and the optimal blend composition.\n",
    "\n",
    "### Data of model considering uncertainties"
   ]
  },
  {
   "cell_type": "code",
   "execution_count": 28,
   "metadata": {
    "id": "WySX6WGxESlU"
   },
   "outputs": [],
   "source": [
    "# parameters for ABV\n",
    "abv_A = 0.045\n",
    "abv_B = 0.037\n",
    "abv_W = 0.000\n",
    "\n",
    "# product demand and cost\n",
    "mean_demand = 100\n",
    "mean_cost_A = 0.32\n",
    "mean_cost_B = 0.25\n",
    "mean_cost_W = 0.05\n",
    "\n",
    "# Demand and Cost uncertainty as continuous distributions\n",
    "std_dev_demand = 10\n",
    "std_dev_cost_A = 0.064\n",
    "std_dev_cost_B = 0.05\n",
    "std_dev_cost_W = 0.01"
   ]
  },
  {
   "cell_type": "markdown",
   "metadata": {
    "id": "zAvrgYFKEQZS"
   },
   "source": [
    "## Mathematical Formulation of the Monte Calro Blending Problem\n",
    "\n",
    "The blending problem aims to determine the optimal volumes of Beer A, Beer B, and Water required to produce a target volume of beer with a specific Alcohol By Volume (ABV) while minimizing the cost.\n",
    "\n",
    "### Objective Function\n",
    "The objective is to minimize the expected cost of production. The cost is influenced by uncertainty in the cost of ingredients and is expressed as follows:\n",
    "\n",
    "$$\n",
    "\\text{Minimize } E[\\text{Cost}] = \\frac{1}{N} \\sum_{i=1}^N \\left( C_{A,i} x_A + C_{B,i} x_B + C_{W,i} x_W \\right)\n",
    "$$\n",
    "\n",
    "Where:\n",
    "- $E[\\text{Cost}]$ is the expected cost.\n",
    "- $N$ is the number of scenarios.\n",
    "- $C_{A,i}, C_{B,i}, C_{W,i}$ are the costs of Beer A, Beer B, and Water in scenario $i$.\n",
    "- $x_A, x_B, x_W$ are the decision variables representing the volumes of Beer A, Beer B, and Water respectively.\n",
    "\n",
    "### Constraints\n",
    "1. Volume Constraint:\n",
    "   The total volume of Beer A, Beer B, and Water must be at least equal to the mean demand:\n",
    "   $$\n",
    "   x_A + x_B + x_W \\geq D\n",
    "   $$\n",
    "   Where $D$ is the mean demand.\n",
    "\n",
    "2. ABV Constraint:\n",
    "   The final blend must have an alcohol content of 4% ABV. This constraint is expressed as:\n",
    "   $$\n",
    "   ABV_{target} = \\frac{ABV_A x_A + ABV_B x_B + ABV_W x_W}{x_A + x_B + x_W}\n",
    "   $$\n",
    "   Where:\n",
    "   - $ABV_{target}$ is the target ABV (4%).\n",
    "   - $ABV_A, ABV_B, ABV_W$ are the ABV values for Beer A, Beer B, and Water respectively.\n",
    "\n",
    "3. Minimum Water Constraint:\n",
    "   There must be at least 10 gallons of Water in the blend:\n",
    "   $$\n",
    "   x_W \\geq 10\n",
    "   $$"
   ]
  },
  {
   "cell_type": "markdown",
   "metadata": {
    "id": "8FNxaTnTyW2N"
   },
   "source": [
    "### Create the Pyomo Monte Carlo model"
   ]
  },
  {
   "cell_type": "code",
   "execution_count": 29,
   "metadata": {
    "id": "L9QOgoHMUNCI"
   },
   "outputs": [],
   "source": [
    "# creating a Pyomo model\n",
    "model = pyo.ConcreteModel()\n",
    "\n",
    "# generating continuous random demands and costs for Monte Carlo simulation\n",
    "num_scenarios = 10000000\n",
    "demands = norm.rvs(loc=mean_demand, scale=std_dev_demand, size=num_scenarios)\n",
    "costs_A = norm.rvs(loc=mean_cost_A, scale=std_dev_cost_A, size=num_scenarios)\n",
    "costs_B = norm.rvs(loc=mean_cost_B, scale=std_dev_cost_B, size=num_scenarios)\n",
    "costs_W = norm.rvs(loc=mean_cost_W, scale=std_dev_cost_W, size=num_scenarios)\n",
    "\n",
    "# decision variables (note: decisions must be the same across scenarios)\n",
    "model.x_A = pyo.Var(domain=pyo.NonNegativeReals)\n",
    "model.x_B = pyo.Var(domain=pyo.NonNegativeReals)\n",
    "model.x_W = pyo.Var(domain=pyo.NonNegativeReals)\n",
    "\n",
    "# objective function: minimize the expected cost\n",
    "def Objective_rule(model):\n",
    "    return sum((costs_A[i] * model.x_A + costs_B[i] * model.x_B + costs_W[i] * model.x_W) / num_scenarios for i in range(num_scenarios))\n",
    "model.Obj = pyo.Objective(rule=Objective_rule, sense=pyo.minimize)\n",
    "\n",
    "# constraints\n",
    "# volume constraint (decision made before knowing exact demand)\n",
    "def Volume_rule(model):\n",
    "    return model.x_A + model.x_B + model.x_W >= mean_demand\n",
    "model.Volume = pyo.Constraint(rule=Volume_rule)\n",
    "\n",
    "# ABV constraint\n",
    "def Abv_rule(model):\n",
    "    return abv_target == (abv_A * model.x_A + abv_B * model.x_B + abv_W * model.x_W) / (model.x_A + model.x_B + model.x_W)\n",
    "model.Abv = pyo.Constraint(rule=Abv_rule)\n",
    "\n",
    "# minimum water constraint\n",
    "def Min_Water_rule(model):\n",
    "    return model.x_W >= 10\n",
    "model.Min_Water = pyo.Constraint(rule=Min_Water_rule)"
   ]
  },
  {
   "cell_type": "code",
   "execution_count": 30,
   "metadata": {
    "colab": {
     "base_uri": "https://localhost:8080/"
    },
    "id": "BVz-s66c6suA",
    "outputId": "915d7c73-1059-413e-9f6a-b3ea4c64b416"
   },
   "outputs": [
    {
     "name": "stdout",
     "output_type": "stream",
     "text": [
      "Optimal Volume of Beer A: 83.75 gallons\n",
      "Optimal Volume of Beer B: 6.25 gallons\n",
      "Optimal Volume of Water: 10.00 gallons\n",
      "Expected Total Cost: 28.86 USD\n",
      "Standard Deviation of Total Cost: 5.37 USD\n"
     ]
    }
   ],
   "source": [
    "# solving the problem\n",
    "solver = pyo.SolverFactory(\"ipopt\")\n",
    "solver.solve(model)\n",
    "\n",
    "# extracting results\n",
    "x_A_value = pyo.value(model.x_A)\n",
    "x_B_value = pyo.value(model.x_B)\n",
    "x_W_value = pyo.value(model.x_W)\n",
    "\n",
    "# presenting optimal values for volume of ingredients\n",
    "print(f\"Optimal Volume of Beer A: {x_A_value:.2f} gallons\")\n",
    "print(f\"Optimal Volume of Beer B: {x_B_value:.2f} gallons\")\n",
    "print(f\"Optimal Volume of Water: {x_W_value:.2f} gallons\")\n",
    "\n",
    "# running Monte Carlo simulation to evaluate the cost under different scenarios\n",
    "total_costs = []\n",
    "for i in range(num_scenarios):\n",
    "    cost = costs_A[i] * x_A_value + costs_B[i] * x_B_value + costs_W[i] * x_W_value\n",
    "    total_costs.append(cost)\n",
    "\n",
    "# calculating and printing expected cost and standard deviation\n",
    "expected_cost = np.mean(total_costs)\n",
    "std_dev_cost = np.std(total_costs)\n",
    "print(f\"Expected Total Cost: {expected_cost:.2f} USD\")\n",
    "print(f\"Standard Deviation of Total Cost: {std_dev_cost:.2f} USD\")"
   ]
  },
  {
   "cell_type": "markdown",
   "metadata": {
    "id": "nOy6_D-h2PWe"
   },
   "source": [
    "### Visualize Results"
   ]
  },
  {
   "cell_type": "code",
   "execution_count": 31,
   "metadata": {
    "colab": {
     "base_uri": "https://localhost:8080/",
     "height": 951
    },
    "id": "GzEpvBaL6fAi",
    "outputId": "80aca790-e4ec-4f55-af93-290e1661f246"
   },
   "outputs": [
    {
     "data": {
      "image/png": "[encoded data removed]",
      "text/plain": [
       "<Figure size 640x480 with 1 Axes>"
      ]
     },
     "metadata": {},
     "output_type": "display_data"
    },
    {
     "data": {
      "image/png": "[encoded data removed]",
      "text/plain": [
       "<Figure size 640x480 with 1 Axes>"
      ]
     },
     "metadata": {},
     "output_type": "display_data"
    }
   ],
   "source": [
    "# visualizing the cost distribution (normalized)\n",
    "plt.hist(total_costs, bins=30, density=True, edgecolor='black')\n",
    "plt.xlabel('Total Cost (USD)')\n",
    "plt.ylabel('Density')\n",
    "plt.title('Distribution of Total Cost Under Continuous Demand and Cost Uncertainty (normalized)')\n",
    "plt.show()\n",
    "\n",
    "# visualizing the optimal composition\n",
    "components = ['Beer A', 'Beer B', 'Water']\n",
    "volumes = [x_A_value, x_B_value, x_W_value]\n",
    "\n",
    "plt.bar(components, volumes, color=['blue', 'green', 'aqua'])\n",
    "plt.xlabel('Component')\n",
    "plt.ylabel('Volume (gallons)')\n",
    "plt.title('Optimal Composition of the Blend')\n",
    "plt.show()"
   ]
  },
  {
   "cell_type": "markdown",
   "metadata": {
    "id": "wsVKGH51_dV-"
   },
   "source": [
    "## Comparison of results with and without uncertainty\n",
    "* Without Uncertainty Results\n",
    "    Optimal Blend\n",
    "      A : 83.75 gallons\n",
    "      B : 6.25 gallons\n",
    "      W : 10.0 gallons\n",
    "    Cost = $ 28.86\n",
    "\n",
    "* With Uncertainty Results\n",
    "    Optimal Blend\n",
    "      Beer A: 83.75 gallons\n",
    "      Beer B: 6.25 gallons\n",
    "      Water: 10.00 gallons\n",
    "    Expected Total Cost: 28.86 USD\n",
    "\n",
    "\n",
    "Both problems showed same volumes of each component and total cost.\n",
    "\n",
    "\n",
    "## Degrees of Freedom Analysis\n",
    "* Decision Variables:\n",
    "\n",
    "    Volume of Beer A, Beer B, and Water (3 Variables)\n",
    "\n",
    "* Constraints:\n",
    "\n",
    "    Volume constraint, ABV constraint, and Minimum water constraint (3 constraint)\n",
    "\n",
    "* Degree of Freedom (DoF):\n",
    "\n",
    "$$\n",
    "\\text{Degree of Freedom} = \\text{Number of Variables} - \\text{Number of Constraints}\n",
    "$$\n",
    "\n",
    "$$\n",
    "3 - 3 = 0 \\text{DoF}\n",
    "$$\n",
    "\n",
    "This model has zero degree of freedom. That means the problem is exhibits robustness to uncertainty."
   ]
  },
  {
   "cell_type": "markdown",
   "metadata": {
    "id": "cJai2FAp0SoP"
   },
   "source": [
    "## Reference\n",
    "*   Jenchura (2017). Linear Blending Problem. ND Pyomo Cookbook. https://jckantor.github.io/ND-Pyomo-Cookbook/notebooks/02.03-Linear-Blending-Problem.html\n",
    "\n"
   ]
  },
  {
   "cell_type": "markdown",
   "metadata": {},
   "source": []
  }
 ],
 "metadata": {
  "colab": {
   "provenance": []
  },
  "kernelspec": {
   "display_name": "Python 3",
   "name": "python3"
  },
  "language_info": {
   "codemirror_mode": {
    "name": "ipython",
    "version": 3
   },
   "file_extension": ".py",
   "mimetype": "text/x-python",
   "name": "python",
   "nbconvert_exporter": "python",
   "pygments_lexer": "ipython3",
   "version": "3.8.19"
  }
 },
 "nbformat": 4,
 "nbformat_minor": 0
}
