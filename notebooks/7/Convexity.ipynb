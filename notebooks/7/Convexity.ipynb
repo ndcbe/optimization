{
 "cells": [
  {
   "cell_type": "markdown",
   "metadata": {},
   "source": [
    "# Convexity Revisited"
   ]
  },
  {
   "cell_type": "code",
   "execution_count": 1,
   "metadata": {},
   "outputs": [],
   "source": [
    "# This code cell installs packages on Colab\n",
    "\n",
    "import sys\n",
    "if \"google.colab\" in sys.modules:\n",
    "    !wget \"https://raw.githubusercontent.com/ndcbe/optimization/main/notebooks/helper.py\"\n",
    "    import helper\n",
    "    helper.easy_install()\n",
    "else:\n",
    "    sys.path.insert(0, '../')\n",
    "    import helper\n",
    "helper.set_plotting_style()"
   ]
  },
  {
   "cell_type": "code",
   "execution_count": 2,
   "metadata": {},
   "outputs": [],
   "source": [
    "import pandas as pd\n",
    "import pyomo.environ as pyo"
   ]
  },
  {
   "cell_type": "markdown",
   "metadata": {},
   "source": [
    "## Background"
   ]
  },
  {
   "cell_type": "markdown",
   "metadata": {},
   "source": [
    "**Reference**: Beginning of Chapter 4 in Biegler (2010)"
   ]
  },
  {
   "cell_type": "markdown",
   "metadata": {},
   "source": [
    "### Canonical Nonlinear Program (NLP)"
   ]
  },
  {
   "cell_type": "markdown",
   "metadata": {},
   "source": [
    "\\begin{align*}\n",
    "\\min_{\\mathbf{x}} \\quad & f(\\mathbf{x}) & \\text{(objective function)} \\\\\n",
    "\\text{s.t.} \\quad & g_i(\\mathbf{x}) \\leq 0, & i = 1, \\dots, m \\quad \\text{(inequality constraints)} \\\\\n",
    "& h_j(\\mathbf{x}) = 0, & j = 1, \\dots, p \\quad \\text{(equality constraints)} \\\\\n",
    "& \\mathbf{x} \\in \\mathbb{R}^n & \\text{(decision variables)}\n",
    "\\end{align*}\n",
    "\n",
    "Assumption: functions $f(\\mathbf{x}) : \\mathbb{R}^n \\to \\mathbb{R}$, $\\mathbf{h}(\\mathbf{x}) : \\mathbb{R}^n \\to \\mathbb{R}^m$, and $\\mathbf{g}(\\mathbf{x}) : \\mathbb{R}^n \\to \\mathbb{R}^r$ have **continuous first and second derivatives**.\n",
    "\n",
    "Denote the **feasible region** as:\n",
    "\n",
    "$$\n",
    "\\mathcal{F} = \\{ \\mathbf{x} \\,|\\, \\mathbf{g}(\\mathbf{x}) \\leq 0, \\mathbf{h}(\\mathbf{x}) = 0 \\}.\n",
    "$$\n"
   ]
  },
  {
   "cell_type": "markdown",
   "metadata": {},
   "source": [
    "### Types of Constrained Optimal Solutions"
   ]
  },
  {
   "cell_type": "markdown",
   "metadata": {},
   "source": [
    "Definition 4.1: Constrained Optimal Solutions\n",
    "\n",
    "A point $x^*$ is a **global minimizer** if $f(x^*) \\leq f(x)$ for all $x \\in \\mathcal{F}$.\n",
    "\n",
    "A point $x^*$ is a **local minimizer** if $f(x^*) \\leq f(x)$ for all $x \\in \\mathcal{N}(x^*) \\cap \\mathcal{F}$, where we define \n",
    "  $$\n",
    "  \\mathcal{N}(x^*) = \\{x : \\|x - x^*\\| < \\epsilon\\}, \\quad \\epsilon > 0.\n",
    "  $$\n",
    "\n",
    "A point $x^*$ is a **strict local minimizer** if $f(x^*) < f(x)$ for all $x \\in \\mathcal{N}(x^*) \\cap \\mathcal{F}$.\n",
    "\n",
    "A point $x^*$ is an **isolated local minimizer** if there are no other local minimizers in $\\mathcal{N}(x^*) \\cap \\mathcal{F}$.\n"
   ]
  },
  {
   "cell_type": "markdown",
   "metadata": {},
   "source": [
    "### Key Questions"
   ]
  },
  {
   "cell_type": "markdown",
   "metadata": {},
   "source": [
    "As with unconstrained optimization, the following questions need to be considered:\n",
    "\n",
    "- If a solution $x^*$ exists, is it a global solution in $\\mathcal{F}$ or is it only a local solution?\n",
    "\n",
    "- What conditions characterize the optimal solutions?\n",
    "\n",
    "- Are there special problem classes of the NLP whose solutions have stronger properties and are easier to solve?\n",
    "\n",
    "- Are there efficient and reliable methods to solve the NLP?"
   ]
  },
  {
   "cell_type": "markdown",
   "metadata": {},
   "source": [
    "## Convexity for Constrained Optimization"
   ]
  },
  {
   "cell_type": "markdown",
   "metadata": {},
   "source": [
    "**Reference**: Section 4.1 in Biegler (2010)\n",
    "\n",
    "\n",
    "### Illustrative Examples\n",
    "\n",
    "Main idea: are the objective function and feasible region both convex?\n",
    "\n",
    "\n",
    "$f(x)$ is **convex** on the domain $x \\in X$ if and only if  \n",
    "$$\n",
    "\\alpha f(x^a) + (1 - \\alpha)f(x^b) \\geq f(\\alpha x^a + (1 - \\alpha)x^b) \\quad \\forall x^a, x^b \\in X, \\, \\alpha \\in (0, 1).\n",
    "$$\n",
    "\n",
    "**Strict convexity** requires the inequality to be strict.\n",
    "\n",
    "![concept_test_1](https://raw.githubusercontent.com/ndcbe/optimization/main/media/convex_concept1.png)\n",
    "\n",
    "The region $\\mathcal{Y}$ is **convex** if and only if  \n",
    "$$\n",
    "\\alpha x^a + (1 - \\alpha)x^b \\in \\mathcal{Y} \\quad \\forall x^a, x^b \\in \\mathcal{Y}, \\, \\alpha \\in [0, 1].\n",
    "$$\n",
    "\n",
    "![concept_test_2](https://raw.githubusercontent.com/ndcbe/optimization/main/media/convex_concept2.png)\n",
    "\n",
    "\n"
   ]
  },
  {
   "cell_type": "markdown",
   "metadata": {},
   "source": [
    "### Theorem 4.2: Convexity"
   ]
  },
  {
   "cell_type": "markdown",
   "metadata": {},
   "source": [
    "**Theorem 4.2**  If $g(x)$ is convex and $h(x)$ is linear, then the region  \n",
    "\n",
    "$$\n",
    "\\mathcal{F} = \\{ x \\,|\\, g(x) \\leq 0, h(x) = 0 \\}\n",
    "$$  \n",
    "\n",
    "is convex, i.e.,  \n",
    "\n",
    "$$\n",
    "\\alpha x^a + (1 - \\alpha)x^b \\in \\mathcal{F} \\quad \\text{for all } \\alpha \\in (0, 1) \\text{ and } x^a, x^b \\in \\mathcal{F}.\n",
    "$$\n",
    "\n",
    "**Proof** \n",
    "\n",
    "1. **Consider two points** $x^a, x^b \\in \\mathcal{F}$ and  \n",
    "   \n",
    "   $$\n",
    "   \\bar{x} = \\alpha x^a + (1 - \\alpha)x^b \\quad \\text{for some } \\alpha \\in (0, 1).\n",
    "   $$\n",
    "\n",
    "2. **If** $\\bar{x} \\not\\in \\mathcal{F}$, **then** (i) $g(\\bar{x}) > 0$ or (ii) $h(\\bar{x}) \\neq 0$ or both.\n",
    "\n",
    "   - **Case (i):** Recall $g(x)$ is convex, and $g(x^a) \\leq 0$ and $g(x^b) \\leq 0$ (both $x^a$ and $x^b$ are feasible).  \n",
    "     $$\n",
    "     0 \\geq \\alpha g(x^a) + (1 - \\alpha)g(x^b) \\geq g(\\alpha x^a + (1 - \\alpha)x^b) = g(\\bar{x}) \\quad \\text{(definition of convexity)}.\n",
    "     $$  \n",
    "     Thus, $g(\\bar{x}) \\leq 0$.\n",
    "\n",
    "   - **Case (ii):** Recall $h(x)$ is linear, and $h(x^a) = 0$ and $h(x^b) = 0$.  \n",
    "     \\begin{align*}\n",
    "     0 & = \\alpha h(x^a) + (1 - \\alpha)h(x^b) \\quad \\text{(property of linear functions)} \\\\\n",
    "     & = h(\\alpha x^a + (1 - \\alpha)x^b) = h(\\bar{x}) \\quad \\text{(definition of } \\bar{x} \\text{)}.\n",
    "     \\end{align*}\n",
    "     Thus, $g(\\bar{x}) \\leq 0$ and $h(\\bar{x}) = 0$.  \n",
    "\n",
    "This leads to a **contradiction.**\n"
   ]
  },
  {
   "cell_type": "markdown",
   "metadata": {},
   "source": [
    "### Theorem 4.3: Global Minimizers"
   ]
  },
  {
   "cell_type": "markdown",
   "metadata": {},
   "source": [
    "**Theorem 4.3**  If $f(x)$ is convex and $\\mathcal{F}$ is convex, then every local minimum in $\\mathcal{F}$ is a global minimum. If $f(x)$ is strictly convex in $\\mathcal{F}$, then a local minimum is the unique global minimum.\n",
    "\n",
    "**Proof: Convexity Claim**\n",
    "\n",
    "1. **Assumption:** There are two local minima $x^a, x^b \\in \\mathcal{F}$ with $f(x^a) > f(x^b)$. Seek contradiction.\n",
    "\n",
    "2. **Definition of Local Minimum:**  \n",
    "   - $f(x^a) \\leq f(x), \\, x \\in \\mathcal{N}(x^a) \\cap \\mathcal{F}$  \n",
    "   - $f(x^b) \\leq f(x), \\, x \\in \\mathcal{N}(x^b) \\cap \\mathcal{F}$  \n",
    "\n",
    "3. **By Convexity:**  \n",
    "   - $(1 - \\alpha)x^a + \\alpha x^b \\in \\mathcal{F}$  \n",
    "   - $f((1 - \\alpha)x^a + \\alpha x^b) \\leq (1 - \\alpha)f(x^a) + \\alpha f(x^b), \\, \\forall \\alpha \\in (0, 1)$  \n",
    "\n",
    "4. **Choose $\\alpha$ such that:**\n",
    "\n",
    "   $$\n",
    "   \\bar{x} = (1 - \\alpha)x^a + \\alpha x^b \\in \\mathcal{N}(x^a) \\cap \\mathcal{F}.\n",
    "   $$\n",
    "\n",
    "   Thus,  \n",
    "   $$\n",
    "   f(\\bar{x}) \\leq f(x^a) + \\alpha (f(x^b) - f(x^a)).\n",
    "   $$  \n",
    "   \n",
    "   Recall $f(x^b) < f(x^a)$, so  \n",
    "   \n",
    "   $$\n",
    "   f(\\bar{x}) < f(x^a).\n",
    "   $$  \n",
    "   \n",
    "   This is a contradiction, as $x^a$ cannot be a local minimizer.\n",
    "\n",
    "**Proof: Stricty Convexity Claim**. Same idea as above. Assume $f(x^a) \\geq f(x^b)$ in (1). Use strict inequality (from the strict convexity definition) in (3) and (4).\n"
   ]
  },
  {
   "cell_type": "markdown",
   "metadata": {},
   "source": [
    "### More Illustrative Examples\n",
    "\n",
    "![concept_test3](https://raw.githubusercontent.com/ndcbe/optimization/main/media/convex_concept3.png)"
   ]
  },
  {
   "cell_type": "markdown",
   "metadata": {},
   "source": [
    "## Circle Packing Example"
   ]
  },
  {
   "cell_type": "markdown",
   "metadata": {},
   "source": [
    "**Reference**: Section 4.1 in Biegler (2010)"
   ]
  },
  {
   "cell_type": "markdown",
   "metadata": {},
   "source": [
    "**Motivating Question**: Is this problem convex?"
   ]
  },
  {
   "cell_type": "markdown",
   "metadata": {},
   "source": [
    "What is the smallest rectangle you can use to enclose three given circles? Reference: Example 4.4 in Biegler (2010).\n",
    "\n",
    "![picture](https://raw.githubusercontent.com/ndcbe/optimization/main/media/pack1.png)"
   ]
  },
  {
   "cell_type": "markdown",
   "metadata": {},
   "source": [
    "### Optimization Model and Pyomo Implementation\n",
    "\n",
    "The following optimization model is given in Biegler (2010) and [adapted to use set notation](../1/NP.ipynb).\n",
    "\n",
    "\\begin{align*}\n",
    "\\min_{x,y,A,B} \\quad & 2(A + B) \\\\\n",
    "\\text{s.t.} \\quad & A \\geq 0, \\quad B \\geq 0 \\\\\n",
    "& x_i, y_i, \\geq R_i, \\quad x_i \\leq B - R_i, \\quad y_i \\leq A - R_i, \\quad \\forall i \\in \\mathcal{C} \\\\\n",
    "& (x_i - x_j)^2 + (y_i - y_j)^2 \\geq (R_i + R_j)^2, \\quad \\forall i,j \\in \\{i \\in \\mathcal{C}, j \\in \\mathcal{C}: i < j\\}\n",
    "\\end{align*}"
   ]
  },
  {
   "cell_type": "code",
   "execution_count": 3,
   "metadata": {},
   "outputs": [],
   "source": [
    "import random\n",
    "import numpy as np\n",
    "import matplotlib.pyplot as plt\n",
    "import matplotlib.patches as mpatches\n",
    "\n",
    "def create_circle_model(circle_radii):\n",
    "    ''' Create circle optimization model in Pyomo\n",
    "    \n",
    "    Arguments:\n",
    "        circle_radii: dictionary with keys=circle name and value=radius (float)\n",
    "        \n",
    "    Returns:\n",
    "        model: Pyomo model\n",
    "    '''\n",
    "\n",
    "    # Number of circles to consider\n",
    "    n = len(circle_radii)\n",
    "\n",
    "    # Create a concrete Pyomo model.\n",
    "    model = pyo.ConcreteModel()\n",
    "\n",
    "    # Initialize index for circles\n",
    "    model.CIRCLES = pyo.Set(initialize = circle_radii.keys())\n",
    "    \n",
    "    # Create parameter\n",
    "    model.R = pyo.Param(model.CIRCLES, domain=pyo.PositiveReals, initialize=circle_radii)\n",
    "\n",
    "    # Create variables for box\n",
    "    model.a = pyo.Var(domain=pyo.PositiveReals)\n",
    "    model.b = pyo.Var(domain=pyo.PositiveReals)\n",
    "\n",
    "    # Set objective\n",
    "    model.obj = pyo.Objective(expr=2*(model.a + model.b), sense = pyo.minimize)\n",
    "\n",
    "    # Create variables for circle centers\n",
    "    model.x = pyo.Var(model.CIRCLES, domain=pyo.PositiveReals)\n",
    "    model.y = pyo.Var(model.CIRCLES, domain=pyo.PositiveReals)\n",
    "\n",
    "    # \"In the box\" constraints\n",
    "    def left_x(m,c):\n",
    "        return m.x[c] >= model.R[c]\n",
    "    model.left_x_con = pyo.Constraint(model.CIRCLES, rule=left_x)\n",
    "\n",
    "    def left_y(m,c):\n",
    "        return m.y[c] >= model.R[c]\n",
    "    model.left_y_con = pyo.Constraint(model.CIRCLES, rule=left_y)\n",
    "\n",
    "    def right_x(m,c):\n",
    "        return m.x[c] <= m.b - model.R[c]\n",
    "    model.right_x_con = pyo.Constraint(model.CIRCLES, rule=right_x)\n",
    "\n",
    "    def right_y(m,c):\n",
    "        return m.y[c] <= m.a - model.R[c]\n",
    "    model.right_y_con = pyo.Constraint(model.CIRCLES, rule=right_y)\n",
    "\n",
    "    # No overlap constraints\n",
    "    def no_overlap(m,c1,c2):\n",
    "        if c1 < c2:\n",
    "            return (m.x[c1] - m.x[c2])**2 + (m.y[c1] - m.y[c2])**2 >= (model.R[c1] + model.R[c2])**2\n",
    "        else:\n",
    "            return pyo.Constraint.Skip\n",
    "    model.no_overlap_con = pyo.Constraint(model.CIRCLES, model.CIRCLES, rule=no_overlap)\n",
    "    \n",
    "    return model\n",
    "\n",
    "def initialize_circle_model(model, a_init=25, b_init=25):\n",
    "    ''' Initialize the x and y coordinates using uniform distribution\n",
    "    \n",
    "    Arguments:\n",
    "        a_init: initial value for a (default=25)\n",
    "        b_init: initial value for b (default=25)\n",
    "        \n",
    "    Returns:\n",
    "        Nothing. But per Pyomo scoping rules, the input argument `model`\n",
    "        can be modified in this function.\n",
    "    \n",
    "    '''\n",
    "    # Initialize \n",
    "    model.a = 25\n",
    "    model.b = 25\n",
    "\n",
    "    for i in model.CIRCLES:\n",
    "        # Adding circle radii ensures the remains in the >0, >0 quadrant\n",
    "        model.x[i] = random.uniform(0,10) + model.R[i]\n",
    "        model.y[i] = random.uniform(0,10) + model.R[i]\n",
    "\n"
   ]
  },
  {
   "cell_type": "markdown",
   "metadata": {},
   "source": [
    "Next, we will create a dictionary containing the circle names and radii values."
   ]
  },
  {
   "cell_type": "code",
   "execution_count": 4,
   "metadata": {},
   "outputs": [
    {
     "data": {
      "text/plain": [
       "{'A': 10.0, 'B': 5.0, 'C': 3.0}"
      ]
     },
     "execution_count": 4,
     "metadata": {},
     "output_type": "execute_result"
    }
   ],
   "source": [
    "# Create dictionary with circle data\n",
    "circle_data = {'A':10.0, 'B':5.0, 'C':3.0}\n",
    "circle_data"
   ]
  },
  {
   "cell_type": "code",
   "execution_count": 5,
   "metadata": {},
   "outputs": [
    {
     "data": {
      "text/plain": [
       "dict_keys(['A', 'B', 'C'])"
      ]
     },
     "execution_count": 5,
     "metadata": {},
     "output_type": "execute_result"
    }
   ],
   "source": [
    "# Access the keys\n",
    "circle_data.keys()"
   ]
  },
  {
   "cell_type": "markdown",
   "metadata": {},
   "source": [
    "Now let's create the model."
   ]
  },
  {
   "cell_type": "code",
   "execution_count": 6,
   "metadata": {},
   "outputs": [],
   "source": [
    "# Create model\n",
    "model = create_circle_model(circle_data)"
   ]
  },
  {
   "cell_type": "markdown",
   "metadata": {},
   "source": [
    "And let's initialize the model."
   ]
  },
  {
   "cell_type": "code",
   "execution_count": 7,
   "metadata": {},
   "outputs": [
    {
     "name": "stdout",
     "output_type": "stream",
     "text": [
      "1 Set Declarations\n",
      "    CIRCLES : Size=1, Index=None, Ordered=Insertion\n",
      "        Key  : Dimen : Domain : Size : Members\n",
      "        None :     1 :    Any :    3 : {'A', 'B', 'C'}\n",
      "\n",
      "1 Param Declarations\n",
      "    R : Size=3, Index=CIRCLES, Domain=PositiveReals, Default=None, Mutable=False\n",
      "        Key : Value\n",
      "          A :  10.0\n",
      "          B :   5.0\n",
      "          C :   3.0\n",
      "\n",
      "4 Var Declarations\n",
      "    a : Size=1, Index=None\n",
      "        Key  : Lower : Value : Upper : Fixed : Stale : Domain\n",
      "        None :     0 :    25 :  None : False : False : PositiveReals\n",
      "    b : Size=1, Index=None\n",
      "        Key  : Lower : Value : Upper : Fixed : Stale : Domain\n",
      "        None :     0 :    25 :  None : False : False : PositiveReals\n",
      "    x : Size=3, Index=CIRCLES\n",
      "        Key : Lower : Value              : Upper : Fixed : Stale : Domain\n",
      "          A :     0 : 11.513225996655489 :  None : False : False : PositiveReals\n",
      "          B :     0 :   8.43454062603906 :  None : False : False : PositiveReals\n",
      "          C :     0 :  4.040445303542623 :  None : False : False : PositiveReals\n",
      "    y : Size=3, Index=CIRCLES\n",
      "        Key : Lower : Value              : Upper : Fixed : Stale : Domain\n",
      "          A :     0 : 13.183454470479534 :  None : False : False : PositiveReals\n",
      "          B :     0 : 14.420996792060324 :  None : False : False : PositiveReals\n",
      "          C :     0 :  8.426415825883453 :  None : False : False : PositiveReals\n",
      "\n",
      "1 Objective Declarations\n",
      "    obj : Size=1, Index=None, Active=True\n",
      "        Key  : Active : Sense    : Expression\n",
      "        None :   True : minimize : 2*(a + b)\n",
      "\n",
      "5 Constraint Declarations\n",
      "    left_x_con : Size=3, Index=CIRCLES, Active=True\n",
      "        Key : Lower : Body : Upper : Active\n",
      "          A :  10.0 : x[A] :  +Inf :   True\n",
      "          B :   5.0 : x[B] :  +Inf :   True\n",
      "          C :   3.0 : x[C] :  +Inf :   True\n",
      "    left_y_con : Size=3, Index=CIRCLES, Active=True\n",
      "        Key : Lower : Body : Upper : Active\n",
      "          A :  10.0 : y[A] :  +Inf :   True\n",
      "          B :   5.0 : y[B] :  +Inf :   True\n",
      "          C :   3.0 : y[C] :  +Inf :   True\n",
      "    no_overlap_con : Size=3, Index=CIRCLES*CIRCLES, Active=True\n",
      "        Key        : Lower : Body                                : Upper : Active\n",
      "        ('A', 'B') : 225.0 : (x[A] - x[B])**2 + (y[A] - y[B])**2 :  +Inf :   True\n",
      "        ('A', 'C') : 169.0 : (x[A] - x[C])**2 + (y[A] - y[C])**2 :  +Inf :   True\n",
      "        ('B', 'C') :  64.0 : (x[B] - x[C])**2 + (y[B] - y[C])**2 :  +Inf :   True\n",
      "    right_x_con : Size=3, Index=CIRCLES, Active=True\n",
      "        Key : Lower : Body              : Upper : Active\n",
      "          A :  -Inf : x[A] - (b - 10.0) :   0.0 :   True\n",
      "          B :  -Inf :  x[B] - (b - 5.0) :   0.0 :   True\n",
      "          C :  -Inf :  x[C] - (b - 3.0) :   0.0 :   True\n",
      "    right_y_con : Size=3, Index=CIRCLES, Active=True\n",
      "        Key : Lower : Body              : Upper : Active\n",
      "          A :  -Inf : y[A] - (a - 10.0) :   0.0 :   True\n",
      "          B :  -Inf :  y[B] - (a - 5.0) :   0.0 :   True\n",
      "          C :  -Inf :  y[C] - (a - 3.0) :   0.0 :   True\n",
      "\n",
      "12 Declarations: CIRCLES R a b obj x y left_x_con left_y_con right_x_con right_y_con no_overlap_con\n"
     ]
    }
   ],
   "source": [
    "# Initialize model\n",
    "initialize_circle_model(model)\n",
    "model.pprint()"
   ]
  },
  {
   "cell_type": "markdown",
   "metadata": {},
   "source": [
    "### Visualize Initial Point"
   ]
  },
  {
   "cell_type": "markdown",
   "metadata": {},
   "source": [
    "Next, we'll define a function to plot the solution (or initial point)"
   ]
  },
  {
   "cell_type": "code",
   "execution_count": 8,
   "metadata": {},
   "outputs": [
    {
     "data": {
      "image/png": "[encoded data removed]",
      "text/plain": [
       "<Figure size 600x600 with 1 Axes>"
      ]
     },
     "metadata": {},
     "output_type": "display_data"
    }
   ],
   "source": [
    "# Plot initial point\n",
    "\n",
    "def plot_circles(m):\n",
    "    ''' Plot circles using data in Pyomo model\n",
    "    \n",
    "    Arguments:\n",
    "        m: Pyomo concrete model\n",
    "    \n",
    "    Returns:\n",
    "        Nothing (but makes a figure)\n",
    "    \n",
    "    '''\n",
    "    \n",
    "    # Create figure\n",
    "    fig, ax = plt.subplots(1,figsize=(6,6))\n",
    "    \n",
    "    # Adjust axes\n",
    "    l = max(m.a.value,m.b.value) + 1\n",
    "    ax.set_xlim(0,l)\n",
    "    ax.set_ylim(0,l)\n",
    "    \n",
    "    # Draw box\n",
    "    art = mpatches.Rectangle((0,0), width=m.b.value, height=m.a.value,fill=False)\n",
    "    ax.add_patch(art)\n",
    "\n",
    "    # Draw circles and mark center\n",
    "    for i in m.CIRCLES:\n",
    "        art2 = mpatches.Circle( (m.x[i].value,m.y[i].value), radius=m.R[i],fill=True,alpha=0.25)\n",
    "        ax.add_patch(art2)\n",
    "        \n",
    "        plt.scatter(m.x[i].value,m.y[i].value,color='black')\n",
    "    \n",
    "    # Show plot\n",
    "    plt.show()\n",
    "    \n",
    "plot_circles(model)"
   ]
  },
  {
   "cell_type": "markdown",
   "metadata": {},
   "source": [
    "### Solve and Inspect the Solution"
   ]
  },
  {
   "cell_type": "code",
   "execution_count": 9,
   "metadata": {},
   "outputs": [
    {
     "name": "stdout",
     "output_type": "stream",
     "text": [
      "Ipopt 3.14.16: \n",
      "\n",
      "******************************************************************************\n",
      "This program contains Ipopt, a library for large-scale nonlinear optimization.\n",
      " Ipopt is released as open source code under the Eclipse Public License (EPL).\n",
      "         For more information visit https://github.com/coin-or/Ipopt\n",
      "******************************************************************************\n",
      "\n",
      "This is Ipopt version 3.14.16, running with linear solver MUMPS 5.7.3.\n",
      "\n",
      "Number of nonzeros in equality constraint Jacobian...:        0\n",
      "Number of nonzeros in inequality constraint Jacobian.:       30\n",
      "Number of nonzeros in Lagrangian Hessian.............:       12\n",
      "\n",
      "Total number of variables............................:        8\n",
      "                     variables with only lower bounds:        8\n",
      "                variables with lower and upper bounds:        0\n",
      "                     variables with only upper bounds:        0\n",
      "Total number of equality constraints.................:        0\n",
      "Total number of inequality constraints...............:       15\n",
      "        inequality constraints with only lower bounds:        9\n",
      "   inequality constraints with lower and upper bounds:        0\n",
      "        inequality constraints with only upper bounds:        6\n",
      "\n",
      "iter    objective    inf_pr   inf_du lg(mu)  ||d||  lg(rg) alpha_du alpha_pr  ls\n",
      "   0  1.0000000e+02 2.14e+02 1.00e+00  -1.0 0.00e+00    -  0.00e+00 0.00e+00   0\n",
      "   1  9.7404570e+01 1.41e+02 2.57e+00  -1.0 1.90e+01    -  1.53e-01 1.79e-01h  1\n",
      "   2  9.8778030e+01 4.43e+01 4.34e-01  -1.0 6.90e+00    -  5.38e-01 5.49e-01h  1\n",
      "   3  9.7534613e+01 2.66e+01 4.02e-01  -1.0 1.12e+01    -  3.40e-01 2.08e-01h  1\n",
      "   4  9.8462936e+01 7.50e+00 2.95e-01  -1.0 9.82e-01    -  9.09e-01 6.57e-01h  1\n",
      "   5  9.8784717e+01 0.00e+00 1.63e-02  -1.0 5.11e+00    -  1.00e+00 9.29e-01h  1\n",
      "   6  9.8395226e+01 0.00e+00 2.45e-03  -1.7 2.38e+01    -  1.00e+00 1.00e+00h  1\n",
      "   7  9.8404859e+01 0.00e+00 8.76e-04  -1.7 3.43e+01    -  1.00e+00 1.00e+00h  1\n",
      "   8  9.8404875e+01 0.00e+00 2.03e-05  -1.7 5.60e+00    -  1.00e+00 1.00e+00h  1\n",
      "   9  9.8300803e+01 0.00e+00 1.10e-05  -2.5 2.48e-01    -  1.00e+00 1.00e+00h  1\n",
      "iter    objective    inf_pr   inf_du lg(mu)  ||d||  lg(rg) alpha_du alpha_pr  ls\n",
      "  10  9.8285163e+01 0.00e+00 2.83e-07  -3.8 3.59e-02    -  1.00e+00 1.00e+00h  1\n",
      "  11  9.8284281e+01 0.00e+00 1.05e-09  -5.7 2.05e-03    -  1.00e+00 1.00e+00h  1\n",
      "  12  9.8284270e+01 0.00e+00 8.68e-13  -8.6 1.53e-04    -  1.00e+00 1.00e+00h  1\n",
      "\n",
      "Number of Iterations....: 12\n",
      "\n",
      "                                   (scaled)                 (unscaled)\n",
      "Objective...............:   9.8284270438748564e+01    9.8284270438748564e+01\n",
      "Dual infeasibility......:   8.6837913151726545e-13    8.6837913151726545e-13\n",
      "Constraint violation....:   0.0000000000000000e+00    0.0000000000000000e+00\n",
      "Variable bound violation:   0.0000000000000000e+00    0.0000000000000000e+00\n",
      "Complementarity.........:   2.5110436111686484e-09    2.5110436111686484e-09\n",
      "Overall NLP error.......:   2.5110436111686484e-09    2.5110436111686484e-09\n",
      "\n",
      "\n",
      "Number of objective function evaluations             = 13\n",
      "Number of objective gradient evaluations             = 13\n",
      "Number of equality constraint evaluations            = 0\n",
      "Number of inequality constraint evaluations          = 13\n",
      "Number of equality constraint Jacobian evaluations   = 0\n",
      "Number of inequality constraint Jacobian evaluations = 13\n",
      "Number of Lagrangian Hessian evaluations             = 12\n",
      "Total seconds in IPOPT                               = 0.005\n",
      "\n",
      "EXIT: Optimal Solution Found.\n",
      "\b"
     ]
    }
   ],
   "source": [
    "# Specify the solver\n",
    "solver = pyo.SolverFactory('ipopt')\n",
    "\n",
    "# Solve the model\n",
    "results = solver.solve(model, tee = True)"
   ]
  },
  {
   "cell_type": "markdown",
   "metadata": {},
   "source": [
    "Next, we can inspect the solution. Because Pyomo is a Python extension, we can use Pyoth (for loops, etc.) to programmatically inspect the solution."
   ]
  },
  {
   "cell_type": "code",
   "execution_count": 10,
   "metadata": {},
   "outputs": [
    {
     "name": "stdout",
     "output_type": "stream",
     "text": [
      "Name\tValue\n",
      "a \t 19.999999803189517\n",
      "b \t 29.142135416184765\n",
      "x[A] \t 19.14213551493193\n",
      "x[B] \t 4.999999951252107\n",
      "x[C] \t 5.397289325741121\n",
      "y[A] \t 9.999999901252016\n",
      "y[B] \t 14.999999849644135\n",
      "y[C] \t 4.723178462635149\n"
     ]
    },
    {
     "data": {
      "image/png": "[encoded data removed]",
      "text/plain": [
       "<Figure size 600x600 with 1 Axes>"
      ]
     },
     "metadata": {},
     "output_type": "display_data"
    }
   ],
   "source": [
    "# Print variable values\n",
    "print(\"Name\\tValue\")\n",
    "for c in model.component_data_objects(pyo.Var):\n",
    "    print(c.name,\"\\t\", pyo.value(c))\n",
    "\n",
    "# Plot solution\n",
    "plot_circles(model)"
   ]
  },
  {
   "cell_type": "code",
   "execution_count": 11,
   "metadata": {},
   "outputs": [
    {
     "name": "stdout",
     "output_type": "stream",
     "text": [
      "left_x_con[A] \t 10.0 \t 19.14213551493193 \t None\n",
      "left_x_con[B] \t 5.0 \t 4.999999951252107 \t None\n",
      "left_x_con[C] \t 3.0 \t 5.397289325741121 \t None\n",
      "left_y_con[A] \t 10.0 \t 9.999999901252016 \t None\n",
      "left_y_con[B] \t 5.0 \t 14.999999849644135 \t None\n",
      "left_y_con[C] \t 3.0 \t 4.723178462635149 \t None\n",
      "right_x_con[A] \t None \t 9.874716511149018e-08 \t 0.0\n",
      "right_x_con[B] \t None \t -19.142135464932657 \t 0.0\n",
      "right_x_con[C] \t None \t -20.744846090443644 \t 0.0\n",
      "right_y_con[A] \t None \t 9.806249856580962e-08 \t 0.0\n",
      "right_y_con[B] \t None \t 4.6454617930180575e-08 \t 0.0\n",
      "right_y_con[C] \t None \t -12.276821340554369 \t 0.0\n",
      "no_overlap_con[A,B] \t 225.0 \t 224.9999977854188 \t None\n",
      "no_overlap_con[A,C] \t 169.0 \t 216.7656412595597 \t None\n",
      "no_overlap_con[B,C] \t 64.0 \t 105.77089666756719 \t None\n"
     ]
    }
   ],
   "source": [
    "# Print constraints\n",
    "for c in model.component_data_objects(pyo.Constraint):\n",
    "    print(c.name,\"\\t\", pyo.value(c.lower),\"\\t\", pyo.value(c.body),\"\\t\", pyo.value(c.upper))"
   ]
  },
  {
   "cell_type": "markdown",
   "metadata": {},
   "source": [
    "### Reinitialize and Resolve"
   ]
  },
  {
   "cell_type": "markdown",
   "metadata": {},
   "source": [
    "Reinitialize the model, plot the initial point, resolve, and plot the solution. Is there more than one solution?"
   ]
  },
  {
   "cell_type": "code",
   "execution_count": 12,
   "metadata": {},
   "outputs": [],
   "source": [
    "# Initialize and print the model\n",
    "initialize_circle_model(model)"
   ]
  },
  {
   "cell_type": "code",
   "execution_count": 13,
   "metadata": {},
   "outputs": [
    {
     "data": {
      "image/png": "[encoded data removed]",
      "text/plain": [
       "<Figure size 600x600 with 1 Axes>"
      ]
     },
     "metadata": {},
     "output_type": "display_data"
    }
   ],
   "source": [
    "# Plot initial point\n",
    "plot_circles(model)"
   ]
  },
  {
   "cell_type": "code",
   "execution_count": 14,
   "metadata": {},
   "outputs": [
    {
     "name": "stdout",
     "output_type": "stream",
     "text": [
      "Ipopt 3.14.16: \n",
      "\n",
      "******************************************************************************\n",
      "This program contains Ipopt, a library for large-scale nonlinear optimization.\n",
      " Ipopt is released as open source code under the Eclipse Public License (EPL).\n",
      "         For more information visit https://github.com/coin-or/Ipopt\n",
      "******************************************************************************\n",
      "\n",
      "This is Ipopt version 3.14.16, running with linear solver MUMPS 5.7.3.\n",
      "\n",
      "Number of nonzeros in equality constraint Jacobian...:        0\n",
      "Number of nonzeros in inequality constraint Jacobian.:       30\n",
      "Number of nonzeros in Lagrangian Hessian.............:       12\n",
      "\n",
      "Total number of variables............................:        8\n",
      "                     variables with only lower bounds:        8\n",
      "                variables with lower and upper bounds:        0\n",
      "                     variables with only upper bounds:        0\n",
      "Total number of equality constraints.................:        0\n",
      "Total number of inequality constraints...............:       15\n",
      "        inequality constraints with only lower bounds:        9\n",
      "   inequality constraints with lower and upper bounds:        0\n",
      "        inequality constraints with only upper bounds:        6\n",
      "\n",
      "iter    objective    inf_pr   inf_du lg(mu)  ||d||  lg(rg) alpha_du alpha_pr  ls\n",
      "   0  1.0000000e+02 1.06e+02 1.00e+00  -1.0 0.00e+00    -  0.00e+00 0.00e+00   0\n",
      "   1  1.0393839e+02 5.88e+01 5.92e-01  -1.0 8.61e+00    -  5.61e-01 3.97e-01h  1\n",
      "   2  1.0671680e+02 3.79e+01 4.96e+00  -1.0 4.14e+00   0.0 8.43e-01 3.34e-01h  1\n",
      "   3  1.1190692e+02 0.00e+00 8.93e-01  -1.0 2.68e+00  -0.5 1.00e+00 1.00e+00h  1\n",
      "   4  1.0135309e+02 5.13e+00 1.08e+00  -1.0 1.30e+01  -1.0 9.82e-01 8.98e-01F  1\n",
      "   5  1.0112870e+02 4.47e+00 1.01e+00  -1.0 7.89e+00  -1.4 3.24e-01 5.67e-02h  1\n",
      "   6  1.0075878e+02 0.00e+00 6.13e-01  -1.0 1.56e+00  -1.0 1.00e+00 6.20e-01f  1\n",
      "   7  9.8921905e+01 0.00e+00 6.98e-01  -1.0 1.82e+01  -1.5 2.10e-01 1.05e-01f  1\n",
      "   8  9.9444694e+01 0.00e+00 1.28e-02  -1.0 2.52e+00    -  9.90e-01 1.00e+00f  1\n",
      "   9  9.8421857e+01 0.00e+00 3.72e-03  -1.7 3.28e+01    -  1.00e+00 9.53e-01f  1\n",
      "iter    objective    inf_pr   inf_du lg(mu)  ||d||  lg(rg) alpha_du alpha_pr  ls\n",
      "  10  9.8404978e+01 0.00e+00 5.54e-04  -1.7 3.98e+01    -  1.00e+00 1.00e+00h  1\n",
      "  11  9.8405025e+01 0.00e+00 4.31e-05  -1.7 7.19e+00    -  1.00e+00 1.00e+00h  1\n",
      "  12  9.8300697e+01 0.00e+00 1.23e-05  -2.5 2.47e-01    -  1.00e+00 1.00e+00h  1\n",
      "  13  9.8285160e+01 0.00e+00 2.96e-07  -3.8 3.60e-02    -  1.00e+00 1.00e+00h  1\n",
      "  14  9.8284281e+01 0.00e+00 1.37e-09  -5.7 2.06e-03    -  1.00e+00 1.00e+00h  1\n",
      "  15  9.8284270e+01 0.00e+00 1.70e-12  -8.6 2.13e-04    -  1.00e+00 1.00e+00h  1\n",
      "\n",
      "Number of Iterations....: 15\n",
      "\n",
      "                                   (scaled)                 (unscaled)\n",
      "Objective...............:   9.8284270438747257e+01    9.8284270438747257e+01\n",
      "Dual infeasibility......:   1.7041755864611193e-12    1.7041755864611193e-12\n",
      "Constraint violation....:   0.0000000000000000e+00    0.0000000000000000e+00\n",
      "Variable bound violation:   0.0000000000000000e+00    0.0000000000000000e+00\n",
      "Complementarity.........:   2.5155239053889899e-09    2.5155239053889899e-09\n",
      "Overall NLP error.......:   2.5155239053889899e-09    2.5155239053889899e-09\n",
      "\n",
      "\n",
      "Number of objective function evaluations             = 17\n",
      "Number of objective gradient evaluations             = 16\n",
      "Number of equality constraint evaluations            = 0\n",
      "Number of inequality constraint evaluations          = 17\n",
      "Number of equality constraint Jacobian evaluations   = 0\n",
      "Number of inequality constraint Jacobian evaluations = 16\n",
      "Number of Lagrangian Hessian evaluations             = 15\n",
      "Total seconds in IPOPT                               = 0.003\n",
      "\n",
      "EXIT: Optimal Solution Found.\n",
      "\b"
     ]
    }
   ],
   "source": [
    "# Solve the model\n",
    "results = solver.solve(model, tee = True)"
   ]
  },
  {
   "cell_type": "code",
   "execution_count": 15,
   "metadata": {},
   "outputs": [
    {
     "data": {
      "image/png": "[encoded data removed]",
      "text/plain": [
       "<Figure size 600x600 with 1 Axes>"
      ]
     },
     "metadata": {},
     "output_type": "display_data"
    }
   ],
   "source": [
    "# Plot solution\n",
    "plot_circles(model)"
   ]
  },
  {
   "cell_type": "markdown",
   "metadata": {},
   "source": [
    "## Take Away Messages\n",
    "* Nonlinear programs may be nonconvex. For nonconvex problems, there often exists many local optima that are not also global optima.\n",
    "* Initialization is really important in optimization problems with nonlinear objectives or constraints!"
   ]
  }
 ],
 "metadata": {
  "kernelspec": {
   "display_name": "summer2024",
   "language": "python",
   "name": "python3"
  },
  "language_info": {
   "codemirror_mode": {
    "name": "ipython",
    "version": 3
   },
   "file_extension": ".py",
   "mimetype": "text/x-python",
   "name": "python",
   "nbconvert_exporter": "python",
   "pygments_lexer": "ipython3",
   "version": "3.10.14"
  }
 },
 "nbformat": 4,
 "nbformat_minor": 2
}
