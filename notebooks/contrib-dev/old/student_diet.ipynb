{
  "cells": [
    {
      "cell_type": "markdown",
      "metadata": {
        "id": "qRpFJD4dBarl"
      },
      "source": [
        "# Optimizing Your Daily Diet\n",
        "\n",
        "**Prepared by:** Landi Wang (lwang25@nd.edu, 2024) & Yi Liu (yliu66@nd.edu, 2024)"
      ]
    },
    {
      "cell_type": "code",
      "execution_count": null,
      "metadata": {
        "colab": {
          "base_uri": "https://localhost:8080/"
        },
        "id": "GmrCbtj3GRcY",
        "outputId": "871c3dcb-db58-47b9-bfc7-787639744668"
      },
      "outputs": [
        {
          "name": "stdout",
          "output_type": "stream",
          "text": [
            "--2024-10-07 22:02:11--  https://raw.githubusercontent.com/ndcbe/optimization/main/notebooks/helper.py\n",
            "Resolving raw.githubusercontent.com (raw.githubusercontent.com)... 185.199.108.133, 185.199.109.133, 185.199.110.133, ...\n",
            "Connecting to raw.githubusercontent.com (raw.githubusercontent.com)|185.199.108.133|:443... connected.\n",
            "HTTP request sent, awaiting response... 200 OK\n",
            "Length: 6493 (6.3K) [text/plain]\n",
            "Saving to: ‘helper.py’\n",
            "\n",
            "\rhelper.py             0%[                    ]       0  --.-KB/s               \rhelper.py           100%[===================>]   6.34K  --.-KB/s    in 0s      \n",
            "\n",
            "2024-10-07 22:02:11 (59.7 MB/s) - ‘helper.py’ saved [6493/6493]\n",
            "\n",
            "Installing idaes via pip...\n",
            "idaes was successfully installed\n",
            "idaes, version 2.6.0\n",
            "\n",
            "\n",
            "Running idaes get-extensions to install Ipopt, k_aug, and more...\n",
            "Checking solver versions:\n",
            "Ipopt 3.13.2 (x86_64-pc-linux-gnu), ASL(20190605)\n",
            "\n",
            "\n",
            "\n",
            "[K_AUG] 0.1.0, Part of the IDAES PSE framework\n",
            "Please visit https://idaes.org/ (x86_64-pc-linux-gnu), ASL(20190605)\n",
            "\n",
            "\n",
            "\n",
            "Couenne 0.5.8 -- an Open-Source solver for Mixed Integer Nonlinear Optimization\n",
            "Mailing list: couenne@list.coin-or.org\n",
            "Instructions: http://www.coin-or.org/Couenne\n",
            "couenne (x86_64-pc-linux-gnu), ASL(20190605)\n",
            "\n",
            "\n",
            "\n",
            "Bonmin 1.8.8 using Cbc 2.10.10 and Ipopt 3.13.2\n",
            "bonmin (x86_64-pc-linux-gnu), ASL(20190605)\n",
            "\n",
            "\n",
            "\n",
            "Ipopt 3.13.3 (x86_64-pc-linux-gnu), ASL(20190605)\n",
            "\n",
            "\n",
            "\n",
            "1.0 dot_1' (x86_64-pc-linux-gnu), ASL(20190605)\n",
            "\n",
            "\n",
            "\n"
          ]
        }
      ],
      "source": [
        "# This code cell installs packages on Colab\n",
        "\n",
        "import sys\n",
        "if \"google.colab\" in sys.modules:\n",
        "    !wget \"https://raw.githubusercontent.com/ndcbe/optimization/main/notebooks/helper.py\"\n",
        "    import helper\n",
        "    helper.easy_install()\n",
        "else:\n",
        "    sys.path.insert(0, '../')\n",
        "    import helper\n",
        "helper.set_plotting_style()"
      ]
    },
    {
      "cell_type": "code",
      "execution_count": null,
      "metadata": {
        "id": "F-e3ZslIGg4z"
      },
      "outputs": [],
      "source": [
        "import pandas as pd\n",
        "import pyomo.environ as pyo\n",
        "import numpy as np\n",
        "import matplotlib.pyplot as plt"
      ]
    },
    {
      "cell_type": "markdown",
      "metadata": {
        "id": "k57swaj1Glpt"
      },
      "source": [
        "You want to save money eating while remaining healthy. A healthy diet requires at least 70 grams of protein, 250 grams of carbohydrates, 70 grams of fats, 35 grams of fiber per day.\n",
        "Now we want to add one more constraint of food volume that one is able to intake, as well as more food options to more accurately simulate real life conditions. We has set the daily intake volume to be around 90 ounces, assuming 30 ounces per meal and 3 meals per day.\n",
        "The following table describes food attributes retrived directly from the source."
      ]
    },
    {
      "cell_type": "markdown",
      "metadata": {
        "id": "hkvd83LCghvT"
      },
      "source": [
        "## I. Model Without Water\n",
        "### 1.1 Model Description and Formulation\n",
        "We formulated a model without water involved (as it is in the dataframe). There are four types of food: broccoli, bread, steak, and Popeyes (four piece combo). We chose these items because they are the most common, meanwhile each has its unique attributes: broccoli is only high in fiber, bread is only high in carbs, steak is high in protein and fat, and Popeyes is high in protein, fat, and decent in carbs. Among these options, Popeyes is the most well-rounded food item, providing most nutrients in abundance.\n",
        "Before we solve the model, we believe that the best combination would be Popeyes with some bread as well as broccoli that is enough to satisfy the fiber needs, whereas steak would be ignored because of Popeyes' nutritional value (though sounds odd)."
      ]
    },
    {
      "cell_type": "code",
      "execution_count": null,
      "metadata": {
        "colab": {
          "base_uri": "https://localhost:8080/"
        },
        "id": "43OQUN-pQyzS",
        "outputId": "67a5b940-326d-41f6-d2ec-02c0b2f84350"
      },
      "outputs": [
        {
          "name": "stdout",
          "output_type": "stream",
          "text": [
            "Ipopt 3.13.2: \n",
            "\n",
            "******************************************************************************\n",
            "This program contains Ipopt, a library for large-scale nonlinear optimization.\n",
            " Ipopt is released as open source code under the Eclipse Public License (EPL).\n",
            "         For more information visit http://projects.coin-or.org/Ipopt\n",
            "\n",
            "This version of Ipopt was compiled from source code available at\n",
            "    https://github.com/IDAES/Ipopt as part of the Institute for the Design of\n",
            "    Advanced Energy Systems Process Systems Engineering Framework (IDAES PSE\n",
            "    Framework) Copyright (c) 2018-2019. See https://github.com/IDAES/idaes-pse.\n",
            "\n",
            "This version of Ipopt was compiled using HSL, a collection of Fortran codes\n",
            "    for large-scale scientific computation.  All technical papers, sales and\n",
            "    publicity material resulting from use of the HSL codes within IPOPT must\n",
            "    contain the following acknowledgement:\n",
            "        HSL, a collection of Fortran codes for large-scale scientific\n",
            "        computation. See http://www.hsl.rl.ac.uk.\n",
            "******************************************************************************\n",
            "\n",
            "This is Ipopt version 3.13.2, running with linear solver ma27.\n",
            "\n",
            "Number of nonzeros in equality constraint Jacobian...:        0\n",
            "Number of nonzeros in inequality constraint Jacobian.:       17\n",
            "Number of nonzeros in Lagrangian Hessian.............:        0\n",
            "\n",
            "Total number of variables............................:        4\n",
            "                     variables with only lower bounds:        4\n",
            "                variables with lower and upper bounds:        0\n",
            "                     variables with only upper bounds:        0\n",
            "Total number of equality constraints.................:        0\n",
            "Total number of inequality constraints...............:        5\n",
            "        inequality constraints with only lower bounds:        4\n",
            "   inequality constraints with lower and upper bounds:        0\n",
            "        inequality constraints with only upper bounds:        1\n",
            "\n",
            "iter    objective    inf_pr   inf_du lg(mu)  ||d||  lg(rg) alpha_du alpha_pr  ls\n",
            "   0  3.4499966e-01 2.49e+02 1.03e+00  -1.0 0.00e+00    -  0.00e+00 0.00e+00   0\n",
            "   1  5.1239594e-01 2.49e+02 1.95e+00  -1.0 7.00e+01    -  1.67e-03 4.77e-03h  1\n",
            "   2  1.0829719e+00 2.45e+02 4.47e+00  -1.0 3.81e+01    -  7.04e-03 1.54e-02h  1\n",
            "   3  1.6283397e+00 2.42e+02 2.80e+00  -1.0 6.28e+01    -  2.19e-02 9.87e-03h  1\n",
            "   4  6.0978594e+01 0.00e+00 1.07e+01  -1.0 6.66e+01    -  3.02e-02 1.00e+00h  1\n",
            "   5  6.1024713e+01 0.00e+00 8.47e-02  -1.0 1.33e-01    -  9.94e-01 1.00e+00f  1\n",
            "   6  6.0925244e+01 0.00e+00 2.00e-07  -1.7 8.10e-01    -  1.00e+00 1.00e+00f  1\n",
            "   7  6.0848635e+01 0.00e+00 3.80e-04  -3.8 3.21e+00    -  9.99e-01 9.82e-01f  1\n",
            "   8  6.0847087e+01 0.00e+00 1.84e-11  -5.7 4.87e-03    -  1.00e+00 1.00e+00f  1\n",
            "   9  6.0847080e+01 0.00e+00 2.93e-14  -8.6 3.61e-04    -  1.00e+00 1.00e+00f  1\n",
            "\n",
            "Number of Iterations....: 9\n",
            "\n",
            "                                   (scaled)                 (unscaled)\n",
            "Objective...............:   6.0847079778165650e+01    6.0847079778165650e+01\n",
            "Dual infeasibility......:   2.9317359951248336e-14    2.9317359951248336e-14\n",
            "Constraint violation....:   0.0000000000000000e+00    0.0000000000000000e+00\n",
            "Complementarity.........:   2.5118925268508237e-09    2.5118925268508237e-09\n",
            "Overall NLP error.......:   2.5118925268508237e-09    2.5118925268508237e-09\n",
            "\n",
            "\n",
            "Number of objective function evaluations             = 10\n",
            "Number of objective gradient evaluations             = 10\n",
            "Number of equality constraint evaluations            = 0\n",
            "Number of inequality constraint evaluations          = 10\n",
            "Number of equality constraint Jacobian evaluations   = 0\n",
            "Number of inequality constraint Jacobian evaluations = 10\n",
            "Number of Lagrangian Hessian evaluations             = 9\n",
            "Total CPU secs in IPOPT (w/o function evaluations)   =      0.002\n",
            "Total CPU secs in NLP function evaluations           =      0.000\n",
            "\n",
            "EXIT: Optimal Solution Found.\n",
            "\b\b\b\b\b\b\b\b\b\b\b\b\b\bStatus: optimal\n",
            "Optimal solution:\n",
            "broccoli: 13.47 units\n",
            "bread: 6.94 units\n",
            "steak: 0.00 units\n",
            "Popeyes: 0.94 units\n",
            "Total price: $60.85\n"
          ]
        }
      ],
      "source": [
        "model = pyo.ConcreteModel()\n",
        "\n",
        "# Define the food items\n",
        "food_items = ['broccoli', 'bread', 'steak', 'Popeyes']\n",
        "\n",
        "# Define the nutrition and price data\n",
        "nutrition_data = {\n",
        "    'Protein': [2.6, 3.5, 26, 76],\n",
        "    'Carbohydrates': [6, 19.5, 0, 36],\n",
        "    'Fat': [0.3, 0.84, 7.6, 64],\n",
        "    'Fiber': [2, 1.16, 0, 0],\n",
        "    'Volume': [2.6, 1.41, 3, 25],\n",
        "    'Price': [2, 1.5, 6, 25]\n",
        "}\n",
        "\n",
        "# Define the bounds for each constraint\n",
        "bounds = {\n",
        "    'Protein': 70,\n",
        "    'Carbohydrates': 250,\n",
        "    'Fat': 70,\n",
        "    'Fiber': 35,\n",
        "    'Volume': 90\n",
        "}\n",
        "\n",
        "# Define the decision variables for the amount of each food item\n",
        "model.food_quantities = pyo.Var(food_items, domain=pyo.NonNegativeReals)\n",
        "\n",
        "# Define the objective function to minimize the total price\n",
        "model.obj = pyo.Objective(expr=sum(model.food_quantities[i] * nutrition_data['Price'][j]\n",
        "                                   for j, i in enumerate(food_items)), sense=pyo.minimize)\n",
        "\n",
        "# Add constraints for total intake of protein, carbohydrates, fat, fiber, and volume\n",
        "model.protein_constraint = pyo.Constraint(expr=sum(model.food_quantities[i] * nutrition_data['Protein'][j]\n",
        "                                                   for j, i in enumerate(food_items)) >= bounds['Protein'])\n",
        "model.carbohydrates_constraint = pyo.Constraint(expr=sum(model.food_quantities[i] * nutrition_data['Carbohydrates'][j]\n",
        "                                                         for j, i in enumerate(food_items)) >= bounds['Carbohydrates'])\n",
        "model.fat_constraint = pyo.Constraint(expr=sum(model.food_quantities[i] * nutrition_data['Fat'][j]\n",
        "                                               for j, i in enumerate(food_items)) >= bounds['Fat'])\n",
        "model.fiber_constraint = pyo.Constraint(expr=sum(model.food_quantities[i] * nutrition_data['Fiber'][j]\n",
        "                                                 for j, i in enumerate(food_items)) >= bounds['Fiber'])\n",
        "model.volume_constraint = pyo.Constraint(expr=sum(model.food_quantities[i] * nutrition_data['Volume'][j]\n",
        "                                                  for j, i in enumerate(food_items)) <= bounds['Volume'])\n",
        "\n",
        "# Solve the problem using IPOPT solver\n",
        "solver = pyo.SolverFactory('ipopt')\n",
        "results = solver.solve(model, tee=True)\n",
        "\n",
        "# Print the results\n",
        "print(\"Status:\", results.solver.termination_condition)\n",
        "print(\"Optimal solution:\")\n",
        "for i in food_items:\n",
        "    print(f\"{i}: {pyo.value(model.food_quantities[i]):.2f} units\")\n",
        "\n",
        "# Print the total price\n",
        "total_price = sum(pyo.value(model.food_quantities[i]) * nutrition_data['Price'][j]\n",
        "                  for j, i in enumerate(food_items))\n",
        "print(f\"Total price: ${total_price:.2f}\")"
      ]
    },
    {
      "cell_type": "markdown",
      "metadata": {
        "id": "F8Kkr1qDhwLm"
      },
      "source": [
        "From the model output, we can see that the results are pretty similar to what we imagined at first: 0.94 units of Popeyes, 6.94 units of bread, 13.47 units of broccoli, and no steak. These units translated into normal weights dimensions are: almost one serving of the Popeyes four-piece chicken combo, 2 pounds of broccoli, and 0.6 pound of bread. Steak is not selected at all primarily because it is not a economically efficient option for its nutritional values, as the two of its competitive edges (protein and fat) are both covered by Popeyes."
      ]
    },
    {
      "cell_type": "markdown",
      "metadata": {
        "id": "TCFMHnsCB7fl"
      },
      "source": [
        "###1.2 Degree of Freedom Analysis"
      ]
    },
    {
      "cell_type": "markdown",
      "metadata": {
        "id": "2GDQ8ubSq8Ee"
      },
      "source": [
        "The degree of freedom of this model is determined to be 0: there are 5 variables, one for each type of food, and five constraints, one for each type of nutrient."
      ]
    },
    {
      "cell_type": "markdown",
      "metadata": {
        "id": "grafn-8_hxlU"
      },
      "source": [
        "##II. Model With Water\n",
        "### 2.1 Model Description and Formulation\n",
        "Now we want to formulate a model with water involved. Water has no nutritional value but volume. We also added a constraint specifying the amount of water to be consumed per day: 3 bottles of 10 oz size, in order to imitate real-life situations more accurately."
      ]
    },
    {
      "cell_type": "code",
      "execution_count": null,
      "metadata": {
        "colab": {
          "base_uri": "https://localhost:8080/"
        },
        "id": "PRB1kKgpVwYv",
        "outputId": "5c579986-55c9-4220-e2ae-96c5fb882d64"
      },
      "outputs": [
        {
          "name": "stdout",
          "output_type": "stream",
          "text": [
            "Ipopt 3.13.2: \n",
            "\n",
            "******************************************************************************\n",
            "This program contains Ipopt, a library for large-scale nonlinear optimization.\n",
            " Ipopt is released as open source code under the Eclipse Public License (EPL).\n",
            "         For more information visit http://projects.coin-or.org/Ipopt\n",
            "\n",
            "This version of Ipopt was compiled from source code available at\n",
            "    https://github.com/IDAES/Ipopt as part of the Institute for the Design of\n",
            "    Advanced Energy Systems Process Systems Engineering Framework (IDAES PSE\n",
            "    Framework) Copyright (c) 2018-2019. See https://github.com/IDAES/idaes-pse.\n",
            "\n",
            "This version of Ipopt was compiled using HSL, a collection of Fortran codes\n",
            "    for large-scale scientific computation.  All technical papers, sales and\n",
            "    publicity material resulting from use of the HSL codes within IPOPT must\n",
            "    contain the following acknowledgement:\n",
            "        HSL, a collection of Fortran codes for large-scale scientific\n",
            "        computation. See http://www.hsl.rl.ac.uk.\n",
            "******************************************************************************\n",
            "\n",
            "This is Ipopt version 3.13.2, running with linear solver ma27.\n",
            "\n",
            "Number of nonzeros in equality constraint Jacobian...:        0\n",
            "Number of nonzeros in inequality constraint Jacobian.:       19\n",
            "Number of nonzeros in Lagrangian Hessian.............:        0\n",
            "\n",
            "Total number of variables............................:        5\n",
            "                     variables with only lower bounds:        5\n",
            "                variables with lower and upper bounds:        0\n",
            "                     variables with only upper bounds:        0\n",
            "Total number of equality constraints.................:        0\n",
            "Total number of inequality constraints...............:        6\n",
            "        inequality constraints with only lower bounds:        5\n",
            "   inequality constraints with lower and upper bounds:        0\n",
            "        inequality constraints with only upper bounds:        1\n",
            "\n",
            "iter    objective    inf_pr   inf_du lg(mu)  ||d||  lg(rg) alpha_du alpha_pr  ls\n",
            "   0  3.6999963e-01 2.49e+02 1.04e+00  -1.0 0.00e+00    -  0.00e+00 0.00e+00   0\n",
            "   1  5.4691760e-01 2.49e+02 1.79e+00  -1.0 7.00e+01    -  1.67e-03 4.77e-03h  1\n",
            "   2  1.0535935e+00 2.45e+02 3.16e+00  -1.0 5.27e+01    -  7.06e-03 1.24e-02h  1\n",
            "   3  1.7059280e+00 2.43e+02 2.42e+00  -1.0 9.11e+01    -  1.18e-02 1.06e-02h  1\n",
            "   4  8.0202224e+00 2.19e+02 1.96e+01  -1.0 9.52e+01    -  2.45e-02 9.62e-02h  1\n",
            "   5  6.2016951e+01 2.16e+01 7.91e+00  -1.0 8.71e+01    -  1.99e-01 8.93e-01h  1\n",
            "   6  6.2348101e+01 2.02e+01 5.18e+01  -1.0 6.10e+00    -  8.15e-01 5.93e-02h  1\n",
            "   7  6.3479329e+01 5.20e+00 1.01e+01  -1.0 2.52e+02    -  8.47e-03 1.57e-01h  1\n",
            "   8  7.0202576e+01 5.12e-02 3.94e+01  -1.0 3.24e+02    -  3.90e-01 9.83e-01h  1\n",
            "   9  7.0270853e+01 9.87e-03 8.17e+00  -1.0 7.88e+00    -  1.00e+00 4.01e-01h  1\n",
            "iter    objective    inf_pr   inf_du lg(mu)  ||d||  lg(rg) alpha_du alpha_pr  ls\n",
            "  10  7.0271205e+01 9.84e-03 3.71e+01  -1.0 2.75e+00    -  1.00e+00 4.63e-01h  1\n",
            "  11  7.0290969e+01 0.00e+00 4.24e+01  -1.0 2.07e+00    -  1.00e+00 6.30e-01h  1\n",
            "  12  7.0283057e+01 0.00e+00 1.00e-06  -1.0 2.55e-01    -  1.00e+00 1.00e+00h  1\n",
            "  13  7.0224950e+01 0.00e+00 7.39e+00  -2.5 3.26e-01    -  9.73e-01 1.00e+00f  1\n",
            "  14  7.0218543e+01 0.00e+00 7.14e+00  -2.5 3.60e-01    -  1.00e+00 4.00e-01f  2\n",
            "  15  7.0207487e+01 0.00e+00 2.83e-08  -2.5 6.23e-02    -  1.00e+00 1.00e+00f  1\n",
            "  16  7.0202817e+01 0.00e+00 2.13e+00  -3.8 8.98e-02    -  7.48e-01 1.00e+00f  1\n",
            "  17  7.0199636e+01 0.00e+00 1.50e-09  -3.8 2.82e-01    -  1.00e+00 1.00e+00f  1\n",
            "  18  7.0199069e+01 0.00e+00 1.11e-02  -5.7 3.21e-02    -  9.54e-01 1.00e+00f  1\n",
            "  19  7.0199053e+01 0.00e+00 1.84e-11  -5.7 2.02e-03    -  1.00e+00 1.00e+00f  1\n",
            "iter    objective    inf_pr   inf_du lg(mu)  ||d||  lg(rg) alpha_du alpha_pr  ls\n",
            "  20  7.0199043e+01 0.00e+00 2.68e-14  -8.6 6.82e-04    -  1.00e+00 1.00e+00f  1\n",
            "\n",
            "Number of Iterations....: 20\n",
            "\n",
            "                                   (scaled)                 (unscaled)\n",
            "Objective...............:   7.0199043466935052e+01    7.0199043466935052e+01\n",
            "Dual infeasibility......:   2.6815287305497230e-14    2.6815287305497230e-14\n",
            "Constraint violation....:   0.0000000000000000e+00    0.0000000000000000e+00\n",
            "Complementarity.........:   3.6353123001924004e-09    3.6353123001924004e-09\n",
            "Overall NLP error.......:   3.6353123001924004e-09    3.6353123001924004e-09\n",
            "\n",
            "\n",
            "Number of objective function evaluations             = 23\n",
            "Number of objective gradient evaluations             = 21\n",
            "Number of equality constraint evaluations            = 0\n",
            "Number of inequality constraint evaluations          = 23\n",
            "Number of equality constraint Jacobian evaluations   = 0\n",
            "Number of inequality constraint Jacobian evaluations = 21\n",
            "Number of Lagrangian Hessian evaluations             = 20\n",
            "Total CPU secs in IPOPT (w/o function evaluations)   =      0.007\n",
            "Total CPU secs in NLP function evaluations           =      0.000\n",
            "\n",
            "EXIT: Optimal Solution Found.\n",
            "\b\b\b\b\b\b\b\b\b\b\b\b\b\bStatus: optimal\n",
            "Optimal solution:\n",
            "broccoli: 0.02 units\n",
            "bread: 30.13 units\n",
            "steak: 0.00 units\n",
            "Popeyes: 0.70 units\n",
            "water: 3.00 units\n",
            "Total price: $70.20\n",
            "\n",
            "Active Constraints:\n",
            "Protein constraint is not active.\n",
            "Carbohydrates constraint is not active.\n",
            "Fat constraint is active.\n",
            "Fiber constraint is active.\n",
            "Volume constraint is active.\n"
          ]
        }
      ],
      "source": [
        "model = pyo.ConcreteModel()\n",
        "\n",
        "# Update food_items to include 'water'\n",
        "food_items = ['broccoli', 'bread', 'steak', 'Popeyes', 'water']\n",
        "\n",
        "# Update the nutrition and price data to include 'water'\n",
        "nutrition_data = {\n",
        "    'Protein': [2.6, 3.5, 26, 76, 0],\n",
        "    'Carbohydrates': [6, 19.5, 0, 36, 0],\n",
        "    'Fat': [0.3, 0.84, 7.6, 64, 0],\n",
        "    'Fiber': [2, 1.16, 0, 0, 0],\n",
        "    'Volume': [2.6, 1.41, 3, 25, 10],\n",
        "    'Price': [2, 1.5, 6, 25, 2.5]\n",
        "}\n",
        "\n",
        "# Define the bounds for each constraint\n",
        "bounds = {\n",
        "    'Protein': 70,\n",
        "    'Carbohydrates': 250,\n",
        "    'Fat': 70,\n",
        "    'Fiber': 35,\n",
        "    'Volume': 90\n",
        "}\n",
        "\n",
        "# Define the decision variables for the amount of each food item\n",
        "model.food_quantities = pyo.Var(food_items, domain=pyo.NonNegativeReals)\n",
        "\n",
        "# Define the objective function to minimize the total price\n",
        "model.obj = pyo.Objective(expr=sum(model.food_quantities[i] * nutrition_data['Price'][j]\n",
        "                                   for j, i in enumerate(food_items)), sense=pyo.minimize)\n",
        "\n",
        "# Add constraints for total intake of protein, carbohydrates, fat, fiber, and volume\n",
        "model.protein_constraint = pyo.Constraint(expr=sum(model.food_quantities[i] * nutrition_data['Protein'][j]\n",
        "                                                   for j, i in enumerate(food_items)) >= bounds['Protein'])\n",
        "model.carbohydrates_constraint = pyo.Constraint(expr=sum(model.food_quantities[i] * nutrition_data['Carbohydrates'][j]\n",
        "                                                         for j, i in enumerate(food_items)) >= bounds['Carbohydrates'])\n",
        "model.fat_constraint = pyo.Constraint(expr=sum(model.food_quantities[i] * nutrition_data['Fat'][j]\n",
        "                                               for j, i in enumerate(food_items)) >= bounds['Fat'])\n",
        "model.fiber_constraint = pyo.Constraint(expr=sum(model.food_quantities[i] * nutrition_data['Fiber'][j]\n",
        "                                                 for j, i in enumerate(food_items)) >= bounds['Fiber'])\n",
        "model.volume_constraint = pyo.Constraint(expr=sum(model.food_quantities[i] * nutrition_data['Volume'][j]\n",
        "                                                  for j, i in enumerate(food_items)) <= bounds['Volume'])\n",
        "model.popeyes_constraint = pyo.Constraint(expr=model.food_quantities['water'] >= 3)\n",
        "\n",
        "# Solve the problem using IPOPT solver\n",
        "solver = pyo.SolverFactory('ipopt')\n",
        "results = solver.solve(model, tee=True)\n",
        "\n",
        "# Print the results\n",
        "print(\"Status:\", results.solver.termination_condition)\n",
        "print(\"Optimal solution:\")\n",
        "for i in food_items:\n",
        "    print(f\"{i}: {pyo.value(model.food_quantities[i]):.2f} units\")\n",
        "\n",
        "# Print the total price\n",
        "total_price = sum(pyo.value(model.food_quantities[i]) * nutrition_data['Price'][j]\n",
        "                  for j, i in enumerate(food_items))\n",
        "print(f\"Total price: ${total_price:.2f}\")\n",
        "\n",
        "def check_active_constraint(lhs_value, bound, operator):\n",
        "    if operator == \">=\":\n",
        "        return abs(lhs_value - bound) < 1e-5\n",
        "    elif operator == \"<=\":\n",
        "        return abs(lhs_value - bound) < 1e-5\n",
        "    return False\n",
        "\n",
        "# Calculate the total intake for each nutrient\n",
        "protein_intake = sum(pyo.value(model.food_quantities[i]) * nutrition_data['Protein'][j] for j, i in enumerate(food_items))\n",
        "carbohydrates_intake = sum(pyo.value(model.food_quantities[i]) * nutrition_data['Carbohydrates'][j] for j, i in enumerate(food_items))\n",
        "fat_intake = sum(pyo.value(model.food_quantities[i]) * nutrition_data['Fat'][j] for j, i in enumerate(food_items))\n",
        "fiber_intake = sum(pyo.value(model.food_quantities[i]) * nutrition_data['Fiber'][j] for j, i in enumerate(food_items))\n",
        "volume_intake = sum(pyo.value(model.food_quantities[i]) * nutrition_data['Volume'][j] for j, i in enumerate(food_items))\n",
        "\n",
        "# Check the active constraints\n",
        "print(\"\\nActive Constraints:\")\n",
        "if check_active_constraint(protein_intake, bounds['Protein'], '>='):\n",
        "    print(\"Protein constraint is active.\")\n",
        "else:\n",
        "    print(\"Protein constraint is not active.\")\n",
        "\n",
        "if check_active_constraint(carbohydrates_intake, bounds['Carbohydrates'], '>='):\n",
        "    print(\"Carbohydrates constraint is active.\")\n",
        "else:\n",
        "    print(\"Carbohydrates constraint is not active.\")\n",
        "\n",
        "if check_active_constraint(fat_intake, bounds['Fat'], '>='):\n",
        "    print(\"Fat constraint is active.\")\n",
        "else:\n",
        "    print(\"Fat constraint is not active.\")\n",
        "\n",
        "if check_active_constraint(fiber_intake, bounds['Fiber'], '>='):\n",
        "    print(\"Fiber constraint is active.\")\n",
        "else:\n",
        "    print(\"Fiber constraint is not active.\")\n",
        "\n",
        "if check_active_constraint(volume_intake, bounds['Volume'] ,'<='):\n",
        "    print(\"Volume constraint is active.\")\n",
        "else:\n",
        "    print(\"Volume constraint is not active.\")"
      ]
    },
    {
      "cell_type": "markdown",
      "metadata": {
        "id": "NgHzTtVzml0n"
      },
      "source": [
        "In this model with an extra item, water, and an extra constraint on it that limits the amount of water consumed per day to be at least 3 units (30 oz in total). Now the solution turned into almost no broccoli, 30.13 units of bread, 0.7 unit of Popeyes, and 3 bottles of water. Translating into common units: 3 pieces of Popeyes chicken, 2.655 pounds of bread, and 3 bottles of water. This seems very unrealistic and unhealthy but at the same time satisfies daily needs, if we only look at these included variables.\n",
        "In this model, we also found that two of the five constraints are not active (protein and carbs), so we made the following 3-D visualization on the feasible area of this model:"
      ]
    },
    {
      "cell_type": "markdown",
      "metadata": {
        "id": "g-ctlJ_NCRX_"
      },
      "source": [
        "###2.2 Degree of Freedom Analysis"
      ]
    },
    {
      "cell_type": "markdown",
      "metadata": {
        "id": "VSp0l1AurF7B"
      },
      "source": [
        "The degree of freedom of the model is 0 as well: 6 variables, one for each type of food, and 6 constraints, one for each type of nutrient and an extra one on the amount of water consumed."
      ]
    },
    {
      "cell_type": "markdown",
      "metadata": {
        "id": "j9P6BaPcxdEL"
      },
      "source": [
        "##III. Steak Nutritional Value Modifications\n",
        "###3.1 Protein Modifications\n",
        "\n",
        "In the following section, we want to investigate under what conditions we would choose steak as a part of our diet. We first wanted to loop through values from 26 to 61 for grams of protein in a piece of 3oz steak."
      ]
    },
    {
      "cell_type": "code",
      "execution_count": null,
      "metadata": {
        "colab": {
          "base_uri": "https://localhost:8080/",
          "height": 484
        },
        "id": "8jS0y2lern9n",
        "outputId": "b33c1779-fcd1-4b0a-8e15-9faa85d6db43"
      },
      "outputs": [
        {
          "data": {
            "image/png": "[encoded data removed]",
            "text/plain": [
              "<Figure size 640x480 with 1 Axes>"
            ]
          },
          "metadata": {},
          "output_type": "display_data"
        }
      ],
      "source": [
        "# Initialize the range of protein values for steak\n",
        "protein_values = np.linspace(26, 61, 50)\n",
        "selected_steak_quantities = []\n",
        "\n",
        "# Define a function to solve the model with a given protein value for steak\n",
        "def solve_model(protein_value):\n",
        "    model = pyo.ConcreteModel()\n",
        "    food_items = ['broccoli', 'bread', 'steak', 'Popeyes', 'water']\n",
        "    nutrition_data = {\n",
        "        'Protein': [2.6, 3.5, protein_value, 76, 0],  # Update protein value for steak\n",
        "        'Carbohydrates': [6, 19.5, 0, 36, 0],\n",
        "        'Fat': [0.3, 0.84, 7.6, 64, 0],\n",
        "        'Fiber': [2, 1.16, 0, 0, 0],\n",
        "        'Volume': [2.6, 1.41, 3, 25, 10],\n",
        "        'Price': [2, 1.5, 6, 25, 2.5]\n",
        "    }\n",
        "\n",
        "    bounds = {\n",
        "        'Protein': 70,\n",
        "        'Carbohydrates': 250,\n",
        "        'Fat': 70,\n",
        "        'Fiber': 35,\n",
        "        'Volume': 90\n",
        "    }\n",
        "\n",
        "    model.food_quantities = pyo.Var(food_items, domain=pyo.NonNegativeReals)\n",
        "\n",
        "    model.obj = pyo.Objective(expr=sum(model.food_quantities[i] * nutrition_data['Price'][j]\n",
        "                                       for j, i in enumerate(food_items)), sense=pyo.minimize)\n",
        "\n",
        "    model.protein_constraint = pyo.Constraint(expr=sum(model.food_quantities[i] * nutrition_data['Protein'][j]\n",
        "                                                       for j, i in enumerate(food_items)) >= bounds['Protein'])\n",
        "    model.carbohydrates_constraint = pyo.Constraint(expr=sum(model.food_quantities[i] * nutrition_data['Carbohydrates'][j]\n",
        "                                                             for j, i in enumerate(food_items)) >= bounds['Carbohydrates'])\n",
        "    model.fat_constraint = pyo.Constraint(expr=sum(model.food_quantities[i] * nutrition_data['Fat'][j]\n",
        "                                                   for j, i in enumerate(food_items)) >= bounds['Fat'])\n",
        "    model.fiber_constraint = pyo.Constraint(expr=sum(model.food_quantities[i] * nutrition_data['Fiber'][j]\n",
        "                                                     for j, i in enumerate(food_items)) >= bounds['Fiber'])\n",
        "    model.volume_constraint = pyo.Constraint(expr=sum(model.food_quantities[i] * nutrition_data['Volume'][j]\n",
        "                                                      for j, i in enumerate(food_items)) <= bounds['Volume'])\n",
        "    model.water_constraint = pyo.Constraint(expr=model.food_quantities['water'] == 3)\n",
        "\n",
        "    solver = pyo.SolverFactory('ipopt')\n",
        "    results = solver.solve(model)\n",
        "\n",
        "    # Return the selected quantity of steak\n",
        "    return pyo.value(model.food_quantities['steak'])\n",
        "\n",
        "# Loop over the range of protein values and solve the model for each\n",
        "for protein_value in protein_values:\n",
        "    selected_steak_quantities.append(solve_model(protein_value))\n",
        "\n",
        "# Plot the results\n",
        "plt.plot(protein_values, selected_steak_quantities, marker='o')\n",
        "plt.title('Effect of Protein Value of Steak on Amount Selected')\n",
        "plt.xlabel('Protein Value of Steak')\n",
        "plt.ylabel('Amount of Steak Selected (units)')\n",
        "plt.grid(True)\n",
        "plt.show()"
      ]
    },
    {
      "cell_type": "markdown",
      "metadata": {
        "id": "RbGp4Aj1xQID"
      },
      "source": [
        "In this graph, we can see that even if the steak contains 61 grams of protein per 3oz, it would still not be selected as a part of the diet. Thus, protein might not be a determining factor.\n",
        "Next, we tried to change the amount of fat contained in a piece of 3oz steak, from 5 grams to 20 grams per 3oz."
      ]
    },
    {
      "cell_type": "markdown",
      "metadata": {
        "id": "KUffL0FDCbyT"
      },
      "source": [
        "###3.2 Fat Modifications\n",
        "In this section, we looped through fat values for a 3oz steak from 5 to 20, and figure out how does the amount of steak chosen changes over the loop."
      ]
    },
    {
      "cell_type": "code",
      "execution_count": null,
      "metadata": {
        "colab": {
          "base_uri": "https://localhost:8080/",
          "height": 484
        },
        "id": "MQqeYzFexPlY",
        "outputId": "c289fc18-999d-4c3d-b852-1b0037c2ddd0"
      },
      "outputs": [
        {
          "data": {
            "image/png": "[encoded data removed]",
            "text/plain": [
              "<Figure size 640x480 with 1 Axes>"
            ]
          },
          "metadata": {},
          "output_type": "display_data"
        }
      ],
      "source": [
        "# Initialize the range of fat values for steak\n",
        "fat_values = np.linspace(5, 20, 50)\n",
        "selected_steak_quantities = []\n",
        "\n",
        "# Define a function to solve the model with a given fat value for steak\n",
        "def solve_model(fat_value):\n",
        "    model = pyo.ConcreteModel()\n",
        "    food_items = ['broccoli', 'bread', 'steak', 'Popeyes', 'water']\n",
        "\n",
        "    nutrition_data = {\n",
        "        'Protein': [2.6, 3.5, 26, 76, 0],\n",
        "        'Carbohydrates': [6, 19.5, 0, 36, 0],\n",
        "        'Fat': [0.3, 0.84, fat_value, 64, 0],  # Update fat value for steak\n",
        "        'Fiber': [2, 1.16, 0, 0, 0],\n",
        "        'Volume': [2.6, 1.41, 3, 25, 10],\n",
        "        'Price': [2, 1.5, 6, 25, 2.5]\n",
        "    }\n",
        "\n",
        "    bounds = {\n",
        "        'Protein': 70,\n",
        "        'Carbohydrates': 250,\n",
        "        'Fat': 70,\n",
        "        'Fiber': 35,\n",
        "        'Volume': 90\n",
        "    }\n",
        "\n",
        "    model.food_quantities = pyo.Var(food_items, domain=pyo.NonNegativeReals)\n",
        "\n",
        "    model.obj = pyo.Objective(expr=sum(model.food_quantities[i] * nutrition_data['Price'][j]\n",
        "                                       for j, i in enumerate(food_items)), sense=pyo.minimize)\n",
        "\n",
        "    model.protein_constraint = pyo.Constraint(expr=sum(model.food_quantities[i] * nutrition_data['Protein'][j]\n",
        "                                                       for j, i in enumerate(food_items)) >= bounds['Protein'])\n",
        "    model.carbohydrates_constraint = pyo.Constraint(expr=sum(model.food_quantities[i] * nutrition_data['Carbohydrates'][j]\n",
        "                                                             for j, i in enumerate(food_items)) >= bounds['Carbohydrates'])\n",
        "    model.fat_constraint = pyo.Constraint(expr=sum(model.food_quantities[i] * nutrition_data['Fat'][j]\n",
        "                                                   for j, i in enumerate(food_items)) >= bounds['Fat'])\n",
        "    model.fiber_constraint = pyo.Constraint(expr=sum(model.food_quantities[i] * nutrition_data['Fiber'][j]\n",
        "                                                     for j, i in enumerate(food_items)) >= bounds['Fiber'])\n",
        "    model.volume_constraint = pyo.Constraint(expr=sum(model.food_quantities[i] * nutrition_data['Volume'][j]\n",
        "                                                      for j, i in enumerate(food_items)) <= bounds['Volume'])\n",
        "    model.water_constraint = pyo.Constraint(expr=model.food_quantities['water'] == 3)\n",
        "\n",
        "    solver = pyo.SolverFactory('ipopt')\n",
        "    results = solver.solve(model)\n",
        "\n",
        "    # Return the selected quantity of stea\n",
        "    return pyo.value(model.food_quantities['steak'])\n",
        "\n",
        "# Loop over the range of fat values and solve the model for each\n",
        "for fat_value in fat_values:\n",
        "    selected_steak_quantities.append(solve_model(fat_value))\n",
        "\n",
        "# Plot the results\n",
        "plt.plot(fat_values, selected_steak_quantities, marker='o')\n",
        "plt.title('Effect of Fat Value of Steak on Amount Selected')\n",
        "plt.xlabel('Fat Value of Steak')\n",
        "plt.ylabel('Amount of Steak Selected (units)')\n",
        "plt.grid(True)\n",
        "plt.show()"
      ]
    },
    {
      "cell_type": "markdown",
      "metadata": {
        "id": "ZQPkXtvnyPQL"
      },
      "source": [
        "Now, in the above graph, we can see that the amount of steak selected dramatically increased to 3 when the fat value reaches around 13, and then started to decrease as the steak contains more fat but still not enough for the model to exclude Popeyes. As the fat value increases more to around 15.5, the amount of steak selected increased again and reached around 3.7. We speculate that this is because that the steak's relative nutritional value has exceeded that of Popeyes."
      ]
    },
    {
      "cell_type": "markdown",
      "metadata": {
        "id": "HQy7HxXGC646"
      },
      "source": [
        "####3.2.1 Turning Point 1: Fat per 3oz steak = 14"
      ]
    },
    {
      "cell_type": "code",
      "execution_count": null,
      "metadata": {
        "colab": {
          "base_uri": "https://localhost:8080/"
        },
        "id": "vmpIrA5ZzkE0",
        "outputId": "3c2ecf87-1925-4bd8-9ba7-1c495eca4c7f"
      },
      "outputs": [
        {
          "name": "stdout",
          "output_type": "stream",
          "text": [
            "Ipopt 3.13.2: \n",
            "\n",
            "******************************************************************************\n",
            "This program contains Ipopt, a library for large-scale nonlinear optimization.\n",
            " Ipopt is released as open source code under the Eclipse Public License (EPL).\n",
            "         For more information visit http://projects.coin-or.org/Ipopt\n",
            "\n",
            "This version of Ipopt was compiled from source code available at\n",
            "    https://github.com/IDAES/Ipopt as part of the Institute for the Design of\n",
            "    Advanced Energy Systems Process Systems Engineering Framework (IDAES PSE\n",
            "    Framework) Copyright (c) 2018-2019. See https://github.com/IDAES/idaes-pse.\n",
            "\n",
            "This version of Ipopt was compiled using HSL, a collection of Fortran codes\n",
            "    for large-scale scientific computation.  All technical papers, sales and\n",
            "    publicity material resulting from use of the HSL codes within IPOPT must\n",
            "    contain the following acknowledgement:\n",
            "        HSL, a collection of Fortran codes for large-scale scientific\n",
            "        computation. See http://www.hsl.rl.ac.uk.\n",
            "******************************************************************************\n",
            "\n",
            "This is Ipopt version 3.13.2, running with linear solver ma27.\n",
            "\n",
            "Number of nonzeros in equality constraint Jacobian...:        0\n",
            "Number of nonzeros in inequality constraint Jacobian.:       19\n",
            "Number of nonzeros in Lagrangian Hessian.............:        0\n",
            "\n",
            "Total number of variables............................:        5\n",
            "                     variables with only lower bounds:        5\n",
            "                variables with lower and upper bounds:        0\n",
            "                     variables with only upper bounds:        0\n",
            "Total number of equality constraints.................:        0\n",
            "Total number of inequality constraints...............:        6\n",
            "        inequality constraints with only lower bounds:        5\n",
            "   inequality constraints with lower and upper bounds:        0\n",
            "        inequality constraints with only upper bounds:        1\n",
            "\n",
            "iter    objective    inf_pr   inf_du lg(mu)  ||d||  lg(rg) alpha_du alpha_pr  ls\n",
            "   0  3.6999963e-01 2.49e+02 1.04e+00  -1.0 0.00e+00    -  0.00e+00 0.00e+00   0\n",
            "   1  5.1425900e-01 2.49e+02 1.06e+00  -1.0 6.70e+01    -  1.76e-03 3.66e-03h  1\n",
            "   2  1.0303972e+00 2.45e+02 1.91e+00  -1.0 5.05e+01    -  7.23e-03 1.29e-02h  1\n",
            "   3  2.0012814e+00 2.42e+02 3.41e+00  -1.0 9.15e+01    -  1.12e-02 1.57e-02h  1\n",
            "   4  9.0768387e+00 2.16e+02 1.25e+01  -1.0 9.51e+01    -  2.84e-02 1.08e-01h  1\n",
            "   5  6.2047976e+01 2.14e+01 7.64e+00  -1.0 8.55e+01    -  2.21e-01 8.92e-01h  1\n",
            "   6  6.2385147e+01 2.00e+01 8.78e+00  -1.0 6.35e+00    -  2.52e-01 5.98e-02h  1\n",
            "   7  6.8333553e+01 2.68e+00 1.08e+01  -1.0 3.62e+01    -  7.33e-03 7.64e-01h  1\n",
            "   8  7.0254966e+01 0.00e+00 2.22e-01  -1.0 9.42e+00    -  9.90e-01 1.00e+00h  1\n",
            "   9  7.0219835e+01 0.00e+00 2.00e-07  -1.7 3.58e+00    -  1.00e+00 1.00e+00f  1\n",
            "iter    objective    inf_pr   inf_du lg(mu)  ||d||  lg(rg) alpha_du alpha_pr  ls\n",
            "  10  7.0181446e+01 0.00e+00 3.99e-02  -3.8 1.32e+01    -  9.70e-01 4.75e-01f  1\n",
            "  11  7.0139909e+01 0.00e+00 1.50e-09  -3.8 1.03e+00    -  1.00e+00 1.00e+00f  1\n",
            "  12  7.0139128e+01 0.00e+00 1.84e-11  -5.7 1.02e+00    -  1.00e+00 1.00e+00f  1\n",
            "  13  7.0139120e+01 0.00e+00 2.57e-14  -8.6 6.71e-03    -  1.00e+00 1.00e+00f  1\n",
            "\n",
            "Number of Iterations....: 13\n",
            "\n",
            "                                   (scaled)                 (unscaled)\n",
            "Objective...............:   7.0139119670067416e+01    7.0139119670067416e+01\n",
            "Dual infeasibility......:   2.5719026771974613e-14    2.5719026771974613e-14\n",
            "Constraint violation....:   0.0000000000000000e+00    0.0000000000000000e+00\n",
            "Complementarity.........:   2.6389668491914908e-09    2.6389668491914908e-09\n",
            "Overall NLP error.......:   2.6389668491914908e-09    2.6389668491914908e-09\n",
            "\n",
            "\n",
            "Number of objective function evaluations             = 14\n",
            "Number of objective gradient evaluations             = 14\n",
            "Number of equality constraint evaluations            = 0\n",
            "Number of inequality constraint evaluations          = 14\n",
            "Number of equality constraint Jacobian evaluations   = 0\n",
            "Number of inequality constraint Jacobian evaluations = 14\n",
            "Number of Lagrangian Hessian evaluations             = 13\n",
            "Total CPU secs in IPOPT (w/o function evaluations)   =      0.005\n",
            "Total CPU secs in NLP function evaluations           =      0.000\n",
            "\n",
            "EXIT: Optimal Solution Found.\n",
            "\b\b\b\b\b\b\b\b\b\b\b\b\b\bStatus: optimal\n",
            "Optimal solution:\n",
            "broccoli: 12.56 units\n",
            "bread: 8.52 units\n",
            "steak: 3.14 units\n",
            "Popeyes: 0.24 units\n",
            "water: 3.00 units\n",
            "Total price: $70.14\n"
          ]
        }
      ],
      "source": [
        "model = pyo.ConcreteModel()\n",
        "food_items = ['broccoli', 'bread', 'steak', 'Popeyes', 'water']\n",
        "\n",
        "nutrition_data = {\n",
        "    'Protein': [2.6, 3.5, 26, 76, 0],\n",
        "    'Carbohydrates': [6, 19.5, 0, 36, 0],\n",
        "    'Fat': [0.3, 0.84, 14, 64, 0],\n",
        "    'Fiber': [2, 1.16, 0, 0, 0],\n",
        "    'Volume': [2.6, 1.41, 3, 25, 10],\n",
        "    'Price': [2, 1.5, 6, 25, 2.5]\n",
        "}\n",
        "\n",
        "bounds = {\n",
        "    'Protein': 70,\n",
        "    'Carbohydrates': 250,\n",
        "    'Fat': 70,\n",
        "    'Fiber': 35,\n",
        "    'Volume': 90\n",
        "}\n",
        "\n",
        "model.food_quantities = pyo.Var(food_items, domain=pyo.NonNegativeReals)\n",
        "\n",
        "model.obj = pyo.Objective(expr=sum(model.food_quantities[i] * nutrition_data['Price'][j]\n",
        "                                   for j, i in enumerate(food_items)), sense=pyo.minimize)\n",
        "\n",
        "model.protein_constraint = pyo.Constraint(expr=sum(model.food_quantities[i] * nutrition_data['Protein'][j]\n",
        "                                                   for j, i in enumerate(food_items)) >= bounds['Protein'])\n",
        "model.carbohydrates_constraint = pyo.Constraint(expr=sum(model.food_quantities[i] * nutrition_data['Carbohydrates'][j]\n",
        "                                                         for j, i in enumerate(food_items)) >= bounds['Carbohydrates'])\n",
        "model.fat_constraint = pyo.Constraint(expr=sum(model.food_quantities[i] * nutrition_data['Fat'][j]\n",
        "                                               for j, i in enumerate(food_items)) >= bounds['Fat'])\n",
        "model.fiber_constraint = pyo.Constraint(expr=sum(model.food_quantities[i] * nutrition_data['Fiber'][j]\n",
        "                                                 for j, i in enumerate(food_items)) >= bounds['Fiber'])\n",
        "model.volume_constraint = pyo.Constraint(expr=sum(model.food_quantities[i] * nutrition_data['Volume'][j]\n",
        "                                                  for j, i in enumerate(food_items)) <= bounds['Volume'])\n",
        "model.popeyes_constraint = pyo.Constraint(expr=model.food_quantities['water'] >= 3)\n",
        "\n",
        "solver = pyo.SolverFactory('ipopt')\n",
        "results = solver.solve(model, tee=True)\n",
        "\n",
        "# Print the results\n",
        "print(\"Status:\", results.solver.termination_condition)\n",
        "print(\"Optimal solution:\")\n",
        "for i in food_items:\n",
        "    print(f\"{i}: {pyo.value(model.food_quantities[i]):.2f} units\")\n",
        "\n",
        "# Print the total price\n",
        "total_price = sum(pyo.value(model.food_quantities[i]) * nutrition_data['Price'][j]\n",
        "                  for j, i in enumerate(food_items))\n",
        "print(f\"Total price: ${total_price:.2f}\")"
      ]
    },
    {
      "cell_type": "markdown",
      "metadata": {
        "id": "4OyF7u_IznQr"
      },
      "source": [
        "As seen in the above model, the fat value per 3oz of steak is now 14 grams. In the model output, Popeyes is only selected 0.24 units, which is significantly different from the baseline model output. The amount of broccoli and bread also changed significantly, leading to a more balanced diet."
      ]
    },
    {
      "cell_type": "markdown",
      "metadata": {
        "id": "SWJQhGAOCwVk"
      },
      "source": [
        "####3.2.2 Turning Point 2: Fat per 3oz steak = 15.5"
      ]
    },
    {
      "cell_type": "code",
      "execution_count": null,
      "metadata": {
        "colab": {
          "base_uri": "https://localhost:8080/"
        },
        "id": "Bnok6pnMzM1i",
        "outputId": "8cde239f-249c-440f-981a-38e893703853"
      },
      "outputs": [
        {
          "name": "stdout",
          "output_type": "stream",
          "text": [
            "Ipopt 3.13.2: \n",
            "\n",
            "******************************************************************************\n",
            "This program contains Ipopt, a library for large-scale nonlinear optimization.\n",
            " Ipopt is released as open source code under the Eclipse Public License (EPL).\n",
            "         For more information visit http://projects.coin-or.org/Ipopt\n",
            "\n",
            "This version of Ipopt was compiled from source code available at\n",
            "    https://github.com/IDAES/Ipopt as part of the Institute for the Design of\n",
            "    Advanced Energy Systems Process Systems Engineering Framework (IDAES PSE\n",
            "    Framework) Copyright (c) 2018-2019. See https://github.com/IDAES/idaes-pse.\n",
            "\n",
            "This version of Ipopt was compiled using HSL, a collection of Fortran codes\n",
            "    for large-scale scientific computation.  All technical papers, sales and\n",
            "    publicity material resulting from use of the HSL codes within IPOPT must\n",
            "    contain the following acknowledgement:\n",
            "        HSL, a collection of Fortran codes for large-scale scientific\n",
            "        computation. See http://www.hsl.rl.ac.uk.\n",
            "******************************************************************************\n",
            "\n",
            "This is Ipopt version 3.13.2, running with linear solver ma27.\n",
            "\n",
            "Number of nonzeros in equality constraint Jacobian...:        0\n",
            "Number of nonzeros in inequality constraint Jacobian.:       19\n",
            "Number of nonzeros in Lagrangian Hessian.............:        0\n",
            "\n",
            "Total number of variables............................:        5\n",
            "                     variables with only lower bounds:        5\n",
            "                variables with lower and upper bounds:        0\n",
            "                     variables with only upper bounds:        0\n",
            "Total number of equality constraints.................:        0\n",
            "Total number of inequality constraints...............:        6\n",
            "        inequality constraints with only lower bounds:        5\n",
            "   inequality constraints with lower and upper bounds:        0\n",
            "        inequality constraints with only upper bounds:        1\n",
            "\n",
            "iter    objective    inf_pr   inf_du lg(mu)  ||d||  lg(rg) alpha_du alpha_pr  ls\n",
            "   0  3.6999963e-01 2.49e+02 1.12e+00  -1.0 0.00e+00    -  0.00e+00 0.00e+00   0\n",
            "   1  5.1089735e-01 2.49e+02 1.14e+00  -1.0 6.66e+01    -  1.79e-03 3.51e-03h  1\n",
            "   2  1.0291764e+00 2.45e+02 1.58e+00  -1.0 5.03e+01    -  7.24e-03 1.30e-02h  1\n",
            "   3  2.2285306e+00 2.41e+02 3.82e+00  -1.0 9.17e+01    -  1.11e-02 1.94e-02h  1\n",
            "   4  1.0056887e+01 2.12e+02 1.10e+01  -1.0 9.50e+01    -  3.10e-02 1.19e-01h  1\n",
            "   5  6.2071409e+01 2.13e+01 7.36e+00  -1.0 8.41e+01    -  2.46e-01 8.91e-01h  1\n",
            "   6  6.2417799e+01 1.98e+01 2.85e+00  -1.0 6.52e+00    -  1.59e-01 6.11e-02h  1\n",
            "   7  6.8410733e+01 0.00e+00 8.31e+00  -1.0 2.73e+01    -  2.06e-02 1.00e+00h  1\n",
            "   8  6.8450525e+01 0.00e+00 1.02e-01  -1.0 3.69e-01    -  9.94e-01 1.00e+00f  1\n",
            "   9  6.8338609e+01 0.00e+00 3.79e-02  -2.5 1.19e+00    -  8.91e-01 1.00e+00f  1\n",
            "iter    objective    inf_pr   inf_du lg(mu)  ||d||  lg(rg) alpha_du alpha_pr  ls\n",
            "  10  6.8323287e+01 0.00e+00 2.11e-02  -2.5 1.57e+01    -  6.66e-01 5.68e-01f  1\n",
            "  11  6.8309284e+01 0.00e+00 1.50e-09  -3.8 8.71e-01    -  1.00e+00 1.00e+00f  1\n",
            "  12  6.8308476e+01 0.00e+00 1.84e-11  -5.7 6.77e-02    -  1.00e+00 1.00e+00f  1\n",
            "  13  6.8308465e+01 0.00e+00 2.55e-14  -8.6 2.97e-03    -  1.00e+00 1.00e+00f  1\n",
            "\n",
            "Number of Iterations....: 13\n",
            "\n",
            "                                   (scaled)                 (unscaled)\n",
            "Objective...............:   6.8308464554317595e+01    6.8308464554317595e+01\n",
            "Dual infeasibility......:   2.5491926439145658e-14    2.5491926439145658e-14\n",
            "Constraint violation....:   0.0000000000000000e+00    0.0000000000000000e+00\n",
            "Complementarity.........:   2.8716956147740828e-09    2.8716956147740828e-09\n",
            "Overall NLP error.......:   2.8716956147740828e-09    2.8716956147740828e-09\n",
            "\n",
            "\n",
            "Number of objective function evaluations             = 14\n",
            "Number of objective gradient evaluations             = 14\n",
            "Number of equality constraint evaluations            = 0\n",
            "Number of inequality constraint evaluations          = 14\n",
            "Number of equality constraint Jacobian evaluations   = 0\n",
            "Number of inequality constraint Jacobian evaluations = 14\n",
            "Number of Lagrangian Hessian evaluations             = 13\n",
            "Total CPU secs in IPOPT (w/o function evaluations)   =      0.006\n",
            "Total CPU secs in NLP function evaluations           =      0.000\n",
            "\n",
            "EXIT: Optimal Solution Found.\n",
            "\b\b\b\b\b\b\b\b\b\b\b\b\b\bStatus: optimal\n",
            "Optimal solution:\n",
            "broccoli: 12.25 units\n",
            "bread: 9.05 units\n",
            "steak: 3.79 units\n",
            "Popeyes: 0.00 units\n",
            "water: 3.00 units\n",
            "Total price: $68.31\n"
          ]
        }
      ],
      "source": [
        "model = pyo.ConcreteModel()\n",
        "food_items = ['broccoli', 'bread', 'steak', 'Popeyes', 'water']\n",
        "\n",
        "nutrition_data = {\n",
        "    'Protein': [2.6, 3.5, 26, 76, 0],\n",
        "    'Carbohydrates': [6, 19.5, 0, 36, 0],\n",
        "    'Fat': [0.3, 0.84, 15.5, 64, 0],\n",
        "    'Fiber': [2, 1.16, 0, 0, 0],\n",
        "    'Volume': [2.6, 1.41, 3, 25, 10],\n",
        "    'Price': [2, 1.5, 6, 25, 2.5]\n",
        "}\n",
        "\n",
        "bounds = {\n",
        "    'Protein': 70,\n",
        "    'Carbohydrates': 250,\n",
        "    'Fat': 70,\n",
        "    'Fiber': 35,\n",
        "    'Volume': 90\n",
        "}\n",
        "\n",
        "model.food_quantities = pyo.Var(food_items, domain=pyo.NonNegativeReals)\n",
        "\n",
        "model.obj = pyo.Objective(expr=sum(model.food_quantities[i] * nutrition_data['Price'][j]\n",
        "                                   for j, i in enumerate(food_items)), sense=pyo.minimize)\n",
        "\n",
        "model.protein_constraint = pyo.Constraint(expr=sum(model.food_quantities[i] * nutrition_data['Protein'][j]\n",
        "                                                   for j, i in enumerate(food_items)) >= bounds['Protein'])\n",
        "model.carbohydrates_constraint = pyo.Constraint(expr=sum(model.food_quantities[i] * nutrition_data['Carbohydrates'][j]\n",
        "                                                         for j, i in enumerate(food_items)) >= bounds['Carbohydrates'])\n",
        "model.fat_constraint = pyo.Constraint(expr=sum(model.food_quantities[i] * nutrition_data['Fat'][j]\n",
        "                                               for j, i in enumerate(food_items)) >= bounds['Fat'])\n",
        "model.fiber_constraint = pyo.Constraint(expr=sum(model.food_quantities[i] * nutrition_data['Fiber'][j]\n",
        "                                                 for j, i in enumerate(food_items)) >= bounds['Fiber'])\n",
        "model.volume_constraint = pyo.Constraint(expr=sum(model.food_quantities[i] * nutrition_data['Volume'][j]\n",
        "                                                  for j, i in enumerate(food_items)) <= bounds['Volume'])\n",
        "model.popeyes_constraint = pyo.Constraint(expr=model.food_quantities['water'] >= 3)\n",
        "\n",
        "solver = pyo.SolverFactory('ipopt')\n",
        "results = solver.solve(model, tee=True)\n",
        "\n",
        "# Print the results\n",
        "print(\"Status:\", results.solver.termination_condition)\n",
        "print(\"Optimal solution:\")\n",
        "for i in food_items:\n",
        "    print(f\"{i}: {pyo.value(model.food_quantities[i]):.2f} units\")\n",
        "\n",
        "# Print the total price\n",
        "total_price = sum(pyo.value(model.food_quantities[i]) * nutrition_data['Price'][j]\n",
        "                  for j, i in enumerate(food_items))\n",
        "print(f\"Total price: ${total_price:.2f}\")"
      ]
    },
    {
      "cell_type": "markdown",
      "metadata": {
        "id": "scGNm3se0I6g"
      },
      "source": [
        "Now as the fat value of a 3oz steak increase to 15.5, the amount chosen has increased to 3.79 units. Popeyes is completely excluded from the final result as well, having 0 units selected."
      ]
    },
    {
      "cell_type": "markdown",
      "metadata": {
        "id": "QgxOgxtyDAop"
      },
      "source": [
        "####3.2.3 Changes in Amount of Other Types of Food"
      ]
    },
    {
      "cell_type": "markdown",
      "metadata": {
        "id": "nKQ5O3bd0ZCg"
      },
      "source": [
        "The following graph shows how each of the items selected change as we increase steak's fat nutritional value:"
      ]
    },
    {
      "cell_type": "code",
      "execution_count": null,
      "metadata": {
        "colab": {
          "base_uri": "https://localhost:8080/",
          "height": 576
        },
        "id": "WUAKhDOZ0YRa",
        "outputId": "d552eb39-7bca-4d9d-ef26-03a1a986a431"
      },
      "outputs": [
        {
          "data": {
            "image/png": "[encoded data removed]",
            "text/plain": [
              "<Figure size 1000x600 with 1 Axes>"
            ]
          },
          "metadata": {},
          "output_type": "display_data"
        }
      ],
      "source": [
        "# Initialize the range of fat values for steak\n",
        "fat_values = np.linspace(5, 20, 50)\n",
        "\n",
        "food_items = ['broccoli', 'bread', 'steak', 'Popeyes', 'water']\n",
        "quantities = {item: [] for item in food_items}  # To store quantities of all food items\n",
        "\n",
        "# Define a function to solve the model with a given fat value for steak\n",
        "def solve_model(fat_value):\n",
        "    model = pyo.ConcreteModel()\n",
        "    nutrition_data = {\n",
        "        'Protein': [2.6, 3.5, 26, 76, 0],\n",
        "        'Carbohydrates': [6, 19.5, 0, 36, 0],\n",
        "        'Fat': [0.3, 0.84, fat_value, 64, 0],  # Update fat value for steak\n",
        "        'Fiber': [2, 1.16, 0, 0, 0],\n",
        "        'Volume': [2.6, 1.41, 3, 25, 10],\n",
        "        'Price': [2, 1.5, 6, 25, 2.5]\n",
        "    }\n",
        "\n",
        "    bounds = {\n",
        "        'Protein': 70,\n",
        "        'Carbohydrates': 250,\n",
        "        'Fat': 70,\n",
        "        'Fiber': 35,\n",
        "        'Volume': 90\n",
        "    }\n",
        "\n",
        "    model.food_quantities = pyo.Var(food_items, domain=pyo.NonNegativeReals)\n",
        "\n",
        "    model.obj = pyo.Objective(expr=sum(model.food_quantities[i] * nutrition_data['Price'][j]\n",
        "                                       for j, i in enumerate(food_items)), sense=pyo.minimize)\n",
        "\n",
        "    model.protein_constraint = pyo.Constraint(expr=sum(model.food_quantities[i] * nutrition_data['Protein'][j]\n",
        "                                                       for j, i in enumerate(food_items)) >= bounds['Protein'])\n",
        "    model.carbohydrates_constraint = pyo.Constraint(expr=sum(model.food_quantities[i] * nutrition_data['Carbohydrates'][j]\n",
        "                                                             for j, i in enumerate(food_items)) >= bounds['Carbohydrates'])\n",
        "    model.fat_constraint = pyo.Constraint(expr=sum(model.food_quantities[i] * nutrition_data['Fat'][j]\n",
        "                                                   for j, i in enumerate(food_items)) >= bounds['Fat'])\n",
        "    model.fiber_constraint = pyo.Constraint(expr=sum(model.food_quantities[i] * nutrition_data['Fiber'][j]\n",
        "                                                     for j, i in enumerate(food_items)) >= bounds['Fiber'])\n",
        "    model.volume_constraint = pyo.Constraint(expr=sum(model.food_quantities[i] * nutrition_data['Volume'][j]\n",
        "                                                      for j, i in enumerate(food_items)) <= bounds['Volume'])\n",
        "    model.water_constraint = pyo.Constraint(expr=model.food_quantities['water'] == 3)\n",
        "\n",
        "    solver = pyo.SolverFactory('ipopt')\n",
        "    results = solver.solve(model)\n",
        "\n",
        "    # Return the selected quantity of each food item\n",
        "    return {item: pyo.value(model.food_quantities[item]) for item in food_items}\n",
        "\n",
        "# Loop over the range of fat values and solve the model for each\n",
        "for fat_value in fat_values:\n",
        "    food_quantities = solve_model(fat_value)\n",
        "\n",
        "    # Store the quantity for each food item at the current fat value\n",
        "    for item in food_items:\n",
        "        quantities[item].append(food_quantities[item])\n",
        "\n",
        "# Plot the results\n",
        "plt.figure(figsize=(10, 6))\n",
        "for item in food_items:\n",
        "    plt.plot(fat_values, quantities[item], label=item)\n",
        "\n",
        "plt.title('Change in Quantities of Food Items as Fat Value of Steak Changes')\n",
        "plt.xlabel('Fat Value of Steak')\n",
        "plt.ylabel('Quantity Selected (units)')\n",
        "plt.legend()\n",
        "plt.grid(True)\n",
        "plt.show()"
      ]
    }
  ],
  "metadata": {
    "colab": {
      "provenance": []
    },
    "kernelspec": {
      "display_name": "Python 3",
      "name": "python3"
    },
    "language_info": {
      "name": "python"
    }
  },
  "nbformat": 4,
  "nbformat_minor": 0
}
