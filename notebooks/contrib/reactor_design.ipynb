{
 "cells": [
  {
   "cell_type": "markdown",
   "metadata": {
    "id": "6fvcYnfEJUez"
   },
   "source": [
    "# Chemical Reactor Design\n",
    "**Prepared by:** Zhicheng Lu (zlu3@nd.edu, 2024) and Shammah Lilonfe (slilonfe@nd.edu, 2024) at the University of Notre Dame."
   ]
  },
  {
   "cell_type": "markdown",
   "metadata": {},
   "source": [
    "## Learning Objectives"
   ]
  },
  {
   "cell_type": "markdown",
   "metadata": {},
   "source": [
    "* Review syntax for Pyomo and Pyomo.DAE\n",
    "* Demonstrate the power of Pyomo in solving and optimizing complex dynamic process systems"
   ]
  },
  {
   "cell_type": "markdown",
   "metadata": {},
   "source": [
    "## Problem Statement: Design of Chemical Reactors for Chemical Transformations"
   ]
  },
  {
   "cell_type": "markdown",
   "metadata": {},
   "source": [
    "Chemical reactors are often the most important unit operations in a chemical plant. Reactors come in many forms, however two of the most common idealizations are the continuously stirred tank reactor (CSTR) and the plug flow reactor. The CSTR is often used in modeling studies, and it can be effectively modeled as a lumped parameter system. In this example, we will consider the following reaction scheme known as the Van de Vusse reaction:\n",
    "\n",
    "$$\n",
    "\\text{A} \\xrightarrow{k_1} \\text{B} \\xrightarrow{k_2} \\text{C}\n",
    "$$\n",
    "\n",
    "$$\n",
    "2\\text{A} \\xrightarrow{k_3} \\text{D}\n",
    "$$\n",
    "\n",
    "A diagram of the system is shown in figure below, where F is the volumetric flowrate. The reactor is assumed to be filled to a constant volume, and the mixture is assumed to have constant density, so the volumetric flowrate into the reactor is equal to the volumetric flowrate out of the reactor. Since the reactor is assumed to be wellmixed, the concentrations in the reactor are equivalent to the concentrations of each component flowing out of the reactor, given by $C_A$, $C_B$, $C_C$, and $C_D$.\n",
    "\n",
    "![process scheme](https://github.com/zhichenglu123/optimization/raw/Project-1---Reactor-Design-Adapted-from-Pyomo---Zhicheng-Lu-%26-Shammah-Lilonfe/notebooks/contrib-dev/research.png)\n",
    "\n",
    "This example (both text and figure) was taken from Hart et al (2017)."
   ]
  },
  {
   "cell_type": "markdown",
   "metadata": {},
   "source": [
    "## Install Packages and Load Modules"
   ]
  },
  {
   "cell_type": "code",
   "execution_count": 13,
   "metadata": {},
   "outputs": [],
   "source": [
    "# Importing the libraries needed for the project\n",
    "import sys\n",
    "if \"google.colab\" in sys.modules:\n",
    "    !wget \"https://raw.githubusercontent.com/ndcbe/optimization/main/notebooks/helper.py\"\n",
    "    import helper\n",
    "    helper.easy_install()\n",
    "else:\n",
    "    sys.path.insert(0, '../')\n",
    "    import helper\n",
    "helper.set_plotting_style()\n",
    "\n",
    "# Importing packages to be used in this project\n",
    "import pyomo.environ as pyo\n",
    "import pyomo.dae as dae\n",
    "import matplotlib.pyplot as plt"
   ]
  },
  {
   "cell_type": "markdown",
   "metadata": {},
   "source": [
    "## Original Problem from the Reference Material"
   ]
  },
  {
   "cell_type": "markdown",
   "metadata": {},
   "source": [
    "The goal is to produce product B from a feed containing reactant A. If we design a reactor that is too small, we will obtain insufficient conversion of A to the desired product B. However, given the reaction scheme, if the reactor is too large (e.g., too much reaction is allowed to occur), a significant amount of the desired product B will be further reacted to form the undesired product C. As a result, the goal in this exercise will be to solve for the optimal reactor volume producing the maximum outlet concentration for product B.\n",
    "\n",
    "The steady-state mole balances for each of the four components are given by,\n",
    "\n",
    "$$\\begin{align*}\n",
    "&0=\\frac{F}{V}C_{Af}-\\frac{F}{V}C_A-k_1C_A-2k_3C_A^2 \\\\\n",
    "& 0=-\\frac{F}{V}C_B+k_1C_A-k_2C_B\\\\\n",
    "& 0=-\\frac{F}{V}C_C+k_2C_B \\\\\n",
    "& 0=-\\frac{F}{V}C_D+k_3C_A^2\n",
    "\\end{align*}$$\n",
    "\n",
    "The known parameters for the system are,\n",
    "\n",
    "$$\\begin{align*}\n",
    "C_{Af}=10^4\\,\\mathrm{\\frac{gmol}{m^3}}\\quad{k_1=\\frac{5}{6}\\,\\mathrm{min^{-1}}}\\quad{k_2=\\frac{5}{3}\\,\\mathrm{min^{-1}}}\\quad{k_3=\\frac{1}{6000}\\,\\mathrm{\\frac{m^3}{gmol\\cdot min}}}\n",
    "\\end{align*}$$\n",
    "\n",
    "Since the volumetric flowrate F always appears as the numerator over the reactor volume V, it is common to consider this ratio as a single variable, called the space velocity (sv). Our optimization formulation will seek to find the space-velocity that maximizes the outlet concentration of the desired product B.\n",
    "\n",
    "This original problem was taken from Hart et al (2017)."
   ]
  },
  {
   "cell_type": "markdown",
   "metadata": {},
   "source": [
    "### Optimization Model Formulation"
   ]
  },
  {
   "cell_type": "markdown",
   "metadata": {},
   "source": [
    "Mathematically, we want to solve the following optimal reactor volume problem:\n",
    "\n",
    "$$\\begin{align*}\n",
    "\\max_{S_v} \\quad & C_B \\\\ \n",
    "\\mathrm{s.t.} \\quad & 0=S_vC_{Af}-S_vC_A-k_1C_A-2k_3C_A^2 \\\\\n",
    "& 0=-S_vC_B+k_1C_A-k_2C_B \\\\\n",
    "& 0=-S_vC_C+k_2C_B \\\\\n",
    "& 0=-S_vC_D+k_3C_A^2 \\\\\n",
    "& C_A, C_B, C_C, C_D, S_v \\geq 0.\n",
    "\\end{align*}$$\n",
    "\n",
    "Here \"s.t.\" means \"subject to\", i.e., the constraints."
   ]
  },
  {
   "cell_type": "markdown",
   "metadata": {},
   "source": [
    "### Degrees of Freedom Analysis"
   ]
  },
  {
   "cell_type": "markdown",
   "metadata": {},
   "source": [
    "From the optimization model formulated above:\\\n",
    "Number of variables = 5 \\\n",
    "Number of equality constraints = 4 \\\n",
    "Therefore, the degrees of freedom = 5 - 4 = 1"
   ]
  },
  {
   "cell_type": "markdown",
   "metadata": {},
   "source": [
    "### Pyomo Implementation of the Original Problem"
   ]
  },
  {
   "cell_type": "code",
   "execution_count": 14,
   "metadata": {},
   "outputs": [
    {
     "name": "stdout",
     "output_type": "stream",
     "text": [
      "Ipopt 3.13.2: \n",
      "\n",
      "******************************************************************************\n",
      "This program contains Ipopt, a library for large-scale nonlinear optimization.\n",
      " Ipopt is released as open source code under the Eclipse Public License (EPL).\n",
      "         For more information visit http://projects.coin-or.org/Ipopt\n",
      "\n",
      "This version of Ipopt was compiled from source code available at\n",
      "    https://github.com/IDAES/Ipopt as part of the Institute for the Design of\n",
      "    Advanced Energy Systems Process Systems Engineering Framework (IDAES PSE\n",
      "    Framework) Copyright (c) 2018-2019. See https://github.com/IDAES/idaes-pse.\n",
      "\n",
      "This version of Ipopt was compiled using HSL, a collection of Fortran codes\n",
      "    for large-scale scientific computation.  All technical papers, sales and\n",
      "    publicity material resulting from use of the HSL codes within IPOPT must\n",
      "    contain the following acknowledgement:\n",
      "        HSL, a collection of Fortran codes for large-scale scientific\n",
      "        computation. See http://www.hsl.rl.ac.uk.\n",
      "******************************************************************************\n",
      "\n",
      "This is Ipopt version 3.13.2, running with linear solver ma27.\n",
      "\n",
      "Number of nonzeros in equality constraint Jacobian...:       11\n",
      "Number of nonzeros in inequality constraint Jacobian.:        0\n",
      "Number of nonzeros in Lagrangian Hessian.............:        5\n",
      "\n",
      "Total number of variables............................:        5\n",
      "                     variables with only lower bounds:        5\n",
      "                variables with lower and upper bounds:        0\n",
      "                     variables with only upper bounds:        0\n",
      "Total number of equality constraints.................:        4\n",
      "Total number of inequality constraints...............:        0\n",
      "        inequality constraints with only lower bounds:        0\n",
      "   inequality constraints with lower and upper bounds:        0\n",
      "        inequality constraints with only upper bounds:        0\n",
      "\n",
      "iter    objective    inf_pr   inf_du lg(mu)  ||d||  lg(rg) alpha_du alpha_pr  ls\n",
      "   0 -2.0000000e+03 7.50e+03 6.25e-01  -1.0 0.00e+00    -  0.00e+00 0.00e+00   0\n",
      "   1 -1.0801475e+03 5.54e+02 2.46e+00  -1.0 1.39e+03    -  5.54e-01 1.00e+00h  1\n",
      "   2 -1.0763574e+03 8.86e+01 1.87e+02  -1.0 3.66e+02    -  9.31e-01 1.00e+00h  1\n",
      "   3 -1.0727252e+03 1.07e+01 5.26e+00  -1.0 9.35e+01    -  9.71e-01 1.00e+00h  1\n",
      "   4 -1.0726714e+03 4.01e+00 1.22e-01  -1.0 6.03e+01    -  9.68e-01 1.00e+00h  1\n",
      "   5 -1.0724371e+03 3.44e-04 2.93e-05  -2.5 4.19e-01    -  1.00e+00 1.00e+00h  1\n",
      "   6 -1.0724372e+03 1.63e-08 3.93e-09  -3.8 3.85e-03    -  1.00e+00 1.00e+00h  1\n",
      "   7 -1.0724372e+03 5.46e-11 2.70e-11  -5.7 2.24e-04    -  1.00e+00 1.00e+00h  1\n",
      "   8 -1.0724372e+03 4.55e-13 3.56e-14  -8.6 2.78e-06    -  1.00e+00 1.00e+00h  1\n",
      "\n",
      "Number of Iterations....: 8\n",
      "\n",
      "                                   (scaled)                 (unscaled)\n",
      "Objective...............:  -1.0724372001086319e+03   -1.0724372001086319e+03\n",
      "Dual infeasibility......:   3.5606114692563649e-14    3.5606114692563649e-14\n",
      "Constraint violation....:   4.5474735088646414e-14    4.5474735088646412e-13\n",
      "Complementarity.........:   2.5059065225787338e-09    2.5059065225787338e-09\n",
      "Overall NLP error.......:   2.5059065225787338e-09    2.5059065225787338e-09\n",
      "\n",
      "\n",
      "Number of objective function evaluations             = 9\n",
      "Number of objective gradient evaluations             = 9\n",
      "Number of equality constraint evaluations            = 9\n",
      "Number of inequality constraint evaluations          = 0\n",
      "Number of equality constraint Jacobian evaluations   = 9\n",
      "Number of inequality constraint Jacobian evaluations = 0\n",
      "Number of Lagrangian Hessian evaluations             = 8\n",
      "Total CPU secs in IPOPT (w/o function evaluations)   =      0.000\n",
      "Total CPU secs in NLP function evaluations           =      0.000\n",
      "\n",
      "EXIT: Optimal Solution Found.\n",
      "The optimum space-velocity is: 1.34 min^-1\n",
      "The outlet concentration of species B is: 1072.44 gmol/m^3\n",
      "The optimum reactor volume is: 0.74 m^3\n"
     ]
    }
   ],
   "source": [
    "# function that creates pyomo model for the reaction system\n",
    "def create_model(k1, k2, k3, caf):\n",
    "    \"\"\"Creates reactor model\n",
    "    Argument:\n",
    "        caf: feed concentration of A, gmol/m^3\n",
    "        k1: rate constant for A to B, min^-1\n",
    "        k2: rate constant for B to C, min^-1\n",
    "        k3: rate constant for 2A to D, m^3/(gmol.min)\n",
    "\n",
    "    Returns:\n",
    "        model: pyomo model\"\"\"\n",
    "    # Create a Pyomo model\n",
    "    model = pyo.ConcreteModel()\n",
    "    \n",
    "    # create the variables\n",
    "    model.sv = pyo.Var(initialize=1.0, within=pyo.PositiveReals) # space-velocity\n",
    "    model.ca = pyo.Var(initialize=5000.0, within=pyo.PositiveReals) # concentration of A\n",
    "    model.cb = pyo.Var(initialize=2000.0, within=pyo.PositiveReals) # concentration of B\n",
    "    model.cc = pyo.Var(initialize=2000.0, within=pyo.PositiveReals) # concentration of C\n",
    "    model.cd = pyo.Var(initialize=1000.0, within=pyo.PositiveReals) # concentration of D\n",
    "    \n",
    "    # create the objective\n",
    "    model.obj = pyo.Objective(expr = model.cb, sense=pyo.maximize)\n",
    "    \n",
    "    # create the constraints\n",
    "    model.ca_bal = pyo.Constraint(expr = (0 == model.sv * caf - model.sv * model.ca - k1 * model.ca - \n",
    "                                          2.0 * k3 * model.ca ** 2.0)) # species A mole balance\n",
    "    model.cb_bal = pyo.Constraint(expr=(0 == -model.sv * model.cb + k1 * model.ca - k2 * model.cb)) # species B mole balance\n",
    "    model.cc_bal = pyo.Constraint(expr=(0 == -model.sv * model.cc + k2 * model.cb)) # species C mole balance\n",
    "    model.cd_bal = pyo.Constraint(expr=(0 == -model.sv * model.cd + k3 * model.ca ** 2.0)) # species D mole balance\n",
    "    \n",
    "    return model\n",
    "\n",
    "# define data\n",
    "k1 = 5.0/6.0 # min^-1\n",
    "k2 = 5.0/3.0 # min^-1\n",
    "k3 = 1.0/6000.0 # m^3/(gmol.min)\n",
    "caf = 10000.0 # gmol/m^3\n",
    "\n",
    "# reactor model object\n",
    "m = create_model(k1, k2, k3, caf)\n",
    "\n",
    "# solve model\n",
    "solver = pyo.SolverFactory('ipopt')\n",
    "solver.solve(m, tee=True)\n",
    "\n",
    "# print the solution of sv and the outlet concentration of B\n",
    "print(f\"The optimum space-velocity is: {round(pyo.value(m.sv), 2)} min^-1\")\n",
    "print(f\"The outlet concentration of species B is: {round(pyo.value(m.cb), 2)} gmol/m^3\")\n",
    "\n",
    "# calculate optimum reactor volume for a volumetric flow rate of 1 m^3/min\n",
    "F = 1\n",
    "optimum_reactor_volume = F / pyo.value(m.sv)\n",
    "print(f\"The optimum reactor volume is: {round(optimum_reactor_volume, 2)} m^3\")"
   ]
  },
  {
   "cell_type": "markdown",
   "metadata": {},
   "source": [
    "### Optimal Solution Found for the Original Problem"
   ]
  },
  {
   "cell_type": "markdown",
   "metadata": {},
   "source": [
    "The optimal space-velocity is $\\mathrm{1.34\\,min^{-1}}$, giving an outlet concentration for B of $\\mathrm{1072.44\\,gmol\\cdot m^{-3}}$. For a volumetric flow rate of $\\mathrm{1\\,m^{3}\\cdot min^{-1}}$, the optimum reactor volume is $\\mathrm{0.74\\,m^{3}}$."
   ]
  },
  {
   "cell_type": "markdown",
   "metadata": {
    "id": "_0X0jKuPwcWn"
   },
   "source": [
    "## Extension: Adding a New Species C and Considering Reaction Kinetics"
   ]
  },
  {
   "cell_type": "markdown",
   "metadata": {
    "id": "2x8jafDG2F1X"
   },
   "source": [
    "In this project, species C is the desired product, and we are considering the dynamic state of the system (most often, industrial operations are dynamic). The goal of this work is to determine the volume of the reactor that will maximize the concentration of species C in the effluent after 10 minutes. Furthermore, for economic reasons, the reactor volume should not exceed $\\mathrm{100\\,m^3}$.\n",
    "\n",
    "The mole balance for each of the species in this system under dynamic state is given by:\n",
    "\n",
    "$$\\begin{align*}\n",
    "&\\frac{dC_A}{dt}=\\frac{F}{V}C_{Af}-\\frac{F}{V}C_A-k_1C_A-2k_3C_A^2 \\\\\n",
    "& \\frac{dC_B}{dt}=-\\frac{F}{V}C_B+k_1C_A-k_2C_B\\\\\n",
    "& \\frac{dC_C}{dt}=-\\frac{F}{V}C_C+k_2C_B \\\\\n",
    "& \\frac{dC_D}{dt}=-\\frac{F}{V}C_D+k_3C_A^2\n",
    "\\end{align*}$$\n",
    "\n",
    "Where $C_A$, $C_B$, $C_C$ and $C_D$ are the concentrations of species A, B, C and D, respectively. $F$ is the feed flow rate, $C_{Af}$ is the concentration of species A in the feed, $k_1$, $k_2$ and $k_3$ are the rate constants of reaction 1 (species A to B), reaction 2 (species B to C) and reaction 3 (species A to D), respectively.\n",
    "\n",
    "The data for the system are:\n",
    "$$\\begin{align*}\n",
    "C_{Af}=10^4\\,\\mathrm{\\frac{mol}{m^3}},\\quad{k_1=\\frac{5}{6}\\,\\mathrm{min^{-1}}},\\quad{k_2=\\frac{5}{3}\\,\\mathrm{min^{-1}}},\\quad{k_3=\\frac{1}{6000}\\,\\mathrm{\\frac{m^3}{mol\\cdot min}}},\\quad{F=1\\,\\mathrm{\\frac{m^3}{min}}}\n",
    "\\end{align*}$$\n",
    "\n",
    "The data was obtained from Hart et al (2017)."
   ]
  },
  {
   "cell_type": "markdown",
   "metadata": {
    "id": "E3hzUN6FjrEC"
   },
   "source": [
    "### Optimization Model Formulation"
   ]
  },
  {
   "cell_type": "markdown",
   "metadata": {
    "id": "9cGBk30DkjgR"
   },
   "source": [
    "Mathematically, we want to solve the following optimal reactor volume problem:\n",
    "\n",
    "$$\\begin{align*}\n",
    "\\max_{V} \\quad & C_C(t=10) \\\\\n",
    "\\mathrm{s.t.} \\quad & \\frac{dC_A}{dt}=\\frac{F}{V}C_{Af}-\\frac{F}{V}C_A-k_1C_A-2k_3C_A^2 \\\\\n",
    "& \\frac{dC_B}{dt}=-\\frac{F}{V}C_B+k_1C_A-k_2C_B \\\\\n",
    "& \\frac{dC_C}{dt}=-\\frac{F}{V}C_C+k_2C_B \\\\\n",
    "& \\frac{dC_D}{dt}=-\\frac{F}{V}C_D+k_3C_A^2 \\\\\n",
    "& V \\leq 100 \\\\\n",
    "& C_A(t=0) = 10000, ~~ C_B(t=0) = 0 \\\\\n",
    "& C_C(t=0) = 0, ~~ C_D(t=0) = 0 \\\\\n",
    "\\end{align*}$$"
   ]
  },
  {
   "cell_type": "markdown",
   "metadata": {
    "id": "Nj_h-L7NpMYK"
   },
   "source": [
    "### Degrees of Freedom Analysis"
   ]
  },
  {
   "cell_type": "markdown",
   "metadata": {},
   "source": [
    "From the optimization model formulated above:\\\n",
    "Number of variables = 5 \\\n",
    "Number of equality constraints = 4 \\\n",
    "Therefore, the degrees of freedom = 5 - 4 = 1"
   ]
  },
  {
   "cell_type": "markdown",
   "metadata": {
    "id": "iAhG6jxzu5wA"
   },
   "source": [
    "### Pyomo Implementation\n",
    "We can use `Pyomo.dae` to automatically formulate the collocation equations (i.e., add constraints that numerically integrate the ODE model)."
   ]
  },
  {
   "cell_type": "code",
   "execution_count": 15,
   "metadata": {
    "colab": {
     "base_uri": "https://localhost:8080/",
     "height": 1000
    },
    "id": "aYW5M30J1JlR",
    "outputId": "5cab20c0-f777-4c31-f9b5-f6ac32c054c1"
   },
   "outputs": [
    {
     "name": "stdout",
     "output_type": "stream",
     "text": [
      "Ipopt 3.13.2: \n",
      "\n",
      "******************************************************************************\n",
      "This program contains Ipopt, a library for large-scale nonlinear optimization.\n",
      " Ipopt is released as open source code under the Eclipse Public License (EPL).\n",
      "         For more information visit http://projects.coin-or.org/Ipopt\n",
      "\n",
      "This version of Ipopt was compiled from source code available at\n",
      "    https://github.com/IDAES/Ipopt as part of the Institute for the Design of\n",
      "    Advanced Energy Systems Process Systems Engineering Framework (IDAES PSE\n",
      "    Framework) Copyright (c) 2018-2019. See https://github.com/IDAES/idaes-pse.\n",
      "\n",
      "This version of Ipopt was compiled using HSL, a collection of Fortran codes\n",
      "    for large-scale scientific computation.  All technical papers, sales and\n",
      "    publicity material resulting from use of the HSL codes within IPOPT must\n",
      "    contain the following acknowledgement:\n",
      "        HSL, a collection of Fortran codes for large-scale scientific\n",
      "        computation. See http://www.hsl.rl.ac.uk.\n",
      "******************************************************************************\n",
      "\n",
      "This is Ipopt version 3.13.2, running with linear solver ma27.\n",
      "\n",
      "Number of nonzeros in equality constraint Jacobian...:    12619\n",
      "Number of nonzeros in inequality constraint Jacobian.:        0\n",
      "Number of nonzeros in Lagrangian Hessian.............:     1006\n",
      "\n",
      "Error in an AMPL evaluation. Run with \"halt_on_ampl_error yes\" to see details.\n",
      "Error evaluating Jacobian of equality constraints at user provided starting point.\n",
      "  No scaling factors for equality constraints computed!\n",
      "Total number of variables............................:     1609\n",
      "                     variables with only lower bounds:      804\n",
      "                variables with lower and upper bounds:        1\n",
      "                     variables with only upper bounds:        0\n",
      "Total number of equality constraints.................:     1608\n",
      "Total number of inequality constraints...............:        0\n",
      "        inequality constraints with only lower bounds:        0\n",
      "   inequality constraints with lower and upper bounds:        0\n",
      "        inequality constraints with only upper bounds:        0\n",
      "\n",
      "iter    objective    inf_pr   inf_du lg(mu)  ||d||  lg(rg) alpha_du alpha_pr  ls\n",
      "   0 -9.9999900e-03 1.00e+06 1.56e+00  -1.0 0.00e+00    -  0.00e+00 0.00e+00   0\n",
      "   1 -9.9998726e-03 1.00e+06 8.10e+02  -1.0 1.01e+06    -  9.90e-07 7.52e-05h  1\n",
      "   2r-9.9998726e-03 1.00e+06 9.99e+02   6.0 0.00e+00    -  0.00e+00 3.10e-07R  3\n",
      "   3r-3.2550526e+00 8.36e+05 2.18e+09   6.0 1.09e+09    -  1.95e-04 1.95e-04f  1\n",
      "   4 -3.2756934e+00 7.01e+05 6.67e+06  -1.0 8.47e+05    -  5.03e-04 2.84e-01h  1\n",
      "   5 -3.3599969e+00 4.50e+05 4.28e+05  -1.0 2.51e+05    -  6.14e-02 9.85e-01h  1\n",
      "   6 -3.4374817e+00 2.50e+05 2.67e+05  -1.0 4.42e+05    -  2.83e-03 4.99e-01h  1\n",
      "   7 -3.6563863e+00 1.27e+05 2.54e+05  -1.0 2.24e+05    -  7.45e-02 9.90e-01h  1\n",
      "   8 -4.0376969e+00 6.23e+04 2.60e+05  -1.0 5.04e+04    -  4.10e-02 9.90e-01h  1\n",
      "   9 -4.2238169e+00 4.57e+04 2.56e+05  -1.0 1.87e+04    -  1.46e-02 3.26e-01h  1\n",
      "iter    objective    inf_pr   inf_du lg(mu)  ||d||  lg(rg) alpha_du alpha_pr  ls\n",
      "  10 -4.8943726e+00 2.20e+04 2.14e+05  -1.0 1.48e+04    -  1.98e-02 9.98e-01h  1\n",
      "  11 -5.0999886e+00 1.69e+04 2.38e+06  -1.0 4.00e+03    -  1.90e-02 2.92e-01h  1\n",
      "  12 -5.8592444e+00 8.22e+03 8.43e+06  -1.0 3.31e+03    -  3.47e-02 1.00e+00h  1\n",
      "  13 -6.6724932e+00 7.12e+03 8.23e+06  -1.0 1.71e+03    -  3.91e-02 1.54e-01h  1\n",
      "  14 -2.5003886e+01 3.51e+03 8.41e+06  -1.0 1.55e+03    -  8.22e-02 1.00e+00h  1\n",
      "  15 -8.4301553e+01 3.08e+03 8.00e+06  -1.0 1.70e+03    -  4.83e-02 1.40e-01h  1\n",
      "  16 -1.2308262e+02 2.89e+03 7.06e+06  -1.0 1.70e+03    -  1.19e-01 6.44e-02h  1\n",
      "  17 -8.1386603e+02 1.44e+03 5.95e+06  -1.0 1.70e+03    -  1.57e-01 1.00e+00f  1\n",
      "  18 -2.0541698e+03 8.40e+02 3.71e+06  -1.0 1.77e+03    -  3.77e-01 7.14e-01f  1\n",
      "  19 -3.5049209e+03 4.20e+02 1.79e+06  -1.0 1.45e+03    -  5.17e-01 1.00e+00f  1\n",
      "iter    objective    inf_pr   inf_du lg(mu)  ||d||  lg(rg) alpha_du alpha_pr  ls\n",
      "  20 -3.7251819e+03 2.85e+02 2.82e+04  -1.0 4.62e+02    -  9.84e-01 4.76e-01f  1\n",
      "  21 -4.0002085e+03 1.42e+02 2.93e+03  -1.0 2.75e+02    -  8.98e-01 1.00e+00f  1\n",
      "  22 -4.0087092e+03 1.01e+02 2.07e+03  -1.0 7.06e+01    -  1.00e+00 4.15e-01h  1\n",
      "  23 -4.0087453e+03 1.00e+02 2.09e+03  -1.0 1.00e+02    -  7.72e-01 2.93e-03h  1\n",
      "  24 -4.0087456e+03 1.00e+02 5.80e+03  -1.0 1.00e+02    -  4.72e-03 2.92e-05h  1\n",
      "  25 -4.0087598e+03 1.00e+02 2.12e+03  -1.0 3.24e+02    -  4.40e-07 4.37e-05f  1\n",
      "  26 -4.3343427e+03 4.70e+00 1.83e+05  -1.0 3.26e+02    -  4.36e-05 1.00e+00f  1\n",
      "  27 -4.3141499e+03 8.39e-03 9.09e+01  -1.0 2.02e+01    -  1.00e+00 1.00e+00h  1\n",
      "  28 -4.3141284e+03 2.41e-08 1.08e+05  -1.7 2.15e-02    -  9.87e-01 1.00e+00h  1\n",
      "  29 -4.3141354e+03 7.14e-08 2.90e+04  -1.7 7.02e-03    -  7.31e-01 1.00e+00f  1\n",
      "iter    objective    inf_pr   inf_du lg(mu)  ||d||  lg(rg) alpha_du alpha_pr  ls\n",
      "  30 -4.3150872e+03 1.32e-03 2.82e+04  -1.7 9.52e-01    -  2.70e-02 1.00e+00f  1\n",
      "  31 -4.5157522e+03 2.76e+02 2.80e+04  -1.7 2.01e+02  -4.0 7.26e-03 1.00e+00f  1\n",
      "  32 -5.3180445e+03 1.11e+02 1.95e+04  -1.7 8.02e+02    -  3.05e-01 1.00e+00f  1\n",
      "  33 -5.0535790e+03 1.43e+00 1.26e+01  -1.7 2.64e+02  -4.5 1.00e+00 1.00e+00h  1\n",
      "  34 -5.0655151e+03 9.00e+00 2.23e+00  -1.7 6.01e+01    -  1.00e+00 1.00e+00h  1\n",
      "  35 -5.0601188e+03 1.92e-01 7.30e-02  -1.7 1.58e+01    -  1.00e+00 1.00e+00h  1\n",
      "  36 -5.0598090e+03 5.39e-03 4.07e-04  -2.5 1.48e+00    -  1.00e+00 1.00e+00h  1\n",
      "  37 -5.0598054e+03 1.71e-04 1.11e-06  -3.8 2.78e-01    -  1.00e+00 1.00e+00h  1\n",
      "  38 -5.0598053e+03 5.24e-07 2.29e-09  -5.7 1.55e-02    -  1.00e+00 1.00e+00h  1\n",
      "  39 -5.0598053e+03 1.94e-10 1.67e-13  -8.6 1.91e-04    -  1.00e+00 1.00e+00h  1\n",
      "\n",
      "Number of Iterations....: 39\n",
      "\n",
      "                                   (scaled)                 (unscaled)\n",
      "Objective...............:  -5.0598052797570590e+03   -5.0598052797570590e+03\n",
      "Dual infeasibility......:   1.6745249521991457e-13    1.6745249521991457e-13\n",
      "Constraint violation....:   1.9372237147763371e-10    1.9372237147763371e-10\n",
      "Complementarity.........:   2.5063723623922813e-09    2.5063723623922813e-09\n",
      "Overall NLP error.......:   2.5063723623922813e-09    2.5063723623922813e-09\n",
      "\n",
      "\n",
      "Number of objective function evaluations             = 43\n",
      "Number of objective gradient evaluations             = 40\n",
      "Number of equality constraint evaluations            = 43\n",
      "Number of inequality constraint evaluations          = 0\n",
      "Number of equality constraint Jacobian evaluations   = 41\n",
      "Number of inequality constraint Jacobian evaluations = 0\n",
      "Number of Lagrangian Hessian evaluations             = 39\n",
      "Total CPU secs in IPOPT (w/o function evaluations)   =      0.351\n",
      "Total CPU secs in NLP function evaluations           =      0.008\n",
      "\n",
      "EXIT: Optimal Solution Found.\n",
      "Optimal reactor volume is: 11.35 m^3\n",
      "Maximum Concentration of C at optimal reactor volume is: 5.06 kmol/m^3\n"
     ]
    },
    {
     "data": {
      "image/png": "[encoded data removed]",
      "text/plain": [
       "<Figure size 800x600 with 1 Axes>"
      ]
     },
     "metadata": {},
     "output_type": "display_data"
    }
   ],
   "source": [
    "# function that creates pyomo model for the dynamic reaction system\n",
    "def create_dynamic_model(F, CAF, k1, k2, k3):\n",
    "    \"\"\"Creates reactor model\n",
    "    Argument:\n",
    "        F: feed volumetric flow rate in m^3/min\n",
    "        CAF: feed concentration of A, gmol/m^3\n",
    "        k1: rate constant for A to B, min^-1\n",
    "        k2: rate constant for B to C, min^-1\n",
    "        k3: rate constant for 2A to D, m^3/(gmol.min)\n",
    "\n",
    "    Returns:\n",
    "        model: pyomo model\"\"\"\n",
    "\n",
    "    # Create a Pyomo model\n",
    "    model = pyo.ConcreteModel()\n",
    "\n",
    "    # Define time as a continuous set\n",
    "    model.t = dae.ContinuousSet(bounds=(0, 10))  # time from 0 to 10 minutes\n",
    "\n",
    "    # Define variables for concentrations and reactor volume\n",
    "    model.CA = pyo.Var(model.t, within=pyo.NonNegativeReals) # concentration of A\n",
    "    model.CB = pyo.Var(model.t, within=pyo.NonNegativeReals) # concentration of B\n",
    "    model.CC = pyo.Var(model.t, within=pyo.NonNegativeReals) # concentration of C\n",
    "    model.CD = pyo.Var(model.t, within=pyo.NonNegativeReals) # concentration of D\n",
    "    model.V = pyo.Var(within=pyo.NonNegativeReals, bounds=(0, 100), initialize=0) # reactor volume\n",
    "\n",
    "    # Define derivatives of concentrations\n",
    "    model.dCA_dt = dae.DerivativeVar(model.CA, wrt=model.t)\n",
    "    model.dCB_dt = dae.DerivativeVar(model.CB, wrt=model.t)\n",
    "    model.dCC_dt = dae.DerivativeVar(model.CC, wrt=model.t)\n",
    "    model.dCD_dt = dae.DerivativeVar(model.CD, wrt=model.t)\n",
    "\n",
    "    # CA differential equation\n",
    "    def ca_rate_ode(m, t):\n",
    "        return m.dCA_dt[t] == (F/m.V)*CAF - (F/m.V)*m.CA[t] - k1*m.CA[t] - 2*k3*m.CA[t]**2\n",
    "    model.CA_ode = pyo.Constraint(model.t, rule=ca_rate_ode)\n",
    "\n",
    "    # CB differential equation\n",
    "    def cb_rate_ode(m, t):\n",
    "        return m.dCB_dt[t] == -(F/m.V)*m.CB[t] + k1*m.CA[t] - k2*m.CB[t]\n",
    "    model.CB_ode = pyo.Constraint(model.t, rule=cb_rate_ode)\n",
    "\n",
    "    # CC differential equation\n",
    "    def cc_rate_ode(m, t):\n",
    "        return m.dCC_dt[t] == -(F/m.V)*m.CC[t] + k2*m.CB[t]\n",
    "    model.CC_ode = pyo.Constraint(model.t, rule=cc_rate_ode)\n",
    "\n",
    "    # CD differential equation\n",
    "    def cd_rate_ode(m, t):\n",
    "        return m.dCD_dt[t] == -(F/m.V)*m.CD[t] + k3*m.CA[t]**2\n",
    "    model.CD_ode = pyo.Constraint(model.t, rule=cd_rate_ode)\n",
    "\n",
    "    # Initial conditions\n",
    "    def init_conditions(m):\n",
    "        yield m.CA[0] == CAF\n",
    "        yield m.CB[0] == 0\n",
    "        yield m.CC[0] == 0\n",
    "        yield m.CD[0] == 0\n",
    "    model.init_conditions = pyo.ConstraintList(rule=init_conditions)\n",
    "\n",
    "    # Objective: Maximize concentration of C at t = 10 minutes\n",
    "    def objective_function(m):\n",
    "        return m.CC[10]\n",
    "    model.objective = pyo.Objective(rule=objective_function, sense=pyo.maximize)\n",
    "\n",
    "    return model\n",
    "\n",
    "# Parameters from data\n",
    "conc_A_feed = 10000  # gmol/m^3\n",
    "k1 = 5/6  # min^-1\n",
    "k2 = 5/3  # min^-1\n",
    "k3 = 1/6000  # m^3/gmol/min\n",
    "feed_flowrate = 1 # m^3/min\n",
    "\n",
    "# reactor model object\n",
    "reactor_model = create_dynamic_model(feed_flowrate, conc_A_feed, k1, k2, k3)\n",
    "\n",
    "# Discretize the model using collocation\n",
    "discretizer = pyo.TransformationFactory('dae.collocation')\n",
    "discretizer.apply_to(reactor_model, nfe=20, ncp=10)\n",
    "\n",
    "# Solve the model\n",
    "solver = pyo.SolverFactory('ipopt')\n",
    "results = solver.solve(reactor_model, tee=True)\n",
    "\n",
    "# print optimal reactor volume\n",
    "optimal_reactor_volume = pyo.value(reactor_model.V) # m^3\n",
    "print(f\"Optimal reactor volume is: {round(optimal_reactor_volume, 2)} m^3\")\n",
    "\n",
    "# Extract the concentration of C at t = 10 minutes\n",
    "optimal_concentration_C = pyo.value(reactor_model.CC[10])*10**(-3) # kmol/m^3\n",
    "print(f\"Maximum Concentration of C at optimal reactor volume is: {round(optimal_concentration_C, 2)} kmol/m^3\")\n",
    "\n",
    "\n",
    "# Extract results for plotting\n",
    "time = [t for t in reactor_model.t] # minutes\n",
    "CA_values = [(pyo.value(reactor_model.CA[t])*10**(-3)) for t in reactor_model.t] # kmol/m^3\n",
    "CB_values = [(pyo.value(reactor_model.CB[t])*10**(-3)) for t in reactor_model.t] # kmol/m^3\n",
    "CC_values = [(pyo.value(reactor_model.CC[t])*10**(-3)) for t in reactor_model.t] # kmol/m^3\n",
    "CD_values = [(pyo.value(reactor_model.CD[t])*10**(-3)) for t in reactor_model.t] # kmol/m^3\n",
    "\n",
    "# Plot the results\n",
    "plt.figure(figsize=(8, 6))\n",
    "plt.plot(time, CA_values, label='$\\mathrm{C_{A}}$')\n",
    "plt.plot(time, CB_values, label='$\\mathrm{C_{B}}$')\n",
    "plt.plot(time, CC_values, label='$\\mathrm{C_{C}}$')\n",
    "plt.plot(time, CD_values, label='$\\mathrm{C_{D}}$')\n",
    "plt.xlabel('Time (min)', fontsize=16,fontweight='bold')\n",
    "plt.ylabel('Concentration ($\\mathbf{\\dfrac{kmol}{m^3}}$)', fontsize=16,fontweight='bold')\n",
    "plt.xticks(fontsize=14)\n",
    "plt.yticks(fontsize=14)\n",
    "plt.title('Concentration Profiles Over Time', fontsize=16,fontweight='bold')\n",
    "plt.legend()\n",
    "plt.show()"
   ]
  },
  {
   "cell_type": "markdown",
   "metadata": {},
   "source": [
    "### Pyomo Enables Dynamic Chemical Reactor Design"
   ]
  },
  {
   "attachments": {},
   "cell_type": "markdown",
   "metadata": {},
   "source": [
    "From the concentration profile above, $C_{A}$ decreases with time. This makes sense beacause species A is the reactant and it is continuously been consumed to form the products. \n",
    "\n",
    "Also, it is observed that $C_{B}$ and $C_{D}$ increase at the early phase of the reaction, but then start to decrease at a later time. This is because at the early phase of the reaction, only species B and D are produced until a later time when species C begins to form, and since the rate constant of species C ($k_2$) is faster than the rate constants of species B and D ($k_1$ and $k_3$ respectively), $C_{C}$ continue to increase whereas $C_{B}$ and $C_{D}$ deplete.\n",
    "\n",
    "The optimization result shows that the optimal reactor volume required to maximize the desired product (species C)  is $\\mathrm{11.35\\,m^{3}}$ and the corresponding species C concentration is $\\mathrm{5.06\\,kmol\\cdot m^{-3}}$.\n"
   ]
  },
  {
   "cell_type": "markdown",
   "metadata": {},
   "source": [
    "## Take Away Messages"
   ]
  },
  {
   "cell_type": "markdown",
   "metadata": {},
   "source": [
    "* Pyomo is a powerful tool in solving complex dynamic optimization problems\n",
    "* Proper modelling of the problem is key to obtaining quality results"
   ]
  },
  {
   "cell_type": "markdown",
   "metadata": {
    "id": "AgUvMvTPAZlV"
   },
   "source": [
    "## Reference\n",
    "Hart, W. E., Laird, C. D., Watson, J. P., Woodruff, D. L., Hackebeil, G. A., Nicholson, B. L., & Siirola, J. D. (2017). Pyomo-optimization modeling in python (Vol. 67, p. 277). Berlin: Springer.\n",
    "\n"
   ]
  }
 ],
 "metadata": {
  "colab": {
   "provenance": []
  },
  "kernelspec": {
   "display_name": "Python 3 (ipykernel)",
   "language": "python",
   "name": "python3"
  },
  "language_info": {
   "codemirror_mode": {
    "name": "ipython",
    "version": 3
   },
   "file_extension": ".py",
   "mimetype": "text/x-python",
   "name": "python",
   "nbconvert_exporter": "python",
   "pygments_lexer": "ipython3",
   "version": "3.10.14"
  }
 },
 "nbformat": 4,
 "nbformat_minor": 4
}
